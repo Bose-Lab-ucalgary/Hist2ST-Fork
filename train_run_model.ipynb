{
 "cells": [
  {
   "cell_type": "markdown",
   "id": "41f36326",
   "metadata": {},
   "source": [
    "# Imports"
   ]
  },
  {
   "cell_type": "code",
   "execution_count": 1,
   "id": "053309c2-cb6d-4623-83b7-7b0d947998e6",
   "metadata": {},
   "outputs": [
    {
     "name": "stderr",
     "output_type": "stream",
     "text": [
      "2025-07-24 19:29:19.334844: I tensorflow/core/platform/cpu_feature_guard.cc:210] This TensorFlow binary is optimized to use available CPU instructions in performance-critical operations.\n",
      "To enable the following instructions: AVX512F, in other operations, rebuild TensorFlow with the appropriate compiler flags.\n"
     ]
    },
    {
     "name": "stdout",
     "output_type": "stream",
     "text": [
      "[easydl] tensorflow not available!\n"
     ]
    }
   ],
   "source": [
    "import torch\n",
    "import numpy as np\n",
    "import pytorch_lightning as pl\n",
    "import torchvision.transforms as tf\n",
    "from tqdm import tqdm\n",
    "from predict import *\n",
    "from HIST2ST import *\n",
    "# from dataset import ViT_HER2ST, ViT_SKIN\n",
    "from scipy.stats import pearsonr,spearmanr\n",
    "from torch.utils.data import DataLoader\n",
    "# from pytorch_lightning.loggers import TensorBoardLogger\n",
    "# from copy import deepcopy as dcp\n",
    "# from collections import defaultdict as dfd\n",
    "# from sklearn.metrics import adjusted_rand_score as ari_score\n",
    "# from sklearn.metrics.cluster import normalized_mutual_info_score as nmi_score\n",
    "import os\n",
    "\n",
    "os.environ['CUDA_LAUNCH_BLOCKING'] = '1'  # For debugging CUDA errors"
   ]
  },
  {
   "cell_type": "markdown",
   "id": "b132bfb4-bd29-44fa-bbca-3790b0848fd4",
   "metadata": {},
   "source": [
    "# Data Loading"
   ]
  },
  {
   "cell_type": "code",
   "execution_count": 2,
   "id": "b5674163",
   "metadata": {},
   "outputs": [],
   "source": [
    "# Create dictionaries to convert between Ensembl gene IDs and HGNC symbols\n",
    "conversion = pd.read_csv('../../../../tahsin/HEST/assets/gene_ids/hgnc_complete_set.txt', sep=\"\\t\").loc[:, ['ensembl_gene_id', 'symbol']]\n",
    "convert_to_ens = conversion.set_index('symbol')['ensembl_gene_id'].to_dict()\n",
    "convert_to_sym = conversion.set_index('ensembl_gene_id')['symbol'].to_dict()"
   ]
  },
  {
   "cell_type": "code",
   "execution_count": 3,
   "id": "d3554f7a",
   "metadata": {},
   "outputs": [],
   "source": [
    "import os\n",
    "\n",
    "meta_hest_path = \"/work/bose_lab/tahsin/data/HEST\"\n",
    "\n",
    "meta_df = pd.read_csv(os.path.join(meta_hest_path, \"HEST_v1_1_0.csv\"))\n",
    "meta_df = meta_df[meta_df['species'] == 'Homo sapiens']\n",
    "# meta_df = meta_df[meta_df['disease_comment'] != 'SARS-CoV-2 Asymptomatic']\n",
    "\n",
    "# Filter the dataframe if you need\n",
    "# meta_df = meta_df[(meta_df['organ'] == 'Heart') & (meta_df['species'] == 'Homo sapiens')]\n",
    "# print(meta_df.shape)\n",
    "\n",
    "# Separate dataframe into training and validation sets\n",
    "# meta_df = meta_df.sample(frac=1, random_state=42)  # Shuffle the dataframe\n",
    "# train_frac = 0.8\n",
    "# train_size = int(len(meta_df) * train_frac)\n",
    "# train_df_80 = meta_df.iloc[:train_size]\n",
    "# val_df_20 = meta_df.iloc[train_size:]\n",
    "\n",
    "# ids = meta_df['id']"
   ]
  },
  {
   "cell_type": "code",
   "execution_count": 4,
   "id": "4ceb3183",
   "metadata": {},
   "outputs": [],
   "source": [
    "hest_path = \"/work/bose_lab/tahsin/HEST/data/hest_human_only_jul11/patched_adata\"\n",
    "samples = os.listdir(hest_path)\n",
    "samples = [sample for sample in samples if sample.endswith(\"preprocessed.h5ad\")]\n",
    "ids = [sample.split('_')[0] for sample in samples]"
   ]
  },
  {
   "cell_type": "code",
   "execution_count": 5,
   "id": "4ceec492",
   "metadata": {},
   "outputs": [],
   "source": [
    "tag='5-7-2-8-4-16-32'\n",
    "lr = 1e-5\n",
    "k,p,d1,d2,d3,h,c=map(lambda x:int(x),tag.split('-'))\n",
    "seed = 42\n",
    "max_epochs = 350\n",
    "random.seed(seed)\n",
    "torch.manual_seed(seed)\n",
    "torch.cuda.manual_seed(seed)\n",
    "torch.cuda.manual_seed_all(seed)\n",
    "torch.backends.cudnn.deterministic = True\n",
    "torch.backends.cudnn.benchmark = False"
   ]
  },
  {
   "cell_type": "code",
   "execution_count": 6,
   "id": "292d2e77",
   "metadata": {},
   "outputs": [
    {
     "name": "stdout",
     "output_type": "stream",
     "text": [
      "Number of training samples: 519\n",
      "Number of test samples: 130\n"
     ]
    }
   ],
   "source": [
    "from sklearn.model_selection import train_test_split\n",
    "\n",
    "# Split the ids into train and test sets (80% train, 20% test)\n",
    "train_ids, test_ids = train_test_split(ids, test_size=0.2, random_state=seed)\n",
    "\n",
    "print(f\"Number of training samples: {len(train_ids)}\")\n",
    "print(f\"Number of test samples: {len(test_ids)}\")"
   ]
  },
  {
   "cell_type": "markdown",
   "id": "73c76f5d",
   "metadata": {},
   "source": [
    "# Hist2ST training"
   ]
  },
  {
   "cell_type": "code",
   "execution_count": 7,
   "id": "99135a19",
   "metadata": {},
   "outputs": [],
   "source": [
    "fold=5\n",
    "neighbours = 5\n",
    "# data='her2st'\n",
    "data = 'hest1k'\n",
    "if data == 'her2st':\n",
    "    prune = 'Grid'\n",
    "    genes = 785\n",
    "elif data == 'cscc':\n",
    "    prune = 'NA'\n",
    "    genes = 171\n",
    "elif data == 'hest1k':\n",
    "    prune = 'NA'# IDK??\n",
    "    genes = 1000"
   ]
  },
  {
   "cell_type": "code",
   "execution_count": 8,
   "id": "81313d93",
   "metadata": {},
   "outputs": [
    {
     "name": "stdout",
     "output_type": "stream",
     "text": [
      "AnnData object with n_obs × n_vars = 1282 × 25812\n",
      "    obs: 'in_tissue', 'pxl_col_in_fullres', 'pxl_row_in_fullres', 'array_col', 'array_row', 'n_counts', 'n_genes_by_counts', 'log1p_n_genes_by_counts', 'total_counts', 'log1p_total_counts', 'pct_counts_in_top_50_genes', 'pct_counts_in_top_100_genes', 'pct_counts_in_top_200_genes', 'pct_counts_in_top_500_genes', 'total_counts_mito', 'log1p_total_counts_mito', 'pct_counts_mito', 'patches_dir', 'patch_available', 'n_patches', 'individual_patch_file', 'barcode_matching_deferred', 'sample_id', 'original_st_file'\n",
      "    var: 'n_cells_by_counts', 'mean_counts', 'log1p_mean_counts', 'pct_dropout_by_counts', 'total_counts', 'log1p_total_counts', 'mito', 'original_gene_names', 'gene_id', 'species', 'alias_type', 'original_name'\n",
      "    uns: 'gene_filtering', 'gene_filtering_config', 'gene_reordering', 'gene_standardization', 'gene_standardization_config', 'log1p', 'spatial'\n",
      "    obsm: 'spatial'\n"
     ]
    }
   ],
   "source": [
    "adata_path = os.path.join(hest_path, f\"{ids[0]}_preprocessed.h5ad\")\n",
    "sample = ad.read_h5ad(adata_path)\n",
    "print(sample)"
   ]
  },
  {
   "cell_type": "code",
   "execution_count": 16,
   "id": "f990310a",
   "metadata": {},
   "outputs": [
    {
     "name": "stdout",
     "output_type": "stream",
     "text": [
      "\n",
      "Loading dataset with parameters:\n",
      "  Dataset: hest1k\n",
      "  Mode: train\n",
      "  Sample IDs: ['INT25', 'NCBI866', 'SPA35', 'SPA67', 'NCBI592', 'SPA56', 'NCBI474', 'NCBI491', 'NCBI763', 'SPA114', 'SPA85', 'MEND161', 'INT26', 'TENX50', 'NCBI483', 'NCBI765', 'MEND66', 'SPA33', 'SPA126', 'NCBI564', 'TENX114', 'TENX116', 'SPA152', 'SPA132', 'NCBI858', 'SPA96', 'NCBI634', 'MEND162', 'NCBI712', 'INT8', 'INT20', 'SPA83', 'MISC41', 'SPA115', 'MISC134', 'MISC139', 'MISC60', 'NCBI635', 'NCBI517', 'MISC50', 'NCBI864', 'TENX16', 'NCBI813', 'NCBI593', 'MEND18', 'SPA74', 'NCBI461', 'NCBI534', 'NCBI478', 'MISC108', 'MEND90', 'SPA31', 'MEND34', 'MISC109', 'NCBI881', 'SPA110', 'INT24', 'MEND93', 'SPA113', 'SPA101', 'SPA36', 'SPA58', 'TENX90', 'SPA52', 'SPA97', 'NCBI518', 'SPA102', 'NCBI875', 'NCBI468', 'SPA81', 'MEND157', 'MISC23', 'NCBI515', 'MISC119', 'SPA53', 'NCBI768', 'SPA104', 'TENX65', 'SPA76', 'MISC114', 'NCBI572', 'NCBI683', 'NCBI476', 'TENX156', 'TENX14', 'NCBI814', 'ZEN47', 'SPA69', 'SPA154', 'MISC71', 'MEND149', 'MISC113', 'MEND152', 'MISC64', 'MEND41', 'INT23', 'ZEN44', 'NCBI876', 'MISC8', 'MEND139', 'MISC107', 'NCBI567', 'TENX126', 'MISC12', 'NCBI696', 'MISC133', 'NCBI860', 'MISC10', 'SPA48', 'MEND141', 'MEND92', 'NCBI599', 'INT4', 'TENX155', 'MISC61', 'TENX94', 'NCBI466', 'SPA106', 'MISC104', 'TENX71', 'SPA93', 'SPA86', 'TENX158', 'SPA30', 'MEND85', 'MISC38', 'MEND51', 'INT22', 'NCBI470', 'MEND17', 'MEND60', 'MISC140', 'SPA90', 'TENX27', 'MISC22', 'NCBI568', 'TENX98', 'NCBI507', 'NCBI711', 'INT6', 'NCBI632', 'MISC6', 'NCBI489', 'NCBI672', 'NCBI629', 'MEND10', 'MISC40', 'TENX141', 'NCBI811', 'NCBI523', 'TENX72', 'MISC5', 'NCBI653', 'MISC19', 'NCBI475', 'MISC37', 'MISC33', 'NCBI818', 'NCBI880', 'TENX40', 'NCBI815', 'NCBI859', 'NCBI883', 'NCBI827', 'ZEN38', 'MEND7', 'MEND146', 'SPA121', 'NCBI595', 'SPA89', 'SPA146', 'TENX142', 'MEND87', 'SPA87', 'TENX117', 'NCBI828', 'TENX53', 'MISC54', 'MEND65', 'SPA137', 'SPA66', 'TENX157', 'MEND151', 'SPA46', 'MEND20', 'MISC29', 'ZEN40', 'MEND38', 'NCBI490', 'INT1', 'MISC121', 'TENX49', 'SPA38', 'NCBI692', 'NCBI760', 'NCBI487', 'NCBI641', 'NCBI867', 'MISC132', 'NCBI785', 'NCBI673', 'NCBI682', 'NCBI873', 'MISC130', 'MISC20', 'NCBI494', 'TENX148', 'NCBI481', 'MEND16', 'SPA1', 'SPA92', 'NCBI767', 'SPA54', 'MEND158', 'SPA95', 'TENX154', 'NCBI704', 'SPA55', 'MISC51', 'SPA117', 'MISC141', 'SPA150', 'SPA124', 'MISC17', 'TENX46', 'NCBI538', 'NCBI826', 'ZEN46', 'NCBI520', 'MEND96', 'MISC9', 'NCBI571', 'MISC63', 'MEND63', 'TENX62', 'NCBI484', 'SPA147', 'SPA41', 'ZEN48', 'NCBI460', 'MEND19', 'MEND3', 'SPA145', 'MEND39', 'MEND14', 'SPA122', 'MEND64', 'NCBI816', 'TENX106', 'NCBI657', 'MISC56', 'NCBI636', 'MISC27', 'TENX138', 'NCBI675', 'MISC14', 'NCBI463', 'SPA108', 'NCBI525', 'MEND15', 'MEND144', 'NCBI539', 'NCBI882', 'NCBI831', 'MISC135', 'MISC39', 'SPA47', 'SPA40', 'NCBI575', 'NCBI707', 'MEND21', 'MISC62', 'TENX123', 'MEND12', 'NCBI759', 'MEND4', 'SPA62', 'NCBI521', 'SPA51', 'TENX23', 'SPA91', 'MISC24', 'MEND156', 'NCBI508', 'MISC138', 'TENX95', 'MEND13', 'SPA42', 'ZEN42', 'MEND153', 'NCBI783', 'MISC34', 'NCBI462', 'MISC21', 'MEND1', 'NCBI485', 'MISC46', 'NCBI655', 'INT13', 'INT5', 'NCBI656', 'TENX118', 'NCBI526', 'MISC112', 'MISC35', 'SPA133', 'MEND37', 'NCBI832', 'MISC123', 'MEND47', 'INT12', 'SPA60', 'SPA57', 'SPA44', 'MEND40', 'TENX125', 'TENX13', 'SPA130', 'NCBI855', 'INT10', 'SPA125', 'MEND11', 'NCBI642', 'NCBI640', 'NCBI569', 'NCBI477', 'NCBI495', 'MISC7', 'TENX140', 'MEND62', 'NCBI638', 'NCBI701', 'SPA111', 'INT19', 'MISC53', 'SPA131', 'TENX99', 'NCBI493', 'NCBI817', 'ZEN36', 'NCBI482', 'NCBI761', 'MISC4', 'TENX111', 'NCBI695', 'MEND91', 'MISC3', 'SPA70', 'SPA82', 'MISC66', 'NCBI854', 'NCBI637', 'TENX105', 'ZEN41', 'NCBI471', 'NCBI524', 'NCBI570', 'NCBI812', 'MEND86', 'SPA3', 'NCBI710', 'TENX28', 'TENX29', 'SPA128', 'SPA39', 'NCBI630', 'ZEN45', 'INT2', 'TENX91', 'MEND35', 'NCBI497', 'TENX31', 'MEND147', 'SPA77', 'SPA144', 'NCBI536', 'TENX122', 'TENX96', 'NCBI762', 'SPA84', 'MEND48', 'MEND54', 'SPA118', 'MISC25', 'NCBI573', 'NCBI700', 'INT35', 'NCBI654', 'MISC11', 'NCBI469', 'NCBI594', 'MISC117', 'SPA142', 'SPA148', 'NCBI819', 'MISC136', 'TENX51', 'NCBI537', 'NCBI522', 'NCBI492', 'MISC116', 'SPA135', 'NCBI714', 'NCBI496', 'SPA105', 'MEND33', 'MEND36', 'NCBI566', 'SPA120', 'TENX147', 'NCBI516', 'MISC120', 'MEND61', 'NCBI698', 'MISC129', 'MISC131', 'SPA107', 'TENX89', 'TENX144', 'NCBI2', 'SPA103', 'NCBI693', 'MEND67', 'SPA59', 'MEND8', 'MEND68', 'NCBI633', 'MISC43', 'MISC68', 'NCBI708', 'TENX128', 'MISC28', 'NCBI820', 'MISC69', 'NCBI865', 'SPA153', 'MISC142', 'NCBI681', 'MEND59', 'TENX70', 'SPA143', 'MISC57', 'INT15', 'SPA61', 'SPA45', 'NCBI771', 'NCBI713', 'MISC15', 'SPA79', 'SPA123', 'TENX30', 'NCBI519', 'MEND143', 'NCBI643', 'TENX134', 'NCBI509', 'MEND88', 'NCBI870', 'NCBI467', 'NCBI562', 'MISC102', 'SPA112', 'MISC125', 'NCBI690', 'MEND5', 'NCBI833', 'MEND22', 'MISC118', 'INT14', 'NCBI473', 'INT7', 'SPA138', 'NCBI861', 'SPA2', 'NCBI504', 'MEND89', 'SPA73', 'TENX39', 'MISC18', 'NCBI694', 'MISC16', 'NCBI631', 'SPA141', 'NCBI505', 'NCBI601', 'ZEN49', 'NCBI702', 'NCBI603', 'MISC72', 'NCBI697', 'NCBI565', 'SPA43', 'TENX143', 'SPA0', 'NCBI829', 'SPA149', 'SPA88', 'ZEN37', 'MEND145', 'MEND9', 'NCBI709', 'INT17', 'SPA37', 'TENX139', 'MISC122', 'MEND45', 'MISC115', 'NCBI776', 'INT9', 'SPA98', 'NCBI674', 'TENX115', 'NCBI4', 'NCBI856', 'MISC52', 'TENX132', 'SPA80', 'NCBI3', 'TENX120']\n",
      "  Fold: 5\n",
      "Sample IDs: 519\n",
      "HEST Dataset: 519 samples (train)\n",
      "Removing log1p metadata for sample INT25\n",
      "Sample INT25: 3808 spots, 25812 genes\n",
      "Warning: Could not calculate HVG for sample INT25: numpy.dtype size changed, may indicate binary incompatibility. Expected 96 from C header, got 88 from PyObject\n",
      "Removing log1p metadata for sample NCBI866\n",
      "Sample NCBI866: 1604 spots, 25812 genes\n",
      "Warning: Could not calculate HVG for sample NCBI866: numpy.dtype size changed, may indicate binary incompatibility. Expected 96 from C header, got 88 from PyObject\n",
      "Removing log1p metadata for sample SPA35\n",
      "Sample SPA35: 238 spots, 25812 genes\n",
      "Warning: Could not calculate HVG for sample SPA35: numpy.dtype size changed, may indicate binary incompatibility. Expected 96 from C header, got 88 from PyObject\n",
      "Removing log1p metadata for sample SPA67\n",
      "Sample SPA67: 473 spots, 25812 genes\n",
      "Warning: Could not calculate HVG for sample SPA67: numpy.dtype size changed, may indicate binary incompatibility. Expected 96 from C header, got 88 from PyObject\n",
      "Removing log1p metadata for sample NCBI592\n",
      "Sample NCBI592: 721 spots, 25812 genes\n",
      "Warning: Could not calculate HVG for sample NCBI592: numpy.dtype size changed, may indicate binary incompatibility. Expected 96 from C header, got 88 from PyObject\n",
      "Using 0 genes\n",
      "\n",
      "Dataset loaded:\n",
      "  Length: 519\n",
      "\n",
      "Loading dataset with parameters:\n",
      "  Dataset: hest1k\n",
      "  Mode: test\n",
      "  Sample IDs: ['MISC30', 'SPA99', 'NCBI480', 'NCBI784', 'MISC65', 'NCBI830', 'TENX24', 'MISC44', 'SPA109', 'SPA71', 'NCBI510', 'SPA75', 'SPA140', 'MISC103', 'NCBI691', 'SPA100', 'MEND52', 'NCBI498', 'MISC48', 'NCBI879', 'INT18', 'MISC59', 'INT21', 'MISC73', 'NCBI540', 'INT11', 'TENX15', 'SPA72', 'NCBI705', 'TENX152', 'MISC31', 'MISC58', 'ZEN39', 'NCBI639', 'NCBI602', 'SPA116', 'TENX121', 'MEND49', 'SPA129', 'SPA151', 'TENX41', 'MEND154', 'NCBI576', 'MISC55', 'NCBI472', 'NCBI884', 'NCBI1', 'SPA63', 'SPA94', 'NCBI769', 'MISC26', 'MISC106', 'NCBI684', 'NCBI699', 'NCBI857', 'INT3', 'ZEN43', 'MEND6', 'MISC127', 'SPA64', 'MISC105', 'NCBI764', 'TENX133', 'MEND24', 'MEND23', 'SPA32', 'MEND148', 'NCBI591', 'TENX56', 'NCBI628', 'MISC49', 'MEND142', 'MISC128', 'NCBI706', 'SPA136', 'MISC124', 'SPA119', 'INT16', 'TENX149', 'MISC13', 'MEND140', 'NCBI488', 'MEND2', 'NCBI506', 'SPA34', 'MEND160', 'MISC111', 'SPA65', 'SPA68', 'NCBI464', 'TENX119', 'MISC45', 'MISC126', 'MEND159', 'NCBI766', 'MISC67', 'MISC2', 'NCBI479', 'SPA78', 'MISC36', 'NCBI535', 'TENX97', 'TENX153', 'TENX124', 'MISC42', 'INT27', 'NCBI563', 'MISC110', 'NCBI703', 'TENX68', 'MISC101', 'MISC1', 'MISC70', 'NCBI600', 'NCBI821', 'MEND150', 'TENX92', 'MISC47', 'SPA139', 'NCBI486', 'INT28', 'NCBI465', 'MISC32', 'TENX73', 'SPA127', 'NCBI574', 'MEND95', 'NCBI770', 'SPA134', 'NCBI503']\n",
      "  Fold: 5\n",
      "Sample IDs: 130\n",
      "HEST Dataset: 130 samples (test)\n",
      "Removing log1p metadata for sample MISC30\n",
      "Sample MISC30: 2729 spots, 25812 genes\n",
      "Warning: Could not calculate HVG for sample MISC30: numpy.dtype size changed, may indicate binary incompatibility. Expected 96 from C header, got 88 from PyObject\n",
      "Removing log1p metadata for sample SPA99\n",
      "Sample SPA99: 713 spots, 25812 genes\n",
      "Warning: Could not calculate HVG for sample SPA99: numpy.dtype size changed, may indicate binary incompatibility. Expected 96 from C header, got 88 from PyObject\n",
      "Removing log1p metadata for sample NCBI480\n",
      "Sample NCBI480: 695 spots, 25812 genes\n",
      "Warning: Could not calculate HVG for sample NCBI480: numpy.dtype size changed, may indicate binary incompatibility. Expected 96 from C header, got 88 from PyObject\n",
      "Removing log1p metadata for sample NCBI784\n",
      "Sample NCBI784: 4180 spots, 25812 genes\n",
      "Warning: Could not calculate HVG for sample NCBI784: numpy.dtype size changed, may indicate binary incompatibility. Expected 96 from C header, got 88 from PyObject\n",
      "Removing log1p metadata for sample MISC65\n",
      "Sample MISC65: 3261 spots, 25812 genes\n",
      "Warning: Could not calculate HVG for sample MISC65: numpy.dtype size changed, may indicate binary incompatibility. Expected 96 from C header, got 88 from PyObject\n",
      "Using 0 genes\n",
      "\n",
      "Dataset loaded:\n",
      "  Length: 130\n"
     ]
    }
   ],
   "source": [
    "trainset = pk_load(fold,'train', sample_ids=train_ids,dataset =data, flatten=False, adj=True, ori=True, prune=prune, neighs=neighbours)\n",
    "train_loader = DataLoader(trainset, batch_size=1, num_workers=0, shuffle=True)\n",
    "\n",
    "testset = pk_load(fold,'test', sample_ids=test_ids,dataset =data, flatten=False, adj=True, ori=True, prune=prune, neighs=neighbours)\n",
    "test_loader = DataLoader(testset, batch_size=1, num_workers=0, shuffle=False)"
   ]
  },
  {
   "cell_type": "code",
   "execution_count": 10,
   "id": "c94763ef",
   "metadata": {},
   "outputs": [],
   "source": [
    "from pytorch_lightning.loggers import TensorBoardLogger\n",
    "\n",
    "log_name = 'hist2st-1_hestpreprocessed'\n",
    "logger = TensorBoardLogger(\n",
    "    'logs', \n",
    "    name=log_name\n",
    ")\n",
    "\n",
    "model=Hist2ST(\n",
    "    depth1=d1, depth2=d2,depth3=d3,n_genes=genes,\n",
    "    learning_rate=lr, kernel_size=k, patch_size=p,\n",
    "    heads=h, channel=c, dropout=0.2,\n",
    "    zinb=0.25, nb=False,\n",
    "    bake=5, lamb=0.5\n",
    ")"
   ]
  },
  {
   "cell_type": "code",
   "execution_count": 15,
   "id": "299b867c",
   "metadata": {},
   "outputs": [
    {
     "name": "stderr",
     "output_type": "stream",
     "text": [
      "Using default `ModelCheckpoint`. Consider installing `litmodels` package to enable `LitModelCheckpoint` for automatic upload to the Lightning model registry.\n"
     ]
    },
    {
     "name": "stdout",
     "output_type": "stream",
     "text": [
      "Today's date: 2025-07-24\n"
     ]
    },
    {
     "name": "stderr",
     "output_type": "stream",
     "text": [
      "GPU available: True (cuda), used: True\n",
      "TPU available: False, using: 0 TPU cores\n",
      "HPU available: False, using: 0 HPUs\n",
      "LOCAL_RANK: 0 - CUDA_VISIBLE_DEVICES: [0]\n",
      "\n",
      "  | Name            | Type       | Params | Mode \n",
      "-------------------------------------------------------\n",
      "0 | patch_embedding | Conv2d     | 4.7 K  | train\n",
      "1 | x_embed         | Embedding  | 65.5 K | train\n",
      "2 | y_embed         | Embedding  | 65.5 K | train\n",
      "3 | vit             | ViT        | 71.4 M | train\n",
      "4 | mean            | Sequential | 1.0 M  | train\n",
      "5 | disp            | Sequential | 1.0 M  | train\n",
      "6 | pi              | Sequential | 1.0 M  | train\n",
      "7 | coef            | Sequential | 1.1 M  | train\n",
      "8 | gene_head       | Sequential | 1.0 M  | train\n",
      "-------------------------------------------------------\n",
      "76.7 M    Trainable params\n",
      "0         Non-trainable params\n",
      "76.7 M    Total params\n",
      "306.685   Total estimated model params size (MB)\n",
      "203       Modules in train mode\n",
      "0         Modules in eval mode\n"
     ]
    },
    {
     "data": {
      "application/vnd.jupyter.widget-view+json": {
       "model_id": "21396c752c76401191d979b34c0377c6",
       "version_major": 2,
       "version_minor": 0
      },
      "text/plain": [
       "Sanity Checking: |                                                                     | 0/? [00:00<?, ?it/s]"
      ]
     },
     "metadata": {},
     "output_type": "display_data"
    },
    {
     "name": "stdout",
     "output_type": "stream",
     "text": [
      "\n",
      "Loading sample MISC30\n",
      "AnnData object:\n",
      "  obs_names unique: True\n",
      "  var_names unique: True\n",
      "\n",
      "Processing sample MISC30\n",
      "Warning: No common genes found between the two lists.\n",
      "Warning: No common genes found between the two lists.\n",
      "Warning: No missing genes found.\n",
      "Sample MISC30 has 0 common genes with the dataset\n"
     ]
    },
    {
     "ename": "ValueError",
     "evalue": "Found array with 0 feature(s) (shape=(2729, 0)) while a minimum of 1 is required by the normalize function.",
     "output_type": "error",
     "traceback": [
      "\u001b[0;31m---------------------------------------------------------------------------\u001b[0m",
      "\u001b[0;31mValueError\u001b[0m                                Traceback (most recent call last)",
      "Cell \u001b[0;32mIn[15], line 10\u001b[0m\n\u001b[1;32m      4\u001b[0m logger\u001b[38;5;241m=\u001b[39m\u001b[38;5;28;01mNone\u001b[39;00m\n\u001b[1;32m      5\u001b[0m trainer \u001b[38;5;241m=\u001b[39m pl\u001b[38;5;241m.\u001b[39mTrainer( accelerator \u001b[38;5;241m=\u001b[39m \u001b[38;5;124m'\u001b[39m\u001b[38;5;124mgpu\u001b[39m\u001b[38;5;124m'\u001b[39m, \n\u001b[1;32m      6\u001b[0m                      max_epochs\u001b[38;5;241m=\u001b[39mmax_epochs,\n\u001b[1;32m      7\u001b[0m                      logger\u001b[38;5;241m=\u001b[39mlogger,\n\u001b[1;32m      8\u001b[0m                      check_val_every_n_epoch\u001b[38;5;241m=\u001b[39m\u001b[38;5;241m2\u001b[39m,\n\u001b[1;32m      9\u001b[0m )\n\u001b[0;32m---> 10\u001b[0m \u001b[43mtrainer\u001b[49m\u001b[38;5;241;43m.\u001b[39;49m\u001b[43mfit\u001b[49m\u001b[43m(\u001b[49m\u001b[43mmodel\u001b[49m\u001b[43m,\u001b[49m\u001b[43m \u001b[49m\u001b[43mtrain_loader\u001b[49m\u001b[43m,\u001b[49m\u001b[43m \u001b[49m\u001b[43mtest_loader\u001b[49m\u001b[43m)\u001b[49m\n\u001b[1;32m     12\u001b[0m \u001b[38;5;28;01mimport\u001b[39;00m\u001b[38;5;250m \u001b[39m\u001b[38;5;21;01mos\u001b[39;00m\n\u001b[1;32m     13\u001b[0m \u001b[38;5;28;01mfrom\u001b[39;00m\u001b[38;5;250m \u001b[39m\u001b[38;5;21;01mdatetime\u001b[39;00m\u001b[38;5;250m \u001b[39m\u001b[38;5;28;01mimport\u001b[39;00m date\n",
      "File \u001b[0;32m~/software/miniforge3/envs/hist2st-env/lib/python3.9/site-packages/pytorch_lightning/trainer/trainer.py:561\u001b[0m, in \u001b[0;36mTrainer.fit\u001b[0;34m(self, model, train_dataloaders, val_dataloaders, datamodule, ckpt_path)\u001b[0m\n\u001b[1;32m    559\u001b[0m \u001b[38;5;28mself\u001b[39m\u001b[38;5;241m.\u001b[39mtraining \u001b[38;5;241m=\u001b[39m \u001b[38;5;28;01mTrue\u001b[39;00m\n\u001b[1;32m    560\u001b[0m \u001b[38;5;28mself\u001b[39m\u001b[38;5;241m.\u001b[39mshould_stop \u001b[38;5;241m=\u001b[39m \u001b[38;5;28;01mFalse\u001b[39;00m\n\u001b[0;32m--> 561\u001b[0m \u001b[43mcall\u001b[49m\u001b[38;5;241;43m.\u001b[39;49m\u001b[43m_call_and_handle_interrupt\u001b[49m\u001b[43m(\u001b[49m\n\u001b[1;32m    562\u001b[0m \u001b[43m    \u001b[49m\u001b[38;5;28;43mself\u001b[39;49m\u001b[43m,\u001b[49m\u001b[43m \u001b[49m\u001b[38;5;28;43mself\u001b[39;49m\u001b[38;5;241;43m.\u001b[39;49m\u001b[43m_fit_impl\u001b[49m\u001b[43m,\u001b[49m\u001b[43m \u001b[49m\u001b[43mmodel\u001b[49m\u001b[43m,\u001b[49m\u001b[43m \u001b[49m\u001b[43mtrain_dataloaders\u001b[49m\u001b[43m,\u001b[49m\u001b[43m \u001b[49m\u001b[43mval_dataloaders\u001b[49m\u001b[43m,\u001b[49m\u001b[43m \u001b[49m\u001b[43mdatamodule\u001b[49m\u001b[43m,\u001b[49m\u001b[43m \u001b[49m\u001b[43mckpt_path\u001b[49m\n\u001b[1;32m    563\u001b[0m \u001b[43m\u001b[49m\u001b[43m)\u001b[49m\n",
      "File \u001b[0;32m~/software/miniforge3/envs/hist2st-env/lib/python3.9/site-packages/pytorch_lightning/trainer/call.py:48\u001b[0m, in \u001b[0;36m_call_and_handle_interrupt\u001b[0;34m(trainer, trainer_fn, *args, **kwargs)\u001b[0m\n\u001b[1;32m     46\u001b[0m     \u001b[38;5;28;01mif\u001b[39;00m trainer\u001b[38;5;241m.\u001b[39mstrategy\u001b[38;5;241m.\u001b[39mlauncher \u001b[38;5;129;01mis\u001b[39;00m \u001b[38;5;129;01mnot\u001b[39;00m \u001b[38;5;28;01mNone\u001b[39;00m:\n\u001b[1;32m     47\u001b[0m         \u001b[38;5;28;01mreturn\u001b[39;00m trainer\u001b[38;5;241m.\u001b[39mstrategy\u001b[38;5;241m.\u001b[39mlauncher\u001b[38;5;241m.\u001b[39mlaunch(trainer_fn, \u001b[38;5;241m*\u001b[39margs, trainer\u001b[38;5;241m=\u001b[39mtrainer, \u001b[38;5;241m*\u001b[39m\u001b[38;5;241m*\u001b[39mkwargs)\n\u001b[0;32m---> 48\u001b[0m     \u001b[38;5;28;01mreturn\u001b[39;00m \u001b[43mtrainer_fn\u001b[49m\u001b[43m(\u001b[49m\u001b[38;5;241;43m*\u001b[39;49m\u001b[43margs\u001b[49m\u001b[43m,\u001b[49m\u001b[43m \u001b[49m\u001b[38;5;241;43m*\u001b[39;49m\u001b[38;5;241;43m*\u001b[39;49m\u001b[43mkwargs\u001b[49m\u001b[43m)\u001b[49m\n\u001b[1;32m     50\u001b[0m \u001b[38;5;28;01mexcept\u001b[39;00m _TunerExitException:\n\u001b[1;32m     51\u001b[0m     _call_teardown_hook(trainer)\n",
      "File \u001b[0;32m~/software/miniforge3/envs/hist2st-env/lib/python3.9/site-packages/pytorch_lightning/trainer/trainer.py:599\u001b[0m, in \u001b[0;36mTrainer._fit_impl\u001b[0;34m(self, model, train_dataloaders, val_dataloaders, datamodule, ckpt_path)\u001b[0m\n\u001b[1;32m    592\u001b[0m     download_model_from_registry(ckpt_path, \u001b[38;5;28mself\u001b[39m)\n\u001b[1;32m    593\u001b[0m ckpt_path \u001b[38;5;241m=\u001b[39m \u001b[38;5;28mself\u001b[39m\u001b[38;5;241m.\u001b[39m_checkpoint_connector\u001b[38;5;241m.\u001b[39m_select_ckpt_path(\n\u001b[1;32m    594\u001b[0m     \u001b[38;5;28mself\u001b[39m\u001b[38;5;241m.\u001b[39mstate\u001b[38;5;241m.\u001b[39mfn,\n\u001b[1;32m    595\u001b[0m     ckpt_path,\n\u001b[1;32m    596\u001b[0m     model_provided\u001b[38;5;241m=\u001b[39m\u001b[38;5;28;01mTrue\u001b[39;00m,\n\u001b[1;32m    597\u001b[0m     model_connected\u001b[38;5;241m=\u001b[39m\u001b[38;5;28mself\u001b[39m\u001b[38;5;241m.\u001b[39mlightning_module \u001b[38;5;129;01mis\u001b[39;00m \u001b[38;5;129;01mnot\u001b[39;00m \u001b[38;5;28;01mNone\u001b[39;00m,\n\u001b[1;32m    598\u001b[0m )\n\u001b[0;32m--> 599\u001b[0m \u001b[38;5;28;43mself\u001b[39;49m\u001b[38;5;241;43m.\u001b[39;49m\u001b[43m_run\u001b[49m\u001b[43m(\u001b[49m\u001b[43mmodel\u001b[49m\u001b[43m,\u001b[49m\u001b[43m \u001b[49m\u001b[43mckpt_path\u001b[49m\u001b[38;5;241;43m=\u001b[39;49m\u001b[43mckpt_path\u001b[49m\u001b[43m)\u001b[49m\n\u001b[1;32m    601\u001b[0m \u001b[38;5;28;01massert\u001b[39;00m \u001b[38;5;28mself\u001b[39m\u001b[38;5;241m.\u001b[39mstate\u001b[38;5;241m.\u001b[39mstopped\n\u001b[1;32m    602\u001b[0m \u001b[38;5;28mself\u001b[39m\u001b[38;5;241m.\u001b[39mtraining \u001b[38;5;241m=\u001b[39m \u001b[38;5;28;01mFalse\u001b[39;00m\n",
      "File \u001b[0;32m~/software/miniforge3/envs/hist2st-env/lib/python3.9/site-packages/pytorch_lightning/trainer/trainer.py:1012\u001b[0m, in \u001b[0;36mTrainer._run\u001b[0;34m(self, model, ckpt_path)\u001b[0m\n\u001b[1;32m   1007\u001b[0m \u001b[38;5;28mself\u001b[39m\u001b[38;5;241m.\u001b[39m_signal_connector\u001b[38;5;241m.\u001b[39mregister_signal_handlers()\n\u001b[1;32m   1009\u001b[0m \u001b[38;5;66;03m# ----------------------------\u001b[39;00m\n\u001b[1;32m   1010\u001b[0m \u001b[38;5;66;03m# RUN THE TRAINER\u001b[39;00m\n\u001b[1;32m   1011\u001b[0m \u001b[38;5;66;03m# ----------------------------\u001b[39;00m\n\u001b[0;32m-> 1012\u001b[0m results \u001b[38;5;241m=\u001b[39m \u001b[38;5;28;43mself\u001b[39;49m\u001b[38;5;241;43m.\u001b[39;49m\u001b[43m_run_stage\u001b[49m\u001b[43m(\u001b[49m\u001b[43m)\u001b[49m\n\u001b[1;32m   1014\u001b[0m \u001b[38;5;66;03m# ----------------------------\u001b[39;00m\n\u001b[1;32m   1015\u001b[0m \u001b[38;5;66;03m# POST-Training CLEAN UP\u001b[39;00m\n\u001b[1;32m   1016\u001b[0m \u001b[38;5;66;03m# ----------------------------\u001b[39;00m\n\u001b[1;32m   1017\u001b[0m log\u001b[38;5;241m.\u001b[39mdebug(\u001b[38;5;124mf\u001b[39m\u001b[38;5;124m\"\u001b[39m\u001b[38;5;132;01m{\u001b[39;00m\u001b[38;5;28mself\u001b[39m\u001b[38;5;241m.\u001b[39m\u001b[38;5;18m__class__\u001b[39m\u001b[38;5;241m.\u001b[39m\u001b[38;5;18m__name__\u001b[39m\u001b[38;5;132;01m}\u001b[39;00m\u001b[38;5;124m: trainer tearing down\u001b[39m\u001b[38;5;124m\"\u001b[39m)\n",
      "File \u001b[0;32m~/software/miniforge3/envs/hist2st-env/lib/python3.9/site-packages/pytorch_lightning/trainer/trainer.py:1054\u001b[0m, in \u001b[0;36mTrainer._run_stage\u001b[0;34m(self)\u001b[0m\n\u001b[1;32m   1052\u001b[0m \u001b[38;5;28;01mif\u001b[39;00m \u001b[38;5;28mself\u001b[39m\u001b[38;5;241m.\u001b[39mtraining:\n\u001b[1;32m   1053\u001b[0m     \u001b[38;5;28;01mwith\u001b[39;00m isolate_rng():\n\u001b[0;32m-> 1054\u001b[0m         \u001b[38;5;28;43mself\u001b[39;49m\u001b[38;5;241;43m.\u001b[39;49m\u001b[43m_run_sanity_check\u001b[49m\u001b[43m(\u001b[49m\u001b[43m)\u001b[49m\n\u001b[1;32m   1055\u001b[0m     \u001b[38;5;28;01mwith\u001b[39;00m torch\u001b[38;5;241m.\u001b[39mautograd\u001b[38;5;241m.\u001b[39mset_detect_anomaly(\u001b[38;5;28mself\u001b[39m\u001b[38;5;241m.\u001b[39m_detect_anomaly):\n\u001b[1;32m   1056\u001b[0m         \u001b[38;5;28mself\u001b[39m\u001b[38;5;241m.\u001b[39mfit_loop\u001b[38;5;241m.\u001b[39mrun()\n",
      "File \u001b[0;32m~/software/miniforge3/envs/hist2st-env/lib/python3.9/site-packages/pytorch_lightning/trainer/trainer.py:1083\u001b[0m, in \u001b[0;36mTrainer._run_sanity_check\u001b[0;34m(self)\u001b[0m\n\u001b[1;32m   1080\u001b[0m call\u001b[38;5;241m.\u001b[39m_call_callback_hooks(\u001b[38;5;28mself\u001b[39m, \u001b[38;5;124m\"\u001b[39m\u001b[38;5;124mon_sanity_check_start\u001b[39m\u001b[38;5;124m\"\u001b[39m)\n\u001b[1;32m   1082\u001b[0m \u001b[38;5;66;03m# run eval step\u001b[39;00m\n\u001b[0;32m-> 1083\u001b[0m \u001b[43mval_loop\u001b[49m\u001b[38;5;241;43m.\u001b[39;49m\u001b[43mrun\u001b[49m\u001b[43m(\u001b[49m\u001b[43m)\u001b[49m\n\u001b[1;32m   1085\u001b[0m call\u001b[38;5;241m.\u001b[39m_call_callback_hooks(\u001b[38;5;28mself\u001b[39m, \u001b[38;5;124m\"\u001b[39m\u001b[38;5;124mon_sanity_check_end\u001b[39m\u001b[38;5;124m\"\u001b[39m)\n\u001b[1;32m   1087\u001b[0m \u001b[38;5;66;03m# reset logger connector\u001b[39;00m\n",
      "File \u001b[0;32m~/software/miniforge3/envs/hist2st-env/lib/python3.9/site-packages/pytorch_lightning/loops/utilities.py:179\u001b[0m, in \u001b[0;36m_no_grad_context.<locals>._decorator\u001b[0;34m(self, *args, **kwargs)\u001b[0m\n\u001b[1;32m    177\u001b[0m     context_manager \u001b[38;5;241m=\u001b[39m torch\u001b[38;5;241m.\u001b[39mno_grad\n\u001b[1;32m    178\u001b[0m \u001b[38;5;28;01mwith\u001b[39;00m context_manager():\n\u001b[0;32m--> 179\u001b[0m     \u001b[38;5;28;01mreturn\u001b[39;00m \u001b[43mloop_run\u001b[49m\u001b[43m(\u001b[49m\u001b[38;5;28;43mself\u001b[39;49m\u001b[43m,\u001b[49m\u001b[43m \u001b[49m\u001b[38;5;241;43m*\u001b[39;49m\u001b[43margs\u001b[49m\u001b[43m,\u001b[49m\u001b[43m \u001b[49m\u001b[38;5;241;43m*\u001b[39;49m\u001b[38;5;241;43m*\u001b[39;49m\u001b[43mkwargs\u001b[49m\u001b[43m)\u001b[49m\n",
      "File \u001b[0;32m~/software/miniforge3/envs/hist2st-env/lib/python3.9/site-packages/pytorch_lightning/loops/evaluation_loop.py:138\u001b[0m, in \u001b[0;36m_EvaluationLoop.run\u001b[0;34m(self)\u001b[0m\n\u001b[1;32m    136\u001b[0m \u001b[38;5;28;01melse\u001b[39;00m:\n\u001b[1;32m    137\u001b[0m     dataloader_iter \u001b[38;5;241m=\u001b[39m \u001b[38;5;28;01mNone\u001b[39;00m\n\u001b[0;32m--> 138\u001b[0m     batch, batch_idx, dataloader_idx \u001b[38;5;241m=\u001b[39m \u001b[38;5;28;43mnext\u001b[39;49m\u001b[43m(\u001b[49m\u001b[43mdata_fetcher\u001b[49m\u001b[43m)\u001b[49m\n\u001b[1;32m    139\u001b[0m \u001b[38;5;28;01mif\u001b[39;00m previous_dataloader_idx \u001b[38;5;241m!=\u001b[39m dataloader_idx:\n\u001b[1;32m    140\u001b[0m     \u001b[38;5;66;03m# the dataloader has changed, notify the logger connector\u001b[39;00m\n\u001b[1;32m    141\u001b[0m     \u001b[38;5;28mself\u001b[39m\u001b[38;5;241m.\u001b[39m_store_dataloader_outputs()\n",
      "File \u001b[0;32m~/software/miniforge3/envs/hist2st-env/lib/python3.9/site-packages/pytorch_lightning/loops/fetchers.py:134\u001b[0m, in \u001b[0;36m_PrefetchDataFetcher.__next__\u001b[0;34m(self)\u001b[0m\n\u001b[1;32m    131\u001b[0m         \u001b[38;5;28mself\u001b[39m\u001b[38;5;241m.\u001b[39mdone \u001b[38;5;241m=\u001b[39m \u001b[38;5;129;01mnot\u001b[39;00m \u001b[38;5;28mself\u001b[39m\u001b[38;5;241m.\u001b[39mbatches\n\u001b[1;32m    132\u001b[0m \u001b[38;5;28;01melif\u001b[39;00m \u001b[38;5;129;01mnot\u001b[39;00m \u001b[38;5;28mself\u001b[39m\u001b[38;5;241m.\u001b[39mdone:\n\u001b[1;32m    133\u001b[0m     \u001b[38;5;66;03m# this will run only when no pre-fetching was done.\u001b[39;00m\n\u001b[0;32m--> 134\u001b[0m     batch \u001b[38;5;241m=\u001b[39m \u001b[38;5;28;43msuper\u001b[39;49m\u001b[43m(\u001b[49m\u001b[43m)\u001b[49m\u001b[38;5;241;43m.\u001b[39;49m\u001b[38;5;21;43m__next__\u001b[39;49m\u001b[43m(\u001b[49m\u001b[43m)\u001b[49m\n\u001b[1;32m    135\u001b[0m \u001b[38;5;28;01melse\u001b[39;00m:\n\u001b[1;32m    136\u001b[0m     \u001b[38;5;66;03m# the iterator is empty\u001b[39;00m\n\u001b[1;32m    137\u001b[0m     \u001b[38;5;28;01mraise\u001b[39;00m \u001b[38;5;167;01mStopIteration\u001b[39;00m\n",
      "File \u001b[0;32m~/software/miniforge3/envs/hist2st-env/lib/python3.9/site-packages/pytorch_lightning/loops/fetchers.py:61\u001b[0m, in \u001b[0;36m_DataFetcher.__next__\u001b[0;34m(self)\u001b[0m\n\u001b[1;32m     59\u001b[0m \u001b[38;5;28mself\u001b[39m\u001b[38;5;241m.\u001b[39m_start_profiler()\n\u001b[1;32m     60\u001b[0m \u001b[38;5;28;01mtry\u001b[39;00m:\n\u001b[0;32m---> 61\u001b[0m     batch \u001b[38;5;241m=\u001b[39m \u001b[38;5;28;43mnext\u001b[39;49m\u001b[43m(\u001b[49m\u001b[38;5;28;43mself\u001b[39;49m\u001b[38;5;241;43m.\u001b[39;49m\u001b[43miterator\u001b[49m\u001b[43m)\u001b[49m\n\u001b[1;32m     62\u001b[0m \u001b[38;5;28;01mexcept\u001b[39;00m \u001b[38;5;167;01mStopIteration\u001b[39;00m:\n\u001b[1;32m     63\u001b[0m     \u001b[38;5;28mself\u001b[39m\u001b[38;5;241m.\u001b[39mdone \u001b[38;5;241m=\u001b[39m \u001b[38;5;28;01mTrue\u001b[39;00m\n",
      "File \u001b[0;32m~/software/miniforge3/envs/hist2st-env/lib/python3.9/site-packages/pytorch_lightning/utilities/combined_loader.py:341\u001b[0m, in \u001b[0;36mCombinedLoader.__next__\u001b[0;34m(self)\u001b[0m\n\u001b[1;32m    339\u001b[0m \u001b[38;5;28;01mdef\u001b[39;00m\u001b[38;5;250m \u001b[39m\u001b[38;5;21m__next__\u001b[39m(\u001b[38;5;28mself\u001b[39m) \u001b[38;5;241m-\u001b[39m\u001b[38;5;241m>\u001b[39m _ITERATOR_RETURN:\n\u001b[1;32m    340\u001b[0m     \u001b[38;5;28;01massert\u001b[39;00m \u001b[38;5;28mself\u001b[39m\u001b[38;5;241m.\u001b[39m_iterator \u001b[38;5;129;01mis\u001b[39;00m \u001b[38;5;129;01mnot\u001b[39;00m \u001b[38;5;28;01mNone\u001b[39;00m\n\u001b[0;32m--> 341\u001b[0m     out \u001b[38;5;241m=\u001b[39m \u001b[38;5;28;43mnext\u001b[39;49m\u001b[43m(\u001b[49m\u001b[38;5;28;43mself\u001b[39;49m\u001b[38;5;241;43m.\u001b[39;49m\u001b[43m_iterator\u001b[49m\u001b[43m)\u001b[49m\n\u001b[1;32m    342\u001b[0m     \u001b[38;5;28;01mif\u001b[39;00m \u001b[38;5;28misinstance\u001b[39m(\u001b[38;5;28mself\u001b[39m\u001b[38;5;241m.\u001b[39m_iterator, _Sequential):\n\u001b[1;32m    343\u001b[0m         \u001b[38;5;28;01mreturn\u001b[39;00m out\n",
      "File \u001b[0;32m~/software/miniforge3/envs/hist2st-env/lib/python3.9/site-packages/pytorch_lightning/utilities/combined_loader.py:142\u001b[0m, in \u001b[0;36m_Sequential.__next__\u001b[0;34m(self)\u001b[0m\n\u001b[1;32m    139\u001b[0m             \u001b[38;5;28;01mraise\u001b[39;00m \u001b[38;5;167;01mStopIteration\u001b[39;00m\n\u001b[1;32m    141\u001b[0m \u001b[38;5;28;01mtry\u001b[39;00m:\n\u001b[0;32m--> 142\u001b[0m     out \u001b[38;5;241m=\u001b[39m \u001b[38;5;28;43mnext\u001b[39;49m\u001b[43m(\u001b[49m\u001b[38;5;28;43mself\u001b[39;49m\u001b[38;5;241;43m.\u001b[39;49m\u001b[43miterators\u001b[49m\u001b[43m[\u001b[49m\u001b[38;5;241;43m0\u001b[39;49m\u001b[43m]\u001b[49m\u001b[43m)\u001b[49m\n\u001b[1;32m    143\u001b[0m \u001b[38;5;28;01mexcept\u001b[39;00m \u001b[38;5;167;01mStopIteration\u001b[39;00m:\n\u001b[1;32m    144\u001b[0m     \u001b[38;5;66;03m# try the next iterator\u001b[39;00m\n\u001b[1;32m    145\u001b[0m     \u001b[38;5;28mself\u001b[39m\u001b[38;5;241m.\u001b[39m_use_next_iterator()\n",
      "File \u001b[0;32m~/software/miniforge3/envs/hist2st-env/lib/python3.9/site-packages/torch/utils/data/dataloader.py:701\u001b[0m, in \u001b[0;36m_BaseDataLoaderIter.__next__\u001b[0;34m(self)\u001b[0m\n\u001b[1;32m    698\u001b[0m \u001b[38;5;28;01mif\u001b[39;00m \u001b[38;5;28mself\u001b[39m\u001b[38;5;241m.\u001b[39m_sampler_iter \u001b[38;5;129;01mis\u001b[39;00m \u001b[38;5;28;01mNone\u001b[39;00m:\n\u001b[1;32m    699\u001b[0m     \u001b[38;5;66;03m# TODO(https://github.com/pytorch/pytorch/issues/76750)\u001b[39;00m\n\u001b[1;32m    700\u001b[0m     \u001b[38;5;28mself\u001b[39m\u001b[38;5;241m.\u001b[39m_reset()  \u001b[38;5;66;03m# type: ignore[call-arg]\u001b[39;00m\n\u001b[0;32m--> 701\u001b[0m data \u001b[38;5;241m=\u001b[39m \u001b[38;5;28;43mself\u001b[39;49m\u001b[38;5;241;43m.\u001b[39;49m\u001b[43m_next_data\u001b[49m\u001b[43m(\u001b[49m\u001b[43m)\u001b[49m\n\u001b[1;32m    702\u001b[0m \u001b[38;5;28mself\u001b[39m\u001b[38;5;241m.\u001b[39m_num_yielded \u001b[38;5;241m+\u001b[39m\u001b[38;5;241m=\u001b[39m \u001b[38;5;241m1\u001b[39m\n\u001b[1;32m    703\u001b[0m \u001b[38;5;28;01mif\u001b[39;00m (\n\u001b[1;32m    704\u001b[0m     \u001b[38;5;28mself\u001b[39m\u001b[38;5;241m.\u001b[39m_dataset_kind \u001b[38;5;241m==\u001b[39m _DatasetKind\u001b[38;5;241m.\u001b[39mIterable\n\u001b[1;32m    705\u001b[0m     \u001b[38;5;129;01mand\u001b[39;00m \u001b[38;5;28mself\u001b[39m\u001b[38;5;241m.\u001b[39m_IterableDataset_len_called \u001b[38;5;129;01mis\u001b[39;00m \u001b[38;5;129;01mnot\u001b[39;00m \u001b[38;5;28;01mNone\u001b[39;00m\n\u001b[1;32m    706\u001b[0m     \u001b[38;5;129;01mand\u001b[39;00m \u001b[38;5;28mself\u001b[39m\u001b[38;5;241m.\u001b[39m_num_yielded \u001b[38;5;241m>\u001b[39m \u001b[38;5;28mself\u001b[39m\u001b[38;5;241m.\u001b[39m_IterableDataset_len_called\n\u001b[1;32m    707\u001b[0m ):\n",
      "File \u001b[0;32m~/software/miniforge3/envs/hist2st-env/lib/python3.9/site-packages/torch/utils/data/dataloader.py:757\u001b[0m, in \u001b[0;36m_SingleProcessDataLoaderIter._next_data\u001b[0;34m(self)\u001b[0m\n\u001b[1;32m    755\u001b[0m \u001b[38;5;28;01mdef\u001b[39;00m\u001b[38;5;250m \u001b[39m\u001b[38;5;21m_next_data\u001b[39m(\u001b[38;5;28mself\u001b[39m):\n\u001b[1;32m    756\u001b[0m     index \u001b[38;5;241m=\u001b[39m \u001b[38;5;28mself\u001b[39m\u001b[38;5;241m.\u001b[39m_next_index()  \u001b[38;5;66;03m# may raise StopIteration\u001b[39;00m\n\u001b[0;32m--> 757\u001b[0m     data \u001b[38;5;241m=\u001b[39m \u001b[38;5;28;43mself\u001b[39;49m\u001b[38;5;241;43m.\u001b[39;49m\u001b[43m_dataset_fetcher\u001b[49m\u001b[38;5;241;43m.\u001b[39;49m\u001b[43mfetch\u001b[49m\u001b[43m(\u001b[49m\u001b[43mindex\u001b[49m\u001b[43m)\u001b[49m  \u001b[38;5;66;03m# may raise StopIteration\u001b[39;00m\n\u001b[1;32m    758\u001b[0m     \u001b[38;5;28;01mif\u001b[39;00m \u001b[38;5;28mself\u001b[39m\u001b[38;5;241m.\u001b[39m_pin_memory:\n\u001b[1;32m    759\u001b[0m         data \u001b[38;5;241m=\u001b[39m _utils\u001b[38;5;241m.\u001b[39mpin_memory\u001b[38;5;241m.\u001b[39mpin_memory(data, \u001b[38;5;28mself\u001b[39m\u001b[38;5;241m.\u001b[39m_pin_memory_device)\n",
      "File \u001b[0;32m~/software/miniforge3/envs/hist2st-env/lib/python3.9/site-packages/torch/utils/data/_utils/fetch.py:52\u001b[0m, in \u001b[0;36m_MapDatasetFetcher.fetch\u001b[0;34m(self, possibly_batched_index)\u001b[0m\n\u001b[1;32m     50\u001b[0m         data \u001b[38;5;241m=\u001b[39m \u001b[38;5;28mself\u001b[39m\u001b[38;5;241m.\u001b[39mdataset\u001b[38;5;241m.\u001b[39m__getitems__(possibly_batched_index)\n\u001b[1;32m     51\u001b[0m     \u001b[38;5;28;01melse\u001b[39;00m:\n\u001b[0;32m---> 52\u001b[0m         data \u001b[38;5;241m=\u001b[39m [\u001b[38;5;28mself\u001b[39m\u001b[38;5;241m.\u001b[39mdataset[idx] \u001b[38;5;28;01mfor\u001b[39;00m idx \u001b[38;5;129;01min\u001b[39;00m possibly_batched_index]\n\u001b[1;32m     53\u001b[0m \u001b[38;5;28;01melse\u001b[39;00m:\n\u001b[1;32m     54\u001b[0m     data \u001b[38;5;241m=\u001b[39m \u001b[38;5;28mself\u001b[39m\u001b[38;5;241m.\u001b[39mdataset[possibly_batched_index]\n",
      "File \u001b[0;32m~/software/miniforge3/envs/hist2st-env/lib/python3.9/site-packages/torch/utils/data/_utils/fetch.py:52\u001b[0m, in \u001b[0;36m<listcomp>\u001b[0;34m(.0)\u001b[0m\n\u001b[1;32m     50\u001b[0m         data \u001b[38;5;241m=\u001b[39m \u001b[38;5;28mself\u001b[39m\u001b[38;5;241m.\u001b[39mdataset\u001b[38;5;241m.\u001b[39m__getitems__(possibly_batched_index)\n\u001b[1;32m     51\u001b[0m     \u001b[38;5;28;01melse\u001b[39;00m:\n\u001b[0;32m---> 52\u001b[0m         data \u001b[38;5;241m=\u001b[39m [\u001b[38;5;28;43mself\u001b[39;49m\u001b[38;5;241;43m.\u001b[39;49m\u001b[43mdataset\u001b[49m\u001b[43m[\u001b[49m\u001b[43midx\u001b[49m\u001b[43m]\u001b[49m \u001b[38;5;28;01mfor\u001b[39;00m idx \u001b[38;5;129;01min\u001b[39;00m possibly_batched_index]\n\u001b[1;32m     53\u001b[0m \u001b[38;5;28;01melse\u001b[39;00m:\n\u001b[1;32m     54\u001b[0m     data \u001b[38;5;241m=\u001b[39m \u001b[38;5;28mself\u001b[39m\u001b[38;5;241m.\u001b[39mdataset[possibly_batched_index]\n",
      "File \u001b[0;32m/work/bose_lab/Jamie/Summer/models/Hist2ST-Fork/dataset.py:551\u001b[0m, in \u001b[0;36mViT_HEST1K.__getitem__\u001b[0;34m(self, idx)\u001b[0m\n\u001b[1;32m    548\u001b[0m adata_path \u001b[38;5;241m=\u001b[39m os\u001b[38;5;241m.\u001b[39mpath\u001b[38;5;241m.\u001b[39mjoin(\u001b[38;5;28mself\u001b[39m\u001b[38;5;241m.\u001b[39mprocessed_path, \u001b[38;5;124mf\u001b[39m\u001b[38;5;124m\"\u001b[39m\u001b[38;5;132;01m{\u001b[39;00msample_id\u001b[38;5;132;01m}\u001b[39;00m\u001b[38;5;124m_preprocessed.h5ad\u001b[39m\u001b[38;5;124m\"\u001b[39m)\n\u001b[1;32m    549\u001b[0m adata \u001b[38;5;241m=\u001b[39m ad\u001b[38;5;241m.\u001b[39mread_h5ad(adata_path)\n\u001b[0;32m--> 551\u001b[0m \u001b[38;5;28;01mreturn\u001b[39;00m \u001b[38;5;28;43mself\u001b[39;49m\u001b[38;5;241;43m.\u001b[39;49m\u001b[43mprocess_sample\u001b[49m\u001b[43m(\u001b[49m\u001b[43madata\u001b[49m\u001b[43m,\u001b[49m\u001b[43m \u001b[49m\u001b[43msample_id\u001b[49m\u001b[43m)\u001b[49m\n",
      "File \u001b[0;32m/work/bose_lab/Jamie/Summer/models/Hist2ST-Fork/dataset.py:627\u001b[0m, in \u001b[0;36mViT_HEST1K.process_sample\u001b[0;34m(self, adata, sample_id)\u001b[0m\n\u001b[1;32m    624\u001b[0m ori_exps \u001b[38;5;241m=\u001b[39m exps\u001b[38;5;241m.\u001b[39mcopy()  \u001b[38;5;66;03m# Keep original for size factors if needed\u001b[39;00m\n\u001b[1;32m    626\u001b[0m \u001b[38;5;66;03m#TODO: they normalized and log-transformed the data in the HER2ST dataset, should we do that here?\u001b[39;00m\n\u001b[0;32m--> 627\u001b[0m norm_exps \u001b[38;5;241m=\u001b[39m scp\u001b[38;5;241m.\u001b[39mtransform\u001b[38;5;241m.\u001b[39mlog(\u001b[43mscp\u001b[49m\u001b[38;5;241;43m.\u001b[39;49m\u001b[43mnormalize\u001b[49m\u001b[38;5;241;43m.\u001b[39;49m\u001b[43mlibrary_size_normalize\u001b[49m\u001b[43m(\u001b[49m\u001b[43mori_exps\u001b[49m\u001b[43m)\u001b[49m)\n\u001b[1;32m    629\u001b[0m \u001b[38;5;66;03m# Get array coordinates\u001b[39;00m\n\u001b[1;32m    630\u001b[0m \u001b[38;5;66;03m# pos = adata.obs[['array_row', 'array_col']].values.astype(int)\u001b[39;00m\n\u001b[1;32m    631\u001b[0m \u001b[38;5;28;01mif\u001b[39;00m \u001b[38;5;124m'\u001b[39m\u001b[38;5;124marray_row\u001b[39m\u001b[38;5;124m'\u001b[39m \u001b[38;5;129;01min\u001b[39;00m adata\u001b[38;5;241m.\u001b[39mobs \u001b[38;5;129;01mand\u001b[39;00m \u001b[38;5;124m'\u001b[39m\u001b[38;5;124marray_col\u001b[39m\u001b[38;5;124m'\u001b[39m \u001b[38;5;129;01min\u001b[39;00m adata\u001b[38;5;241m.\u001b[39mobs:\n",
      "File \u001b[0;32m~/software/miniforge3/envs/hist2st-env/lib/python3.9/site-packages/scprep/normalize.py:91\u001b[0m, in \u001b[0;36mlibrary_size_normalize\u001b[0;34m(data, rescale, return_library_size)\u001b[0m\n\u001b[1;32m     89\u001b[0m         data_norm, libsize \u001b[38;5;241m=\u001b[39m normalize(data, norm\u001b[38;5;241m=\u001b[39m\u001b[38;5;124m\"\u001b[39m\u001b[38;5;124ml1\u001b[39m\u001b[38;5;124m\"\u001b[39m, axis\u001b[38;5;241m=\u001b[39m\u001b[38;5;241m1\u001b[39m, return_norm\u001b[38;5;241m=\u001b[39m\u001b[38;5;28;01mTrue\u001b[39;00m)\n\u001b[1;32m     90\u001b[0m     \u001b[38;5;28;01melse\u001b[39;00m:\n\u001b[0;32m---> 91\u001b[0m         data_norm \u001b[38;5;241m=\u001b[39m \u001b[43mnormalize\u001b[49m\u001b[43m(\u001b[49m\u001b[43mdata\u001b[49m\u001b[43m,\u001b[49m\u001b[43m \u001b[49m\u001b[43mnorm\u001b[49m\u001b[38;5;241;43m=\u001b[39;49m\u001b[38;5;124;43m\"\u001b[39;49m\u001b[38;5;124;43ml1\u001b[39;49m\u001b[38;5;124;43m\"\u001b[39;49m\u001b[43m,\u001b[49m\u001b[43m \u001b[49m\u001b[43maxis\u001b[49m\u001b[38;5;241;43m=\u001b[39;49m\u001b[38;5;241;43m1\u001b[39;49m\u001b[43m)\u001b[49m\n\u001b[1;32m     92\u001b[0m data_norm \u001b[38;5;241m=\u001b[39m data_norm \u001b[38;5;241m*\u001b[39m rescale\n\u001b[1;32m     94\u001b[0m \u001b[38;5;28;01mif\u001b[39;00m columns \u001b[38;5;129;01mis\u001b[39;00m \u001b[38;5;129;01mnot\u001b[39;00m \u001b[38;5;28;01mNone\u001b[39;00m:\n\u001b[1;32m     95\u001b[0m     \u001b[38;5;66;03m# pandas dataframe\u001b[39;00m\n",
      "File \u001b[0;32m~/software/miniforge3/envs/hist2st-env/lib/python3.9/site-packages/sklearn/utils/_param_validation.py:216\u001b[0m, in \u001b[0;36mvalidate_params.<locals>.decorator.<locals>.wrapper\u001b[0;34m(*args, **kwargs)\u001b[0m\n\u001b[1;32m    210\u001b[0m \u001b[38;5;28;01mtry\u001b[39;00m:\n\u001b[1;32m    211\u001b[0m     \u001b[38;5;28;01mwith\u001b[39;00m config_context(\n\u001b[1;32m    212\u001b[0m         skip_parameter_validation\u001b[38;5;241m=\u001b[39m(\n\u001b[1;32m    213\u001b[0m             prefer_skip_nested_validation \u001b[38;5;129;01mor\u001b[39;00m global_skip_validation\n\u001b[1;32m    214\u001b[0m         )\n\u001b[1;32m    215\u001b[0m     ):\n\u001b[0;32m--> 216\u001b[0m         \u001b[38;5;28;01mreturn\u001b[39;00m \u001b[43mfunc\u001b[49m\u001b[43m(\u001b[49m\u001b[38;5;241;43m*\u001b[39;49m\u001b[43margs\u001b[49m\u001b[43m,\u001b[49m\u001b[43m \u001b[49m\u001b[38;5;241;43m*\u001b[39;49m\u001b[38;5;241;43m*\u001b[39;49m\u001b[43mkwargs\u001b[49m\u001b[43m)\u001b[49m\n\u001b[1;32m    217\u001b[0m \u001b[38;5;28;01mexcept\u001b[39;00m InvalidParameterError \u001b[38;5;28;01mas\u001b[39;00m e:\n\u001b[1;32m    218\u001b[0m     \u001b[38;5;66;03m# When the function is just a wrapper around an estimator, we allow\u001b[39;00m\n\u001b[1;32m    219\u001b[0m     \u001b[38;5;66;03m# the function to delegate validation to the estimator, but we replace\u001b[39;00m\n\u001b[1;32m    220\u001b[0m     \u001b[38;5;66;03m# the name of the estimator by the name of the function in the error\u001b[39;00m\n\u001b[1;32m    221\u001b[0m     \u001b[38;5;66;03m# message to avoid confusion.\u001b[39;00m\n\u001b[1;32m    222\u001b[0m     msg \u001b[38;5;241m=\u001b[39m re\u001b[38;5;241m.\u001b[39msub(\n\u001b[1;32m    223\u001b[0m         \u001b[38;5;124mr\u001b[39m\u001b[38;5;124m\"\u001b[39m\u001b[38;5;124mparameter of \u001b[39m\u001b[38;5;124m\\\u001b[39m\u001b[38;5;124mw+ must be\u001b[39m\u001b[38;5;124m\"\u001b[39m,\n\u001b[1;32m    224\u001b[0m         \u001b[38;5;124mf\u001b[39m\u001b[38;5;124m\"\u001b[39m\u001b[38;5;124mparameter of \u001b[39m\u001b[38;5;132;01m{\u001b[39;00mfunc\u001b[38;5;241m.\u001b[39m\u001b[38;5;18m__qualname__\u001b[39m\u001b[38;5;132;01m}\u001b[39;00m\u001b[38;5;124m must be\u001b[39m\u001b[38;5;124m\"\u001b[39m,\n\u001b[1;32m    225\u001b[0m         \u001b[38;5;28mstr\u001b[39m(e),\n\u001b[1;32m    226\u001b[0m     )\n",
      "File \u001b[0;32m~/software/miniforge3/envs/hist2st-env/lib/python3.9/site-packages/sklearn/preprocessing/_data.py:1965\u001b[0m, in \u001b[0;36mnormalize\u001b[0;34m(X, norm, axis, copy, return_norm)\u001b[0m\n\u001b[1;32m   1961\u001b[0m     sparse_format \u001b[38;5;241m=\u001b[39m \u001b[38;5;124m\"\u001b[39m\u001b[38;5;124mcsr\u001b[39m\u001b[38;5;124m\"\u001b[39m\n\u001b[1;32m   1963\u001b[0m xp, _ \u001b[38;5;241m=\u001b[39m get_namespace(X)\n\u001b[0;32m-> 1965\u001b[0m X \u001b[38;5;241m=\u001b[39m \u001b[43mcheck_array\u001b[49m\u001b[43m(\u001b[49m\n\u001b[1;32m   1966\u001b[0m \u001b[43m    \u001b[49m\u001b[43mX\u001b[49m\u001b[43m,\u001b[49m\n\u001b[1;32m   1967\u001b[0m \u001b[43m    \u001b[49m\u001b[43maccept_sparse\u001b[49m\u001b[38;5;241;43m=\u001b[39;49m\u001b[43msparse_format\u001b[49m\u001b[43m,\u001b[49m\n\u001b[1;32m   1968\u001b[0m \u001b[43m    \u001b[49m\u001b[43mcopy\u001b[49m\u001b[38;5;241;43m=\u001b[39;49m\u001b[43mcopy\u001b[49m\u001b[43m,\u001b[49m\n\u001b[1;32m   1969\u001b[0m \u001b[43m    \u001b[49m\u001b[43mestimator\u001b[49m\u001b[38;5;241;43m=\u001b[39;49m\u001b[38;5;124;43m\"\u001b[39;49m\u001b[38;5;124;43mthe normalize function\u001b[39;49m\u001b[38;5;124;43m\"\u001b[39;49m\u001b[43m,\u001b[49m\n\u001b[1;32m   1970\u001b[0m \u001b[43m    \u001b[49m\u001b[43mdtype\u001b[49m\u001b[38;5;241;43m=\u001b[39;49m\u001b[43m_array_api\u001b[49m\u001b[38;5;241;43m.\u001b[39;49m\u001b[43msupported_float_dtypes\u001b[49m\u001b[43m(\u001b[49m\u001b[43mxp\u001b[49m\u001b[43m)\u001b[49m\u001b[43m,\u001b[49m\n\u001b[1;32m   1971\u001b[0m \u001b[43m    \u001b[49m\u001b[43mforce_writeable\u001b[49m\u001b[38;5;241;43m=\u001b[39;49m\u001b[38;5;28;43;01mTrue\u001b[39;49;00m\u001b[43m,\u001b[49m\n\u001b[1;32m   1972\u001b[0m \u001b[43m\u001b[49m\u001b[43m)\u001b[49m\n\u001b[1;32m   1973\u001b[0m \u001b[38;5;28;01mif\u001b[39;00m axis \u001b[38;5;241m==\u001b[39m \u001b[38;5;241m0\u001b[39m:\n\u001b[1;32m   1974\u001b[0m     X \u001b[38;5;241m=\u001b[39m X\u001b[38;5;241m.\u001b[39mT\n",
      "File \u001b[0;32m~/software/miniforge3/envs/hist2st-env/lib/python3.9/site-packages/sklearn/utils/validation.py:1139\u001b[0m, in \u001b[0;36mcheck_array\u001b[0;34m(array, accept_sparse, accept_large_sparse, dtype, order, copy, force_writeable, force_all_finite, ensure_all_finite, ensure_non_negative, ensure_2d, allow_nd, ensure_min_samples, ensure_min_features, estimator, input_name)\u001b[0m\n\u001b[1;32m   1137\u001b[0m     n_features \u001b[38;5;241m=\u001b[39m array\u001b[38;5;241m.\u001b[39mshape[\u001b[38;5;241m1\u001b[39m]\n\u001b[1;32m   1138\u001b[0m     \u001b[38;5;28;01mif\u001b[39;00m n_features \u001b[38;5;241m<\u001b[39m ensure_min_features:\n\u001b[0;32m-> 1139\u001b[0m         \u001b[38;5;28;01mraise\u001b[39;00m \u001b[38;5;167;01mValueError\u001b[39;00m(\n\u001b[1;32m   1140\u001b[0m             \u001b[38;5;124m\"\u001b[39m\u001b[38;5;124mFound array with \u001b[39m\u001b[38;5;132;01m%d\u001b[39;00m\u001b[38;5;124m feature(s) (shape=\u001b[39m\u001b[38;5;132;01m%s\u001b[39;00m\u001b[38;5;124m) while\u001b[39m\u001b[38;5;124m\"\u001b[39m\n\u001b[1;32m   1141\u001b[0m             \u001b[38;5;124m\"\u001b[39m\u001b[38;5;124m a minimum of \u001b[39m\u001b[38;5;132;01m%d\u001b[39;00m\u001b[38;5;124m is required\u001b[39m\u001b[38;5;132;01m%s\u001b[39;00m\u001b[38;5;124m.\u001b[39m\u001b[38;5;124m\"\u001b[39m\n\u001b[1;32m   1142\u001b[0m             \u001b[38;5;241m%\u001b[39m (n_features, array\u001b[38;5;241m.\u001b[39mshape, ensure_min_features, context)\n\u001b[1;32m   1143\u001b[0m         )\n\u001b[1;32m   1145\u001b[0m \u001b[38;5;28;01mif\u001b[39;00m ensure_non_negative:\n\u001b[1;32m   1146\u001b[0m     whom \u001b[38;5;241m=\u001b[39m input_name\n",
      "\u001b[0;31mValueError\u001b[0m: Found array with 0 feature(s) (shape=(2729, 0)) while a minimum of 1 is required by the normalize function."
     ]
    }
   ],
   "source": [
    "from datetime import date\n",
    "today = date.today()\n",
    "print(f\"Today's date: {today}\")\n",
    "logger=None\n",
    "trainer = pl.Trainer( accelerator = 'gpu', \n",
    "                     max_epochs=max_epochs,\n",
    "                     logger=logger,\n",
    "                     check_val_every_n_epoch=2,\n",
    ")\n",
    "trainer.fit(model, train_loader, test_loader)\n",
    "\n",
    "import os\n",
    "from datetime import date\n",
    "if not os.path.isdir(\"./model/\"):\n",
    "    os.mkdir(\"./model/\")\n",
    "\n",
    "torch.save(model.state_dict(),f\"./model/Hist2ST_{today}.ckpt\")"
   ]
  },
  {
   "cell_type": "markdown",
   "id": "7a0c94a0",
   "metadata": {
    "collapsed": false
   },
   "source": [
    "\n",
    "# Hist2ST Prediction\n",
    "To run the trained model, please select the trained model and replace the value of the variable fold with the number in the name of the selected trained model."
   ]
  },
  {
   "cell_type": "code",
   "execution_count": null,
   "id": "17c29d30",
   "metadata": {},
   "outputs": [],
   "source": [
    "pred, gt = test(model, test_loader,'cuda')\n",
    "R=get_R(pred,gt)[0]\n",
    "print('Pearson Correlation:',np.nanmean(R))\n",
    "# clus,ARI=cluster(pred,label)\n",
    "# print('ARI:',ARI)"
   ]
  },
  {
   "cell_type": "markdown",
   "id": "1e54f873",
   "metadata": {},
   "source": [
    "# Validation"
   ]
  },
  {
   "cell_type": "code",
   "execution_count": null,
   "id": "0f19d5d8-6510-493b-9287-ba7215155dc1",
   "metadata": {},
   "outputs": [],
   "source": [
    "fold=5\n",
    "# data='her2st'\n",
    "data = 'hest1k'\n",
    "if data == 'her2st':\n",
    "    prune = 'Grid'\n",
    "    genes = 785\n",
    "elif data == 'cscc':\n",
    "    prune = 'NA'\n",
    "    genes = 171\n",
    "elif data == 'hest1k':\n",
    "    prune = 'NA'# IDK??\n",
    "    genes = 1000"
   ]
  },
  {
   "cell_type": "code",
   "execution_count": null,
   "id": "76cfcfb9-3169-46da-9288-2e2be7942d84",
   "metadata": {},
   "outputs": [
    {
     "name": "stdout",
     "output_type": "stream",
     "text": [
      "\n",
      "Loading dataset with parameters:\n",
      "  Dataset: her2st\n",
      "  Mode: test\n",
      "  Sample IDs: None\n",
      "  Fold: 5\n",
      "['B1']\n",
      "Loading imgs...\n",
      "Loading metadata...\n",
      "X embedding dimension: 64\n",
      "Y embedding dimension: 64\n"
     ]
    }
   ],
   "source": [
    "\n",
    "model=Hist2ST(\n",
    "    depth1=d1, depth2=d2,depth3=d3,n_genes=genes, \n",
    "    kernel_size=k, patch_size=p,\n",
    "    heads=h, channel=c, dropout=0.2,\n",
    "    zinb=0.25, nb=False,\n",
    "    bake=5, lamb=0.5, \n",
    ")\n",
    "model.load_state_dict(torch.load(f'./downloads/{fold}-Hist2ST.ckpt'))\n",
    "print(f\"X embedding dimension: {model.x_embed.num_embeddings}\")\n",
    "print(f\"Y embedding dimension: {model.y_embed.num_embeddings}\")\n",
    "sample_data = trainset[0]\n",
    "# patches, positions, expression, adj, centers = sample_data\n",
    "# print(f\"Position coordinate range: {positions.min()} to {positions.max()}\")\n"
   ]
  },
  {
   "cell_type": "code",
   "execution_count": null,
   "id": "86693610",
   "metadata": {},
   "outputs": [
    {
     "name": "stdout",
     "output_type": "stream",
     "text": [
      "Current params: k=5, p=7, d1=2, d2=8, d3=4, h=16, c=32\n",
      "patch_size=7, channel=32\n"
     ]
    }
   ],
   "source": [
    "# Your current parameters from tag '5-7-2-8-4-16-32'\n",
    "print(f\"Current params: k={k}, p={p}, d1={d1}, d2={d2}, d3={d3}, h={h}, c={c}\")\n",
    "print(f\"patch_size={p}, channel={c}\")\n",
    "\n",
    "# Check what the model actually expects vs. receives\n",
    "sample_data = testset[0]\n",
    "# patches, positions, expression, adj, centers = sample_data\n",
    "# print(f\"Input patch shape: {patches.shape}\")\n",
    "# print(f\"Model expects channel dimension: {c}\")"
   ]
  },
  {
   "cell_type": "code",
   "execution_count": null,
   "id": "6d691123",
   "metadata": {},
   "outputs": [
    {
     "name": "stdout",
     "output_type": "stream",
     "text": [
      "Checkpoint keys (first 20):\n",
      " 1: patch_embedding.weight\n",
      " 2: patch_embedding.bias\n",
      " 3: x_embed.weight\n",
      " 4: y_embed.weight\n",
      " 5: vit.transformer.layer1.0.dw.0.weight\n",
      " 6: vit.transformer.layer1.0.dw.0.bias\n",
      " 7: vit.transformer.layer1.0.dw.1.weight\n",
      " 8: vit.transformer.layer1.0.dw.1.bias\n",
      " 9: vit.transformer.layer1.0.dw.1.running_mean\n",
      "10: vit.transformer.layer1.0.dw.1.running_var\n",
      "11: vit.transformer.layer1.0.dw.1.num_batches_tracked\n",
      "12: vit.transformer.layer1.0.dw.3.weight\n",
      "13: vit.transformer.layer1.0.dw.3.bias\n",
      "14: vit.transformer.layer1.0.dw.4.weight\n",
      "15: vit.transformer.layer1.0.dw.4.bias\n",
      "16: vit.transformer.layer1.0.dw.4.running_mean\n",
      "17: vit.transformer.layer1.0.dw.4.running_var\n",
      "18: vit.transformer.layer1.0.dw.4.num_batches_tracked\n",
      "19: vit.transformer.layer1.0.pw.0.weight\n",
      "20: vit.transformer.layer1.0.pw.0.bias\n",
      "... total keys: 162\n"
     ]
    }
   ],
   "source": [
    "# Load and inspect the checkpoint\n",
    "checkpoint = torch.load(f'./downloads/{fold}-Hist2ST.ckpt')\n",
    "\n",
    "print(\"Checkpoint keys (first 20):\")\n",
    "for i, key in enumerate(checkpoint.keys()):\n",
    "    print(f\"{i+1:2d}: {key}\")\n",
    "    if i >= 19:\n",
    "        break\n",
    "print(f\"... total keys: {len(checkpoint.keys())}\")\n",
    "\n",
    "# If the checkpoint contains metadata about architecture\n",
    "if 'hyper_parameters' in checkpoint:\n",
    "    print(\"\\nSaved hyperparameters:\")\n",
    "    for k, v in checkpoint['hyper_parameters'].items():\n",
    "        print(f\"  {k}: {v}\")"
   ]
  },
  {
   "cell_type": "code",
   "execution_count": null,
   "id": "5d88f8ca",
   "metadata": {},
   "outputs": [
    {
     "name": "stdout",
     "output_type": "stream",
     "text": [
      "\n",
      "Loading dataset with parameters:\n",
      "  Dataset: her2st\n",
      "  Mode: test\n",
      "  Sample IDs: None\n",
      "  Fold: 2\n",
      "['A4']\n",
      "Loading imgs...\n",
      "Loading metadata...\n"
     ]
    }
   ],
   "source": [
    "test_set = pk_load(2, 'test', dataset=data, flatten=False, adj=True, ori=True, prune=prune)\n",
    "test2_loader = DataLoader(test_set, batch_size=1, num_workers=0, shuffle=False)"
   ]
  },
  {
   "cell_type": "code",
   "execution_count": null,
   "id": "7850bde8",
   "metadata": {},
   "outputs": [
    {
     "name": "stdout",
     "output_type": "stream",
     "text": [
      "Processing sample with label: torch.Size([1, 343, 3, 112, 112])\n",
      "Processing sample with label: torch.Size([1, 343, 2])\n",
      "Processing sample with label: torch.Size([1, 343, 785])\n",
      "Processing sample with label: torch.Size([1, 343, 343])\n",
      "Processing sample with label: torch.Size([1, 343, 785])\n",
      "Processing sample with label: torch.Size([1, 343])\n",
      "Processing sample with label: torch.Size([1, 343, 2])\n",
      "=====\n"
     ]
    }
   ],
   "source": [
    "for d in iter(test2_loader):\n",
    "    for k in d:\n",
    "        print(f\"Processing sample with label: {k.shape}\")\n",
    "    print(\"=====\")"
   ]
  },
  {
   "cell_type": "code",
   "execution_count": null,
   "id": "194141e1",
   "metadata": {},
   "outputs": [
    {
     "name": "stdout",
     "output_type": "stream",
     "text": [
      "Processing sample with label: torch.Size([1, 295, 3, 112, 112])\n",
      "Processing sample with label: torch.Size([1, 295, 2])\n",
      "Processing sample with label: torch.Size([1, 295, 785])\n",
      "Processing sample with label: torch.Size([1, 295, 295])\n",
      "Processing sample with label: torch.Size([1, 295, 785])\n",
      "Processing sample with label: torch.Size([1, 295])\n",
      "Processing sample with label: torch.Size([1, 295, 2])\n",
      "=====\n"
     ]
    }
   ],
   "source": [
    "for d in iter(test_loader):\n",
    "    for k in d:\n",
    "        print(f\"Processing sample with label: {k.shape}\")\n",
    "    print(\"=====\")"
   ]
  },
  {
   "cell_type": "code",
   "execution_count": null,
   "id": "712e84ac",
   "metadata": {},
   "outputs": [],
   "source": [
    "all_ids = meta_df['id'].tolist()\n",
    "np.random.seed(42)\n",
    "np.random.shuffle(all_ids)\n",
    "\n",
    "split_idx = int(len(all_ids) * 0.8)\n",
    "sample_ids = all_ids[split_idx:]"
   ]
  },
  {
   "cell_type": "code",
   "execution_count": null,
   "id": "804e3778",
   "metadata": {},
   "outputs": [],
   "source": [
    "# for sample_id in sample_ids:\n",
    "#     hestset = pk_load(fold, 'test', sample_ids=[sample_id], dataset='hest1k', flatten=False, adj=True, ori=True, prune=prune)\n",
    "#     hest_loader = DataLoader(hestset, batch_size=1, num_workers=0, shuffle=False)\n",
    "#     for d in iter(hest_loader):\n",
    "#         for k in d:\n",
    "#             print(f\"Processing HEST sample with label: {k.shape}\")\n",
    "#         print(\"=====\")"
   ]
  },
  {
   "cell_type": "code",
   "execution_count": null,
   "id": "7d8b6e64",
   "metadata": {},
   "outputs": [],
   "source": [
    "# meta_df"
   ]
  },
  {
   "cell_type": "code",
   "execution_count": null,
   "id": "bc9e7e6f",
   "metadata": {},
   "outputs": [],
   "source": [
    "def get_R_robust(data1, data2):\n",
    "    \"\"\"Robust correlation calculation handling edge cases\"\"\"\n",
    "    x1 = data1.X\n",
    "    x2 = data2.X\n",
    "    \n",
    "    print(f\"Data shapes: pred {x1.shape}, gt {x2.shape}\")\n",
    "    \n",
    "    if x1.shape != x2.shape:\n",
    "        print(\"ERROR: Shape mismatch between predicted and ground truth data\")\n",
    "        return np.array([]), np.array([])\n",
    "    \n",
    "    r_values = []\n",
    "    \n",
    "    for i in range(x1.shape[1]):  # For each gene\n",
    "        col1 = x1[:, i]\n",
    "        col2 = x2[:, i]\n",
    "        \n",
    "        # Check for constant columns (zero variance)\n",
    "        if np.var(col1) == 0 or np.var(col2) == 0:\n",
    "            r_values.append(0.0)\n",
    "            continue\n",
    "            \n",
    "        # Check for valid data points\n",
    "        mask = np.isfinite(col1) & np.isfinite(col2)\n",
    "        if mask.sum() < 2:\n",
    "            r_values.append(0.0)\n",
    "            continue\n",
    "            \n",
    "        try:\n",
    "            r, _ = pearsonr(col1[mask], col2[mask])\n",
    "            r_values.append(r if np.isfinite(r) else 0.0)\n",
    "        except:\n",
    "            r_values.append(0.0)\n",
    "    \n",
    "    return np.array(r_values), np.array([])\n",
    "\n"
   ]
  },
  {
   "cell_type": "code",
   "execution_count": null,
   "id": "c3a5d0d6",
   "metadata": {},
   "outputs": [
    {
     "name": "stdout",
     "output_type": "stream",
     "text": [
      "AnnData object with n_obs × n_vars = 136 × 26437\n",
      "    obs: 'n_genes_by_counts', 'log1p_n_genes_by_counts', 'total_counts', 'log1p_total_counts', 'pct_counts_in_top_50_genes', 'pct_counts_in_top_100_genes', 'pct_counts_in_top_200_genes', 'pct_counts_in_top_500_genes', 'total_counts_mito', 'log1p_total_counts_mito', 'pct_counts_mito'\n",
      "    var: 'n_cells_by_counts', 'mean_counts', 'log1p_mean_counts', 'pct_dropout_by_counts', 'total_counts', 'log1p_total_counts', 'mito'\n",
      "    uns: 'spatial'\n",
      "    obsm: 'spatial'\n"
     ]
    }
   ],
   "source": [
    "from collections import Counter\n",
    "import anndata as ad\n",
    "\n",
    "sample_id = 'MEND24'\n",
    "adata_path = os.path.join(hest_path, \"st\", f\"{sample_id}.h5ad\")\n",
    "adata = ad.read_h5ad(adata_path)\n",
    "# names = adata.obs_names.tolist()\n",
    "# Find and print duplicate names in adata.obs_names\n",
    "\n",
    "print(adata)"
   ]
  },
  {
   "cell_type": "code",
   "execution_count": null,
   "id": "12b396bf",
   "metadata": {},
   "outputs": [
    {
     "name": "stdout",
     "output_type": "stream",
     "text": [
      "[[16655  5937]\n",
      " [15997  6668]\n",
      " [16653  6655]\n",
      " [15254  7371]\n",
      " [15989  7372]\n",
      " [16687  7376]\n",
      " [15262  8094]\n",
      " [15998  8105]\n",
      " [16665  8097]\n",
      " [15286  8838]\n",
      " [15997  8835]\n",
      " [16680  8813]\n",
      " [15301  9557]\n",
      " [16018  9553]\n",
      " [16682  9562]\n",
      " [15321 10290]\n",
      " [16021 10286]\n",
      " [16686 10281]\n",
      " [15330 11015]\n",
      " [16024 10997]\n",
      " [16670 10997]\n",
      " [15310 11783]\n",
      " [16038 11742]\n",
      " [16678 11723]\n",
      " [15326 12465]\n",
      " [16045 12474]\n",
      " [16724 12462]\n",
      " [15338 13199]\n",
      " [16049 13176]\n",
      " [16718 13188]\n",
      " [15307 13925]\n",
      " [16061 14008]\n",
      " [16735 13926]\n",
      " [15319 14642]\n",
      " [16038 14586]\n",
      " [16730 14653]\n",
      " [15347 15375]\n",
      " [16059 15437]\n",
      " [16739 15379]\n",
      " [15348 16081]\n",
      " [16072 16106]\n",
      " [16754 16094]\n",
      " [15360 16830]\n",
      " [16108 16836]\n",
      " [16759 16836]\n",
      " [15371 17551]\n",
      " [16093 17560]\n",
      " [16769 17572]\n",
      " [15411 18284]\n",
      " [16109 18324]\n",
      " [16768 18302]\n",
      " [15400 19007]\n",
      " [16130 19037]\n",
      " [15406 19743]\n",
      " [16118 19743]\n",
      " [15393 20476]\n",
      " [16120 20491]\n",
      " [16124 21218]\n",
      " [16119 21942]\n",
      " [25420  6513]\n",
      " [24675  7303]\n",
      " [25430  7251]\n",
      " [26125  7248]\n",
      " [26870  7252]\n",
      " [24678  8037]\n",
      " [25443  7974]\n",
      " [26146  7986]\n",
      " [26879  7972]\n",
      " [24680  8742]\n",
      " [25454  8679]\n",
      " [26149  8692]\n",
      " [26879  8697]\n",
      " [24685  9474]\n",
      " [25457  9413]\n",
      " [26157  9429]\n",
      " [26898  9401]\n",
      " [24689 10191]\n",
      " [25434 10149]\n",
      " [26161 10155]\n",
      " [26936 10165]\n",
      " [24699 10926]\n",
      " [25462 10881]\n",
      " [26180 10876]\n",
      " [26931 10911]\n",
      " [24714 11671]\n",
      " [25504 11615]\n",
      " [26179 11610]\n",
      " [26917 11619]\n",
      " [24730 12397]\n",
      " [25492 12321]\n",
      " [26186 12340]\n",
      " [24049 13108]\n",
      " [24745 13121]\n",
      " [25533 13056]\n",
      " [26190 13074]\n",
      " [24070 13841]\n",
      " [24727 13838]\n",
      " [25490 13783]\n",
      " [26194 13788]\n",
      " [24058 14558]\n",
      " [24718 14541]\n",
      " [25501 14538]\n",
      " [26217 14511]\n",
      " [24070 15283]\n",
      " [24729 15272]\n",
      " [25505 15231]\n",
      " [26194 15239]\n",
      " [24074 16009]\n",
      " [24739 16017]\n",
      " [25525 15972]\n",
      " [26221 15973]\n",
      " [23383 16737]\n",
      " [24107 16747]\n",
      " [24784 16731]\n",
      " [25527 16701]\n",
      " [26206 16694]\n",
      " [23393 17457]\n",
      " [24119 17480]\n",
      " [24759 17492]\n",
      " [25547 17415]\n",
      " [23408 18192]\n",
      " [24108 18201]\n",
      " [24792 18165]\n",
      " [25500 18180]\n",
      " [24775 18929]\n",
      " [27011 20352]\n",
      " [27726 20317]\n",
      " [26275 21081]\n",
      " [27026 21085]\n",
      " [27719 21043]\n",
      " [28537 21044]\n",
      " [29190 21049]\n",
      " [27042 21826]\n",
      " [27739 21769]\n",
      " [28538 21767]\n",
      " [29175 21767]]\n"
     ]
    }
   ],
   "source": [
    "print(adata.obsm['spatial'])"
   ]
  },
  {
   "cell_type": "code",
   "execution_count": null,
   "id": "580fe54e",
   "metadata": {},
   "outputs": [
    {
     "name": "stdout",
     "output_type": "stream",
     "text": [
      "\n",
      "Loading dataset with parameters:\n",
      "  Dataset: hest1k\n",
      "  Mode: test\n",
      "  Sample IDs: ['NCBI474']\n",
      "  Fold: 5\n",
      "HEST Dataset: 1 samples (test)\n",
      "['NCBI474']\n",
      "Using 785 genes\n",
      "\n",
      "Dataset loaded:\n",
      "  Length: 1\n",
      "Dataset info:\n",
      "Dataset length: 1\n",
      "Sample names: ['NCBI474']\n",
      "\n",
      "First sample:\n",
      "Sample type: <class 'dataset.ViT_HEST1K'>\n",
      "\n",
      "Dataloader batches: 1\n",
      "\n",
      "Loading dataset with parameters:\n",
      "  Dataset: hest1k\n",
      "  Mode: test\n",
      "  Sample IDs: ['NCBI539']\n",
      "  Fold: 5\n",
      "HEST Dataset: 1 samples (test)\n",
      "['NCBI539']\n",
      "Using 785 genes\n",
      "\n",
      "Dataset loaded:\n",
      "  Length: 1\n",
      "Dataset info:\n",
      "Dataset length: 1\n",
      "Sample names: ['NCBI539']\n",
      "\n",
      "First sample:\n",
      "Sample type: <class 'dataset.ViT_HEST1K'>\n",
      "\n",
      "Dataloader batches: 1\n",
      "\n",
      "Loading dataset with parameters:\n",
      "  Dataset: hest1k\n",
      "  Mode: test\n",
      "  Sample IDs: ['MISC61']\n",
      "  Fold: 5\n",
      "HEST Dataset: 1 samples (test)\n",
      "['MISC61']\n",
      "Using 785 genes\n",
      "\n",
      "Dataset loaded:\n",
      "  Length: 1\n",
      "Dataset info:\n",
      "Dataset length: 1\n",
      "Sample names: ['MISC61']\n",
      "\n",
      "First sample:\n",
      "Sample type: <class 'dataset.ViT_HEST1K'>\n",
      "\n",
      "Dataloader batches: 1\n",
      "\n",
      "Loading dataset with parameters:\n",
      "  Dataset: hest1k\n",
      "  Mode: test\n",
      "  Sample IDs: ['SPA102']\n",
      "  Fold: 5\n",
      "HEST Dataset: 1 samples (test)\n",
      "['SPA102']\n",
      "Using 785 genes\n",
      "\n",
      "Dataset loaded:\n",
      "  Length: 1\n",
      "Dataset info:\n",
      "Dataset length: 1\n",
      "Sample names: ['SPA102']\n",
      "\n",
      "First sample:\n",
      "Sample type: <class 'dataset.ViT_HEST1K'>\n",
      "\n",
      "Dataloader batches: 1\n",
      "\n",
      "Loading dataset with parameters:\n",
      "  Dataset: hest1k\n",
      "  Mode: test\n",
      "  Sample IDs: ['TENX50']\n",
      "  Fold: 5\n",
      "HEST Dataset: 1 samples (test)\n",
      "['TENX50']\n",
      "Using 785 genes\n",
      "\n",
      "Dataset loaded:\n",
      "  Length: 1\n",
      "Dataset info:\n",
      "Dataset length: 1\n",
      "Sample names: ['TENX50']\n",
      "\n",
      "First sample:\n",
      "Sample type: <class 'dataset.ViT_HEST1K'>\n",
      "\n",
      "Dataloader batches: 1\n",
      "\n",
      "Loading dataset with parameters:\n",
      "  Dataset: hest1k\n",
      "  Mode: test\n",
      "  Sample IDs: ['MISC139']\n",
      "  Fold: 5\n",
      "HEST Dataset: 1 samples (test)\n",
      "['MISC139']\n",
      "Using 785 genes\n",
      "\n",
      "Dataset loaded:\n",
      "  Length: 1\n",
      "Dataset info:\n",
      "Dataset length: 1\n",
      "Sample names: ['MISC139']\n",
      "\n",
      "First sample:\n",
      "Sample type: <class 'dataset.ViT_HEST1K'>\n",
      "\n",
      "Dataloader batches: 1\n",
      "\n",
      "Loading dataset with parameters:\n",
      "  Dataset: hest1k\n",
      "  Mode: test\n",
      "  Sample IDs: ['TENX24']\n",
      "  Fold: 5\n",
      "HEST Dataset: 1 samples (test)\n",
      "['TENX24']\n",
      "Using 785 genes\n",
      "\n",
      "Dataset loaded:\n",
      "  Length: 1\n",
      "Dataset info:\n",
      "Dataset length: 1\n",
      "Sample names: ['TENX24']\n",
      "\n",
      "First sample:\n",
      "Sample type: <class 'dataset.ViT_HEST1K'>\n",
      "\n",
      "Dataloader batches: 1\n",
      "\n",
      "Loading dataset with parameters:\n",
      "  Dataset: hest1k\n",
      "  Mode: test\n",
      "  Sample IDs: ['NCBI537']\n",
      "  Fold: 5\n",
      "HEST Dataset: 1 samples (test)\n",
      "['NCBI537']\n",
      "Using 785 genes\n",
      "\n",
      "Dataset loaded:\n",
      "  Length: 1\n",
      "Dataset info:\n",
      "Dataset length: 1\n",
      "Sample names: ['NCBI537']\n",
      "\n",
      "First sample:\n",
      "Sample type: <class 'dataset.ViT_HEST1K'>\n",
      "\n",
      "Dataloader batches: 1\n",
      "\n",
      "Loading dataset with parameters:\n",
      "  Dataset: hest1k\n",
      "  Mode: test\n",
      "  Sample IDs: ['NCBI566']\n",
      "  Fold: 5\n",
      "HEST Dataset: 1 samples (test)\n",
      "['NCBI566']\n",
      "Using 785 genes\n",
      "\n",
      "Dataset loaded:\n",
      "  Length: 1\n",
      "Dataset info:\n",
      "Dataset length: 1\n",
      "Sample names: ['NCBI566']\n",
      "\n",
      "First sample:\n",
      "Sample type: <class 'dataset.ViT_HEST1K'>\n",
      "\n",
      "Dataloader batches: 1\n",
      "\n",
      "Loading dataset with parameters:\n",
      "  Dataset: hest1k\n",
      "  Mode: test\n",
      "  Sample IDs: ['NCBI463']\n",
      "  Fold: 5\n",
      "HEST Dataset: 1 samples (test)\n",
      "['NCBI463']\n",
      "Using 785 genes\n",
      "\n",
      "Dataset loaded:\n",
      "  Length: 1\n",
      "Dataset info:\n",
      "Dataset length: 1\n",
      "Sample names: ['NCBI463']\n",
      "\n",
      "First sample:\n",
      "Sample type: <class 'dataset.ViT_HEST1K'>\n",
      "\n",
      "Dataloader batches: 1\n",
      "\n",
      "Loading dataset with parameters:\n",
      "  Dataset: hest1k\n",
      "  Mode: test\n",
      "  Sample IDs: ['MISC51']\n",
      "  Fold: 5\n",
      "HEST Dataset: 1 samples (test)\n",
      "['MISC51']\n",
      "Using 785 genes\n",
      "\n",
      "Dataset loaded:\n",
      "  Length: 1\n",
      "Dataset info:\n",
      "Dataset length: 1\n",
      "Sample names: ['MISC51']\n",
      "\n",
      "First sample:\n",
      "Sample type: <class 'dataset.ViT_HEST1K'>\n",
      "\n",
      "Dataloader batches: 1\n",
      "\n",
      "Loading dataset with parameters:\n",
      "  Dataset: hest1k\n",
      "  Mode: test\n",
      "  Sample IDs: ['SPA104']\n",
      "  Fold: 5\n",
      "HEST Dataset: 1 samples (test)\n",
      "['SPA104']\n",
      "Using 785 genes\n",
      "\n",
      "Dataset loaded:\n",
      "  Length: 1\n",
      "Dataset info:\n",
      "Dataset length: 1\n",
      "Sample names: ['SPA104']\n",
      "\n",
      "First sample:\n",
      "Sample type: <class 'dataset.ViT_HEST1K'>\n",
      "\n",
      "Dataloader batches: 1\n",
      "\n",
      "Loading dataset with parameters:\n",
      "  Dataset: hest1k\n",
      "  Mode: test\n",
      "  Sample IDs: ['NCBI711']\n",
      "  Fold: 5\n",
      "HEST Dataset: 1 samples (test)\n",
      "['NCBI711']\n",
      "Using 785 genes\n",
      "\n",
      "Dataset loaded:\n",
      "  Length: 1\n",
      "Dataset info:\n",
      "Dataset length: 1\n",
      "Sample names: ['NCBI711']\n",
      "\n",
      "First sample:\n",
      "Sample type: <class 'dataset.ViT_HEST1K'>\n",
      "\n",
      "Dataloader batches: 1\n",
      "\n",
      "Loading dataset with parameters:\n",
      "  Dataset: hest1k\n",
      "  Mode: test\n",
      "  Sample IDs: ['MISC29']\n",
      "  Fold: 5\n",
      "HEST Dataset: 1 samples (test)\n",
      "['MISC29']\n",
      "Using 785 genes\n",
      "\n",
      "Dataset loaded:\n",
      "  Length: 1\n",
      "Dataset info:\n",
      "Dataset length: 1\n",
      "Sample names: ['MISC29']\n",
      "\n",
      "First sample:\n",
      "Sample type: <class 'dataset.ViT_HEST1K'>\n",
      "\n",
      "Dataloader batches: 1\n",
      "\n",
      "Loading dataset with parameters:\n",
      "  Dataset: hest1k\n",
      "  Mode: test\n",
      "  Sample IDs: ['SPA138']\n",
      "  Fold: 5\n",
      "HEST Dataset: 1 samples (test)\n",
      "['SPA138']\n",
      "Using 785 genes\n",
      "\n",
      "Dataset loaded:\n",
      "  Length: 1\n",
      "Dataset info:\n",
      "Dataset length: 1\n",
      "Sample names: ['SPA138']\n",
      "\n",
      "First sample:\n",
      "Sample type: <class 'dataset.ViT_HEST1K'>\n",
      "\n",
      "Dataloader batches: 1\n",
      "\n",
      "Loading dataset with parameters:\n",
      "  Dataset: hest1k\n",
      "  Mode: test\n",
      "  Sample IDs: ['MEND51']\n",
      "  Fold: 5\n",
      "HEST Dataset: 1 samples (test)\n",
      "['MEND51']\n",
      "Using 785 genes\n",
      "\n",
      "Dataset loaded:\n",
      "  Length: 1\n",
      "Dataset info:\n",
      "Dataset length: 1\n",
      "Sample names: ['MEND51']\n",
      "\n",
      "First sample:\n",
      "Sample type: <class 'dataset.ViT_HEST1K'>\n",
      "\n",
      "Dataloader batches: 1\n",
      "\n",
      "Loading dataset with parameters:\n",
      "  Dataset: hest1k\n",
      "  Mode: test\n",
      "  Sample IDs: ['MEND41']\n",
      "  Fold: 5\n",
      "HEST Dataset: 1 samples (test)\n",
      "['MEND41']\n",
      "Using 785 genes\n",
      "\n",
      "Dataset loaded:\n",
      "  Length: 1\n",
      "Dataset info:\n",
      "Dataset length: 1\n",
      "Sample names: ['MEND41']\n",
      "\n",
      "First sample:\n",
      "Sample type: <class 'dataset.ViT_HEST1K'>\n",
      "\n",
      "Dataloader batches: 1\n",
      "\n",
      "Loading dataset with parameters:\n",
      "  Dataset: hest1k\n",
      "  Mode: test\n",
      "  Sample IDs: ['NCBI565']\n",
      "  Fold: 5\n",
      "HEST Dataset: 1 samples (test)\n",
      "['NCBI565']\n",
      "Using 785 genes\n",
      "\n",
      "Dataset loaded:\n",
      "  Length: 1\n",
      "Dataset info:\n",
      "Dataset length: 1\n",
      "Sample names: ['NCBI565']\n",
      "\n",
      "First sample:\n",
      "Sample type: <class 'dataset.ViT_HEST1K'>\n",
      "\n",
      "Dataloader batches: 1\n",
      "\n",
      "Loading dataset with parameters:\n",
      "  Dataset: hest1k\n",
      "  Mode: test\n",
      "  Sample IDs: ['SPA127']\n",
      "  Fold: 5\n",
      "HEST Dataset: 1 samples (test)\n",
      "['SPA127']\n",
      "Using 785 genes\n",
      "\n",
      "Dataset loaded:\n",
      "  Length: 1\n",
      "Dataset info:\n",
      "Dataset length: 1\n",
      "Sample names: ['SPA127']\n",
      "\n",
      "First sample:\n",
      "Sample type: <class 'dataset.ViT_HEST1K'>\n",
      "\n",
      "Dataloader batches: 1\n",
      "\n",
      "Loading dataset with parameters:\n",
      "  Dataset: hest1k\n",
      "  Mode: test\n",
      "  Sample IDs: ['TENX154']\n",
      "  Fold: 5\n",
      "HEST Dataset: 1 samples (test)\n",
      "['TENX154']\n",
      "Using 785 genes\n",
      "\n",
      "Dataset loaded:\n",
      "  Length: 1\n",
      "Dataset info:\n",
      "Dataset length: 1\n",
      "Sample names: ['TENX154']\n",
      "\n",
      "First sample:\n",
      "Sample type: <class 'dataset.ViT_HEST1K'>\n",
      "\n",
      "Dataloader batches: 1\n",
      "\n",
      "Loading dataset with parameters:\n",
      "  Dataset: hest1k\n",
      "  Mode: test\n",
      "  Sample IDs: ['NCBI497']\n",
      "  Fold: 5\n",
      "HEST Dataset: 1 samples (test)\n",
      "['NCBI497']\n",
      "Using 785 genes\n",
      "\n",
      "Dataset loaded:\n",
      "  Length: 1\n",
      "Dataset info:\n",
      "Dataset length: 1\n",
      "Sample names: ['NCBI497']\n",
      "\n",
      "First sample:\n",
      "Sample type: <class 'dataset.ViT_HEST1K'>\n",
      "\n",
      "Dataloader batches: 1\n",
      "\n",
      "Loading dataset with parameters:\n",
      "  Dataset: hest1k\n",
      "  Mode: test\n",
      "  Sample IDs: ['MISC48']\n",
      "  Fold: 5\n",
      "HEST Dataset: 1 samples (test)\n",
      "['MISC48']\n",
      "Using 785 genes\n",
      "\n",
      "Dataset loaded:\n",
      "  Length: 1\n",
      "Dataset info:\n",
      "Dataset length: 1\n",
      "Sample names: ['MISC48']\n",
      "\n",
      "First sample:\n",
      "Sample type: <class 'dataset.ViT_HEST1K'>\n",
      "\n",
      "Dataloader batches: 1\n",
      "\n",
      "Loading dataset with parameters:\n",
      "  Dataset: hest1k\n",
      "  Mode: test\n",
      "  Sample IDs: ['MEND24']\n",
      "  Fold: 5\n",
      "HEST Dataset: 1 samples (test)\n",
      "['MEND24']\n",
      "Using 785 genes\n",
      "\n",
      "Dataset loaded:\n",
      "  Length: 1\n",
      "Dataset info:\n",
      "Dataset length: 1\n",
      "Sample names: ['MEND24']\n",
      "\n",
      "First sample:\n",
      "Sample type: <class 'dataset.ViT_HEST1K'>\n",
      "\n",
      "Dataloader batches: 1\n",
      "\n",
      "Loading dataset with parameters:\n",
      "  Dataset: hest1k\n",
      "  Mode: test\n",
      "  Sample IDs: ['NCBI636']\n",
      "  Fold: 5\n",
      "HEST Dataset: 1 samples (test)\n",
      "['NCBI636']\n",
      "Using 785 genes\n",
      "\n",
      "Dataset loaded:\n",
      "  Length: 1\n",
      "Dataset info:\n",
      "Dataset length: 1\n",
      "Sample names: ['NCBI636']\n",
      "\n",
      "First sample:\n",
      "Sample type: <class 'dataset.ViT_HEST1K'>\n",
      "\n",
      "Dataloader batches: 1\n",
      "\n",
      "Loading dataset with parameters:\n",
      "  Dataset: hest1k\n",
      "  Mode: test\n",
      "  Sample IDs: ['MISC126']\n",
      "  Fold: 5\n",
      "HEST Dataset: 1 samples (test)\n",
      "['MISC126']\n",
      "Using 785 genes\n",
      "\n",
      "Dataset loaded:\n",
      "  Length: 1\n",
      "Dataset info:\n",
      "Dataset length: 1\n",
      "Sample names: ['MISC126']\n",
      "\n",
      "First sample:\n",
      "Sample type: <class 'dataset.ViT_HEST1K'>\n",
      "\n",
      "Dataloader batches: 1\n",
      "\n",
      "Loading dataset with parameters:\n",
      "  Dataset: hest1k\n",
      "  Mode: test\n",
      "  Sample IDs: ['MISC142']\n",
      "  Fold: 5\n",
      "HEST Dataset: 1 samples (test)\n",
      "['MISC142']\n",
      "Using 785 genes\n",
      "\n",
      "Dataset loaded:\n",
      "  Length: 1\n",
      "Dataset info:\n",
      "Dataset length: 1\n",
      "Sample names: ['MISC142']\n",
      "\n",
      "First sample:\n",
      "Sample type: <class 'dataset.ViT_HEST1K'>\n",
      "\n",
      "Dataloader batches: 1\n",
      "\n",
      "Loading dataset with parameters:\n",
      "  Dataset: hest1k\n",
      "  Mode: test\n",
      "  Sample IDs: ['SPA144']\n",
      "  Fold: 5\n",
      "HEST Dataset: 1 samples (test)\n",
      "['SPA144']\n",
      "Using 785 genes\n",
      "\n",
      "Dataset loaded:\n",
      "  Length: 1\n",
      "Dataset info:\n",
      "Dataset length: 1\n",
      "Sample names: ['SPA144']\n",
      "\n",
      "First sample:\n",
      "Sample type: <class 'dataset.ViT_HEST1K'>\n",
      "\n",
      "Dataloader batches: 1\n",
      "\n",
      "Loading dataset with parameters:\n",
      "  Dataset: hest1k\n",
      "  Mode: test\n",
      "  Sample IDs: ['TENX115']\n",
      "  Fold: 5\n",
      "HEST Dataset: 1 samples (test)\n",
      "['TENX115']\n",
      "Using 785 genes\n",
      "\n",
      "Dataset loaded:\n",
      "  Length: 1\n",
      "Dataset info:\n",
      "Dataset length: 1\n",
      "Sample names: ['TENX115']\n",
      "\n",
      "First sample:\n",
      "Sample type: <class 'dataset.ViT_HEST1K'>\n",
      "\n",
      "Dataloader batches: 1\n",
      "\n",
      "Loading dataset with parameters:\n",
      "  Dataset: hest1k\n",
      "  Mode: test\n",
      "  Sample IDs: ['NCBI860']\n",
      "  Fold: 5\n",
      "HEST Dataset: 1 samples (test)\n",
      "['NCBI860']\n",
      "Using 785 genes\n",
      "\n",
      "Dataset loaded:\n",
      "  Length: 1\n",
      "Dataset info:\n",
      "Dataset length: 1\n",
      "Sample names: ['NCBI860']\n",
      "\n",
      "First sample:\n",
      "Sample type: <class 'dataset.ViT_HEST1K'>\n",
      "\n",
      "Dataloader batches: 1\n",
      "\n",
      "Loading dataset with parameters:\n",
      "  Dataset: hest1k\n",
      "  Mode: test\n",
      "  Sample IDs: ['NCBI3']\n",
      "  Fold: 5\n",
      "HEST Dataset: 1 samples (test)\n",
      "['NCBI3']\n",
      "Using 785 genes\n",
      "\n",
      "Dataset loaded:\n",
      "  Length: 1\n",
      "Dataset info:\n",
      "Dataset length: 1\n",
      "Sample names: ['NCBI3']\n",
      "\n",
      "First sample:\n",
      "Sample type: <class 'dataset.ViT_HEST1K'>\n",
      "\n",
      "Dataloader batches: 1\n",
      "\n",
      "Loading dataset with parameters:\n",
      "  Dataset: hest1k\n",
      "  Mode: test\n",
      "  Sample IDs: ['SPA114']\n",
      "  Fold: 5\n",
      "HEST Dataset: 1 samples (test)\n",
      "['SPA114']\n",
      "Using 785 genes\n",
      "\n",
      "Dataset loaded:\n",
      "  Length: 1\n",
      "Dataset info:\n",
      "Dataset length: 1\n",
      "Sample names: ['SPA114']\n",
      "\n",
      "First sample:\n",
      "Sample type: <class 'dataset.ViT_HEST1K'>\n",
      "\n",
      "Dataloader batches: 1\n",
      "\n",
      "Loading dataset with parameters:\n",
      "  Dataset: hest1k\n",
      "  Mode: test\n",
      "  Sample IDs: ['NCBI672']\n",
      "  Fold: 5\n",
      "HEST Dataset: 1 samples (test)\n",
      "['NCBI672']\n",
      "Using 785 genes\n",
      "\n",
      "Dataset loaded:\n",
      "  Length: 1\n",
      "Dataset info:\n",
      "Dataset length: 1\n",
      "Sample names: ['NCBI672']\n",
      "\n",
      "First sample:\n",
      "Sample type: <class 'dataset.ViT_HEST1K'>\n",
      "\n",
      "Dataloader batches: 1\n",
      "\n",
      "Loading dataset with parameters:\n",
      "  Dataset: hest1k\n",
      "  Mode: test\n",
      "  Sample IDs: ['MEND86']\n",
      "  Fold: 5\n",
      "HEST Dataset: 1 samples (test)\n",
      "['MEND86']\n",
      "Using 785 genes\n",
      "\n",
      "Dataset loaded:\n",
      "  Length: 1\n",
      "Dataset info:\n",
      "Dataset length: 1\n",
      "Sample names: ['MEND86']\n",
      "\n",
      "First sample:\n",
      "Sample type: <class 'dataset.ViT_HEST1K'>\n",
      "\n",
      "Dataloader batches: 1\n",
      "\n",
      "Loading dataset with parameters:\n",
      "  Dataset: hest1k\n",
      "  Mode: test\n",
      "  Sample IDs: ['SPA56']\n",
      "  Fold: 5\n",
      "HEST Dataset: 1 samples (test)\n",
      "['SPA56']\n",
      "Using 785 genes\n",
      "\n",
      "Dataset loaded:\n",
      "  Length: 1\n",
      "Dataset info:\n",
      "Dataset length: 1\n",
      "Sample names: ['SPA56']\n",
      "\n",
      "First sample:\n",
      "Sample type: <class 'dataset.ViT_HEST1K'>\n",
      "\n",
      "Dataloader batches: 1\n",
      "\n",
      "Loading dataset with parameters:\n",
      "  Dataset: hest1k\n",
      "  Mode: test\n",
      "  Sample IDs: ['MEND12']\n",
      "  Fold: 5\n",
      "HEST Dataset: 1 samples (test)\n",
      "['MEND12']\n",
      "Using 785 genes\n",
      "\n",
      "Dataset loaded:\n",
      "  Length: 1\n",
      "Dataset info:\n",
      "Dataset length: 1\n",
      "Sample names: ['MEND12']\n",
      "\n",
      "First sample:\n",
      "Sample type: <class 'dataset.ViT_HEST1K'>\n",
      "\n",
      "Dataloader batches: 1\n",
      "\n",
      "Loading dataset with parameters:\n",
      "  Dataset: hest1k\n",
      "  Mode: test\n",
      "  Sample IDs: ['MEND52']\n",
      "  Fold: 5\n",
      "HEST Dataset: 1 samples (test)\n",
      "['MEND52']\n",
      "Using 785 genes\n",
      "\n",
      "Dataset loaded:\n",
      "  Length: 1\n",
      "Dataset info:\n",
      "Dataset length: 1\n",
      "Sample names: ['MEND52']\n",
      "\n",
      "First sample:\n",
      "Sample type: <class 'dataset.ViT_HEST1K'>\n",
      "\n",
      "Dataloader batches: 1\n",
      "\n",
      "Loading dataset with parameters:\n",
      "  Dataset: hest1k\n",
      "  Mode: test\n",
      "  Sample IDs: ['NCBI640']\n",
      "  Fold: 5\n",
      "HEST Dataset: 1 samples (test)\n",
      "['NCBI640']\n",
      "Using 785 genes\n",
      "\n",
      "Dataset loaded:\n",
      "  Length: 1\n",
      "Dataset info:\n",
      "Dataset length: 1\n",
      "Sample names: ['NCBI640']\n",
      "\n",
      "First sample:\n",
      "Sample type: <class 'dataset.ViT_HEST1K'>\n",
      "\n",
      "Dataloader batches: 1\n",
      "\n",
      "Loading dataset with parameters:\n",
      "  Dataset: hest1k\n",
      "  Mode: test\n",
      "  Sample IDs: ['TENX105']\n",
      "  Fold: 5\n",
      "HEST Dataset: 1 samples (test)\n",
      "['TENX105']\n",
      "Using 785 genes\n",
      "\n",
      "Dataset loaded:\n",
      "  Length: 1\n",
      "Dataset info:\n",
      "Dataset length: 1\n",
      "Sample names: ['TENX105']\n",
      "\n",
      "First sample:\n",
      "Sample type: <class 'dataset.ViT_HEST1K'>\n",
      "\n",
      "Dataloader batches: 1\n",
      "\n",
      "Loading dataset with parameters:\n",
      "  Dataset: hest1k\n",
      "  Mode: test\n",
      "  Sample IDs: ['MISC111']\n",
      "  Fold: 5\n",
      "HEST Dataset: 1 samples (test)\n",
      "['MISC111']\n",
      "Using 785 genes\n",
      "\n",
      "Dataset loaded:\n",
      "  Length: 1\n",
      "Dataset info:\n",
      "Dataset length: 1\n",
      "Sample names: ['MISC111']\n",
      "\n",
      "First sample:\n",
      "Sample type: <class 'dataset.ViT_HEST1K'>\n",
      "\n",
      "Dataloader batches: 1\n",
      "\n",
      "Loading dataset with parameters:\n",
      "  Dataset: hest1k\n",
      "  Mode: test\n",
      "  Sample IDs: ['NCBI700']\n",
      "  Fold: 5\n",
      "HEST Dataset: 1 samples (test)\n",
      "['NCBI700']\n",
      "Using 785 genes\n",
      "\n",
      "Dataset loaded:\n",
      "  Length: 1\n",
      "Dataset info:\n",
      "Dataset length: 1\n",
      "Sample names: ['NCBI700']\n",
      "\n",
      "First sample:\n",
      "Sample type: <class 'dataset.ViT_HEST1K'>\n",
      "\n",
      "Dataloader batches: 1\n",
      "\n",
      "Loading dataset with parameters:\n",
      "  Dataset: hest1k\n",
      "  Mode: test\n",
      "  Sample IDs: ['TENX121']\n",
      "  Fold: 5\n",
      "HEST Dataset: 1 samples (test)\n",
      "['TENX121']\n",
      "Using 785 genes\n",
      "\n",
      "Dataset loaded:\n",
      "  Length: 1\n",
      "Dataset info:\n",
      "Dataset length: 1\n",
      "Sample names: ['TENX121']\n",
      "\n",
      "First sample:\n",
      "Sample type: <class 'dataset.ViT_HEST1K'>\n",
      "\n",
      "Dataloader batches: 1\n",
      "\n",
      "Loading dataset with parameters:\n",
      "  Dataset: hest1k\n",
      "  Mode: test\n",
      "  Sample IDs: ['MISC18']\n",
      "  Fold: 5\n",
      "HEST Dataset: 1 samples (test)\n",
      "['MISC18']\n",
      "Using 785 genes\n",
      "\n",
      "Dataset loaded:\n",
      "  Length: 1\n",
      "Dataset info:\n",
      "Dataset length: 1\n",
      "Sample names: ['MISC18']\n",
      "\n",
      "First sample:\n",
      "Sample type: <class 'dataset.ViT_HEST1K'>\n",
      "\n",
      "Dataloader batches: 1\n",
      "\n",
      "Loading dataset with parameters:\n",
      "  Dataset: hest1k\n",
      "  Mode: test\n",
      "  Sample IDs: ['NCBI591']\n",
      "  Fold: 5\n",
      "HEST Dataset: 1 samples (test)\n",
      "['NCBI591']\n",
      "Using 785 genes\n",
      "\n",
      "Dataset loaded:\n",
      "  Length: 1\n",
      "Dataset info:\n",
      "Dataset length: 1\n",
      "Sample names: ['NCBI591']\n",
      "\n",
      "First sample:\n",
      "Sample type: <class 'dataset.ViT_HEST1K'>\n",
      "\n",
      "Dataloader batches: 1\n",
      "\n",
      "Loading dataset with parameters:\n",
      "  Dataset: hest1k\n",
      "  Mode: test\n",
      "  Sample IDs: ['MISC109']\n",
      "  Fold: 5\n",
      "HEST Dataset: 1 samples (test)\n",
      "['MISC109']\n",
      "Using 785 genes\n",
      "\n",
      "Dataset loaded:\n",
      "  Length: 1\n",
      "Dataset info:\n",
      "Dataset length: 1\n",
      "Sample names: ['MISC109']\n",
      "\n",
      "First sample:\n",
      "Sample type: <class 'dataset.ViT_HEST1K'>\n",
      "\n",
      "Dataloader batches: 1\n",
      "\n",
      "Loading dataset with parameters:\n",
      "  Dataset: hest1k\n",
      "  Mode: test\n",
      "  Sample IDs: ['NCBI882']\n",
      "  Fold: 5\n",
      "HEST Dataset: 1 samples (test)\n",
      "['NCBI882']\n",
      "Using 785 genes\n",
      "\n",
      "Dataset loaded:\n",
      "  Length: 1\n",
      "Dataset info:\n",
      "Dataset length: 1\n",
      "Sample names: ['NCBI882']\n",
      "\n",
      "First sample:\n",
      "Sample type: <class 'dataset.ViT_HEST1K'>\n",
      "\n",
      "Dataloader batches: 1\n",
      "\n",
      "Loading dataset with parameters:\n",
      "  Dataset: hest1k\n",
      "  Mode: test\n",
      "  Sample IDs: ['TENX56']\n",
      "  Fold: 5\n",
      "HEST Dataset: 1 samples (test)\n",
      "['TENX56']\n",
      "Using 785 genes\n",
      "\n",
      "Dataset loaded:\n",
      "  Length: 1\n",
      "Dataset info:\n",
      "Dataset length: 1\n",
      "Sample names: ['TENX56']\n",
      "\n",
      "First sample:\n",
      "Sample type: <class 'dataset.ViT_HEST1K'>\n",
      "\n",
      "Dataloader batches: 1\n",
      "\n",
      "Loading dataset with parameters:\n",
      "  Dataset: hest1k\n",
      "  Mode: test\n",
      "  Sample IDs: ['MISC133']\n",
      "  Fold: 5\n",
      "HEST Dataset: 1 samples (test)\n",
      "['MISC133']\n",
      "Using 785 genes\n",
      "\n",
      "Dataset loaded:\n",
      "  Length: 1\n",
      "Dataset info:\n",
      "Dataset length: 1\n",
      "Sample names: ['MISC133']\n",
      "\n",
      "First sample:\n",
      "Sample type: <class 'dataset.ViT_HEST1K'>\n",
      "\n",
      "Dataloader batches: 1\n",
      "\n",
      "Loading dataset with parameters:\n",
      "  Dataset: hest1k\n",
      "  Mode: test\n",
      "  Sample IDs: ['NCBI655']\n",
      "  Fold: 5\n",
      "HEST Dataset: 1 samples (test)\n",
      "['NCBI655']\n",
      "Using 785 genes\n",
      "\n",
      "Dataset loaded:\n",
      "  Length: 1\n",
      "Dataset info:\n",
      "Dataset length: 1\n",
      "Sample names: ['NCBI655']\n",
      "\n",
      "First sample:\n",
      "Sample type: <class 'dataset.ViT_HEST1K'>\n",
      "\n",
      "Dataloader batches: 1\n",
      "\n",
      "Loading dataset with parameters:\n",
      "  Dataset: hest1k\n",
      "  Mode: test\n",
      "  Sample IDs: ['MEND85']\n",
      "  Fold: 5\n",
      "HEST Dataset: 1 samples (test)\n",
      "['MEND85']\n",
      "Using 785 genes\n",
      "\n",
      "Dataset loaded:\n",
      "  Length: 1\n",
      "Dataset info:\n",
      "Dataset length: 1\n",
      "Sample names: ['MEND85']\n",
      "\n",
      "First sample:\n",
      "Sample type: <class 'dataset.ViT_HEST1K'>\n",
      "\n",
      "Dataloader batches: 1\n",
      "\n",
      "Loading dataset with parameters:\n",
      "  Dataset: hest1k\n",
      "  Mode: test\n",
      "  Sample IDs: ['ZEN38']\n",
      "  Fold: 5\n",
      "HEST Dataset: 1 samples (test)\n",
      "['ZEN38']\n",
      "Using 785 genes\n",
      "\n",
      "Dataset loaded:\n",
      "  Length: 1\n",
      "Dataset info:\n",
      "Dataset length: 1\n",
      "Sample names: ['ZEN38']\n",
      "\n",
      "First sample:\n",
      "Sample type: <class 'dataset.ViT_HEST1K'>\n",
      "\n",
      "Dataloader batches: 1\n",
      "\n",
      "Loading dataset with parameters:\n",
      "  Dataset: hest1k\n",
      "  Mode: test\n",
      "  Sample IDs: ['SPA128']\n",
      "  Fold: 5\n",
      "HEST Dataset: 1 samples (test)\n",
      "['SPA128']\n",
      "Using 785 genes\n",
      "\n",
      "Dataset loaded:\n",
      "  Length: 1\n",
      "Dataset info:\n",
      "Dataset length: 1\n",
      "Sample names: ['SPA128']\n",
      "\n",
      "First sample:\n",
      "Sample type: <class 'dataset.ViT_HEST1K'>\n",
      "\n",
      "Dataloader batches: 1\n",
      "\n",
      "Loading dataset with parameters:\n",
      "  Dataset: hest1k\n",
      "  Mode: test\n",
      "  Sample IDs: ['MISC121']\n",
      "  Fold: 5\n",
      "HEST Dataset: 1 samples (test)\n",
      "['MISC121']\n",
      "Using 785 genes\n",
      "\n",
      "Dataset loaded:\n",
      "  Length: 1\n",
      "Dataset info:\n",
      "Dataset length: 1\n",
      "Sample names: ['MISC121']\n",
      "\n",
      "First sample:\n",
      "Sample type: <class 'dataset.ViT_HEST1K'>\n",
      "\n",
      "Dataloader batches: 1\n",
      "\n",
      "Loading dataset with parameters:\n",
      "  Dataset: hest1k\n",
      "  Mode: test\n",
      "  Sample IDs: ['INT9']\n",
      "  Fold: 5\n",
      "HEST Dataset: 1 samples (test)\n",
      "['INT9']\n",
      "Using 785 genes\n",
      "\n",
      "Dataset loaded:\n",
      "  Length: 1\n",
      "Dataset info:\n",
      "Dataset length: 1\n",
      "Sample names: ['INT9']\n",
      "\n",
      "First sample:\n",
      "Sample type: <class 'dataset.ViT_HEST1K'>\n",
      "\n",
      "Dataloader batches: 1\n",
      "\n",
      "Loading dataset with parameters:\n",
      "  Dataset: hest1k\n",
      "  Mode: test\n",
      "  Sample IDs: ['SPA47']\n",
      "  Fold: 5\n",
      "HEST Dataset: 1 samples (test)\n",
      "['SPA47']\n",
      "Using 785 genes\n",
      "\n",
      "Dataset loaded:\n",
      "  Length: 1\n",
      "Dataset info:\n",
      "Dataset length: 1\n",
      "Sample names: ['SPA47']\n",
      "\n",
      "First sample:\n",
      "Sample type: <class 'dataset.ViT_HEST1K'>\n",
      "\n",
      "Dataloader batches: 1\n",
      "\n",
      "Loading dataset with parameters:\n",
      "  Dataset: hest1k\n",
      "  Mode: test\n",
      "  Sample IDs: ['SPA93']\n",
      "  Fold: 5\n",
      "HEST Dataset: 1 samples (test)\n",
      "['SPA93']\n",
      "Using 785 genes\n",
      "\n",
      "Dataset loaded:\n",
      "  Length: 1\n",
      "Dataset info:\n",
      "Dataset length: 1\n",
      "Sample names: ['SPA93']\n",
      "\n",
      "First sample:\n",
      "Sample type: <class 'dataset.ViT_HEST1K'>\n",
      "\n",
      "Dataloader batches: 1\n",
      "\n",
      "Loading dataset with parameters:\n",
      "  Dataset: hest1k\n",
      "  Mode: test\n",
      "  Sample IDs: ['NCBI710']\n",
      "  Fold: 5\n",
      "HEST Dataset: 1 samples (test)\n",
      "['NCBI710']\n",
      "Using 785 genes\n",
      "\n",
      "Dataset loaded:\n",
      "  Length: 1\n",
      "Dataset info:\n",
      "Dataset length: 1\n",
      "Sample names: ['NCBI710']\n",
      "\n",
      "First sample:\n",
      "Sample type: <class 'dataset.ViT_HEST1K'>\n",
      "\n",
      "Dataloader batches: 1\n",
      "\n",
      "Loading dataset with parameters:\n",
      "  Dataset: hest1k\n",
      "  Mode: test\n",
      "  Sample IDs: ['NCBI760']\n",
      "  Fold: 5\n",
      "HEST Dataset: 1 samples (test)\n",
      "['NCBI760']\n",
      "Using 785 genes\n",
      "\n",
      "Dataset loaded:\n",
      "  Length: 1\n",
      "Dataset info:\n",
      "Dataset length: 1\n",
      "Sample names: ['NCBI760']\n",
      "\n",
      "First sample:\n",
      "Sample type: <class 'dataset.ViT_HEST1K'>\n",
      "\n",
      "Dataloader batches: 1\n",
      "\n",
      "Loading dataset with parameters:\n",
      "  Dataset: hest1k\n",
      "  Mode: test\n",
      "  Sample IDs: ['MISC3']\n",
      "  Fold: 5\n",
      "HEST Dataset: 1 samples (test)\n",
      "['MISC3']\n",
      "Using 785 genes\n",
      "\n",
      "Dataset loaded:\n",
      "  Length: 1\n",
      "Dataset info:\n",
      "Dataset length: 1\n",
      "Sample names: ['MISC3']\n",
      "\n",
      "First sample:\n",
      "Sample type: <class 'dataset.ViT_HEST1K'>\n",
      "\n",
      "Dataloader batches: 1\n",
      "\n",
      "Loading dataset with parameters:\n",
      "  Dataset: hest1k\n",
      "  Mode: test\n",
      "  Sample IDs: ['SPA75']\n",
      "  Fold: 5\n",
      "HEST Dataset: 1 samples (test)\n",
      "['SPA75']\n",
      "Using 785 genes\n",
      "\n",
      "Dataset loaded:\n",
      "  Length: 1\n",
      "Dataset info:\n",
      "Dataset length: 1\n",
      "Sample names: ['SPA75']\n",
      "\n",
      "First sample:\n",
      "Sample type: <class 'dataset.ViT_HEST1K'>\n",
      "\n",
      "Dataloader batches: 1\n",
      "\n",
      "Loading dataset with parameters:\n",
      "  Dataset: hest1k\n",
      "  Mode: test\n",
      "  Sample IDs: ['SPA143']\n",
      "  Fold: 5\n",
      "HEST Dataset: 1 samples (test)\n",
      "['SPA143']\n",
      "Using 785 genes\n",
      "\n",
      "Dataset loaded:\n",
      "  Length: 1\n",
      "Dataset info:\n",
      "Dataset length: 1\n",
      "Sample names: ['SPA143']\n",
      "\n",
      "First sample:\n",
      "Sample type: <class 'dataset.ViT_HEST1K'>\n",
      "\n",
      "Dataloader batches: 1\n",
      "\n",
      "Loading dataset with parameters:\n",
      "  Dataset: hest1k\n",
      "  Mode: test\n",
      "  Sample IDs: ['TENX46']\n",
      "  Fold: 5\n",
      "HEST Dataset: 1 samples (test)\n",
      "['TENX46']\n",
      "Using 785 genes\n",
      "\n",
      "Dataset loaded:\n",
      "  Length: 1\n",
      "Dataset info:\n",
      "Dataset length: 1\n",
      "Sample names: ['TENX46']\n",
      "\n",
      "First sample:\n",
      "Sample type: <class 'dataset.ViT_HEST1K'>\n",
      "\n",
      "Dataloader batches: 1\n",
      "\n",
      "Loading dataset with parameters:\n",
      "  Dataset: hest1k\n",
      "  Mode: test\n",
      "  Sample IDs: ['NCBI521']\n",
      "  Fold: 5\n",
      "HEST Dataset: 1 samples (test)\n",
      "['NCBI521']\n",
      "Using 785 genes\n",
      "\n",
      "Dataset loaded:\n",
      "  Length: 1\n",
      "Dataset info:\n",
      "Dataset length: 1\n",
      "Sample names: ['NCBI521']\n",
      "\n",
      "First sample:\n",
      "Sample type: <class 'dataset.ViT_HEST1K'>\n",
      "\n",
      "Dataloader batches: 1\n",
      "\n",
      "Loading dataset with parameters:\n",
      "  Dataset: hest1k\n",
      "  Mode: test\n",
      "  Sample IDs: ['MEND37']\n",
      "  Fold: 5\n",
      "HEST Dataset: 1 samples (test)\n",
      "['MEND37']\n",
      "Using 785 genes\n",
      "\n",
      "Dataset loaded:\n",
      "  Length: 1\n",
      "Dataset info:\n",
      "Dataset length: 1\n",
      "Sample names: ['MEND37']\n",
      "\n",
      "First sample:\n",
      "Sample type: <class 'dataset.ViT_HEST1K'>\n",
      "\n",
      "Dataloader batches: 1\n",
      "\n",
      "Loading dataset with parameters:\n",
      "  Dataset: hest1k\n",
      "  Mode: test\n",
      "  Sample IDs: ['NCBI695']\n",
      "  Fold: 5\n",
      "HEST Dataset: 1 samples (test)\n",
      "['NCBI695']\n",
      "Using 785 genes\n",
      "\n",
      "Dataset loaded:\n",
      "  Length: 1\n",
      "Dataset info:\n",
      "Dataset length: 1\n",
      "Sample names: ['NCBI695']\n",
      "\n",
      "First sample:\n",
      "Sample type: <class 'dataset.ViT_HEST1K'>\n",
      "\n",
      "Dataloader batches: 1\n",
      "\n",
      "Loading dataset with parameters:\n",
      "  Dataset: hest1k\n",
      "  Mode: test\n",
      "  Sample IDs: ['MISC41']\n",
      "  Fold: 5\n",
      "HEST Dataset: 1 samples (test)\n",
      "['MISC41']\n",
      "Using 785 genes\n",
      "\n",
      "Dataset loaded:\n",
      "  Length: 1\n",
      "Dataset info:\n",
      "Dataset length: 1\n",
      "Sample names: ['MISC41']\n",
      "\n",
      "First sample:\n",
      "Sample type: <class 'dataset.ViT_HEST1K'>\n",
      "\n",
      "Dataloader batches: 1\n",
      "\n",
      "Loading dataset with parameters:\n",
      "  Dataset: hest1k\n",
      "  Mode: test\n",
      "  Sample IDs: ['NCBI507']\n",
      "  Fold: 5\n",
      "HEST Dataset: 1 samples (test)\n",
      "['NCBI507']\n",
      "Using 785 genes\n",
      "\n",
      "Dataset loaded:\n",
      "  Length: 1\n",
      "Dataset info:\n",
      "Dataset length: 1\n",
      "Sample names: ['NCBI507']\n",
      "\n",
      "First sample:\n",
      "Sample type: <class 'dataset.ViT_HEST1K'>\n",
      "\n",
      "Dataloader batches: 1\n",
      "\n",
      "Loading dataset with parameters:\n",
      "  Dataset: hest1k\n",
      "  Mode: test\n",
      "  Sample IDs: ['MEND59']\n",
      "  Fold: 5\n",
      "HEST Dataset: 1 samples (test)\n",
      "['MEND59']\n",
      "Using 785 genes\n",
      "\n",
      "Dataset loaded:\n",
      "  Length: 1\n",
      "Dataset info:\n",
      "Dataset length: 1\n",
      "Sample names: ['MEND59']\n",
      "\n",
      "First sample:\n",
      "Sample type: <class 'dataset.ViT_HEST1K'>\n",
      "\n",
      "Dataloader batches: 1\n",
      "\n",
      "Loading dataset with parameters:\n",
      "  Dataset: hest1k\n",
      "  Mode: test\n",
      "  Sample IDs: ['TENX157']\n",
      "  Fold: 5\n",
      "HEST Dataset: 1 samples (test)\n",
      "['TENX157']\n",
      "Using 785 genes\n",
      "\n",
      "Dataset loaded:\n",
      "  Length: 1\n",
      "Dataset info:\n",
      "Dataset length: 1\n",
      "Sample names: ['TENX157']\n",
      "\n",
      "First sample:\n",
      "Sample type: <class 'dataset.ViT_HEST1K'>\n",
      "\n",
      "Dataloader batches: 1\n",
      "\n",
      "Loading dataset with parameters:\n",
      "  Dataset: hest1k\n",
      "  Mode: test\n",
      "  Sample IDs: ['NCBI467']\n",
      "  Fold: 5\n",
      "HEST Dataset: 1 samples (test)\n",
      "['NCBI467']\n",
      "Using 785 genes\n",
      "\n",
      "Dataset loaded:\n",
      "  Length: 1\n",
      "Dataset info:\n",
      "Dataset length: 1\n",
      "Sample names: ['NCBI467']\n",
      "\n",
      "First sample:\n",
      "Sample type: <class 'dataset.ViT_HEST1K'>\n",
      "\n",
      "Dataloader batches: 1\n",
      "\n",
      "Loading dataset with parameters:\n",
      "  Dataset: hest1k\n",
      "  Mode: test\n",
      "  Sample IDs: ['NCBI515']\n",
      "  Fold: 5\n",
      "HEST Dataset: 1 samples (test)\n",
      "['NCBI515']\n",
      "Using 785 genes\n",
      "\n",
      "Dataset loaded:\n",
      "  Length: 1\n",
      "Dataset info:\n",
      "Dataset length: 1\n",
      "Sample names: ['NCBI515']\n",
      "\n",
      "First sample:\n",
      "Sample type: <class 'dataset.ViT_HEST1K'>\n",
      "\n",
      "Dataloader batches: 1\n",
      "\n",
      "Loading dataset with parameters:\n",
      "  Dataset: hest1k\n",
      "  Mode: test\n",
      "  Sample IDs: ['MISC66']\n",
      "  Fold: 5\n",
      "HEST Dataset: 1 samples (test)\n",
      "['MISC66']\n",
      "Using 785 genes\n",
      "\n",
      "Dataset loaded:\n",
      "  Length: 1\n",
      "Dataset info:\n",
      "Dataset length: 1\n",
      "Sample names: ['MISC66']\n",
      "\n",
      "First sample:\n",
      "Sample type: <class 'dataset.ViT_HEST1K'>\n",
      "\n",
      "Dataloader batches: 1\n",
      "\n",
      "Loading dataset with parameters:\n",
      "  Dataset: hest1k\n",
      "  Mode: test\n",
      "  Sample IDs: ['SPA139']\n",
      "  Fold: 5\n",
      "HEST Dataset: 1 samples (test)\n",
      "['SPA139']\n",
      "Using 785 genes\n",
      "\n",
      "Dataset loaded:\n",
      "  Length: 1\n",
      "Dataset info:\n",
      "Dataset length: 1\n",
      "Sample names: ['SPA139']\n",
      "\n",
      "First sample:\n",
      "Sample type: <class 'dataset.ViT_HEST1K'>\n",
      "\n",
      "Dataloader batches: 1\n",
      "\n",
      "Loading dataset with parameters:\n",
      "  Dataset: hest1k\n",
      "  Mode: test\n",
      "  Sample IDs: ['MISC140']\n",
      "  Fold: 5\n",
      "HEST Dataset: 1 samples (test)\n",
      "['MISC140']\n",
      "Using 785 genes\n",
      "\n",
      "Dataset loaded:\n",
      "  Length: 1\n",
      "Dataset info:\n",
      "Dataset length: 1\n",
      "Sample names: ['MISC140']\n",
      "\n",
      "First sample:\n",
      "Sample type: <class 'dataset.ViT_HEST1K'>\n",
      "\n",
      "Dataloader batches: 1\n",
      "\n",
      "Loading dataset with parameters:\n",
      "  Dataset: hest1k\n",
      "  Mode: test\n",
      "  Sample IDs: ['NCBI630']\n",
      "  Fold: 5\n",
      "HEST Dataset: 1 samples (test)\n",
      "['NCBI630']\n",
      "Using 785 genes\n",
      "\n",
      "Dataset loaded:\n",
      "  Length: 1\n",
      "Dataset info:\n",
      "Dataset length: 1\n",
      "Sample names: ['NCBI630']\n",
      "\n",
      "First sample:\n",
      "Sample type: <class 'dataset.ViT_HEST1K'>\n",
      "\n",
      "Dataloader batches: 1\n",
      "\n",
      "Loading dataset with parameters:\n",
      "  Dataset: hest1k\n",
      "  Mode: test\n",
      "  Sample IDs: ['MEND3']\n",
      "  Fold: 5\n",
      "HEST Dataset: 1 samples (test)\n",
      "['MEND3']\n",
      "Using 785 genes\n",
      "\n",
      "Dataset loaded:\n",
      "  Length: 1\n",
      "Dataset info:\n",
      "Dataset length: 1\n",
      "Sample names: ['MEND3']\n",
      "\n",
      "First sample:\n",
      "Sample type: <class 'dataset.ViT_HEST1K'>\n",
      "\n",
      "Dataloader batches: 1\n",
      "\n",
      "Loading dataset with parameters:\n",
      "  Dataset: hest1k\n",
      "  Mode: test\n",
      "  Sample IDs: ['NCBI761']\n",
      "  Fold: 5\n",
      "HEST Dataset: 1 samples (test)\n",
      "['NCBI761']\n",
      "Using 785 genes\n",
      "\n",
      "Dataset loaded:\n",
      "  Length: 1\n",
      "Dataset info:\n",
      "Dataset length: 1\n",
      "Sample names: ['NCBI761']\n",
      "\n",
      "First sample:\n",
      "Sample type: <class 'dataset.ViT_HEST1K'>\n",
      "\n",
      "Dataloader batches: 1\n",
      "\n",
      "Loading dataset with parameters:\n",
      "  Dataset: hest1k\n",
      "  Mode: test\n",
      "  Sample IDs: ['MEND141']\n",
      "  Fold: 5\n",
      "HEST Dataset: 1 samples (test)\n",
      "['MEND141']\n",
      "Using 785 genes\n",
      "\n",
      "Dataset loaded:\n",
      "  Length: 1\n",
      "Dataset info:\n",
      "Dataset length: 1\n",
      "Sample names: ['MEND141']\n",
      "\n",
      "First sample:\n",
      "Sample type: <class 'dataset.ViT_HEST1K'>\n",
      "\n",
      "Dataloader batches: 1\n",
      "\n",
      "Loading dataset with parameters:\n",
      "  Dataset: hest1k\n",
      "  Mode: test\n",
      "  Sample IDs: ['MISC55']\n",
      "  Fold: 5\n",
      "HEST Dataset: 1 samples (test)\n",
      "['MISC55']\n",
      "Using 785 genes\n",
      "\n",
      "Dataset loaded:\n",
      "  Length: 1\n",
      "Dataset info:\n",
      "Dataset length: 1\n",
      "Sample names: ['MISC55']\n",
      "\n",
      "First sample:\n",
      "Sample type: <class 'dataset.ViT_HEST1K'>\n",
      "\n",
      "Dataloader batches: 1\n",
      "\n",
      "Loading dataset with parameters:\n",
      "  Dataset: hest1k\n",
      "  Mode: test\n",
      "  Sample IDs: ['INT7']\n",
      "  Fold: 5\n",
      "HEST Dataset: 1 samples (test)\n",
      "['INT7']\n",
      "Using 785 genes\n",
      "\n",
      "Dataset loaded:\n",
      "  Length: 1\n",
      "Dataset info:\n",
      "Dataset length: 1\n",
      "Sample names: ['INT7']\n",
      "\n",
      "First sample:\n",
      "Sample type: <class 'dataset.ViT_HEST1K'>\n",
      "\n",
      "Dataloader batches: 1\n",
      "\n",
      "Loading dataset with parameters:\n",
      "  Dataset: hest1k\n",
      "  Mode: test\n",
      "  Sample IDs: ['NCBI508']\n",
      "  Fold: 5\n",
      "HEST Dataset: 1 samples (test)\n",
      "['NCBI508']\n",
      "Using 785 genes\n",
      "\n",
      "Dataset loaded:\n",
      "  Length: 1\n",
      "Dataset info:\n",
      "Dataset length: 1\n",
      "Sample names: ['NCBI508']\n",
      "\n",
      "First sample:\n",
      "Sample type: <class 'dataset.ViT_HEST1K'>\n",
      "\n",
      "Dataloader batches: 1\n",
      "\n",
      "Loading dataset with parameters:\n",
      "  Dataset: hest1k\n",
      "  Mode: test\n",
      "  Sample IDs: ['INT1']\n",
      "  Fold: 5\n",
      "HEST Dataset: 1 samples (test)\n",
      "['INT1']\n",
      "Using 785 genes\n",
      "\n",
      "Dataset loaded:\n",
      "  Length: 1\n",
      "Dataset info:\n",
      "Dataset length: 1\n",
      "Sample names: ['INT1']\n",
      "\n",
      "First sample:\n",
      "Sample type: <class 'dataset.ViT_HEST1K'>\n",
      "\n",
      "Dataloader batches: 1\n",
      "\n",
      "Loading dataset with parameters:\n",
      "  Dataset: hest1k\n",
      "  Mode: test\n",
      "  Sample IDs: ['SPA103']\n",
      "  Fold: 5\n",
      "HEST Dataset: 1 samples (test)\n",
      "['SPA103']\n",
      "Using 785 genes\n",
      "\n",
      "Dataset loaded:\n",
      "  Length: 1\n",
      "Dataset info:\n",
      "Dataset length: 1\n",
      "Sample names: ['SPA103']\n",
      "\n",
      "First sample:\n",
      "Sample type: <class 'dataset.ViT_HEST1K'>\n",
      "\n",
      "Dataloader batches: 1\n",
      "\n",
      "Loading dataset with parameters:\n",
      "  Dataset: hest1k\n",
      "  Mode: test\n",
      "  Sample IDs: ['NCBI883']\n",
      "  Fold: 5\n",
      "HEST Dataset: 1 samples (test)\n",
      "['NCBI883']\n",
      "Using 785 genes\n",
      "\n",
      "Dataset loaded:\n",
      "  Length: 1\n",
      "Dataset info:\n",
      "Dataset length: 1\n",
      "Sample names: ['NCBI883']\n",
      "\n",
      "First sample:\n",
      "Sample type: <class 'dataset.ViT_HEST1K'>\n",
      "\n",
      "Dataloader batches: 1\n",
      "\n",
      "Loading dataset with parameters:\n",
      "  Dataset: hest1k\n",
      "  Mode: test\n",
      "  Sample IDs: ['SPA1']\n",
      "  Fold: 5\n",
      "HEST Dataset: 1 samples (test)\n",
      "['SPA1']\n",
      "Using 785 genes\n",
      "\n",
      "Dataset loaded:\n",
      "  Length: 1\n",
      "Dataset info:\n",
      "Dataset length: 1\n",
      "Sample names: ['SPA1']\n",
      "\n",
      "First sample:\n",
      "Sample type: <class 'dataset.ViT_HEST1K'>\n",
      "\n",
      "Dataloader batches: 1\n",
      "\n",
      "Loading dataset with parameters:\n",
      "  Dataset: hest1k\n",
      "  Mode: test\n",
      "  Sample IDs: ['NCBI468']\n",
      "  Fold: 5\n",
      "HEST Dataset: 1 samples (test)\n",
      "['NCBI468']\n",
      "Using 785 genes\n",
      "\n",
      "Dataset loaded:\n",
      "  Length: 1\n",
      "Dataset info:\n",
      "Dataset length: 1\n",
      "Sample names: ['NCBI468']\n",
      "\n",
      "First sample:\n",
      "Sample type: <class 'dataset.ViT_HEST1K'>\n",
      "\n",
      "Dataloader batches: 1\n",
      "\n",
      "Loading dataset with parameters:\n",
      "  Dataset: hest1k\n",
      "  Mode: test\n",
      "  Sample IDs: ['MEND61']\n",
      "  Fold: 5\n",
      "HEST Dataset: 1 samples (test)\n",
      "['MEND61']\n",
      "Using 785 genes\n",
      "\n",
      "Dataset loaded:\n",
      "  Length: 1\n",
      "Dataset info:\n",
      "Dataset length: 1\n",
      "Sample names: ['MEND61']\n",
      "\n",
      "First sample:\n",
      "Sample type: <class 'dataset.ViT_HEST1K'>\n",
      "\n",
      "Dataloader batches: 1\n",
      "\n",
      "Loading dataset with parameters:\n",
      "  Dataset: hest1k\n",
      "  Mode: test\n",
      "  Sample IDs: ['SPA71']\n",
      "  Fold: 5\n",
      "HEST Dataset: 1 samples (test)\n",
      "['SPA71']\n",
      "Using 785 genes\n",
      "\n",
      "Dataset loaded:\n",
      "  Length: 1\n",
      "Dataset info:\n",
      "Dataset length: 1\n",
      "Sample names: ['SPA71']\n",
      "\n",
      "First sample:\n",
      "Sample type: <class 'dataset.ViT_HEST1K'>\n",
      "\n",
      "Dataloader batches: 1\n",
      "\n",
      "Loading dataset with parameters:\n",
      "  Dataset: hest1k\n",
      "  Mode: test\n",
      "  Sample IDs: ['TENX30']\n",
      "  Fold: 5\n",
      "HEST Dataset: 1 samples (test)\n",
      "['TENX30']\n",
      "Using 785 genes\n",
      "\n",
      "Dataset loaded:\n",
      "  Length: 1\n",
      "Dataset info:\n",
      "Dataset length: 1\n",
      "Sample names: ['TENX30']\n",
      "\n",
      "First sample:\n",
      "Sample type: <class 'dataset.ViT_HEST1K'>\n",
      "\n",
      "Dataloader batches: 1\n",
      "\n",
      "Loading dataset with parameters:\n",
      "  Dataset: hest1k\n",
      "  Mode: test\n",
      "  Sample IDs: ['MISC6']\n",
      "  Fold: 5\n",
      "HEST Dataset: 1 samples (test)\n",
      "['MISC6']\n",
      "Using 785 genes\n",
      "\n",
      "Dataset loaded:\n",
      "  Length: 1\n",
      "Dataset info:\n",
      "Dataset length: 1\n",
      "Sample names: ['MISC6']\n",
      "\n",
      "First sample:\n",
      "Sample type: <class 'dataset.ViT_HEST1K'>\n",
      "\n",
      "Dataloader batches: 1\n",
      "\n",
      "Loading dataset with parameters:\n",
      "  Dataset: hest1k\n",
      "  Mode: test\n",
      "  Sample IDs: ['NCBI682']\n",
      "  Fold: 5\n",
      "HEST Dataset: 1 samples (test)\n",
      "['NCBI682']\n",
      "Using 785 genes\n",
      "\n",
      "Dataset loaded:\n",
      "  Length: 1\n",
      "Dataset info:\n",
      "Dataset length: 1\n",
      "Sample names: ['NCBI682']\n",
      "\n",
      "First sample:\n",
      "Sample type: <class 'dataset.ViT_HEST1K'>\n",
      "\n",
      "Dataloader batches: 1\n",
      "\n",
      "Loading dataset with parameters:\n",
      "  Dataset: hest1k\n",
      "  Mode: test\n",
      "  Sample IDs: ['MISC16']\n",
      "  Fold: 5\n",
      "HEST Dataset: 1 samples (test)\n",
      "['MISC16']\n",
      "Using 785 genes\n",
      "\n",
      "Dataset loaded:\n",
      "  Length: 1\n",
      "Dataset info:\n",
      "Dataset length: 1\n",
      "Sample names: ['MISC16']\n",
      "\n",
      "First sample:\n",
      "Sample type: <class 'dataset.ViT_HEST1K'>\n",
      "\n",
      "Dataloader batches: 1\n",
      "\n",
      "Loading dataset with parameters:\n",
      "  Dataset: hest1k\n",
      "  Mode: test\n",
      "  Sample IDs: ['NCBI634']\n",
      "  Fold: 5\n",
      "HEST Dataset: 1 samples (test)\n",
      "['NCBI634']\n",
      "Using 785 genes\n",
      "\n",
      "Dataset loaded:\n",
      "  Length: 1\n",
      "Dataset info:\n",
      "Dataset length: 1\n",
      "Sample names: ['NCBI634']\n",
      "\n",
      "First sample:\n",
      "Sample type: <class 'dataset.ViT_HEST1K'>\n",
      "\n",
      "Dataloader batches: 1\n",
      "\n",
      "Loading dataset with parameters:\n",
      "  Dataset: hest1k\n",
      "  Mode: test\n",
      "  Sample IDs: ['SPA101']\n",
      "  Fold: 5\n",
      "HEST Dataset: 1 samples (test)\n",
      "['SPA101']\n",
      "Using 785 genes\n",
      "\n",
      "Dataset loaded:\n",
      "  Length: 1\n",
      "Dataset info:\n",
      "Dataset length: 1\n",
      "Sample names: ['SPA101']\n",
      "\n",
      "First sample:\n",
      "Sample type: <class 'dataset.ViT_HEST1K'>\n",
      "\n",
      "Dataloader batches: 1\n",
      "\n",
      "Loading dataset with parameters:\n",
      "  Dataset: hest1k\n",
      "  Mode: test\n",
      "  Sample IDs: ['NCBI506']\n",
      "  Fold: 5\n",
      "HEST Dataset: 1 samples (test)\n",
      "['NCBI506']\n",
      "Using 785 genes\n",
      "\n",
      "Dataset loaded:\n",
      "  Length: 1\n",
      "Dataset info:\n",
      "Dataset length: 1\n",
      "Sample names: ['NCBI506']\n",
      "\n",
      "First sample:\n",
      "Sample type: <class 'dataset.ViT_HEST1K'>\n",
      "\n",
      "Dataloader batches: 1\n",
      "\n",
      "Loading dataset with parameters:\n",
      "  Dataset: hest1k\n",
      "  Mode: test\n",
      "  Sample IDs: ['NCBI510']\n",
      "  Fold: 5\n",
      "HEST Dataset: 1 samples (test)\n",
      "['NCBI510']\n",
      "Using 785 genes\n",
      "\n",
      "Dataset loaded:\n",
      "  Length: 1\n",
      "Dataset info:\n",
      "Dataset length: 1\n",
      "Sample names: ['NCBI510']\n",
      "\n",
      "First sample:\n",
      "Sample type: <class 'dataset.ViT_HEST1K'>\n",
      "\n",
      "Dataloader batches: 1\n",
      "\n",
      "Loading dataset with parameters:\n",
      "  Dataset: hest1k\n",
      "  Mode: test\n",
      "  Sample IDs: ['ZEN36']\n",
      "  Fold: 5\n",
      "HEST Dataset: 1 samples (test)\n",
      "['ZEN36']\n",
      "Using 785 genes\n",
      "\n",
      "Dataset loaded:\n",
      "  Length: 1\n",
      "Dataset info:\n",
      "Dataset length: 1\n",
      "Sample names: ['ZEN36']\n",
      "\n",
      "First sample:\n",
      "Sample type: <class 'dataset.ViT_HEST1K'>\n",
      "\n",
      "Dataloader batches: 1\n",
      "\n",
      "Loading dataset with parameters:\n",
      "  Dataset: hest1k\n",
      "  Mode: test\n",
      "  Sample IDs: ['NCBI696']\n",
      "  Fold: 5\n",
      "HEST Dataset: 1 samples (test)\n",
      "['NCBI696']\n",
      "Using 785 genes\n",
      "\n",
      "Dataset loaded:\n",
      "  Length: 1\n",
      "Dataset info:\n",
      "Dataset length: 1\n",
      "Sample names: ['NCBI696']\n",
      "\n",
      "First sample:\n",
      "Sample type: <class 'dataset.ViT_HEST1K'>\n",
      "\n",
      "Dataloader batches: 1\n",
      "\n",
      "Loading dataset with parameters:\n",
      "  Dataset: hest1k\n",
      "  Mode: test\n",
      "  Sample IDs: ['NCBI628']\n",
      "  Fold: 5\n",
      "HEST Dataset: 1 samples (test)\n",
      "['NCBI628']\n",
      "Using 785 genes\n",
      "\n",
      "Dataset loaded:\n",
      "  Length: 1\n",
      "Dataset info:\n",
      "Dataset length: 1\n",
      "Sample names: ['NCBI628']\n",
      "\n",
      "First sample:\n",
      "Sample type: <class 'dataset.ViT_HEST1K'>\n",
      "\n",
      "Dataloader batches: 1\n",
      "\n",
      "Loading dataset with parameters:\n",
      "  Dataset: hest1k\n",
      "  Mode: test\n",
      "  Sample IDs: ['MISC115']\n",
      "  Fold: 5\n",
      "HEST Dataset: 1 samples (test)\n",
      "['MISC115']\n",
      "Using 785 genes\n",
      "\n",
      "Dataset loaded:\n",
      "  Length: 1\n",
      "Dataset info:\n",
      "Dataset length: 1\n",
      "Sample names: ['MISC115']\n",
      "\n",
      "First sample:\n",
      "Sample type: <class 'dataset.ViT_HEST1K'>\n",
      "\n",
      "Dataloader batches: 1\n",
      "\n",
      "Loading dataset with parameters:\n",
      "  Dataset: hest1k\n",
      "  Mode: test\n",
      "  Sample IDs: ['NCBI697']\n",
      "  Fold: 5\n",
      "HEST Dataset: 1 samples (test)\n",
      "['NCBI697']\n",
      "Using 785 genes\n",
      "\n",
      "Dataset loaded:\n",
      "  Length: 1\n",
      "Dataset info:\n",
      "Dataset length: 1\n",
      "Sample names: ['NCBI697']\n",
      "\n",
      "First sample:\n",
      "Sample type: <class 'dataset.ViT_HEST1K'>\n",
      "\n",
      "Dataloader batches: 1\n",
      "\n",
      "Loading dataset with parameters:\n",
      "  Dataset: hest1k\n",
      "  Mode: test\n",
      "  Sample IDs: ['NCBI516']\n",
      "  Fold: 5\n",
      "HEST Dataset: 1 samples (test)\n",
      "['NCBI516']\n",
      "Using 785 genes\n",
      "\n",
      "Dataset loaded:\n",
      "  Length: 1\n",
      "Dataset info:\n",
      "Dataset length: 1\n",
      "Sample names: ['NCBI516']\n",
      "\n",
      "First sample:\n",
      "Sample type: <class 'dataset.ViT_HEST1K'>\n",
      "\n",
      "Dataloader batches: 1\n",
      "\n",
      "Loading dataset with parameters:\n",
      "  Dataset: hest1k\n",
      "  Mode: test\n",
      "  Sample IDs: ['SPA92']\n",
      "  Fold: 5\n",
      "HEST Dataset: 1 samples (test)\n",
      "['SPA92']\n",
      "Using 785 genes\n",
      "\n",
      "Dataset loaded:\n",
      "  Length: 1\n",
      "Dataset info:\n",
      "Dataset length: 1\n",
      "Sample names: ['SPA92']\n",
      "\n",
      "First sample:\n",
      "Sample type: <class 'dataset.ViT_HEST1K'>\n",
      "\n",
      "Dataloader batches: 1\n",
      "\n",
      "Loading dataset with parameters:\n",
      "  Dataset: hest1k\n",
      "  Mode: test\n",
      "  Sample IDs: ['NCBI870']\n",
      "  Fold: 5\n",
      "HEST Dataset: 1 samples (test)\n",
      "['NCBI870']\n",
      "Using 785 genes\n",
      "\n",
      "Dataset loaded:\n",
      "  Length: 1\n",
      "Dataset info:\n",
      "Dataset length: 1\n",
      "Sample names: ['NCBI870']\n",
      "\n",
      "First sample:\n",
      "Sample type: <class 'dataset.ViT_HEST1K'>\n",
      "\n",
      "Dataloader batches: 1\n",
      "\n",
      "Loading dataset with parameters:\n",
      "  Dataset: hest1k\n",
      "  Mode: test\n",
      "  Sample IDs: ['SPA3']\n",
      "  Fold: 5\n",
      "HEST Dataset: 1 samples (test)\n",
      "['SPA3']\n",
      "Using 785 genes\n",
      "\n",
      "Dataset loaded:\n",
      "  Length: 1\n",
      "Dataset info:\n",
      "Dataset length: 1\n",
      "Sample names: ['SPA3']\n",
      "\n",
      "First sample:\n",
      "Sample type: <class 'dataset.ViT_HEST1K'>\n",
      "\n",
      "Dataloader batches: 1\n",
      "\n",
      "Loading dataset with parameters:\n",
      "  Dataset: hest1k\n",
      "  Mode: test\n",
      "  Sample IDs: ['NCBI712']\n",
      "  Fold: 5\n",
      "HEST Dataset: 1 samples (test)\n",
      "['NCBI712']\n",
      "Using 785 genes\n",
      "\n",
      "Dataset loaded:\n",
      "  Length: 1\n",
      "Dataset info:\n",
      "Dataset length: 1\n",
      "Sample names: ['NCBI712']\n",
      "\n",
      "First sample:\n",
      "Sample type: <class 'dataset.ViT_HEST1K'>\n",
      "\n",
      "Dataloader batches: 1\n",
      "\n",
      "Loading dataset with parameters:\n",
      "  Dataset: hest1k\n",
      "  Mode: test\n",
      "  Sample IDs: ['TENX49']\n",
      "  Fold: 5\n",
      "HEST Dataset: 1 samples (test)\n",
      "['TENX49']\n",
      "Using 785 genes\n",
      "\n",
      "Dataset loaded:\n",
      "  Length: 1\n",
      "Dataset info:\n",
      "Dataset length: 1\n",
      "Sample names: ['TENX49']\n",
      "\n",
      "First sample:\n",
      "Sample type: <class 'dataset.ViT_HEST1K'>\n",
      "\n",
      "Dataloader batches: 1\n",
      "\n",
      "Loading dataset with parameters:\n",
      "  Dataset: hest1k\n",
      "  Mode: test\n",
      "  Sample IDs: ['SPA68']\n",
      "  Fold: 5\n",
      "HEST Dataset: 1 samples (test)\n",
      "['SPA68']\n",
      "Using 785 genes\n",
      "\n",
      "Dataset loaded:\n",
      "  Length: 1\n",
      "Dataset info:\n",
      "Dataset length: 1\n",
      "Sample names: ['SPA68']\n",
      "\n",
      "First sample:\n",
      "Sample type: <class 'dataset.ViT_HEST1K'>\n",
      "\n",
      "Dataloader batches: 1\n",
      "\n",
      "Loading dataset with parameters:\n",
      "  Dataset: hest1k\n",
      "  Mode: test\n",
      "  Sample IDs: ['SPA153']\n",
      "  Fold: 5\n",
      "HEST Dataset: 1 samples (test)\n",
      "['SPA153']\n",
      "Using 785 genes\n",
      "\n",
      "Dataset loaded:\n",
      "  Length: 1\n",
      "Dataset info:\n",
      "Dataset length: 1\n",
      "Sample names: ['SPA153']\n",
      "\n",
      "First sample:\n",
      "Sample type: <class 'dataset.ViT_HEST1K'>\n",
      "\n",
      "Dataloader batches: 1\n",
      "\n",
      "Loading dataset with parameters:\n",
      "  Dataset: hest1k\n",
      "  Mode: test\n",
      "  Sample IDs: ['MEND63']\n",
      "  Fold: 5\n",
      "HEST Dataset: 1 samples (test)\n",
      "['MEND63']\n",
      "Using 785 genes\n",
      "\n",
      "Dataset loaded:\n",
      "  Length: 1\n",
      "Dataset info:\n",
      "Dataset length: 1\n",
      "Sample names: ['MEND63']\n",
      "\n",
      "First sample:\n",
      "Sample type: <class 'dataset.ViT_HEST1K'>\n",
      "\n",
      "Dataloader batches: 1\n",
      "\n",
      "Loading dataset with parameters:\n",
      "  Dataset: hest1k\n",
      "  Mode: test\n",
      "  Sample IDs: ['MEND17']\n",
      "  Fold: 5\n",
      "HEST Dataset: 1 samples (test)\n",
      "['MEND17']\n",
      "Using 785 genes\n",
      "\n",
      "Dataset loaded:\n",
      "  Length: 1\n",
      "Dataset info:\n",
      "Dataset length: 1\n",
      "Sample names: ['MEND17']\n",
      "\n",
      "First sample:\n",
      "Sample type: <class 'dataset.ViT_HEST1K'>\n",
      "\n",
      "Dataloader batches: 1\n",
      "\n",
      "Loading dataset with parameters:\n",
      "  Dataset: hest1k\n",
      "  Mode: test\n",
      "  Sample IDs: ['NCBI656']\n",
      "  Fold: 5\n",
      "HEST Dataset: 1 samples (test)\n",
      "['NCBI656']\n",
      "Using 785 genes\n",
      "\n",
      "Dataset loaded:\n",
      "  Length: 1\n",
      "Dataset info:\n",
      "Dataset length: 1\n",
      "Sample names: ['NCBI656']\n",
      "\n",
      "First sample:\n",
      "Sample type: <class 'dataset.ViT_HEST1K'>\n",
      "\n",
      "Dataloader batches: 1\n",
      "\n",
      "Loading dataset with parameters:\n",
      "  Dataset: hest1k\n",
      "  Mode: test\n",
      "  Sample IDs: ['INT3']\n",
      "  Fold: 5\n",
      "HEST Dataset: 1 samples (test)\n",
      "['INT3']\n",
      "Using 785 genes\n",
      "\n",
      "Dataset loaded:\n",
      "  Length: 1\n",
      "Dataset info:\n",
      "Dataset length: 1\n",
      "Sample names: ['INT3']\n",
      "\n",
      "First sample:\n",
      "Sample type: <class 'dataset.ViT_HEST1K'>\n",
      "\n",
      "Dataloader batches: 1\n",
      "\n",
      "Loading dataset with parameters:\n",
      "  Dataset: hest1k\n",
      "  Mode: test\n",
      "  Sample IDs: ['SPA34']\n",
      "  Fold: 5\n",
      "HEST Dataset: 1 samples (test)\n",
      "['SPA34']\n",
      "Using 785 genes\n",
      "\n",
      "Dataset loaded:\n",
      "  Length: 1\n",
      "Dataset info:\n",
      "Dataset length: 1\n",
      "Sample names: ['SPA34']\n",
      "\n",
      "First sample:\n",
      "Sample type: <class 'dataset.ViT_HEST1K'>\n",
      "\n",
      "Dataloader batches: 1\n",
      "\n",
      "Loading dataset with parameters:\n",
      "  Dataset: hest1k\n",
      "  Mode: test\n",
      "  Sample IDs: ['TENX119']\n",
      "  Fold: 5\n",
      "HEST Dataset: 1 samples (test)\n",
      "['TENX119']\n",
      "Using 785 genes\n",
      "\n",
      "Dataset loaded:\n",
      "  Length: 1\n",
      "Dataset info:\n",
      "Dataset length: 1\n",
      "Sample names: ['TENX119']\n",
      "\n",
      "First sample:\n",
      "Sample type: <class 'dataset.ViT_HEST1K'>\n",
      "\n",
      "Dataloader batches: 1\n",
      "\n",
      "Loading dataset with parameters:\n",
      "  Dataset: hest1k\n",
      "  Mode: test\n",
      "  Sample IDs: ['MISC47']\n",
      "  Fold: 5\n",
      "HEST Dataset: 1 samples (test)\n",
      "['MISC47']\n",
      "Using 785 genes\n",
      "\n",
      "Dataset loaded:\n",
      "  Length: 1\n",
      "Dataset info:\n",
      "Dataset length: 1\n",
      "Sample names: ['MISC47']\n",
      "\n",
      "First sample:\n",
      "Sample type: <class 'dataset.ViT_HEST1K'>\n",
      "\n",
      "Dataloader batches: 1\n",
      "\n",
      "Loading dataset with parameters:\n",
      "  Dataset: hest1k\n",
      "  Mode: test\n",
      "  Sample IDs: ['MEND92']\n",
      "  Fold: 5\n",
      "HEST Dataset: 1 samples (test)\n",
      "['MEND92']\n",
      "Using 785 genes\n",
      "\n",
      "Dataset loaded:\n",
      "  Length: 1\n",
      "Dataset info:\n",
      "Dataset length: 1\n",
      "Sample names: ['MEND92']\n",
      "\n",
      "First sample:\n",
      "Sample type: <class 'dataset.ViT_HEST1K'>\n",
      "\n",
      "Dataloader batches: 1\n",
      "\n",
      "Loading dataset with parameters:\n",
      "  Dataset: hest1k\n",
      "  Mode: test\n",
      "  Sample IDs: ['MISC59']\n",
      "  Fold: 5\n",
      "HEST Dataset: 1 samples (test)\n",
      "['MISC59']\n",
      "Using 785 genes\n",
      "\n",
      "Dataset loaded:\n",
      "  Length: 1\n",
      "Dataset info:\n",
      "Dataset length: 1\n",
      "Sample names: ['MISC59']\n",
      "\n",
      "First sample:\n",
      "Sample type: <class 'dataset.ViT_HEST1K'>\n",
      "\n",
      "Dataloader batches: 1\n",
      "\n",
      "Loading dataset with parameters:\n",
      "  Dataset: hest1k\n",
      "  Mode: test\n",
      "  Sample IDs: ['NCBI713']\n",
      "  Fold: 5\n",
      "HEST Dataset: 1 samples (test)\n",
      "['NCBI713']\n",
      "Using 785 genes\n",
      "\n",
      "Dataset loaded:\n",
      "  Length: 1\n",
      "Dataset info:\n",
      "Dataset length: 1\n",
      "Sample names: ['NCBI713']\n",
      "\n",
      "First sample:\n",
      "Sample type: <class 'dataset.ViT_HEST1K'>\n",
      "\n",
      "Dataloader batches: 1\n",
      "\n",
      "Loading dataset with parameters:\n",
      "  Dataset: hest1k\n",
      "  Mode: test\n",
      "  Sample IDs: ['INT16']\n",
      "  Fold: 5\n",
      "HEST Dataset: 1 samples (test)\n",
      "['INT16']\n",
      "Using 785 genes\n",
      "\n",
      "Dataset loaded:\n",
      "  Length: 1\n",
      "Dataset info:\n",
      "Dataset length: 1\n",
      "Sample names: ['INT16']\n",
      "\n",
      "First sample:\n",
      "Sample type: <class 'dataset.ViT_HEST1K'>\n",
      "\n",
      "Dataloader batches: 1\n",
      "\n",
      "Loading dataset with parameters:\n",
      "  Dataset: hest1k\n",
      "  Mode: test\n",
      "  Sample IDs: ['SPA130']\n",
      "  Fold: 5\n",
      "HEST Dataset: 1 samples (test)\n",
      "['SPA130']\n",
      "Using 785 genes\n",
      "\n",
      "Dataset loaded:\n",
      "  Length: 1\n",
      "Dataset info:\n",
      "Dataset length: 1\n",
      "Sample names: ['SPA130']\n",
      "\n",
      "First sample:\n",
      "Sample type: <class 'dataset.ViT_HEST1K'>\n",
      "\n",
      "Dataloader batches: 1\n",
      "\n",
      "Loading dataset with parameters:\n",
      "  Dataset: hest1k\n",
      "  Mode: test\n",
      "  Sample IDs: ['NCBI705']\n",
      "  Fold: 5\n",
      "HEST Dataset: 1 samples (test)\n",
      "['NCBI705']\n",
      "Using 785 genes\n",
      "\n",
      "Dataset loaded:\n",
      "  Length: 1\n",
      "Dataset info:\n",
      "Dataset length: 1\n",
      "Sample names: ['NCBI705']\n",
      "\n",
      "First sample:\n",
      "Sample type: <class 'dataset.ViT_HEST1K'>\n",
      "\n",
      "Dataloader batches: 1\n",
      "\n",
      "Loading dataset with parameters:\n",
      "  Dataset: hest1k\n",
      "  Mode: test\n",
      "  Sample IDs: ['TENX132']\n",
      "  Fold: 5\n",
      "HEST Dataset: 1 samples (test)\n",
      "['TENX132']\n",
      "Using 785 genes\n",
      "\n",
      "Dataset loaded:\n",
      "  Length: 1\n",
      "Dataset info:\n",
      "Dataset length: 1\n",
      "Sample names: ['TENX132']\n",
      "\n",
      "First sample:\n",
      "Sample type: <class 'dataset.ViT_HEST1K'>\n",
      "\n",
      "Dataloader batches: 1\n",
      "\n",
      "Loading dataset with parameters:\n",
      "  Dataset: hest1k\n",
      "  Mode: test\n",
      "  Sample IDs: ['MISC31']\n",
      "  Fold: 5\n",
      "HEST Dataset: 1 samples (test)\n",
      "['MISC31']\n",
      "Using 785 genes\n",
      "\n",
      "Dataset loaded:\n",
      "  Length: 1\n",
      "Dataset info:\n",
      "Dataset length: 1\n",
      "Sample names: ['MISC31']\n",
      "\n",
      "First sample:\n",
      "Sample type: <class 'dataset.ViT_HEST1K'>\n",
      "\n",
      "Dataloader batches: 1\n",
      "\n",
      "Loading dataset with parameters:\n",
      "  Dataset: hest1k\n",
      "  Mode: test\n",
      "  Sample IDs: ['NCBI873']\n",
      "  Fold: 5\n",
      "HEST Dataset: 1 samples (test)\n",
      "['NCBI873']\n",
      "Using 785 genes\n",
      "\n",
      "Dataset loaded:\n",
      "  Length: 1\n",
      "Dataset info:\n",
      "Dataset length: 1\n",
      "Sample names: ['NCBI873']\n",
      "\n",
      "First sample:\n",
      "Sample type: <class 'dataset.ViT_HEST1K'>\n",
      "\n",
      "Dataloader batches: 1\n",
      "\n",
      "Loading dataset with parameters:\n",
      "  Dataset: hest1k\n",
      "  Mode: test\n",
      "  Sample IDs: ['MISC102']\n",
      "  Fold: 5\n",
      "HEST Dataset: 1 samples (test)\n",
      "['MISC102']\n",
      "Using 785 genes\n",
      "\n",
      "Dataset loaded:\n",
      "  Length: 1\n",
      "Dataset info:\n",
      "Dataset length: 1\n",
      "Sample names: ['MISC102']\n",
      "\n",
      "First sample:\n",
      "Sample type: <class 'dataset.ViT_HEST1K'>\n",
      "\n",
      "Dataloader batches: 1\n",
      "\n",
      "Loading dataset with parameters:\n",
      "  Dataset: hest1k\n",
      "  Mode: test\n",
      "  Sample IDs: ['MISC40']\n",
      "  Fold: 5\n",
      "HEST Dataset: 1 samples (test)\n",
      "['MISC40']\n",
      "Using 785 genes\n",
      "\n",
      "Dataset loaded:\n",
      "  Length: 1\n",
      "Dataset info:\n",
      "Dataset length: 1\n",
      "Sample names: ['MISC40']\n",
      "\n",
      "First sample:\n",
      "Sample type: <class 'dataset.ViT_HEST1K'>\n",
      "\n",
      "Dataloader batches: 1\n",
      "\n",
      "Loading dataset with parameters:\n",
      "  Dataset: hest1k\n",
      "  Mode: test\n",
      "  Sample IDs: ['SPA74']\n",
      "  Fold: 5\n",
      "HEST Dataset: 1 samples (test)\n",
      "['SPA74']\n",
      "Using 785 genes\n",
      "\n",
      "Dataset loaded:\n",
      "  Length: 1\n",
      "Dataset info:\n",
      "Dataset length: 1\n",
      "Sample names: ['SPA74']\n",
      "\n",
      "First sample:\n",
      "Sample type: <class 'dataset.ViT_HEST1K'>\n",
      "\n",
      "Dataloader batches: 1\n",
      "\n",
      "Loading dataset with parameters:\n",
      "  Dataset: hest1k\n",
      "  Mode: test\n",
      "  Sample IDs: ['NCBI830']\n",
      "  Fold: 5\n",
      "HEST Dataset: 1 samples (test)\n",
      "['NCBI830']\n",
      "Using 785 genes\n",
      "\n",
      "Dataset loaded:\n",
      "  Length: 1\n",
      "Dataset info:\n",
      "Dataset length: 1\n",
      "Sample names: ['NCBI830']\n",
      "\n",
      "First sample:\n",
      "Sample type: <class 'dataset.ViT_HEST1K'>\n",
      "\n",
      "Dataloader batches: 1\n",
      "\n",
      "Loading dataset with parameters:\n",
      "  Dataset: hest1k\n",
      "  Mode: test\n",
      "  Sample IDs: ['MISC44']\n",
      "  Fold: 5\n",
      "HEST Dataset: 1 samples (test)\n",
      "['MISC44']\n",
      "Using 785 genes\n",
      "\n",
      "Dataset loaded:\n",
      "  Length: 1\n",
      "Dataset info:\n",
      "Dataset length: 1\n",
      "Sample names: ['MISC44']\n",
      "\n",
      "First sample:\n",
      "Sample type: <class 'dataset.ViT_HEST1K'>\n",
      "\n",
      "Dataloader batches: 1\n"
     ]
    }
   ],
   "source": [
    "for sample_id in sample_ids:\n",
    "# for sample_id in ['MISC44']:\n",
    "    # Check dataset before testing\n",
    "    hestset = pk_load(fold, 'test', sample_ids=[sample_id], dataset='hest1k', flatten=False, adj=True, ori=True, prune=prune)\n",
    "    # Debug dataset contents\n",
    "    print(\"Dataset info:\")\n",
    "    print(f\"Dataset length: {len(hestset)}\")\n",
    "    if hasattr(hestset, 'names'):\n",
    "        print(f\"Sample names: {hestset.names}\")\n",
    "        \n",
    "    # Check first item\n",
    "    if len(hestset) <1:\n",
    "        print(\"Warning: Dataset is empty. Skipping.\")\n",
    "        continue\n",
    "    elif len(hestset) == 1:\n",
    "        sample = hestset\n",
    "    else: sample = hestset[0]\n",
    "    print(\"\\nFirst sample:\")\n",
    "    # Safely inspect sample contents\n",
    "    if isinstance(sample, tuple) or isinstance(sample, list):\n",
    "        # If sample is a collection of items (like tuple from dataset __getitem__)\n",
    "        for i, item in enumerate(sample):\n",
    "            if isinstance(item, torch.Tensor):\n",
    "                print(f\"Item {i}: Tensor shape {item.shape}, dtype {item.dtype}\")\n",
    "            elif isinstance(item, np.ndarray):\n",
    "                print(f\"Item {i}: Array shape {item.shape}, dtype {item.dtype}\")\n",
    "            else:\n",
    "                print(f\"Item {i}: Type {type(item)}\")\n",
    "    elif isinstance(sample, np.ndarray):\n",
    "        # If sample is a single numpy array\n",
    "        print(f\"Sample is ndarray with shape {sample.shape}\")\n",
    "    else:\n",
    "        # For other types\n",
    "        print(f\"Sample type: {type(sample)}\")\n",
    "\n",
    "    # Create dataloader and check\n",
    "    hest_loader = DataLoader(hestset, batch_size=1, num_workers=0, shuffle=False)\n",
    "    print(f\"\\nDataloader batches: {len(hest_loader)}\")"
   ]
  },
  {
   "cell_type": "code",
   "execution_count": null,
   "id": "6ba0f189",
   "metadata": {},
   "outputs": [
    {
     "name": "stdout",
     "output_type": "stream",
     "text": [
      "\n",
      "Loading dataset with parameters:\n",
      "  Dataset: hest1k\n",
      "  Mode: test\n",
      "  Sample IDs: ['NCBI474']\n",
      "  Fold: 5\n",
      "HEST Dataset: 1 samples (test)\n",
      "['NCBI474']\n",
      "Using 785 genes\n",
      "\n",
      "Dataset loaded:\n",
      "  Length: 1\n",
      "Number of batches in dataloader: 1\n"
     ]
    },
    {
     "name": "stderr",
     "output_type": "stream",
     "text": [
      "  0%|                                                                                                                                                                            | 0/1 [00:00<?, ?it/s]"
     ]
    },
    {
     "name": "stdout",
     "output_type": "stream",
     "text": [
      "\n",
      "Loading sample NCBI474\n",
      "AnnData object:\n",
      "  obs_names unique: True\n",
      "  var_names unique: True\n",
      "\n",
      "Processing sample NCBI474\n",
      "Sample NCBI474 has 758 common genes with the dataset\n",
      "Batch 0: patch shape = torch.Size([1, 598, 3, 112, 112])\n"
     ]
    },
    {
     "name": "stderr",
     "output_type": "stream",
     "text": [
      "100%|████████████████████████████████████████████████████████████████████████████████████████████████████████████████████████████████████████████████████████████████████| 1/1 [00:01<00:00,  1.67s/it]\n"
     ]
    },
    {
     "name": "stdout",
     "output_type": "stream",
     "text": [
      "Pred index is unique: True\n",
      "GT index is unique: True\n",
      "Data shapes: pred (598, 785), gt (598, 785)\n",
      "Pearson Correlation: 0.0000\n",
      "Valid correlations: 785/785\n",
      "\n",
      "Loading dataset with parameters:\n",
      "  Dataset: hest1k\n",
      "  Mode: test\n",
      "  Sample IDs: ['NCBI539']\n",
      "  Fold: 5\n",
      "HEST Dataset: 1 samples (test)\n",
      "['NCBI539']\n",
      "Using 785 genes\n",
      "\n",
      "Dataset loaded:\n",
      "  Length: 1\n",
      "Number of batches in dataloader: 1\n"
     ]
    },
    {
     "name": "stderr",
     "output_type": "stream",
     "text": [
      "  0%|                                                                                                                                                                            | 0/1 [00:00<?, ?it/s]"
     ]
    },
    {
     "name": "stdout",
     "output_type": "stream",
     "text": [
      "\n",
      "Loading sample NCBI539\n",
      "AnnData object:\n",
      "  obs_names unique: True\n",
      "  var_names unique: True\n",
      "\n",
      "Processing sample NCBI539\n",
      "Sample NCBI539 has 771 common genes with the dataset\n"
     ]
    },
    {
     "name": "stderr",
     "output_type": "stream",
     "text": [
      "100%|████████████████████████████████████████████████████████████████████████████████████████████████████████████████████████████████████████████████████████████████████| 1/1 [00:01<00:00,  1.68s/it]"
     ]
    },
    {
     "name": "stdout",
     "output_type": "stream",
     "text": [
      "Batch 0: patch shape = torch.Size([1, 475, 3, 112, 112])\n",
      "Pred index is unique: True\n",
      "GT index is unique: True\n",
      "Data shapes: pred (475, 785), gt (475, 785)\n",
      "Pearson Correlation: 0.0000\n",
      "Valid correlations: 785/785\n",
      "\n",
      "Loading dataset with parameters:\n",
      "  Dataset: hest1k\n",
      "  Mode: test\n",
      "  Sample IDs: ['MISC61']\n",
      "  Fold: 5\n"
     ]
    },
    {
     "name": "stderr",
     "output_type": "stream",
     "text": [
      "\n"
     ]
    },
    {
     "name": "stdout",
     "output_type": "stream",
     "text": [
      "HEST Dataset: 1 samples (test)\n",
      "['MISC61']\n",
      "Using 785 genes\n",
      "\n",
      "Dataset loaded:\n",
      "  Length: 1\n",
      "Number of batches in dataloader: 1\n"
     ]
    },
    {
     "name": "stderr",
     "output_type": "stream",
     "text": [
      "  0%|                                                                                                                                                                            | 0/1 [00:00<?, ?it/s]"
     ]
    },
    {
     "name": "stdout",
     "output_type": "stream",
     "text": [
      "\n",
      "Loading sample MISC61\n",
      "AnnData object:\n",
      "  obs_names unique: True\n",
      "  var_names unique: True\n",
      "\n",
      "Processing sample MISC61\n",
      "Sample MISC61 has 755 common genes with the dataset\n"
     ]
    },
    {
     "name": "stderr",
     "output_type": "stream",
     "text": [
      "100%|████████████████████████████████████████████████████████████████████████████████████████████████████████████████████████████████████████████████████████████████████| 1/1 [00:04<00:00,  4.03s/it]"
     ]
    },
    {
     "name": "stdout",
     "output_type": "stream",
     "text": [
      "Batch 0: patch shape = torch.Size([1, 2047, 3, 112, 112])\n",
      "Pred index is unique: True\n",
      "GT index is unique: True\n",
      "Data shapes: pred (2047, 785), gt (2047, 785)\n"
     ]
    },
    {
     "name": "stderr",
     "output_type": "stream",
     "text": [
      "\n"
     ]
    },
    {
     "name": "stdout",
     "output_type": "stream",
     "text": [
      "Pearson Correlation: 0.0561\n",
      "Valid correlations: 785/785\n",
      "\n",
      "Loading dataset with parameters:\n",
      "  Dataset: hest1k\n",
      "  Mode: test\n",
      "  Sample IDs: ['SPA102']\n",
      "  Fold: 5\n",
      "HEST Dataset: 1 samples (test)\n",
      "['SPA102']\n",
      "Using 785 genes\n",
      "\n",
      "Dataset loaded:\n",
      "  Length: 1\n",
      "Number of batches in dataloader: 1\n"
     ]
    },
    {
     "name": "stderr",
     "output_type": "stream",
     "text": [
      "  0%|                                                                                                                                                                            | 0/1 [00:00<?, ?it/s]"
     ]
    },
    {
     "name": "stdout",
     "output_type": "stream",
     "text": [
      "\n",
      "Loading sample SPA102\n",
      "AnnData object:\n",
      "  obs_names unique: True\n",
      "  var_names unique: True\n",
      "\n",
      "Processing sample SPA102\n",
      "Warning: No common genes found between the two lists.\n",
      "Warning: No common genes found between the two lists.\n",
      "Sample SPA102 has 0 common genes with the dataset\n"
     ]
    },
    {
     "name": "stderr",
     "output_type": "stream",
     "text": [
      "100%|████████████████████████████████████████████████████████████████████████████████████████████████████████████████████████████████████████████████████████████████████| 1/1 [00:02<00:00,  2.12s/it]"
     ]
    },
    {
     "name": "stdout",
     "output_type": "stream",
     "text": [
      "Batch 0: patch shape = torch.Size([1, 570, 3, 112, 112])\n",
      "Pred index is unique: True\n",
      "GT index is unique: True\n",
      "Data shapes: pred (570, 785), gt (570, 785)\n",
      "Pearson Correlation: 0.0000\n",
      "Valid correlations: 785/785\n",
      "\n",
      "Loading dataset with parameters:\n",
      "  Dataset: hest1k\n",
      "  Mode: test\n",
      "  Sample IDs: ['TENX50']\n",
      "  Fold: 5\n"
     ]
    },
    {
     "name": "stderr",
     "output_type": "stream",
     "text": [
      "\n"
     ]
    },
    {
     "name": "stdout",
     "output_type": "stream",
     "text": [
      "HEST Dataset: 1 samples (test)\n",
      "['TENX50']\n",
      "Using 785 genes\n",
      "\n",
      "Dataset loaded:\n",
      "  Length: 1\n",
      "Number of batches in dataloader: 1\n"
     ]
    },
    {
     "name": "stderr",
     "output_type": "stream",
     "text": [
      "  0%|                                                                                                                                                                            | 0/1 [00:00<?, ?it/s]"
     ]
    },
    {
     "name": "stdout",
     "output_type": "stream",
     "text": [
      "\n",
      "Loading sample TENX50\n",
      "AnnData object:\n",
      "  obs_names unique: True\n",
      "  var_names unique: True\n",
      "\n",
      "Processing sample TENX50\n",
      "Sample TENX50 has 728 common genes with the dataset\n",
      "Batch 0: patch shape = torch.Size([1, 2781, 3, 112, 112])\n"
     ]
    },
    {
     "name": "stderr",
     "output_type": "stream",
     "text": [
      "100%|████████████████████████████████████████████████████████████████████████████████████████████████████████████████████████████████████████████████████████████████████| 1/1 [00:08<00:00,  8.30s/it]\n"
     ]
    },
    {
     "name": "stdout",
     "output_type": "stream",
     "text": [
      "Pred index is unique: True\n",
      "GT index is unique: True\n",
      "Data shapes: pred (2781, 785), gt (2781, 785)\n",
      "Pearson Correlation: 0.0000\n",
      "Valid correlations: 785/785\n",
      "\n",
      "Loading dataset with parameters:\n",
      "  Dataset: hest1k\n",
      "  Mode: test\n",
      "  Sample IDs: ['MISC139']\n",
      "  Fold: 5\n",
      "HEST Dataset: 1 samples (test)\n",
      "['MISC139']\n",
      "Using 785 genes\n",
      "\n",
      "Dataset loaded:\n",
      "  Length: 1\n",
      "Number of batches in dataloader: 1\n"
     ]
    },
    {
     "name": "stderr",
     "output_type": "stream",
     "text": [
      "  0%|                                                                                                                                                                            | 0/1 [00:00<?, ?it/s]"
     ]
    },
    {
     "name": "stdout",
     "output_type": "stream",
     "text": [
      "\n",
      "Loading sample MISC139\n",
      "AnnData object:\n",
      "  obs_names unique: True\n",
      "  var_names unique: True\n",
      "\n",
      "Processing sample MISC139\n",
      "Warning: No common genes found between the two lists.\n",
      "Warning: No common genes found between the two lists.\n",
      "Sample MISC139 has 0 common genes with the dataset\n",
      "Batch 0: patch shape = torch.Size([1, 2562, 3, 112, 112])\n"
     ]
    },
    {
     "name": "stderr",
     "output_type": "stream",
     "text": [
      "100%|████████████████████████████████████████████████████████████████████████████████████████████████████████████████████████████████████████████████████████████████████| 1/1 [00:06<00:00,  6.16s/it]\n"
     ]
    },
    {
     "name": "stdout",
     "output_type": "stream",
     "text": [
      "Pred index is unique: True\n",
      "GT index is unique: True\n",
      "Data shapes: pred (2562, 785), gt (2562, 785)\n",
      "Pearson Correlation: 0.0000\n",
      "Valid correlations: 785/785\n",
      "\n",
      "Loading dataset with parameters:\n",
      "  Dataset: hest1k\n",
      "  Mode: test\n",
      "  Sample IDs: ['TENX24']\n",
      "  Fold: 5\n",
      "HEST Dataset: 1 samples (test)\n",
      "['TENX24']\n",
      "Using 785 genes\n",
      "\n",
      "Dataset loaded:\n",
      "  Length: 1\n",
      "Number of batches in dataloader: 1\n"
     ]
    },
    {
     "name": "stderr",
     "output_type": "stream",
     "text": [
      "  0%|                                                                                                                                                                            | 0/1 [00:00<?, ?it/s]"
     ]
    },
    {
     "name": "stdout",
     "output_type": "stream",
     "text": [
      "\n",
      "Loading sample TENX24\n",
      "AnnData object:\n",
      "  obs_names unique: True\n",
      "  var_names unique: True\n",
      "\n",
      "Processing sample TENX24\n",
      "Sample TENX24 has 762 common genes with the dataset\n",
      "Batch 0: patch shape = torch.Size([1, 4325, 3, 112, 112])\n"
     ]
    },
    {
     "name": "stderr",
     "output_type": "stream",
     "text": [
      "100%|████████████████████████████████████████████████████████████████████████████████████████████████████████████████████████████████████████████████████████████████████| 1/1 [00:08<00:00,  8.94s/it]\n"
     ]
    },
    {
     "name": "stdout",
     "output_type": "stream",
     "text": [
      "Pred index is unique: True\n",
      "GT index is unique: True\n",
      "Data shapes: pred (4325, 785), gt (4325, 785)\n",
      "Pearson Correlation: 0.0272\n",
      "Valid correlations: 785/785\n",
      "\n",
      "Loading dataset with parameters:\n",
      "  Dataset: hest1k\n",
      "  Mode: test\n",
      "  Sample IDs: ['NCBI537']\n",
      "  Fold: 5\n",
      "HEST Dataset: 1 samples (test)\n",
      "['NCBI537']\n",
      "Using 785 genes\n",
      "\n",
      "Dataset loaded:\n",
      "  Length: 1\n",
      "Number of batches in dataloader: 1\n"
     ]
    },
    {
     "name": "stderr",
     "output_type": "stream",
     "text": [
      "  0%|                                                                                                                                                                            | 0/1 [00:00<?, ?it/s]"
     ]
    },
    {
     "name": "stdout",
     "output_type": "stream",
     "text": [
      "\n",
      "Loading sample NCBI537\n",
      "AnnData object:\n",
      "  obs_names unique: True\n",
      "  var_names unique: True\n",
      "\n",
      "Processing sample NCBI537\n",
      "Sample NCBI537 has 771 common genes with the dataset\n"
     ]
    },
    {
     "name": "stderr",
     "output_type": "stream",
     "text": [
      "100%|████████████████████████████████████████████████████████████████████████████████████████████████████████████████████████████████████████████████████████████████████| 1/1 [00:01<00:00,  1.99s/it]"
     ]
    },
    {
     "name": "stdout",
     "output_type": "stream",
     "text": [
      "Batch 0: patch shape = torch.Size([1, 416, 3, 112, 112])\n",
      "Pred index is unique: True\n",
      "GT index is unique: True\n",
      "Data shapes: pred (416, 785), gt (416, 785)\n"
     ]
    },
    {
     "name": "stderr",
     "output_type": "stream",
     "text": [
      "\n"
     ]
    },
    {
     "name": "stdout",
     "output_type": "stream",
     "text": [
      "Pearson Correlation: 0.0261\n",
      "Valid correlations: 785/785\n",
      "\n",
      "Loading dataset with parameters:\n",
      "  Dataset: hest1k\n",
      "  Mode: test\n",
      "  Sample IDs: ['NCBI566']\n",
      "  Fold: 5\n",
      "HEST Dataset: 1 samples (test)\n",
      "['NCBI566']\n",
      "Using 785 genes\n",
      "\n",
      "Dataset loaded:\n",
      "  Length: 1\n",
      "Number of batches in dataloader: 1\n"
     ]
    },
    {
     "name": "stderr",
     "output_type": "stream",
     "text": [
      "  0%|                                                                                                                                                                            | 0/1 [00:00<?, ?it/s]"
     ]
    },
    {
     "name": "stdout",
     "output_type": "stream",
     "text": [
      "\n",
      "Loading sample NCBI566\n",
      "AnnData object:\n",
      "  obs_names unique: True\n",
      "  var_names unique: True\n",
      "\n",
      "Processing sample NCBI566\n",
      "Sample NCBI566 has 762 common genes with the dataset\n"
     ]
    },
    {
     "name": "stderr",
     "output_type": "stream",
     "text": [
      "100%|████████████████████████████████████████████████████████████████████████████████████████████████████████████████████████████████████████████████████████████████████| 1/1 [00:03<00:00,  3.00s/it]"
     ]
    },
    {
     "name": "stdout",
     "output_type": "stream",
     "text": [
      "Batch 0: patch shape = torch.Size([1, 939, 3, 112, 112])\n",
      "Pred index is unique: True\n",
      "GT index is unique: True\n",
      "Data shapes: pred (939, 785), gt (939, 785)\n",
      "Pearson Correlation: 0.0000\n",
      "Valid correlations: 785/785\n",
      "\n",
      "Loading dataset with parameters:\n",
      "  Dataset: hest1k\n",
      "  Mode: test\n",
      "  Sample IDs: ['NCBI463']\n",
      "  Fold: 5\n"
     ]
    },
    {
     "name": "stderr",
     "output_type": "stream",
     "text": [
      "\n"
     ]
    },
    {
     "name": "stdout",
     "output_type": "stream",
     "text": [
      "HEST Dataset: 1 samples (test)\n",
      "['NCBI463']\n",
      "Using 785 genes\n",
      "\n",
      "Dataset loaded:\n",
      "  Length: 1\n",
      "Number of batches in dataloader: 1\n"
     ]
    },
    {
     "name": "stderr",
     "output_type": "stream",
     "text": [
      "  0%|                                                                                                                                                                            | 0/1 [00:00<?, ?it/s]"
     ]
    },
    {
     "name": "stdout",
     "output_type": "stream",
     "text": [
      "\n",
      "Loading sample NCBI463\n",
      "AnnData object:\n",
      "  obs_names unique: True\n",
      "  var_names unique: True\n",
      "\n",
      "Processing sample NCBI463\n",
      "Sample NCBI463 has 758 common genes with the dataset\n"
     ]
    },
    {
     "name": "stderr",
     "output_type": "stream",
     "text": [
      "100%|████████████████████████████████████████████████████████████████████████████████████████████████████████████████████████████████████████████████████████████████████| 1/1 [00:03<00:00,  3.01s/it]"
     ]
    },
    {
     "name": "stdout",
     "output_type": "stream",
     "text": [
      "Batch 0: patch shape = torch.Size([1, 1253, 3, 112, 112])\n",
      "Pred index is unique: True\n",
      "GT index is unique: True\n",
      "Data shapes: pred (1253, 785), gt (1253, 785)\n",
      "Pearson Correlation: 0.0000\n",
      "Valid correlations: 785/785\n",
      "\n",
      "Loading dataset with parameters:\n",
      "  Dataset: hest1k\n",
      "  Mode: test\n",
      "  Sample IDs: ['MISC51']\n",
      "  Fold: 5\n"
     ]
    },
    {
     "name": "stderr",
     "output_type": "stream",
     "text": [
      "\n"
     ]
    },
    {
     "name": "stdout",
     "output_type": "stream",
     "text": [
      "HEST Dataset: 1 samples (test)\n",
      "['MISC51']\n",
      "Using 785 genes\n",
      "\n",
      "Dataset loaded:\n",
      "  Length: 1\n",
      "Number of batches in dataloader: 1\n"
     ]
    },
    {
     "name": "stderr",
     "output_type": "stream",
     "text": [
      "  0%|                                                                                                                                                                            | 0/1 [00:00<?, ?it/s]"
     ]
    },
    {
     "name": "stdout",
     "output_type": "stream",
     "text": [
      "\n",
      "Loading sample MISC51\n",
      "AnnData object:\n",
      "  obs_names unique: True\n",
      "  var_names unique: True\n",
      "\n",
      "Processing sample MISC51\n",
      "Sample MISC51 has 756 common genes with the dataset\n",
      "Batch 0: patch shape = torch.Size([1, 3076, 3, 112, 112])\n"
     ]
    },
    {
     "name": "stderr",
     "output_type": "stream",
     "text": [
      "100%|████████████████████████████████████████████████████████████████████████████████████████████████████████████████████████████████████████████████████████████████████| 1/1 [00:06<00:00,  6.23s/it]\n"
     ]
    },
    {
     "name": "stdout",
     "output_type": "stream",
     "text": [
      "Pred index is unique: True\n",
      "GT index is unique: True\n",
      "Data shapes: pred (3076, 785), gt (3076, 785)\n",
      "Pearson Correlation: 0.0247\n",
      "Valid correlations: 785/785\n",
      "\n",
      "Loading dataset with parameters:\n",
      "  Dataset: hest1k\n",
      "  Mode: test\n",
      "  Sample IDs: ['SPA104']\n",
      "  Fold: 5\n",
      "HEST Dataset: 1 samples (test)\n",
      "['SPA104']\n",
      "Using 785 genes\n",
      "\n",
      "Dataset loaded:\n",
      "  Length: 1\n",
      "Number of batches in dataloader: 1\n"
     ]
    },
    {
     "name": "stderr",
     "output_type": "stream",
     "text": [
      "  0%|                                                                                                                                                                            | 0/1 [00:00<?, ?it/s]"
     ]
    },
    {
     "name": "stdout",
     "output_type": "stream",
     "text": [
      "\n",
      "Loading sample SPA104\n",
      "AnnData object:\n",
      "  obs_names unique: True\n",
      "  var_names unique: True\n",
      "\n",
      "Processing sample SPA104\n",
      "Warning: No common genes found between the two lists.\n",
      "Warning: No common genes found between the two lists.\n",
      "Sample SPA104 has 0 common genes with the dataset\n"
     ]
    },
    {
     "name": "stderr",
     "output_type": "stream",
     "text": [
      "100%|████████████████████████████████████████████████████████████████████████████████████████████████████████████████████████████████████████████████████████████████████| 1/1 [00:02<00:00,  2.07s/it]"
     ]
    },
    {
     "name": "stdout",
     "output_type": "stream",
     "text": [
      "Batch 0: patch shape = torch.Size([1, 587, 3, 112, 112])\n",
      "Pred index is unique: True\n",
      "GT index is unique: True\n",
      "Data shapes: pred (587, 785), gt (587, 785)\n",
      "Pearson Correlation: 0.0000\n",
      "Valid correlations: 785/785\n",
      "\n",
      "Loading dataset with parameters:\n",
      "  Dataset: hest1k\n",
      "  Mode: test\n",
      "  Sample IDs: ['NCBI711']\n",
      "  Fold: 5\n"
     ]
    },
    {
     "name": "stderr",
     "output_type": "stream",
     "text": [
      "\n"
     ]
    },
    {
     "name": "stdout",
     "output_type": "stream",
     "text": [
      "HEST Dataset: 1 samples (test)\n",
      "['NCBI711']\n",
      "Using 785 genes\n",
      "\n",
      "Dataset loaded:\n",
      "  Length: 1\n",
      "Number of batches in dataloader: 1\n"
     ]
    },
    {
     "name": "stderr",
     "output_type": "stream",
     "text": [
      "  0%|                                                                                                                                                                            | 0/1 [00:00<?, ?it/s]"
     ]
    },
    {
     "name": "stdout",
     "output_type": "stream",
     "text": [
      "\n",
      "Loading sample NCBI711\n",
      "AnnData object:\n",
      "  obs_names unique: True\n",
      "  var_names unique: True\n",
      "\n",
      "Processing sample NCBI711\n",
      "Sample NCBI711 has 762 common genes with the dataset\n",
      "Batch 0: patch shape = torch.Size([1, 2627, 3, 112, 112])\n"
     ]
    },
    {
     "name": "stderr",
     "output_type": "stream",
     "text": [
      "100%|████████████████████████████████████████████████████████████████████████████████████████████████████████████████████████████████████████████████████████████████████| 1/1 [00:05<00:00,  5.36s/it]\n"
     ]
    },
    {
     "name": "stdout",
     "output_type": "stream",
     "text": [
      "Pred index is unique: True\n",
      "GT index is unique: True\n",
      "Data shapes: pred (2627, 785), gt (2627, 785)\n",
      "Pearson Correlation: 0.0000\n",
      "Valid correlations: 785/785\n",
      "\n",
      "Loading dataset with parameters:\n",
      "  Dataset: hest1k\n",
      "  Mode: test\n",
      "  Sample IDs: ['MISC29']\n",
      "  Fold: 5\n",
      "HEST Dataset: 1 samples (test)\n",
      "['MISC29']\n",
      "Using 785 genes\n",
      "\n",
      "Dataset loaded:\n",
      "  Length: 1\n",
      "Number of batches in dataloader: 1\n"
     ]
    },
    {
     "name": "stderr",
     "output_type": "stream",
     "text": [
      "  0%|                                                                                                                                                                            | 0/1 [00:00<?, ?it/s]"
     ]
    },
    {
     "name": "stdout",
     "output_type": "stream",
     "text": [
      "\n",
      "Loading sample MISC29\n",
      "AnnData object:\n",
      "  obs_names unique: True\n",
      "  var_names unique: True\n",
      "\n",
      "Processing sample MISC29\n",
      "Sample MISC29 has 771 common genes with the dataset\n",
      "Batch 0: patch shape = torch.Size([1, 2283, 3, 112, 112])\n"
     ]
    },
    {
     "name": "stderr",
     "output_type": "stream",
     "text": [
      "100%|████████████████████████████████████████████████████████████████████████████████████████████████████████████████████████████████████████████████████████████████████| 1/1 [00:04<00:00,  4.51s/it]\n"
     ]
    },
    {
     "name": "stdout",
     "output_type": "stream",
     "text": [
      "Pred index is unique: True\n",
      "GT index is unique: True\n",
      "Data shapes: pred (2283, 785), gt (2283, 785)\n",
      "Pearson Correlation: 0.0000\n",
      "Valid correlations: 785/785\n",
      "\n",
      "Loading dataset with parameters:\n",
      "  Dataset: hest1k\n",
      "  Mode: test\n",
      "  Sample IDs: ['SPA138']\n",
      "  Fold: 5\n",
      "HEST Dataset: 1 samples (test)\n",
      "['SPA138']\n",
      "Using 785 genes\n",
      "\n",
      "Dataset loaded:\n",
      "  Length: 1\n",
      "Number of batches in dataloader: 1\n"
     ]
    },
    {
     "name": "stderr",
     "output_type": "stream",
     "text": [
      "  0%|                                                                                                                                                                            | 0/1 [00:00<?, ?it/s]"
     ]
    },
    {
     "name": "stdout",
     "output_type": "stream",
     "text": [
      "\n",
      "Loading sample SPA138\n",
      "AnnData object:\n",
      "  obs_names unique: True\n",
      "  var_names unique: True\n",
      "\n",
      "Processing sample SPA138\n",
      "Warning: No missing genes found.\n",
      "Sample SPA138 has 785 common genes with the dataset\n"
     ]
    },
    {
     "name": "stderr",
     "output_type": "stream",
     "text": [
      "100%|████████████████████████████████████████████████████████████████████████████████████████████████████████████████████████████████████████████████████████████████████| 1/1 [00:01<00:00,  1.06s/it]"
     ]
    },
    {
     "name": "stdout",
     "output_type": "stream",
     "text": [
      "Batch 0: patch shape = torch.Size([1, 181, 3, 112, 112])\n",
      "Pred index is unique: True\n",
      "GT index is unique: True\n",
      "Data shapes: pred (181, 785), gt (181, 785)\n"
     ]
    },
    {
     "name": "stderr",
     "output_type": "stream",
     "text": [
      "\n"
     ]
    },
    {
     "name": "stdout",
     "output_type": "stream",
     "text": [
      "Pearson Correlation: 0.1096\n",
      "Valid correlations: 785/785\n",
      "\n",
      "Loading dataset with parameters:\n",
      "  Dataset: hest1k\n",
      "  Mode: test\n",
      "  Sample IDs: ['MEND51']\n",
      "  Fold: 5\n",
      "HEST Dataset: 1 samples (test)\n",
      "['MEND51']\n",
      "Using 785 genes\n",
      "\n",
      "Dataset loaded:\n",
      "  Length: 1\n",
      "Number of batches in dataloader: 1\n"
     ]
    },
    {
     "name": "stderr",
     "output_type": "stream",
     "text": [
      "  0%|                                                                                                                                                                            | 0/1 [00:00<?, ?it/s]"
     ]
    },
    {
     "name": "stdout",
     "output_type": "stream",
     "text": [
      "\n",
      "Loading sample MEND51\n",
      "AnnData object:\n",
      "  obs_names unique: True\n",
      "  var_names unique: True\n",
      "\n",
      "Processing sample MEND51\n",
      "Sample MEND51 has 771 common genes with the dataset\n"
     ]
    },
    {
     "name": "stderr",
     "output_type": "stream",
     "text": [
      "100%|████████████████████████████████████████████████████████████████████████████████████████████████████████████████████████████████████████████████████████████████████| 1/1 [00:02<00:00,  2.24s/it]"
     ]
    },
    {
     "name": "stdout",
     "output_type": "stream",
     "text": [
      "Batch 0: patch shape = torch.Size([1, 416, 3, 112, 112])\n",
      "Pred index is unique: True\n",
      "GT index is unique: True\n",
      "Data shapes: pred (416, 785), gt (416, 785)\n"
     ]
    },
    {
     "name": "stderr",
     "output_type": "stream",
     "text": [
      "\n"
     ]
    },
    {
     "name": "stdout",
     "output_type": "stream",
     "text": [
      "Pearson Correlation: 0.0261\n",
      "Valid correlations: 785/785\n",
      "\n",
      "Loading dataset with parameters:\n",
      "  Dataset: hest1k\n",
      "  Mode: test\n",
      "  Sample IDs: ['MEND41']\n",
      "  Fold: 5\n",
      "HEST Dataset: 1 samples (test)\n",
      "['MEND41']\n",
      "Using 785 genes\n",
      "\n",
      "Dataset loaded:\n",
      "  Length: 1\n",
      "Number of batches in dataloader: 1\n"
     ]
    },
    {
     "name": "stderr",
     "output_type": "stream",
     "text": [
      "  0%|                                                                                                                                                                            | 0/1 [00:00<?, ?it/s]"
     ]
    },
    {
     "name": "stdout",
     "output_type": "stream",
     "text": [
      "\n",
      "Loading sample MEND41\n",
      "AnnData object:\n",
      "  obs_names unique: True\n",
      "  var_names unique: True\n",
      "\n",
      "Processing sample MEND41\n",
      "Sample MEND41 has 771 common genes with the dataset\n"
     ]
    },
    {
     "name": "stderr",
     "output_type": "stream",
     "text": [
      "100%|████████████████████████████████████████████████████████████████████████████████████████████████████████████████████████████████████████████████████████████████████| 1/1 [00:01<00:00,  1.92s/it]"
     ]
    },
    {
     "name": "stdout",
     "output_type": "stream",
     "text": [
      "Batch 0: patch shape = torch.Size([1, 439, 3, 112, 112])\n",
      "Pred index is unique: True\n",
      "GT index is unique: True\n",
      "Data shapes: pred (439, 785), gt (439, 785)\n"
     ]
    },
    {
     "name": "stderr",
     "output_type": "stream",
     "text": [
      "\n"
     ]
    },
    {
     "name": "stdout",
     "output_type": "stream",
     "text": [
      "Pearson Correlation: 0.0239\n",
      "Valid correlations: 785/785\n",
      "\n",
      "Loading dataset with parameters:\n",
      "  Dataset: hest1k\n",
      "  Mode: test\n",
      "  Sample IDs: ['NCBI565']\n",
      "  Fold: 5\n",
      "HEST Dataset: 1 samples (test)\n",
      "['NCBI565']\n",
      "Using 785 genes\n",
      "\n",
      "Dataset loaded:\n",
      "  Length: 1\n",
      "Number of batches in dataloader: 1\n"
     ]
    },
    {
     "name": "stderr",
     "output_type": "stream",
     "text": [
      "  0%|                                                                                                                                                                            | 0/1 [00:00<?, ?it/s]"
     ]
    },
    {
     "name": "stdout",
     "output_type": "stream",
     "text": [
      "\n",
      "Loading sample NCBI565\n",
      "AnnData object:\n",
      "  obs_names unique: True\n",
      "  var_names unique: True\n",
      "\n",
      "Processing sample NCBI565\n",
      "Sample NCBI565 has 762 common genes with the dataset\n"
     ]
    },
    {
     "name": "stderr",
     "output_type": "stream",
     "text": [
      "100%|████████████████████████████████████████████████████████████████████████████████████████████████████████████████████████████████████████████████████████████████████| 1/1 [00:02<00:00,  2.57s/it]"
     ]
    },
    {
     "name": "stdout",
     "output_type": "stream",
     "text": [
      "Batch 0: patch shape = torch.Size([1, 1085, 3, 112, 112])\n",
      "Pred index is unique: True\n",
      "GT index is unique: True\n",
      "Data shapes: pred (1085, 785), gt (1085, 785)\n",
      "Pearson Correlation: 0.0000\n",
      "Valid correlations: 785/785\n",
      "\n",
      "Loading dataset with parameters:\n",
      "  Dataset: hest1k\n",
      "  Mode: test\n",
      "  Sample IDs: ['SPA127']\n",
      "  Fold: 5\n"
     ]
    },
    {
     "name": "stderr",
     "output_type": "stream",
     "text": [
      "\n"
     ]
    },
    {
     "name": "stdout",
     "output_type": "stream",
     "text": [
      "HEST Dataset: 1 samples (test)\n",
      "['SPA127']\n",
      "Using 785 genes\n",
      "\n",
      "Dataset loaded:\n",
      "  Length: 1\n",
      "Number of batches in dataloader: 1\n"
     ]
    },
    {
     "name": "stderr",
     "output_type": "stream",
     "text": [
      "  0%|                                                                                                                                                                            | 0/1 [00:00<?, ?it/s]"
     ]
    },
    {
     "name": "stdout",
     "output_type": "stream",
     "text": [
      "\n",
      "Loading sample SPA127\n",
      "AnnData object:\n",
      "  obs_names unique: True\n",
      "  var_names unique: True\n",
      "\n",
      "Processing sample SPA127\n",
      "Warning: No missing genes found.\n",
      "Sample SPA127 has 785 common genes with the dataset\n"
     ]
    },
    {
     "name": "stderr",
     "output_type": "stream",
     "text": [
      "100%|████████████████████████████████████████████████████████████████████████████████████████████████████████████████████████████████████████████████████████████████████| 1/1 [00:02<00:00,  2.38s/it]"
     ]
    },
    {
     "name": "stdout",
     "output_type": "stream",
     "text": [
      "Batch 0: patch shape = torch.Size([1, 691, 3, 112, 112])\n",
      "Pred index is unique: True\n",
      "GT index is unique: True\n",
      "Data shapes: pred (691, 785), gt (691, 785)\n"
     ]
    },
    {
     "name": "stderr",
     "output_type": "stream",
     "text": [
      "\n"
     ]
    },
    {
     "name": "stdout",
     "output_type": "stream",
     "text": [
      "Pearson Correlation: 0.0110\n",
      "Valid correlations: 785/785\n",
      "\n",
      "Loading dataset with parameters:\n",
      "  Dataset: hest1k\n",
      "  Mode: test\n",
      "  Sample IDs: ['TENX154']\n",
      "  Fold: 5\n",
      "HEST Dataset: 1 samples (test)\n",
      "['TENX154']\n",
      "Using 785 genes\n",
      "\n",
      "Dataset loaded:\n",
      "  Length: 1\n",
      "Number of batches in dataloader: 1\n"
     ]
    },
    {
     "name": "stderr",
     "output_type": "stream",
     "text": [
      "  0%|                                                                                                                                                                            | 0/1 [00:00<?, ?it/s]"
     ]
    },
    {
     "name": "stdout",
     "output_type": "stream",
     "text": [
      "\n",
      "Loading sample TENX154\n",
      "AnnData object:\n",
      "  obs_names unique: True\n",
      "  var_names unique: False\n",
      "\n",
      "Processing sample TENX154\n",
      "Found 3 duplicate gene names, making them unique\n",
      "Sample TENX154 has 734 common genes with the dataset\n"
     ]
    },
    {
     "name": "stderr",
     "output_type": "stream",
     "text": [
      "100%|████████████████████████████████████████████████████████████████████████████████████████████████████████████████████████████████████████████████████████████████████| 1/1 [00:05<00:00,  5.76s/it]"
     ]
    },
    {
     "name": "stdout",
     "output_type": "stream",
     "text": [
      "Batch 0: patch shape = torch.Size([1, 2220, 3, 112, 112])\n",
      "Pred index is unique: True\n",
      "GT index is unique: True\n",
      "Data shapes: pred (2220, 785), gt (2220, 785)\n"
     ]
    },
    {
     "name": "stderr",
     "output_type": "stream",
     "text": [
      "\n"
     ]
    },
    {
     "name": "stdout",
     "output_type": "stream",
     "text": [
      "Pearson Correlation: 0.0705\n",
      "Valid correlations: 785/785\n",
      "\n",
      "Loading dataset with parameters:\n",
      "  Dataset: hest1k\n",
      "  Mode: test\n",
      "  Sample IDs: ['NCBI497']\n",
      "  Fold: 5\n",
      "HEST Dataset: 1 samples (test)\n",
      "['NCBI497']\n",
      "Using 785 genes\n",
      "\n",
      "Dataset loaded:\n",
      "  Length: 1\n",
      "Number of batches in dataloader: 1\n"
     ]
    },
    {
     "name": "stderr",
     "output_type": "stream",
     "text": [
      "  0%|                                                                                                                                                                            | 0/1 [00:00<?, ?it/s]"
     ]
    },
    {
     "name": "stdout",
     "output_type": "stream",
     "text": [
      "\n",
      "Loading sample NCBI497\n",
      "AnnData object:\n",
      "  obs_names unique: True\n",
      "  var_names unique: True\n",
      "\n",
      "Processing sample NCBI497\n",
      "Sample NCBI497 has 758 common genes with the dataset\n"
     ]
    },
    {
     "name": "stderr",
     "output_type": "stream",
     "text": [
      "100%|████████████████████████████████████████████████████████████████████████████████████████████████████████████████████████████████████████████████████████████████████| 1/1 [00:02<00:00,  2.13s/it]"
     ]
    },
    {
     "name": "stdout",
     "output_type": "stream",
     "text": [
      "Batch 0: patch shape = torch.Size([1, 765, 3, 112, 112])\n",
      "Pred index is unique: True\n",
      "GT index is unique: True\n",
      "Data shapes: pred (765, 785), gt (765, 785)\n",
      "Pearson Correlation: 0.0000\n",
      "Valid correlations: 785/785\n",
      "\n",
      "Loading dataset with parameters:\n",
      "  Dataset: hest1k\n",
      "  Mode: test\n",
      "  Sample IDs: ['MISC48']\n",
      "  Fold: 5\n"
     ]
    },
    {
     "name": "stderr",
     "output_type": "stream",
     "text": [
      "\n"
     ]
    },
    {
     "name": "stdout",
     "output_type": "stream",
     "text": [
      "HEST Dataset: 1 samples (test)\n",
      "['MISC48']\n",
      "Using 785 genes\n",
      "\n",
      "Dataset loaded:\n",
      "  Length: 1\n",
      "Number of batches in dataloader: 1\n"
     ]
    },
    {
     "name": "stderr",
     "output_type": "stream",
     "text": [
      "  0%|                                                                                                                                                                            | 0/1 [00:00<?, ?it/s]"
     ]
    },
    {
     "name": "stdout",
     "output_type": "stream",
     "text": [
      "\n",
      "Loading sample MISC48\n",
      "AnnData object:\n",
      "  obs_names unique: True\n",
      "  var_names unique: True\n",
      "\n",
      "Processing sample MISC48\n",
      "Sample MISC48 has 756 common genes with the dataset\n",
      "Batch 0: patch shape = torch.Size([1, 3577, 3, 112, 112])\n"
     ]
    },
    {
     "name": "stderr",
     "output_type": "stream",
     "text": [
      "100%|████████████████████████████████████████████████████████████████████████████████████████████████████████████████████████████████████████████████████████████████████| 1/1 [00:09<00:00,  9.84s/it]\n"
     ]
    },
    {
     "name": "stdout",
     "output_type": "stream",
     "text": [
      "Pred index is unique: True\n",
      "GT index is unique: True\n",
      "Data shapes: pred (3577, 785), gt (3577, 785)\n",
      "Pearson Correlation: 0.1284\n",
      "Valid correlations: 785/785\n",
      "\n",
      "Loading dataset with parameters:\n",
      "  Dataset: hest1k\n",
      "  Mode: test\n",
      "  Sample IDs: ['MEND24']\n",
      "  Fold: 5\n",
      "HEST Dataset: 1 samples (test)\n",
      "['MEND24']\n",
      "Using 785 genes\n",
      "\n",
      "Dataset loaded:\n",
      "  Length: 1\n",
      "Number of batches in dataloader: 1\n"
     ]
    },
    {
     "name": "stderr",
     "output_type": "stream",
     "text": [
      "  0%|                                                                                                                                                                            | 0/1 [00:00<?, ?it/s]"
     ]
    },
    {
     "name": "stdout",
     "output_type": "stream",
     "text": [
      "\n",
      "Loading sample MEND24\n",
      "AnnData object:\n",
      "  obs_names unique: True\n",
      "  var_names unique: True\n",
      "\n",
      "Processing sample MEND24\n",
      "Sample MEND24 has 781 common genes with the dataset\n"
     ]
    },
    {
     "name": "stderr",
     "output_type": "stream",
     "text": [
      "100%|████████████████████████████████████████████████████████████████████████████████████████████████████████████████████████████████████████████████████████████████████| 1/1 [00:01<00:00,  1.66s/it]"
     ]
    },
    {
     "name": "stdout",
     "output_type": "stream",
     "text": [
      "Batch 0: patch shape = torch.Size([1, 136, 3, 112, 112])\n",
      "Pred index is unique: True\n",
      "GT index is unique: True\n",
      "Data shapes: pred (136, 785), gt (136, 785)\n",
      "Pearson Correlation: 0.0000\n",
      "Valid correlations: 785/785\n",
      "\n",
      "Loading dataset with parameters:\n",
      "  Dataset: hest1k\n",
      "  Mode: test\n",
      "  Sample IDs: ['NCBI636']\n",
      "  Fold: 5\n"
     ]
    },
    {
     "name": "stderr",
     "output_type": "stream",
     "text": [
      "\n"
     ]
    },
    {
     "name": "stdout",
     "output_type": "stream",
     "text": [
      "HEST Dataset: 1 samples (test)\n",
      "['NCBI636']\n",
      "Using 785 genes\n",
      "\n",
      "Dataset loaded:\n",
      "  Length: 1\n",
      "Number of batches in dataloader: 1\n"
     ]
    },
    {
     "name": "stderr",
     "output_type": "stream",
     "text": [
      "  0%|                                                                                                                                                                            | 0/1 [00:00<?, ?it/s]"
     ]
    },
    {
     "name": "stdout",
     "output_type": "stream",
     "text": [
      "\n",
      "Loading sample NCBI636\n",
      "AnnData object:\n",
      "  obs_names unique: True\n",
      "  var_names unique: True\n",
      "\n",
      "Processing sample NCBI636\n",
      "Sample NCBI636 has 762 common genes with the dataset\n"
     ]
    },
    {
     "name": "stderr",
     "output_type": "stream",
     "text": [
      "100%|████████████████████████████████████████████████████████████████████████████████████████████████████████████████████████████████████████████████████████████████████| 1/1 [00:04<00:00,  4.50s/it]"
     ]
    },
    {
     "name": "stdout",
     "output_type": "stream",
     "text": [
      "Batch 0: patch shape = torch.Size([1, 1616, 3, 112, 112])\n",
      "Pred index is unique: True\n",
      "GT index is unique: True\n",
      "Data shapes: pred (1616, 785), gt (1616, 785)\n"
     ]
    },
    {
     "name": "stderr",
     "output_type": "stream",
     "text": [
      "\n"
     ]
    },
    {
     "name": "stdout",
     "output_type": "stream",
     "text": [
      "Pearson Correlation: 0.0000\n",
      "Valid correlations: 785/785\n",
      "\n",
      "Loading dataset with parameters:\n",
      "  Dataset: hest1k\n",
      "  Mode: test\n",
      "  Sample IDs: ['MISC126']\n",
      "  Fold: 5\n",
      "HEST Dataset: 1 samples (test)\n",
      "['MISC126']\n",
      "Using 785 genes\n",
      "\n",
      "Dataset loaded:\n",
      "  Length: 1\n",
      "Number of batches in dataloader: 1\n"
     ]
    },
    {
     "name": "stderr",
     "output_type": "stream",
     "text": [
      "  0%|                                                                                                                                                                            | 0/1 [00:00<?, ?it/s]"
     ]
    },
    {
     "name": "stdout",
     "output_type": "stream",
     "text": [
      "\n",
      "Loading sample MISC126\n",
      "AnnData object:\n",
      "  obs_names unique: True\n",
      "  var_names unique: True\n",
      "\n",
      "Processing sample MISC126\n",
      "Warning: No common genes found between the two lists.\n",
      "Warning: No common genes found between the two lists.\n",
      "Sample MISC126 has 0 common genes with the dataset\n",
      "Batch 0: patch shape = torch.Size([1, 4521, 3, 112, 112])\n"
     ]
    },
    {
     "name": "stderr",
     "output_type": "stream",
     "text": [
      "100%|████████████████████████████████████████████████████████████████████████████████████████████████████████████████████████████████████████████████████████████████████| 1/1 [00:08<00:00,  8.92s/it]\n"
     ]
    },
    {
     "name": "stdout",
     "output_type": "stream",
     "text": [
      "Pred index is unique: True\n",
      "GT index is unique: True\n",
      "Data shapes: pred (4521, 785), gt (4521, 785)\n",
      "Pearson Correlation: 0.0000\n",
      "Valid correlations: 785/785\n",
      "\n",
      "Loading dataset with parameters:\n",
      "  Dataset: hest1k\n",
      "  Mode: test\n",
      "  Sample IDs: ['MISC142']\n",
      "  Fold: 5\n",
      "HEST Dataset: 1 samples (test)\n",
      "['MISC142']\n",
      "Using 785 genes\n",
      "\n",
      "Dataset loaded:\n",
      "  Length: 1\n",
      "Number of batches in dataloader: 1\n"
     ]
    },
    {
     "name": "stderr",
     "output_type": "stream",
     "text": [
      "  0%|                                                                                                                                                                            | 0/1 [00:00<?, ?it/s]"
     ]
    },
    {
     "name": "stdout",
     "output_type": "stream",
     "text": [
      "\n",
      "Loading sample MISC142\n",
      "AnnData object:\n",
      "  obs_names unique: True\n",
      "  var_names unique: True\n",
      "\n",
      "Processing sample MISC142\n",
      "Warning: No common genes found between the two lists.\n",
      "Warning: No common genes found between the two lists.\n",
      "Sample MISC142 has 0 common genes with the dataset\n"
     ]
    },
    {
     "name": "stderr",
     "output_type": "stream",
     "text": [
      "100%|████████████████████████████████████████████████████████████████████████████████████████████████████████████████████████████████████████████████████████████████████| 1/1 [00:04<00:00,  4.77s/it]"
     ]
    },
    {
     "name": "stdout",
     "output_type": "stream",
     "text": [
      "Batch 0: patch shape = torch.Size([1, 1302, 3, 112, 112])\n",
      "Pred index is unique: True\n",
      "GT index is unique: True\n",
      "Data shapes: pred (1302, 785), gt (1302, 785)\n",
      "Pearson Correlation: 0.0000\n",
      "Valid correlations: 785/785\n",
      "\n",
      "Loading dataset with parameters:\n",
      "  Dataset: hest1k\n",
      "  Mode: test\n",
      "  Sample IDs: ['SPA144']\n",
      "  Fold: 5\n"
     ]
    },
    {
     "name": "stderr",
     "output_type": "stream",
     "text": [
      "\n"
     ]
    },
    {
     "name": "stdout",
     "output_type": "stream",
     "text": [
      "HEST Dataset: 1 samples (test)\n",
      "['SPA144']\n",
      "Using 785 genes\n",
      "\n",
      "Dataset loaded:\n",
      "  Length: 1\n",
      "Number of batches in dataloader: 1\n"
     ]
    },
    {
     "name": "stderr",
     "output_type": "stream",
     "text": [
      "  0%|                                                                                                                                                                            | 0/1 [00:00<?, ?it/s]"
     ]
    },
    {
     "name": "stdout",
     "output_type": "stream",
     "text": [
      "\n",
      "Loading sample SPA144\n",
      "AnnData object:\n",
      "  obs_names unique: True\n",
      "  var_names unique: True\n",
      "\n",
      "Processing sample SPA144\n",
      "Warning: No missing genes found.\n",
      "Sample SPA144 has 785 common genes with the dataset\n"
     ]
    },
    {
     "name": "stderr",
     "output_type": "stream",
     "text": [
      "100%|████████████████████████████████████████████████████████████████████████████████████████████████████████████████████████████████████████████████████████████████████| 1/1 [00:01<00:00,  1.86s/it]"
     ]
    },
    {
     "name": "stdout",
     "output_type": "stream",
     "text": [
      "Batch 0: patch shape = torch.Size([1, 289, 3, 112, 112])\n",
      "Pred index is unique: True\n",
      "GT index is unique: True\n",
      "Data shapes: pred (289, 785), gt (289, 785)\n"
     ]
    },
    {
     "name": "stderr",
     "output_type": "stream",
     "text": [
      "\n"
     ]
    },
    {
     "name": "stdout",
     "output_type": "stream",
     "text": [
      "Pearson Correlation: 0.3611\n",
      "Valid correlations: 785/785\n",
      "\n",
      "Loading dataset with parameters:\n",
      "  Dataset: hest1k\n",
      "  Mode: test\n",
      "  Sample IDs: ['TENX115']\n",
      "  Fold: 5\n",
      "HEST Dataset: 1 samples (test)\n",
      "['TENX115']\n",
      "Using 785 genes\n",
      "\n",
      "Dataset loaded:\n",
      "  Length: 1\n",
      "Number of batches in dataloader: 1\n"
     ]
    },
    {
     "name": "stderr",
     "output_type": "stream",
     "text": [
      "  0%|                                                                                                                                                                            | 0/1 [00:00<?, ?it/s]"
     ]
    },
    {
     "name": "stdout",
     "output_type": "stream",
     "text": [
      "\n",
      "Loading sample TENX115\n",
      "AnnData object:\n",
      "  obs_names unique: True\n",
      "  var_names unique: True\n",
      "\n",
      "Processing sample TENX115\n",
      "Sample TENX115 has 42 common genes with the dataset\n",
      "Batch 0: patch shape = torch.Size([1, 3886, 3, 112, 112])\n"
     ]
    },
    {
     "name": "stderr",
     "output_type": "stream",
     "text": [
      "100%|████████████████████████████████████████████████████████████████████████████████████████████████████████████████████████████████████████████████████████████████████| 1/1 [00:06<00:00,  6.69s/it]\n"
     ]
    },
    {
     "name": "stdout",
     "output_type": "stream",
     "text": [
      "Pred index is unique: True\n",
      "GT index is unique: True\n",
      "Data shapes: pred (3886, 785), gt (3886, 785)\n",
      "Pearson Correlation: -0.0204\n",
      "Valid correlations: 785/785\n",
      "\n",
      "Loading dataset with parameters:\n",
      "  Dataset: hest1k\n",
      "  Mode: test\n",
      "  Sample IDs: ['NCBI860']\n",
      "  Fold: 5\n",
      "HEST Dataset: 1 samples (test)\n",
      "['NCBI860']\n",
      "Using 785 genes\n",
      "\n",
      "Dataset loaded:\n",
      "  Length: 1\n",
      "Number of batches in dataloader: 1\n"
     ]
    },
    {
     "name": "stderr",
     "output_type": "stream",
     "text": [
      "  0%|                                                                                                                                                                            | 0/1 [00:00<?, ?it/s]"
     ]
    },
    {
     "name": "stdout",
     "output_type": "stream",
     "text": [
      "\n",
      "Loading sample NCBI860\n",
      "AnnData object:\n",
      "  obs_names unique: True\n",
      "  var_names unique: True\n",
      "\n",
      "Processing sample NCBI860\n",
      "Sample NCBI860 has 41 common genes with the dataset\n"
     ]
    },
    {
     "name": "stderr",
     "output_type": "stream",
     "text": [
      "100%|████████████████████████████████████████████████████████████████████████████████████████████████████████████████████████████████████████████████████████████████████| 1/1 [00:03<00:00,  3.60s/it]"
     ]
    },
    {
     "name": "stdout",
     "output_type": "stream",
     "text": [
      "Batch 0: patch shape = torch.Size([1, 1282, 3, 112, 112])\n",
      "Pred index is unique: True\n",
      "GT index is unique: True\n",
      "Data shapes: pred (1282, 785), gt (1282, 785)\n"
     ]
    },
    {
     "name": "stderr",
     "output_type": "stream",
     "text": [
      "\n"
     ]
    },
    {
     "name": "stdout",
     "output_type": "stream",
     "text": [
      "Pearson Correlation: -0.0118\n",
      "Valid correlations: 785/785\n",
      "\n",
      "Loading dataset with parameters:\n",
      "  Dataset: hest1k\n",
      "  Mode: test\n",
      "  Sample IDs: ['NCBI3']\n",
      "  Fold: 5\n",
      "HEST Dataset: 1 samples (test)\n",
      "['NCBI3']\n",
      "Using 785 genes\n",
      "\n",
      "Dataset loaded:\n",
      "  Length: 1\n",
      "Number of batches in dataloader: 1\n"
     ]
    },
    {
     "name": "stderr",
     "output_type": "stream",
     "text": [
      "  0%|                                                                                                                                                                            | 0/1 [00:00<?, ?it/s]"
     ]
    },
    {
     "name": "stdout",
     "output_type": "stream",
     "text": [
      "\n",
      "Loading sample NCBI3\n",
      "AnnData object:\n",
      "  obs_names unique: True\n",
      "  var_names unique: True\n",
      "\n",
      "Processing sample NCBI3\n",
      "Sample NCBI3 has 760 common genes with the dataset\n"
     ]
    },
    {
     "name": "stderr",
     "output_type": "stream",
     "text": [
      "100%|████████████████████████████████████████████████████████████████████████████████████████████████████████████████████████████████████████████████████████████████████| 1/1 [00:03<00:00,  3.55s/it]"
     ]
    },
    {
     "name": "stdout",
     "output_type": "stream",
     "text": [
      "Batch 0: patch shape = torch.Size([1, 579, 3, 112, 112])\n",
      "Pred index is unique: True\n",
      "GT index is unique: True\n",
      "Data shapes: pred (579, 785), gt (579, 785)\n",
      "Pearson Correlation: 0.0000\n",
      "Valid correlations: 785/785\n",
      "\n",
      "Loading dataset with parameters:\n",
      "  Dataset: hest1k\n",
      "  Mode: test\n",
      "  Sample IDs: ['SPA114']\n",
      "  Fold: 5\n"
     ]
    },
    {
     "name": "stderr",
     "output_type": "stream",
     "text": [
      "\n"
     ]
    },
    {
     "name": "stdout",
     "output_type": "stream",
     "text": [
      "HEST Dataset: 1 samples (test)\n",
      "['SPA114']\n",
      "Using 785 genes\n",
      "\n",
      "Dataset loaded:\n",
      "  Length: 1\n",
      "Number of batches in dataloader: 1\n"
     ]
    },
    {
     "name": "stderr",
     "output_type": "stream",
     "text": [
      "  0%|                                                                                                                                                                            | 0/1 [00:00<?, ?it/s]"
     ]
    },
    {
     "name": "stdout",
     "output_type": "stream",
     "text": [
      "\n",
      "Loading sample SPA114\n",
      "AnnData object:\n",
      "  obs_names unique: True\n",
      "  var_names unique: True\n",
      "\n",
      "Processing sample SPA114\n",
      "Warning: No common genes found between the two lists.\n",
      "Warning: No common genes found between the two lists.\n",
      "Sample SPA114 has 0 common genes with the dataset\n"
     ]
    },
    {
     "name": "stderr",
     "output_type": "stream",
     "text": [
      "100%|████████████████████████████████████████████████████████████████████████████████████████████████████████████████████████████████████████████████████████████████████| 1/1 [00:02<00:00,  2.57s/it]"
     ]
    },
    {
     "name": "stdout",
     "output_type": "stream",
     "text": [
      "Batch 0: patch shape = torch.Size([1, 301, 3, 112, 112])\n",
      "Pred index is unique: True\n",
      "GT index is unique: True\n",
      "Data shapes: pred (301, 785), gt (301, 785)\n",
      "Pearson Correlation: 0.0000\n",
      "Valid correlations: 785/785\n",
      "\n",
      "Loading dataset with parameters:\n",
      "  Dataset: hest1k\n",
      "  Mode: test\n",
      "  Sample IDs: ['NCBI672']\n",
      "  Fold: 5\n"
     ]
    },
    {
     "name": "stderr",
     "output_type": "stream",
     "text": [
      "\n"
     ]
    },
    {
     "name": "stdout",
     "output_type": "stream",
     "text": [
      "HEST Dataset: 1 samples (test)\n",
      "['NCBI672']\n",
      "Using 785 genes\n",
      "\n",
      "Dataset loaded:\n",
      "  Length: 1\n",
      "Number of batches in dataloader: 1\n"
     ]
    },
    {
     "name": "stderr",
     "output_type": "stream",
     "text": [
      "  0%|                                                                                                                                                                            | 0/1 [00:00<?, ?it/s]"
     ]
    },
    {
     "name": "stdout",
     "output_type": "stream",
     "text": [
      "\n",
      "Loading sample NCBI672\n",
      "AnnData object:\n",
      "  obs_names unique: True\n",
      "  var_names unique: True\n",
      "\n",
      "Processing sample NCBI672\n",
      "Sample NCBI672 has 762 common genes with the dataset\n",
      "Batch 0: patch shape = torch.Size([1, 4992, 3, 112, 112])\n"
     ]
    },
    {
     "name": "stderr",
     "output_type": "stream",
     "text": [
      "100%|████████████████████████████████████████████████████████████████████████████████████████████████████████████████████████████████████████████████████████████████████| 1/1 [00:09<00:00,  9.72s/it]\n"
     ]
    },
    {
     "name": "stdout",
     "output_type": "stream",
     "text": [
      "Pred index is unique: True\n",
      "GT index is unique: True\n",
      "Data shapes: pred (4992, 785), gt (4992, 785)\n",
      "Pearson Correlation: -0.0564\n",
      "Valid correlations: 785/785\n",
      "\n",
      "Loading dataset with parameters:\n",
      "  Dataset: hest1k\n",
      "  Mode: test\n",
      "  Sample IDs: ['MEND86']\n",
      "  Fold: 5\n",
      "HEST Dataset: 1 samples (test)\n",
      "['MEND86']\n",
      "Using 785 genes\n",
      "\n",
      "Dataset loaded:\n",
      "  Length: 1\n",
      "Number of batches in dataloader: 1\n"
     ]
    },
    {
     "name": "stderr",
     "output_type": "stream",
     "text": [
      "  0%|                                                                                                                                                                            | 0/1 [00:00<?, ?it/s]"
     ]
    },
    {
     "name": "stdout",
     "output_type": "stream",
     "text": [
      "\n",
      "Loading sample MEND86\n",
      "AnnData object:\n",
      "  obs_names unique: True\n",
      "  var_names unique: True\n",
      "\n",
      "Processing sample MEND86\n",
      "Sample MEND86 has 762 common genes with the dataset\n",
      "Batch 0: patch shape = torch.Size([1, 3236, 3, 112, 112])\n"
     ]
    },
    {
     "name": "stderr",
     "output_type": "stream",
     "text": [
      "100%|████████████████████████████████████████████████████████████████████████████████████████████████████████████████████████████████████████████████████████████████████| 1/1 [00:07<00:00,  7.04s/it]\n"
     ]
    },
    {
     "name": "stdout",
     "output_type": "stream",
     "text": [
      "Pred index is unique: True\n",
      "GT index is unique: True\n",
      "Data shapes: pred (3236, 785), gt (3236, 785)\n",
      "Pearson Correlation: 0.0000\n",
      "Valid correlations: 785/785\n",
      "\n",
      "Loading dataset with parameters:\n",
      "  Dataset: hest1k\n",
      "  Mode: test\n",
      "  Sample IDs: ['SPA56']\n",
      "  Fold: 5\n",
      "HEST Dataset: 1 samples (test)\n",
      "['SPA56']\n",
      "Using 785 genes\n",
      "\n",
      "Dataset loaded:\n",
      "  Length: 1\n",
      "Number of batches in dataloader: 1\n"
     ]
    },
    {
     "name": "stderr",
     "output_type": "stream",
     "text": [
      "  0%|                                                                                                                                                                            | 0/1 [00:00<?, ?it/s]"
     ]
    },
    {
     "name": "stdout",
     "output_type": "stream",
     "text": [
      "\n",
      "Loading sample SPA56\n",
      "AnnData object:\n",
      "  obs_names unique: True\n",
      "  var_names unique: True\n",
      "\n",
      "Processing sample SPA56\n",
      "Warning: No common genes found between the two lists.\n",
      "Warning: No common genes found between the two lists.\n",
      "Sample SPA56 has 0 common genes with the dataset\n"
     ]
    },
    {
     "name": "stderr",
     "output_type": "stream",
     "text": [
      "100%|████████████████████████████████████████████████████████████████████████████████████████████████████████████████████████████████████████████████████████████████████| 1/1 [00:03<00:00,  3.22s/it]"
     ]
    },
    {
     "name": "stdout",
     "output_type": "stream",
     "text": [
      "Batch 0: patch shape = torch.Size([1, 597, 3, 112, 112])\n",
      "Pred index is unique: True\n",
      "GT index is unique: True\n",
      "Data shapes: pred (597, 785), gt (597, 785)\n",
      "Pearson Correlation: 0.0000\n",
      "Valid correlations: 785/785\n",
      "\n",
      "Loading dataset with parameters:\n",
      "  Dataset: hest1k\n",
      "  Mode: test\n",
      "  Sample IDs: ['MEND12']\n",
      "  Fold: 5\n"
     ]
    },
    {
     "name": "stderr",
     "output_type": "stream",
     "text": [
      "\n"
     ]
    },
    {
     "name": "stdout",
     "output_type": "stream",
     "text": [
      "HEST Dataset: 1 samples (test)\n",
      "['MEND12']\n",
      "Using 785 genes\n",
      "\n",
      "Dataset loaded:\n",
      "  Length: 1\n",
      "Number of batches in dataloader: 1\n"
     ]
    },
    {
     "name": "stderr",
     "output_type": "stream",
     "text": [
      "  0%|                                                                                                                                                                            | 0/1 [00:00<?, ?it/s]"
     ]
    },
    {
     "name": "stdout",
     "output_type": "stream",
     "text": [
      "\n",
      "Loading sample MEND12\n",
      "AnnData object:\n",
      "  obs_names unique: True\n",
      "  var_names unique: True\n",
      "\n",
      "Processing sample MEND12\n",
      "Sample MEND12 has 776 common genes with the dataset\n"
     ]
    },
    {
     "name": "stderr",
     "output_type": "stream",
     "text": [
      "100%|████████████████████████████████████████████████████████████████████████████████████████████████████████████████████████████████████████████████████████████████████| 1/1 [00:02<00:00,  2.22s/it]"
     ]
    },
    {
     "name": "stdout",
     "output_type": "stream",
     "text": [
      "Batch 0: patch shape = torch.Size([1, 190, 3, 112, 112])\n",
      "Pred index is unique: True\n",
      "GT index is unique: True\n",
      "Data shapes: pred (190, 785), gt (190, 785)\n",
      "Pearson Correlation: 0.0000\n",
      "Valid correlations: 785/785\n",
      "\n",
      "Loading dataset with parameters:\n",
      "  Dataset: hest1k\n",
      "  Mode: test\n",
      "  Sample IDs: ['MEND52']\n",
      "  Fold: 5\n"
     ]
    },
    {
     "name": "stderr",
     "output_type": "stream",
     "text": [
      "\n"
     ]
    },
    {
     "name": "stdout",
     "output_type": "stream",
     "text": [
      "HEST Dataset: 1 samples (test)\n",
      "['MEND52']\n",
      "Using 785 genes\n",
      "\n",
      "Dataset loaded:\n",
      "  Length: 1\n",
      "Number of batches in dataloader: 1\n"
     ]
    },
    {
     "name": "stderr",
     "output_type": "stream",
     "text": [
      "  0%|                                                                                                                                                                            | 0/1 [00:00<?, ?it/s]"
     ]
    },
    {
     "name": "stdout",
     "output_type": "stream",
     "text": [
      "\n",
      "Loading sample MEND52\n",
      "AnnData object:\n",
      "  obs_names unique: True\n",
      "  var_names unique: True\n",
      "\n",
      "Processing sample MEND52\n",
      "Warning: No common genes found between the two lists.\n",
      "Warning: No common genes found between the two lists.\n",
      "Sample MEND52 has 0 common genes with the dataset\n"
     ]
    },
    {
     "name": "stderr",
     "output_type": "stream",
     "text": [
      "100%|████████████████████████████████████████████████████████████████████████████████████████████████████████████████████████████████████████████████████████████████████| 1/1 [00:02<00:00,  2.33s/it]"
     ]
    },
    {
     "name": "stdout",
     "output_type": "stream",
     "text": [
      "Batch 0: patch shape = torch.Size([1, 758, 3, 112, 112])\n",
      "Pred index is unique: True\n",
      "GT index is unique: True\n",
      "Data shapes: pred (758, 785), gt (758, 785)\n",
      "Pearson Correlation: 0.0000\n",
      "Valid correlations: 785/785\n",
      "\n",
      "Loading dataset with parameters:\n",
      "  Dataset: hest1k\n",
      "  Mode: test\n",
      "  Sample IDs: ['NCBI640']\n",
      "  Fold: 5\n"
     ]
    },
    {
     "name": "stderr",
     "output_type": "stream",
     "text": [
      "\n"
     ]
    },
    {
     "name": "stdout",
     "output_type": "stream",
     "text": [
      "HEST Dataset: 1 samples (test)\n",
      "['NCBI640']\n",
      "Using 785 genes\n",
      "\n",
      "Dataset loaded:\n",
      "  Length: 1\n",
      "Number of batches in dataloader: 1\n"
     ]
    },
    {
     "name": "stderr",
     "output_type": "stream",
     "text": [
      "  0%|                                                                                                                                                                            | 0/1 [00:00<?, ?it/s]"
     ]
    },
    {
     "name": "stdout",
     "output_type": "stream",
     "text": [
      "\n",
      "Loading sample NCBI640\n",
      "AnnData object:\n",
      "  obs_names unique: True\n",
      "  var_names unique: True\n",
      "\n",
      "Processing sample NCBI640\n",
      "Sample NCBI640 has 762 common genes with the dataset\n"
     ]
    },
    {
     "name": "stderr",
     "output_type": "stream",
     "text": [
      "100%|████████████████████████████████████████████████████████████████████████████████████████████████████████████████████████████████████████████████████████████████████| 1/1 [00:08<00:00,  8.38s/it]"
     ]
    },
    {
     "name": "stdout",
     "output_type": "stream",
     "text": [
      "Batch 0: patch shape = torch.Size([1, 1959, 3, 112, 112])\n",
      "Pred index is unique: True\n",
      "GT index is unique: True\n",
      "Data shapes: pred (1959, 785), gt (1959, 785)\n"
     ]
    },
    {
     "name": "stderr",
     "output_type": "stream",
     "text": [
      "\n"
     ]
    },
    {
     "name": "stdout",
     "output_type": "stream",
     "text": [
      "Pearson Correlation: 0.0000\n",
      "Valid correlations: 785/785\n",
      "\n",
      "Loading dataset with parameters:\n",
      "  Dataset: hest1k\n",
      "  Mode: test\n",
      "  Sample IDs: ['TENX105']\n",
      "  Fold: 5\n",
      "HEST Dataset: 1 samples (test)\n",
      "['TENX105']\n",
      "Using 785 genes\n",
      "\n",
      "Dataset loaded:\n",
      "  Length: 1\n",
      "Number of batches in dataloader: 1\n"
     ]
    },
    {
     "name": "stderr",
     "output_type": "stream",
     "text": [
      "  0%|                                                                                                                                                                            | 0/1 [00:00<?, ?it/s]"
     ]
    },
    {
     "name": "stdout",
     "output_type": "stream",
     "text": [
      "\n",
      "Loading sample TENX105\n",
      "AnnData object:\n",
      "  obs_names unique: True\n",
      "  var_names unique: True\n",
      "\n",
      "Processing sample TENX105\n",
      "Sample TENX105 has 25 common genes with the dataset\n"
     ]
    },
    {
     "name": "stderr",
     "output_type": "stream",
     "text": [
      "100%|████████████████████████████████████████████████████████████████████████████████████████████████████████████████████████████████████████████████████████████████████| 1/1 [00:04<00:00,  4.11s/it]"
     ]
    },
    {
     "name": "stdout",
     "output_type": "stream",
     "text": [
      "Batch 0: patch shape = torch.Size([1, 1738, 3, 112, 112])\n",
      "Pred index is unique: True\n",
      "GT index is unique: True\n",
      "Data shapes: pred (1738, 785), gt (1738, 785)\n",
      "Pearson Correlation: 0.0000\n",
      "Valid correlations: 785/785\n",
      "\n",
      "Loading dataset with parameters:\n",
      "  Dataset: hest1k\n",
      "  Mode: test\n",
      "  Sample IDs: ['MISC111']\n",
      "  Fold: 5\n"
     ]
    },
    {
     "name": "stderr",
     "output_type": "stream",
     "text": [
      "\n"
     ]
    },
    {
     "name": "stdout",
     "output_type": "stream",
     "text": [
      "HEST Dataset: 1 samples (test)\n",
      "['MISC111']\n",
      "Using 785 genes\n",
      "\n",
      "Dataset loaded:\n",
      "  Length: 1\n",
      "Number of batches in dataloader: 1\n"
     ]
    },
    {
     "name": "stderr",
     "output_type": "stream",
     "text": [
      "  0%|                                                                                                                                                                            | 0/1 [00:00<?, ?it/s]"
     ]
    },
    {
     "name": "stdout",
     "output_type": "stream",
     "text": [
      "\n",
      "Loading sample MISC111\n",
      "AnnData object:\n",
      "  obs_names unique: True\n",
      "  var_names unique: True\n",
      "\n",
      "Processing sample MISC111\n",
      "Warning: No common genes found between the two lists.\n",
      "Warning: No common genes found between the two lists.\n",
      "Sample MISC111 has 0 common genes with the dataset\n"
     ]
    },
    {
     "name": "stderr",
     "output_type": "stream",
     "text": [
      "100%|████████████████████████████████████████████████████████████████████████████████████████████████████████████████████████████████████████████████████████████████████| 1/1 [00:05<00:00,  5.55s/it]"
     ]
    },
    {
     "name": "stdout",
     "output_type": "stream",
     "text": [
      "Batch 0: patch shape = torch.Size([1, 2037, 3, 112, 112])\n",
      "Pred index is unique: True\n",
      "GT index is unique: True\n",
      "Data shapes: pred (2037, 785), gt (2037, 785)\n"
     ]
    },
    {
     "name": "stderr",
     "output_type": "stream",
     "text": [
      "\n"
     ]
    },
    {
     "name": "stdout",
     "output_type": "stream",
     "text": [
      "Pearson Correlation: 0.0000\n",
      "Valid correlations: 785/785\n",
      "\n",
      "Loading dataset with parameters:\n",
      "  Dataset: hest1k\n",
      "  Mode: test\n",
      "  Sample IDs: ['NCBI700']\n",
      "  Fold: 5\n",
      "HEST Dataset: 1 samples (test)\n",
      "['NCBI700']\n",
      "Using 785 genes\n",
      "\n",
      "Dataset loaded:\n",
      "  Length: 1\n",
      "Number of batches in dataloader: 1\n"
     ]
    },
    {
     "name": "stderr",
     "output_type": "stream",
     "text": [
      "  0%|                                                                                                                                                                            | 0/1 [00:00<?, ?it/s]"
     ]
    },
    {
     "name": "stdout",
     "output_type": "stream",
     "text": [
      "\n",
      "Loading sample NCBI700\n",
      "AnnData object:\n",
      "  obs_names unique: True\n",
      "  var_names unique: True\n",
      "\n",
      "Processing sample NCBI700\n",
      "Sample NCBI700 has 762 common genes with the dataset\n"
     ]
    },
    {
     "name": "stderr",
     "output_type": "stream",
     "text": [
      "100%|████████████████████████████████████████████████████████████████████████████████████████████████████████████████████████████████████████████████████████████████████| 1/1 [00:02<00:00,  2.59s/it]"
     ]
    },
    {
     "name": "stdout",
     "output_type": "stream",
     "text": [
      "Batch 0: patch shape = torch.Size([1, 601, 3, 112, 112])\n",
      "Pred index is unique: True\n",
      "GT index is unique: True\n",
      "Data shapes: pred (601, 785), gt (601, 785)\n"
     ]
    },
    {
     "name": "stderr",
     "output_type": "stream",
     "text": [
      "\n"
     ]
    },
    {
     "name": "stdout",
     "output_type": "stream",
     "text": [
      "Pearson Correlation: -0.0113\n",
      "Valid correlations: 785/785\n",
      "\n",
      "Loading dataset with parameters:\n",
      "  Dataset: hest1k\n",
      "  Mode: test\n",
      "  Sample IDs: ['TENX121']\n",
      "  Fold: 5\n",
      "HEST Dataset: 1 samples (test)\n",
      "['TENX121']\n",
      "Using 785 genes\n",
      "\n",
      "Dataset loaded:\n",
      "  Length: 1\n",
      "Number of batches in dataloader: 1\n"
     ]
    },
    {
     "name": "stderr",
     "output_type": "stream",
     "text": [
      "  0%|                                                                                                                                                                            | 0/1 [00:00<?, ?it/s]"
     ]
    },
    {
     "name": "stdout",
     "output_type": "stream",
     "text": [
      "\n",
      "Loading sample TENX121\n",
      "AnnData object:\n",
      "  obs_names unique: True\n",
      "  var_names unique: True\n",
      "\n",
      "Processing sample TENX121\n",
      "Sample TENX121 has 25 common genes with the dataset\n",
      "Batch 0: patch shape = torch.Size([1, 9200, 3, 112, 112])\n"
     ]
    },
    {
     "name": "stderr",
     "output_type": "stream",
     "text": [
      "100%|████████████████████████████████████████████████████████████████████████████████████████████████████████████████████████████████████████████████████████████████████| 1/1 [00:18<00:00, 18.99s/it]\n"
     ]
    },
    {
     "name": "stdout",
     "output_type": "stream",
     "text": [
      "Pred index is unique: True\n",
      "GT index is unique: True\n",
      "Data shapes: pred (9200, 785), gt (9200, 785)\n",
      "Pearson Correlation: 0.0000\n",
      "Valid correlations: 785/785\n",
      "\n",
      "Loading dataset with parameters:\n",
      "  Dataset: hest1k\n",
      "  Mode: test\n",
      "  Sample IDs: ['MISC18']\n",
      "  Fold: 5\n",
      "HEST Dataset: 1 samples (test)\n",
      "['MISC18']\n",
      "Using 785 genes\n",
      "\n",
      "Dataset loaded:\n",
      "  Length: 1\n",
      "Number of batches in dataloader: 1\n"
     ]
    },
    {
     "name": "stderr",
     "output_type": "stream",
     "text": [
      "  0%|                                                                                                                                                                            | 0/1 [00:00<?, ?it/s]"
     ]
    },
    {
     "name": "stdout",
     "output_type": "stream",
     "text": [
      "\n",
      "Loading sample MISC18\n",
      "AnnData object:\n",
      "  obs_names unique: True\n",
      "  var_names unique: True\n",
      "\n",
      "Processing sample MISC18\n",
      "Sample MISC18 has 771 common genes with the dataset\n"
     ]
    },
    {
     "name": "stderr",
     "output_type": "stream",
     "text": [
      "100%|████████████████████████████████████████████████████████████████████████████████████████████████████████████████████████████████████████████████████████████████████| 1/1 [00:06<00:00,  6.94s/it]"
     ]
    },
    {
     "name": "stdout",
     "output_type": "stream",
     "text": [
      "Batch 0: patch shape = torch.Size([1, 2081, 3, 112, 112])\n",
      "Pred index is unique: True\n",
      "GT index is unique: True\n",
      "Data shapes: pred (2081, 785), gt (2081, 785)\n"
     ]
    },
    {
     "name": "stderr",
     "output_type": "stream",
     "text": [
      "\n"
     ]
    },
    {
     "name": "stdout",
     "output_type": "stream",
     "text": [
      "Pearson Correlation: 0.0000\n",
      "Valid correlations: 785/785\n",
      "\n",
      "Loading dataset with parameters:\n",
      "  Dataset: hest1k\n",
      "  Mode: test\n",
      "  Sample IDs: ['NCBI591']\n",
      "  Fold: 5\n",
      "HEST Dataset: 1 samples (test)\n",
      "['NCBI591']\n",
      "Using 785 genes\n",
      "\n",
      "Dataset loaded:\n",
      "  Length: 1\n",
      "Number of batches in dataloader: 1\n"
     ]
    },
    {
     "name": "stderr",
     "output_type": "stream",
     "text": [
      "  0%|                                                                                                                                                                            | 0/1 [00:00<?, ?it/s]"
     ]
    },
    {
     "name": "stdout",
     "output_type": "stream",
     "text": [
      "\n",
      "Loading sample NCBI591\n",
      "AnnData object:\n",
      "  obs_names unique: True\n",
      "  var_names unique: True\n",
      "\n",
      "Processing sample NCBI591\n",
      "Sample NCBI591 has 754 common genes with the dataset\n"
     ]
    },
    {
     "name": "stderr",
     "output_type": "stream",
     "text": [
      "100%|████████████████████████████████████████████████████████████████████████████████████████████████████████████████████████████████████████████████████████████████████| 1/1 [00:03<00:00,  3.06s/it]"
     ]
    },
    {
     "name": "stdout",
     "output_type": "stream",
     "text": [
      "Batch 0: patch shape = torch.Size([1, 663, 3, 112, 112])\n",
      "Pred index is unique: True\n",
      "GT index is unique: True\n",
      "Data shapes: pred (663, 785), gt (663, 785)\n",
      "Pearson Correlation: 0.0000\n",
      "Valid correlations: 785/785\n",
      "\n",
      "Loading dataset with parameters:\n",
      "  Dataset: hest1k\n",
      "  Mode: test\n",
      "  Sample IDs: ['MISC109']\n",
      "  Fold: 5\n"
     ]
    },
    {
     "name": "stderr",
     "output_type": "stream",
     "text": [
      "\n"
     ]
    },
    {
     "name": "stdout",
     "output_type": "stream",
     "text": [
      "HEST Dataset: 1 samples (test)\n",
      "['MISC109']\n",
      "Using 785 genes\n",
      "\n",
      "Dataset loaded:\n",
      "  Length: 1\n",
      "Number of batches in dataloader: 1\n"
     ]
    },
    {
     "name": "stderr",
     "output_type": "stream",
     "text": [
      "  0%|                                                                                                                                                                            | 0/1 [00:00<?, ?it/s]"
     ]
    },
    {
     "name": "stdout",
     "output_type": "stream",
     "text": [
      "\n",
      "Loading sample MISC109\n",
      "AnnData object:\n",
      "  obs_names unique: True\n",
      "  var_names unique: True\n",
      "\n",
      "Processing sample MISC109\n",
      "Warning: No common genes found between the two lists.\n",
      "Warning: No common genes found between the two lists.\n",
      "Sample MISC109 has 0 common genes with the dataset\n"
     ]
    },
    {
     "name": "stderr",
     "output_type": "stream",
     "text": [
      "100%|████████████████████████████████████████████████████████████████████████████████████████████████████████████████████████████████████████████████████████████████████| 1/1 [00:03<00:00,  3.18s/it]"
     ]
    },
    {
     "name": "stdout",
     "output_type": "stream",
     "text": [
      "Batch 0: patch shape = torch.Size([1, 1252, 3, 112, 112])\n",
      "Pred index is unique: True\n",
      "GT index is unique: True\n",
      "Data shapes: pred (1252, 785), gt (1252, 785)\n",
      "Pearson Correlation: 0.0000\n",
      "Valid correlations: 785/785\n",
      "\n",
      "Loading dataset with parameters:\n",
      "  Dataset: hest1k\n",
      "  Mode: test\n",
      "  Sample IDs: ['NCBI882']\n",
      "  Fold: 5\n"
     ]
    },
    {
     "name": "stderr",
     "output_type": "stream",
     "text": [
      "\n"
     ]
    },
    {
     "name": "stdout",
     "output_type": "stream",
     "text": [
      "HEST Dataset: 1 samples (test)\n",
      "['NCBI882']\n",
      "Using 785 genes\n",
      "\n",
      "Dataset loaded:\n",
      "  Length: 1\n",
      "Number of batches in dataloader: 1\n"
     ]
    },
    {
     "name": "stderr",
     "output_type": "stream",
     "text": [
      "  0%|                                                                                                                                                                            | 0/1 [00:00<?, ?it/s]"
     ]
    },
    {
     "name": "stdout",
     "output_type": "stream",
     "text": [
      "\n",
      "Loading sample NCBI882\n",
      "AnnData object:\n",
      "  obs_names unique: True\n",
      "  var_names unique: True\n",
      "\n",
      "Processing sample NCBI882\n",
      "Sample NCBI882 has 41 common genes with the dataset\n"
     ]
    },
    {
     "name": "stderr",
     "output_type": "stream",
     "text": [
      "100%|████████████████████████████████████████████████████████████████████████████████████████████████████████████████████████████████████████████████████████████████████| 1/1 [00:03<00:00,  3.31s/it]"
     ]
    },
    {
     "name": "stdout",
     "output_type": "stream",
     "text": [
      "Batch 0: patch shape = torch.Size([1, 1435, 3, 112, 112])\n",
      "Pred index is unique: True\n",
      "GT index is unique: True\n",
      "Data shapes: pred (1435, 785), gt (1435, 785)\n"
     ]
    },
    {
     "name": "stderr",
     "output_type": "stream",
     "text": [
      "\n"
     ]
    },
    {
     "name": "stdout",
     "output_type": "stream",
     "text": [
      "Pearson Correlation: -0.0188\n",
      "Valid correlations: 785/785\n",
      "\n",
      "Loading dataset with parameters:\n",
      "  Dataset: hest1k\n",
      "  Mode: test\n",
      "  Sample IDs: ['TENX56']\n",
      "  Fold: 5\n",
      "HEST Dataset: 1 samples (test)\n",
      "['TENX56']\n",
      "Using 785 genes\n",
      "\n",
      "Dataset loaded:\n",
      "  Length: 1\n",
      "Number of batches in dataloader: 1\n"
     ]
    },
    {
     "name": "stderr",
     "output_type": "stream",
     "text": [
      "  0%|                                                                                                                                                                            | 0/1 [00:00<?, ?it/s]"
     ]
    },
    {
     "name": "stdout",
     "output_type": "stream",
     "text": [
      "\n",
      "Loading sample TENX56\n",
      "AnnData object:\n",
      "  obs_names unique: True\n",
      "  var_names unique: True\n",
      "\n",
      "Processing sample TENX56\n",
      "Sample TENX56 has 77 common genes with the dataset\n",
      "Batch 0: patch shape = torch.Size([1, 4992, 3, 112, 112])\n"
     ]
    },
    {
     "name": "stderr",
     "output_type": "stream",
     "text": [
      "100%|████████████████████████████████████████████████████████████████████████████████████████████████████████████████████████████████████████████████████████████████████| 1/1 [00:12<00:00, 12.26s/it]\n"
     ]
    },
    {
     "name": "stdout",
     "output_type": "stream",
     "text": [
      "Pred index is unique: True\n",
      "GT index is unique: True\n",
      "Data shapes: pred (4992, 785), gt (4992, 785)\n",
      "Pearson Correlation: -0.0112\n",
      "Valid correlations: 785/785\n",
      "\n",
      "Loading dataset with parameters:\n",
      "  Dataset: hest1k\n",
      "  Mode: test\n",
      "  Sample IDs: ['MISC133']\n",
      "  Fold: 5\n",
      "HEST Dataset: 1 samples (test)\n",
      "['MISC133']\n",
      "Using 785 genes\n",
      "\n",
      "Dataset loaded:\n",
      "  Length: 1\n",
      "Number of batches in dataloader: 1\n"
     ]
    },
    {
     "name": "stderr",
     "output_type": "stream",
     "text": [
      "  0%|                                                                                                                                                                            | 0/1 [00:00<?, ?it/s]"
     ]
    },
    {
     "name": "stdout",
     "output_type": "stream",
     "text": [
      "\n",
      "Loading sample MISC133\n",
      "AnnData object:\n",
      "  obs_names unique: True\n",
      "  var_names unique: True\n",
      "\n",
      "Processing sample MISC133\n",
      "Warning: No common genes found between the two lists.\n",
      "Warning: No common genes found between the two lists.\n",
      "Sample MISC133 has 0 common genes with the dataset\n",
      "Batch 0: patch shape = torch.Size([1, 3153, 3, 112, 112])\n"
     ]
    },
    {
     "name": "stderr",
     "output_type": "stream",
     "text": [
      "100%|████████████████████████████████████████████████████████████████████████████████████████████████████████████████████████████████████████████████████████████████████| 1/1 [00:09<00:00,  9.16s/it]\n"
     ]
    },
    {
     "name": "stdout",
     "output_type": "stream",
     "text": [
      "Pred index is unique: True\n",
      "GT index is unique: True\n",
      "Data shapes: pred (3153, 785), gt (3153, 785)\n",
      "Pearson Correlation: 0.0000\n",
      "Valid correlations: 785/785\n",
      "\n",
      "Loading dataset with parameters:\n",
      "  Dataset: hest1k\n",
      "  Mode: test\n",
      "  Sample IDs: ['NCBI655']\n",
      "  Fold: 5\n",
      "HEST Dataset: 1 samples (test)\n",
      "['NCBI655']\n",
      "Using 785 genes\n",
      "\n",
      "Dataset loaded:\n",
      "  Length: 1\n",
      "Number of batches in dataloader: 1\n"
     ]
    },
    {
     "name": "stderr",
     "output_type": "stream",
     "text": [
      "  0%|                                                                                                                                                                            | 0/1 [00:00<?, ?it/s]"
     ]
    },
    {
     "name": "stdout",
     "output_type": "stream",
     "text": [
      "\n",
      "Loading sample NCBI655\n",
      "AnnData object:\n",
      "  obs_names unique: True\n",
      "  var_names unique: True\n",
      "\n",
      "Processing sample NCBI655\n",
      "Sample NCBI655 has 728 common genes with the dataset\n",
      "Batch 0: patch shape = torch.Size([1, 4984, 3, 112, 112])\n"
     ]
    },
    {
     "name": "stderr",
     "output_type": "stream",
     "text": [
      "100%|████████████████████████████████████████████████████████████████████████████████████████████████████████████████████████████████████████████████████████████████████| 1/1 [00:09<00:00,  9.67s/it]\n"
     ]
    },
    {
     "name": "stdout",
     "output_type": "stream",
     "text": [
      "Pred index is unique: True\n",
      "GT index is unique: True\n",
      "Data shapes: pred (4984, 785), gt (4984, 785)\n",
      "Pearson Correlation: -0.0091\n",
      "Valid correlations: 785/785\n",
      "\n",
      "Loading dataset with parameters:\n",
      "  Dataset: hest1k\n",
      "  Mode: test\n",
      "  Sample IDs: ['MEND85']\n",
      "  Fold: 5\n",
      "HEST Dataset: 1 samples (test)\n",
      "['MEND85']\n",
      "Using 785 genes\n",
      "\n",
      "Dataset loaded:\n",
      "  Length: 1\n",
      "Number of batches in dataloader: 1\n"
     ]
    },
    {
     "name": "stderr",
     "output_type": "stream",
     "text": [
      "  0%|                                                                                                                                                                            | 0/1 [00:00<?, ?it/s]"
     ]
    },
    {
     "name": "stdout",
     "output_type": "stream",
     "text": [
      "\n",
      "Loading sample MEND85\n",
      "AnnData object:\n",
      "  obs_names unique: True\n",
      "  var_names unique: True\n",
      "\n",
      "Processing sample MEND85\n",
      "Sample MEND85 has 762 common genes with the dataset\n",
      "Batch 0: patch shape = torch.Size([1, 2462, 3, 112, 112])\n"
     ]
    },
    {
     "name": "stderr",
     "output_type": "stream",
     "text": [
      "100%|████████████████████████████████████████████████████████████████████████████████████████████████████████████████████████████████████████████████████████████████████| 1/1 [00:06<00:00,  6.86s/it]\n"
     ]
    },
    {
     "name": "stdout",
     "output_type": "stream",
     "text": [
      "Pred index is unique: True\n",
      "GT index is unique: True\n",
      "Data shapes: pred (2462, 785), gt (2462, 785)\n",
      "Pearson Correlation: 0.0000\n",
      "Valid correlations: 785/785\n",
      "\n",
      "Loading dataset with parameters:\n",
      "  Dataset: hest1k\n",
      "  Mode: test\n",
      "  Sample IDs: ['ZEN38']\n",
      "  Fold: 5\n",
      "HEST Dataset: 1 samples (test)\n",
      "['ZEN38']\n",
      "Using 785 genes\n",
      "\n",
      "Dataset loaded:\n",
      "  Length: 1\n",
      "Number of batches in dataloader: 1\n"
     ]
    },
    {
     "name": "stderr",
     "output_type": "stream",
     "text": [
      "  0%|                                                                                                                                                                            | 0/1 [00:00<?, ?it/s]"
     ]
    },
    {
     "name": "stdout",
     "output_type": "stream",
     "text": [
      "\n",
      "Loading sample ZEN38\n",
      "AnnData object:\n",
      "  obs_names unique: True\n",
      "  var_names unique: True\n",
      "\n",
      "Processing sample ZEN38\n",
      "Sample ZEN38 has 762 common genes with the dataset\n"
     ]
    },
    {
     "name": "stderr",
     "output_type": "stream",
     "text": [
      "100%|████████████████████████████████████████████████████████████████████████████████████████████████████████████████████████████████████████████████████████████████████| 1/1 [00:02<00:00,  2.45s/it]"
     ]
    },
    {
     "name": "stdout",
     "output_type": "stream",
     "text": [
      "Batch 0: patch shape = torch.Size([1, 387, 3, 112, 112])\n",
      "Pred index is unique: True\n",
      "GT index is unique: True\n",
      "Data shapes: pred (387, 785), gt (387, 785)\n"
     ]
    },
    {
     "name": "stderr",
     "output_type": "stream",
     "text": [
      "\n"
     ]
    },
    {
     "name": "stdout",
     "output_type": "stream",
     "text": [
      "Pearson Correlation: 0.0628\n",
      "Valid correlations: 785/785\n",
      "\n",
      "Loading dataset with parameters:\n",
      "  Dataset: hest1k\n",
      "  Mode: test\n",
      "  Sample IDs: ['SPA128']\n",
      "  Fold: 5\n",
      "HEST Dataset: 1 samples (test)\n",
      "['SPA128']\n",
      "Using 785 genes\n",
      "\n",
      "Dataset loaded:\n",
      "  Length: 1\n",
      "Number of batches in dataloader: 1\n"
     ]
    },
    {
     "name": "stderr",
     "output_type": "stream",
     "text": [
      "  0%|                                                                                                                                                                            | 0/1 [00:00<?, ?it/s]"
     ]
    },
    {
     "name": "stdout",
     "output_type": "stream",
     "text": [
      "\n",
      "Loading sample SPA128\n",
      "AnnData object:\n",
      "  obs_names unique: True\n",
      "  var_names unique: True\n",
      "\n",
      "Processing sample SPA128\n",
      "Warning: No missing genes found.\n",
      "Sample SPA128 has 785 common genes with the dataset\n"
     ]
    },
    {
     "name": "stderr",
     "output_type": "stream",
     "text": [
      "100%|████████████████████████████████████████████████████████████████████████████████████████████████████████████████████████████████████████████████████████████████████| 1/1 [00:02<00:00,  2.90s/it]"
     ]
    },
    {
     "name": "stdout",
     "output_type": "stream",
     "text": [
      "Batch 0: patch shape = torch.Size([1, 570, 3, 112, 112])\n",
      "Pred index is unique: True\n",
      "GT index is unique: True\n",
      "Data shapes: pred (570, 785), gt (570, 785)\n"
     ]
    },
    {
     "name": "stderr",
     "output_type": "stream",
     "text": [
      "\n"
     ]
    },
    {
     "name": "stdout",
     "output_type": "stream",
     "text": [
      "Pearson Correlation: -0.0025\n",
      "Valid correlations: 785/785\n",
      "\n",
      "Loading dataset with parameters:\n",
      "  Dataset: hest1k\n",
      "  Mode: test\n",
      "  Sample IDs: ['MISC121']\n",
      "  Fold: 5\n",
      "HEST Dataset: 1 samples (test)\n",
      "['MISC121']\n",
      "Using 785 genes\n",
      "\n",
      "Dataset loaded:\n",
      "  Length: 1\n",
      "Number of batches in dataloader: 1\n"
     ]
    },
    {
     "name": "stderr",
     "output_type": "stream",
     "text": [
      "  0%|                                                                                                                                                                            | 0/1 [00:00<?, ?it/s]"
     ]
    },
    {
     "name": "stdout",
     "output_type": "stream",
     "text": [
      "\n",
      "Loading sample MISC121\n",
      "AnnData object:\n",
      "  obs_names unique: True\n",
      "  var_names unique: True\n",
      "\n",
      "Processing sample MISC121\n",
      "Warning: No common genes found between the two lists.\n",
      "Warning: No common genes found between the two lists.\n",
      "Sample MISC121 has 0 common genes with the dataset\n",
      "Batch 0: patch shape = torch.Size([1, 3052, 3, 112, 112])\n"
     ]
    },
    {
     "name": "stderr",
     "output_type": "stream",
     "text": [
      "100%|████████████████████████████████████████████████████████████████████████████████████████████████████████████████████████████████████████████████████████████████████| 1/1 [00:07<00:00,  7.12s/it]\n"
     ]
    },
    {
     "name": "stdout",
     "output_type": "stream",
     "text": [
      "Pred index is unique: True\n",
      "GT index is unique: True\n",
      "Data shapes: pred (3052, 785), gt (3052, 785)\n",
      "Pearson Correlation: 0.0000\n",
      "Valid correlations: 785/785\n",
      "\n",
      "Loading dataset with parameters:\n",
      "  Dataset: hest1k\n",
      "  Mode: test\n",
      "  Sample IDs: ['INT9']\n",
      "  Fold: 5\n",
      "HEST Dataset: 1 samples (test)\n",
      "['INT9']\n",
      "Using 785 genes\n",
      "\n",
      "Dataset loaded:\n",
      "  Length: 1\n",
      "Number of batches in dataloader: 1\n"
     ]
    },
    {
     "name": "stderr",
     "output_type": "stream",
     "text": [
      "  0%|                                                                                                                                                                            | 0/1 [00:00<?, ?it/s]"
     ]
    },
    {
     "name": "stdout",
     "output_type": "stream",
     "text": [
      "\n",
      "Loading sample INT9\n",
      "AnnData object:\n",
      "  obs_names unique: True\n",
      "  var_names unique: True\n",
      "\n",
      "Processing sample INT9\n",
      "Sample INT9 has 762 common genes with the dataset\n"
     ]
    },
    {
     "name": "stderr",
     "output_type": "stream",
     "text": [
      "100%|████████████████████████████████████████████████████████████████████████████████████████████████████████████████████████████████████████████████████████████████████| 1/1 [00:05<00:00,  5.43s/it]"
     ]
    },
    {
     "name": "stdout",
     "output_type": "stream",
     "text": [
      "Batch 0: patch shape = torch.Size([1, 1696, 3, 112, 112])\n",
      "Pred index is unique: True\n",
      "GT index is unique: True\n",
      "Data shapes: pred (1696, 785), gt (1696, 785)\n"
     ]
    },
    {
     "name": "stderr",
     "output_type": "stream",
     "text": [
      "\n"
     ]
    },
    {
     "name": "stdout",
     "output_type": "stream",
     "text": [
      "Pearson Correlation: 0.1816\n",
      "Valid correlations: 785/785\n",
      "\n",
      "Loading dataset with parameters:\n",
      "  Dataset: hest1k\n",
      "  Mode: test\n",
      "  Sample IDs: ['SPA47']\n",
      "  Fold: 5\n",
      "HEST Dataset: 1 samples (test)\n",
      "['SPA47']\n",
      "Using 785 genes\n",
      "\n",
      "Dataset loaded:\n",
      "  Length: 1\n",
      "Number of batches in dataloader: 1\n"
     ]
    },
    {
     "name": "stderr",
     "output_type": "stream",
     "text": [
      "  0%|                                                                                                                                                                            | 0/1 [00:00<?, ?it/s]"
     ]
    },
    {
     "name": "stdout",
     "output_type": "stream",
     "text": [
      "\n",
      "Loading sample SPA47\n",
      "AnnData object:\n",
      "  obs_names unique: True\n",
      "  var_names unique: True\n",
      "\n",
      "Processing sample SPA47\n",
      "Warning: No common genes found between the two lists.\n",
      "Warning: No common genes found between the two lists.\n",
      "Sample SPA47 has 0 common genes with the dataset\n"
     ]
    },
    {
     "name": "stderr",
     "output_type": "stream",
     "text": [
      "100%|████████████████████████████████████████████████████████████████████████████████████████████████████████████████████████████████████████████████████████████████████| 1/1 [00:01<00:00,  1.40s/it]"
     ]
    },
    {
     "name": "stdout",
     "output_type": "stream",
     "text": [
      "Batch 0: patch shape = torch.Size([1, 59, 3, 112, 112])\n",
      "Pred index is unique: True\n",
      "GT index is unique: True\n",
      "Data shapes: pred (59, 785), gt (59, 785)\n",
      "Pearson Correlation: 0.0000\n",
      "Valid correlations: 785/785\n",
      "\n",
      "Loading dataset with parameters:\n",
      "  Dataset: hest1k\n",
      "  Mode: test\n",
      "  Sample IDs: ['SPA93']\n",
      "  Fold: 5\n"
     ]
    },
    {
     "name": "stderr",
     "output_type": "stream",
     "text": [
      "\n"
     ]
    },
    {
     "name": "stdout",
     "output_type": "stream",
     "text": [
      "HEST Dataset: 1 samples (test)\n",
      "['SPA93']\n",
      "Using 785 genes\n",
      "\n",
      "Dataset loaded:\n",
      "  Length: 1\n",
      "Number of batches in dataloader: 1\n"
     ]
    },
    {
     "name": "stderr",
     "output_type": "stream",
     "text": [
      "  0%|                                                                                                                                                                            | 0/1 [00:00<?, ?it/s]"
     ]
    },
    {
     "name": "stdout",
     "output_type": "stream",
     "text": [
      "\n",
      "Loading sample SPA93\n",
      "AnnData object:\n",
      "  obs_names unique: True\n",
      "  var_names unique: True\n",
      "\n",
      "Processing sample SPA93\n",
      "Warning: No common genes found between the two lists.\n",
      "Warning: No common genes found between the two lists.\n",
      "Sample SPA93 has 0 common genes with the dataset\n"
     ]
    },
    {
     "name": "stderr",
     "output_type": "stream",
     "text": [
      "100%|████████████████████████████████████████████████████████████████████████████████████████████████████████████████████████████████████████████████████████████████████| 1/1 [00:02<00:00,  2.31s/it]"
     ]
    },
    {
     "name": "stdout",
     "output_type": "stream",
     "text": [
      "Batch 0: patch shape = torch.Size([1, 511, 3, 112, 112])\n",
      "Pred index is unique: True\n",
      "GT index is unique: True\n",
      "Data shapes: pred (511, 785), gt (511, 785)\n",
      "Pearson Correlation: 0.0000\n",
      "Valid correlations: 785/785\n",
      "\n",
      "Loading dataset with parameters:\n",
      "  Dataset: hest1k\n",
      "  Mode: test\n",
      "  Sample IDs: ['NCBI710']\n",
      "  Fold: 5\n"
     ]
    },
    {
     "name": "stderr",
     "output_type": "stream",
     "text": [
      "\n"
     ]
    },
    {
     "name": "stdout",
     "output_type": "stream",
     "text": [
      "HEST Dataset: 1 samples (test)\n",
      "['NCBI710']\n",
      "Using 785 genes\n",
      "\n",
      "Dataset loaded:\n",
      "  Length: 1\n",
      "Number of batches in dataloader: 1\n"
     ]
    },
    {
     "name": "stderr",
     "output_type": "stream",
     "text": [
      "  0%|                                                                                                                                                                            | 0/1 [00:00<?, ?it/s]"
     ]
    },
    {
     "name": "stdout",
     "output_type": "stream",
     "text": [
      "\n",
      "Loading sample NCBI710\n",
      "AnnData object:\n",
      "  obs_names unique: True\n",
      "  var_names unique: True\n",
      "\n",
      "Processing sample NCBI710\n",
      "Sample NCBI710 has 762 common genes with the dataset\n"
     ]
    },
    {
     "name": "stderr",
     "output_type": "stream",
     "text": [
      "100%|████████████████████████████████████████████████████████████████████████████████████████████████████████████████████████████████████████████████████████████████████| 1/1 [00:03<00:00,  3.52s/it]"
     ]
    },
    {
     "name": "stdout",
     "output_type": "stream",
     "text": [
      "Batch 0: patch shape = torch.Size([1, 956, 3, 112, 112])\n",
      "Pred index is unique: True\n",
      "GT index is unique: True\n",
      "Data shapes: pred (956, 785), gt (956, 785)\n"
     ]
    },
    {
     "name": "stderr",
     "output_type": "stream",
     "text": [
      "\n"
     ]
    },
    {
     "name": "stdout",
     "output_type": "stream",
     "text": [
      "Pearson Correlation: 0.0188\n",
      "Valid correlations: 785/785\n",
      "\n",
      "Loading dataset with parameters:\n",
      "  Dataset: hest1k\n",
      "  Mode: test\n",
      "  Sample IDs: ['NCBI760']\n",
      "  Fold: 5\n",
      "HEST Dataset: 1 samples (test)\n",
      "['NCBI760']\n",
      "Using 785 genes\n",
      "\n",
      "Dataset loaded:\n",
      "  Length: 1\n",
      "Number of batches in dataloader: 1\n"
     ]
    },
    {
     "name": "stderr",
     "output_type": "stream",
     "text": [
      "  0%|                                                                                                                                                                            | 0/1 [00:00<?, ?it/s]"
     ]
    },
    {
     "name": "stdout",
     "output_type": "stream",
     "text": [
      "\n",
      "Loading sample NCBI760\n",
      "AnnData object:\n",
      "  obs_names unique: True\n",
      "  var_names unique: True\n",
      "\n",
      "Processing sample NCBI760\n",
      "Sample NCBI760 has 773 common genes with the dataset\n"
     ]
    },
    {
     "name": "stderr",
     "output_type": "stream",
     "text": [
      "100%|████████████████████████████████████████████████████████████████████████████████████████████████████████████████████████████████████████████████████████████████████| 1/1 [00:03<00:00,  3.76s/it]"
     ]
    },
    {
     "name": "stdout",
     "output_type": "stream",
     "text": [
      "Batch 0: patch shape = torch.Size([1, 621, 3, 112, 112])\n",
      "Pred index is unique: True\n",
      "GT index is unique: True\n",
      "Data shapes: pred (621, 785), gt (621, 785)\n"
     ]
    },
    {
     "name": "stderr",
     "output_type": "stream",
     "text": [
      "\n"
     ]
    },
    {
     "name": "stdout",
     "output_type": "stream",
     "text": [
      "Pearson Correlation: -0.0129\n",
      "Valid correlations: 785/785\n",
      "\n",
      "Loading dataset with parameters:\n",
      "  Dataset: hest1k\n",
      "  Mode: test\n",
      "  Sample IDs: ['MISC3']\n",
      "  Fold: 5\n",
      "HEST Dataset: 1 samples (test)\n",
      "['MISC3']\n",
      "Using 785 genes\n",
      "\n",
      "Dataset loaded:\n",
      "  Length: 1\n",
      "Number of batches in dataloader: 1\n"
     ]
    },
    {
     "name": "stderr",
     "output_type": "stream",
     "text": [
      "  0%|                                                                                                                                                                            | 0/1 [00:00<?, ?it/s]"
     ]
    },
    {
     "name": "stdout",
     "output_type": "stream",
     "text": [
      "\n",
      "Loading sample MISC3\n",
      "AnnData object:\n",
      "  obs_names unique: True\n",
      "  var_names unique: True\n",
      "\n",
      "Processing sample MISC3\n",
      "Sample MISC3 has 771 common genes with the dataset\n",
      "Batch 0: patch shape = torch.Size([1, 3673, 3, 112, 112])\n"
     ]
    },
    {
     "name": "stderr",
     "output_type": "stream",
     "text": [
      "100%|████████████████████████████████████████████████████████████████████████████████████████████████████████████████████████████████████████████████████████████████████| 1/1 [00:09<00:00,  9.63s/it]\n"
     ]
    },
    {
     "name": "stdout",
     "output_type": "stream",
     "text": [
      "Pred index is unique: True\n",
      "GT index is unique: True\n",
      "Data shapes: pred (3673, 785), gt (3673, 785)\n",
      "Pearson Correlation: 0.0000\n",
      "Valid correlations: 785/785\n",
      "\n",
      "Loading dataset with parameters:\n",
      "  Dataset: hest1k\n",
      "  Mode: test\n",
      "  Sample IDs: ['SPA75']\n",
      "  Fold: 5\n",
      "HEST Dataset: 1 samples (test)\n",
      "['SPA75']\n",
      "Using 785 genes\n",
      "\n",
      "Dataset loaded:\n",
      "  Length: 1\n",
      "Number of batches in dataloader: 1\n"
     ]
    },
    {
     "name": "stderr",
     "output_type": "stream",
     "text": [
      "  0%|                                                                                                                                                                            | 0/1 [00:00<?, ?it/s]"
     ]
    },
    {
     "name": "stdout",
     "output_type": "stream",
     "text": [
      "\n",
      "Loading sample SPA75\n",
      "AnnData object:\n",
      "  obs_names unique: True\n",
      "  var_names unique: True\n",
      "\n",
      "Processing sample SPA75\n",
      "Warning: No common genes found between the two lists.\n",
      "Warning: No common genes found between the two lists.\n",
      "Sample SPA75 has 0 common genes with the dataset\n"
     ]
    },
    {
     "name": "stderr",
     "output_type": "stream",
     "text": [
      "100%|████████████████████████████████████████████████████████████████████████████████████████████████████████████████████████████████████████████████████████████████████| 1/1 [00:01<00:00,  1.94s/it]"
     ]
    },
    {
     "name": "stdout",
     "output_type": "stream",
     "text": [
      "Batch 0: patch shape = torch.Size([1, 284, 3, 112, 112])\n",
      "Pred index is unique: True\n",
      "GT index is unique: True\n",
      "Data shapes: pred (284, 785), gt (284, 785)\n",
      "Pearson Correlation: 0.0000\n",
      "Valid correlations: 785/785\n",
      "\n",
      "Loading dataset with parameters:\n",
      "  Dataset: hest1k\n",
      "  Mode: test\n",
      "  Sample IDs: ['SPA143']\n",
      "  Fold: 5\n"
     ]
    },
    {
     "name": "stderr",
     "output_type": "stream",
     "text": [
      "\n"
     ]
    },
    {
     "name": "stdout",
     "output_type": "stream",
     "text": [
      "HEST Dataset: 1 samples (test)\n",
      "['SPA143']\n",
      "Using 785 genes\n",
      "\n",
      "Dataset loaded:\n",
      "  Length: 1\n",
      "Number of batches in dataloader: 1\n"
     ]
    },
    {
     "name": "stderr",
     "output_type": "stream",
     "text": [
      "  0%|                                                                                                                                                                            | 0/1 [00:00<?, ?it/s]"
     ]
    },
    {
     "name": "stdout",
     "output_type": "stream",
     "text": [
      "\n",
      "Loading sample SPA143\n",
      "AnnData object:\n",
      "  obs_names unique: True\n",
      "  var_names unique: True\n",
      "\n",
      "Processing sample SPA143\n",
      "Warning: No missing genes found.\n",
      "Sample SPA143 has 785 common genes with the dataset\n"
     ]
    },
    {
     "name": "stderr",
     "output_type": "stream",
     "text": [
      "100%|████████████████████████████████████████████████████████████████████████████████████████████████████████████████████████████████████████████████████████████████████| 1/1 [00:01<00:00,  1.98s/it]"
     ]
    },
    {
     "name": "stdout",
     "output_type": "stream",
     "text": [
      "Batch 0: patch shape = torch.Size([1, 277, 3, 112, 112])\n",
      "Pred index is unique: True\n",
      "GT index is unique: True\n",
      "Data shapes: pred (277, 785), gt (277, 785)\n"
     ]
    },
    {
     "name": "stderr",
     "output_type": "stream",
     "text": [
      "\n"
     ]
    },
    {
     "name": "stdout",
     "output_type": "stream",
     "text": [
      "Pearson Correlation: 0.3015\n",
      "Valid correlations: 785/785\n",
      "\n",
      "Loading dataset with parameters:\n",
      "  Dataset: hest1k\n",
      "  Mode: test\n",
      "  Sample IDs: ['TENX46']\n",
      "  Fold: 5\n",
      "HEST Dataset: 1 samples (test)\n",
      "['TENX46']\n",
      "Using 785 genes\n",
      "\n",
      "Dataset loaded:\n",
      "  Length: 1\n",
      "Number of batches in dataloader: 1\n"
     ]
    },
    {
     "name": "stderr",
     "output_type": "stream",
     "text": [
      "  0%|                                                                                                                                                                            | 0/1 [00:00<?, ?it/s]"
     ]
    },
    {
     "name": "stdout",
     "output_type": "stream",
     "text": [
      "\n",
      "Loading sample TENX46\n",
      "AnnData object:\n",
      "  obs_names unique: True\n",
      "  var_names unique: True\n",
      "\n",
      "Processing sample TENX46\n",
      "Sample TENX46 has 728 common genes with the dataset\n",
      "Batch 0: patch shape = torch.Size([1, 3043, 3, 112, 112])\n"
     ]
    },
    {
     "name": "stderr",
     "output_type": "stream",
     "text": [
      "100%|████████████████████████████████████████████████████████████████████████████████████████████████████████████████████████████████████████████████████████████████████| 1/1 [00:11<00:00, 11.61s/it]\n"
     ]
    },
    {
     "name": "stdout",
     "output_type": "stream",
     "text": [
      "Pred index is unique: True\n",
      "GT index is unique: True\n",
      "Data shapes: pred (3043, 785), gt (3043, 785)\n",
      "Pearson Correlation: 0.0000\n",
      "Valid correlations: 785/785\n",
      "\n",
      "Loading dataset with parameters:\n",
      "  Dataset: hest1k\n",
      "  Mode: test\n",
      "  Sample IDs: ['NCBI521']\n",
      "  Fold: 5\n",
      "HEST Dataset: 1 samples (test)\n",
      "['NCBI521']\n",
      "Using 785 genes\n",
      "\n",
      "Dataset loaded:\n",
      "  Length: 1\n",
      "Number of batches in dataloader: 1\n"
     ]
    },
    {
     "name": "stderr",
     "output_type": "stream",
     "text": [
      "  0%|                                                                                                                                                                            | 0/1 [00:00<?, ?it/s]"
     ]
    },
    {
     "name": "stdout",
     "output_type": "stream",
     "text": [
      "\n",
      "Loading sample NCBI521\n",
      "AnnData object:\n",
      "  obs_names unique: True\n",
      "  var_names unique: True\n",
      "\n",
      "Processing sample NCBI521\n",
      "Sample NCBI521 has 758 common genes with the dataset\n"
     ]
    },
    {
     "name": "stderr",
     "output_type": "stream",
     "text": [
      "100%|████████████████████████████████████████████████████████████████████████████████████████████████████████████████████████████████████████████████████████████████████| 1/1 [00:01<00:00,  1.68s/it]"
     ]
    },
    {
     "name": "stdout",
     "output_type": "stream",
     "text": [
      "Batch 0: patch shape = torch.Size([1, 464, 3, 112, 112])\n",
      "Pred index is unique: True\n",
      "GT index is unique: True\n",
      "Data shapes: pred (464, 785), gt (464, 785)\n"
     ]
    },
    {
     "name": "stderr",
     "output_type": "stream",
     "text": [
      "\n"
     ]
    },
    {
     "name": "stdout",
     "output_type": "stream",
     "text": [
      "Pearson Correlation: 0.1390\n",
      "Valid correlations: 785/785\n",
      "\n",
      "Loading dataset with parameters:\n",
      "  Dataset: hest1k\n",
      "  Mode: test\n",
      "  Sample IDs: ['MEND37']\n",
      "  Fold: 5\n",
      "HEST Dataset: 1 samples (test)\n",
      "['MEND37']\n",
      "Using 785 genes\n",
      "\n",
      "Dataset loaded:\n",
      "  Length: 1\n",
      "Number of batches in dataloader: 1\n"
     ]
    },
    {
     "name": "stderr",
     "output_type": "stream",
     "text": [
      "  0%|                                                                                                                                                                            | 0/1 [00:00<?, ?it/s]"
     ]
    },
    {
     "name": "stdout",
     "output_type": "stream",
     "text": [
      "\n",
      "Loading sample MEND37\n",
      "AnnData object:\n",
      "  obs_names unique: True\n",
      "  var_names unique: True\n",
      "\n",
      "Processing sample MEND37\n",
      "Sample MEND37 has 771 common genes with the dataset\n",
      "Batch 0: patch shape = torch.Size([1, 2363, 3, 112, 112])\n"
     ]
    },
    {
     "name": "stderr",
     "output_type": "stream",
     "text": [
      "100%|████████████████████████████████████████████████████████████████████████████████████████████████████████████████████████████████████████████████████████████████████| 1/1 [00:07<00:00,  7.92s/it]\n"
     ]
    },
    {
     "name": "stdout",
     "output_type": "stream",
     "text": [
      "Pred index is unique: True\n",
      "GT index is unique: True\n",
      "Data shapes: pred (2363, 785), gt (2363, 785)\n",
      "Pearson Correlation: 0.0000\n",
      "Valid correlations: 785/785\n",
      "\n",
      "Loading dataset with parameters:\n",
      "  Dataset: hest1k\n",
      "  Mode: test\n",
      "  Sample IDs: ['NCBI695']\n",
      "  Fold: 5\n",
      "HEST Dataset: 1 samples (test)\n",
      "['NCBI695']\n",
      "Using 785 genes\n",
      "\n",
      "Dataset loaded:\n",
      "  Length: 1\n",
      "Number of batches in dataloader: 1\n"
     ]
    },
    {
     "name": "stderr",
     "output_type": "stream",
     "text": [
      "  0%|                                                                                                                                                                            | 0/1 [00:00<?, ?it/s]"
     ]
    },
    {
     "name": "stdout",
     "output_type": "stream",
     "text": [
      "\n",
      "Loading sample NCBI695\n",
      "AnnData object:\n",
      "  obs_names unique: True\n",
      "  var_names unique: True\n",
      "\n",
      "Processing sample NCBI695\n",
      "Sample NCBI695 has 762 common genes with the dataset\n"
     ]
    },
    {
     "name": "stderr",
     "output_type": "stream",
     "text": [
      "100%|████████████████████████████████████████████████████████████████████████████████████████████████████████████████████████████████████████████████████████████████████| 1/1 [00:03<00:00,  3.38s/it]"
     ]
    },
    {
     "name": "stdout",
     "output_type": "stream",
     "text": [
      "Batch 0: patch shape = torch.Size([1, 673, 3, 112, 112])\n",
      "Pred index is unique: True\n",
      "GT index is unique: True\n",
      "Data shapes: pred (673, 785), gt (673, 785)\n"
     ]
    },
    {
     "name": "stderr",
     "output_type": "stream",
     "text": [
      "\n"
     ]
    },
    {
     "name": "stdout",
     "output_type": "stream",
     "text": [
      "Pearson Correlation: 0.0205\n",
      "Valid correlations: 785/785\n",
      "\n",
      "Loading dataset with parameters:\n",
      "  Dataset: hest1k\n",
      "  Mode: test\n",
      "  Sample IDs: ['MISC41']\n",
      "  Fold: 5\n",
      "HEST Dataset: 1 samples (test)\n",
      "['MISC41']\n",
      "Using 785 genes\n",
      "\n",
      "Dataset loaded:\n",
      "  Length: 1\n",
      "Number of batches in dataloader: 1\n"
     ]
    },
    {
     "name": "stderr",
     "output_type": "stream",
     "text": [
      "  0%|                                                                                                                                                                            | 0/1 [00:00<?, ?it/s]"
     ]
    },
    {
     "name": "stdout",
     "output_type": "stream",
     "text": [
      "\n",
      "Loading sample MISC41\n",
      "AnnData object:\n",
      "  obs_names unique: True\n",
      "  var_names unique: True\n",
      "\n",
      "Processing sample MISC41\n",
      "Sample MISC41 has 755 common genes with the dataset\n",
      "Batch 0: patch shape = torch.Size([1, 3708, 3, 112, 112])\n"
     ]
    },
    {
     "name": "stderr",
     "output_type": "stream",
     "text": [
      "100%|████████████████████████████████████████████████████████████████████████████████████████████████████████████████████████████████████████████████████████████████████| 1/1 [00:10<00:00, 10.58s/it]\n"
     ]
    },
    {
     "name": "stdout",
     "output_type": "stream",
     "text": [
      "Pred index is unique: True\n",
      "GT index is unique: True\n",
      "Data shapes: pred (3708, 785), gt (3708, 785)\n",
      "Pearson Correlation: 0.1468\n",
      "Valid correlations: 785/785\n",
      "\n",
      "Loading dataset with parameters:\n",
      "  Dataset: hest1k\n",
      "  Mode: test\n",
      "  Sample IDs: ['NCBI507']\n",
      "  Fold: 5\n",
      "HEST Dataset: 1 samples (test)\n",
      "['NCBI507']\n",
      "Using 785 genes\n",
      "\n",
      "Dataset loaded:\n",
      "  Length: 1\n",
      "Number of batches in dataloader: 1\n"
     ]
    },
    {
     "name": "stderr",
     "output_type": "stream",
     "text": [
      "  0%|                                                                                                                                                                            | 0/1 [00:00<?, ?it/s]"
     ]
    },
    {
     "name": "stdout",
     "output_type": "stream",
     "text": [
      "\n",
      "Loading sample NCBI507\n",
      "AnnData object:\n",
      "  obs_names unique: True\n",
      "  var_names unique: True\n",
      "\n",
      "Processing sample NCBI507\n",
      "Sample NCBI507 has 758 common genes with the dataset\n"
     ]
    },
    {
     "name": "stderr",
     "output_type": "stream",
     "text": [
      "100%|████████████████████████████████████████████████████████████████████████████████████████████████████████████████████████████████████████████████████████████████████| 1/1 [00:02<00:00,  2.04s/it]"
     ]
    },
    {
     "name": "stdout",
     "output_type": "stream",
     "text": [
      "Batch 0: patch shape = torch.Size([1, 469, 3, 112, 112])\n",
      "Pred index is unique: True\n",
      "GT index is unique: True\n",
      "Data shapes: pred (469, 785), gt (469, 785)\n",
      "Pearson Correlation: 0.0000\n",
      "Valid correlations: 785/785\n",
      "\n",
      "Loading dataset with parameters:\n",
      "  Dataset: hest1k\n",
      "  Mode: test\n",
      "  Sample IDs: ['MEND59']\n",
      "  Fold: 5\n"
     ]
    },
    {
     "name": "stderr",
     "output_type": "stream",
     "text": [
      "\n"
     ]
    },
    {
     "name": "stdout",
     "output_type": "stream",
     "text": [
      "HEST Dataset: 1 samples (test)\n",
      "['MEND59']\n",
      "Using 785 genes\n",
      "\n",
      "Dataset loaded:\n",
      "  Length: 1\n",
      "Number of batches in dataloader: 1\n"
     ]
    },
    {
     "name": "stderr",
     "output_type": "stream",
     "text": [
      "  0%|                                                                                                                                                                            | 0/1 [00:00<?, ?it/s]"
     ]
    },
    {
     "name": "stdout",
     "output_type": "stream",
     "text": [
      "\n",
      "Loading sample MEND59\n",
      "AnnData object:\n",
      "  obs_names unique: True\n",
      "  var_names unique: True\n",
      "\n",
      "Processing sample MEND59\n",
      "Sample MEND59 has 728 common genes with the dataset\n",
      "Batch 0: patch shape = torch.Size([1, 3832, 3, 112, 112])\n"
     ]
    },
    {
     "name": "stderr",
     "output_type": "stream",
     "text": [
      "100%|████████████████████████████████████████████████████████████████████████████████████████████████████████████████████████████████████████████████████████████████████| 1/1 [00:10<00:00, 10.54s/it]\n"
     ]
    },
    {
     "name": "stdout",
     "output_type": "stream",
     "text": [
      "Pred index is unique: True\n",
      "GT index is unique: True\n",
      "Data shapes: pred (3832, 785), gt (3832, 785)\n",
      "Pearson Correlation: -0.0399\n",
      "Valid correlations: 785/785\n",
      "\n",
      "Loading dataset with parameters:\n",
      "  Dataset: hest1k\n",
      "  Mode: test\n",
      "  Sample IDs: ['TENX157']\n",
      "  Fold: 5\n",
      "HEST Dataset: 1 samples (test)\n",
      "['TENX157']\n",
      "Using 785 genes\n",
      "\n",
      "Dataset loaded:\n",
      "  Length: 1\n",
      "Number of batches in dataloader: 1\n"
     ]
    },
    {
     "name": "stderr",
     "output_type": "stream",
     "text": [
      "  0%|                                                                                                                                                                            | 0/1 [00:00<?, ?it/s]"
     ]
    },
    {
     "name": "stdout",
     "output_type": "stream",
     "text": [
      "\n",
      "Loading sample TENX157\n",
      "AnnData object:\n",
      "  obs_names unique: True\n",
      "  var_names unique: True\n",
      "\n",
      "Processing sample TENX157\n",
      "Sample TENX157 has 223 common genes with the dataset\n",
      "Batch 0: patch shape = torch.Size([1, 4427, 3, 112, 112])\n"
     ]
    },
    {
     "name": "stderr",
     "output_type": "stream",
     "text": [
      "100%|████████████████████████████████████████████████████████████████████████████████████████████████████████████████████████████████████████████████████████████████████| 1/1 [00:09<00:00,  9.36s/it]\n"
     ]
    },
    {
     "name": "stdout",
     "output_type": "stream",
     "text": [
      "Pred index is unique: True\n",
      "GT index is unique: True\n",
      "Data shapes: pred (4427, 785), gt (4427, 785)\n",
      "Pearson Correlation: -0.0697\n",
      "Valid correlations: 785/785\n",
      "\n",
      "Loading dataset with parameters:\n",
      "  Dataset: hest1k\n",
      "  Mode: test\n",
      "  Sample IDs: ['NCBI467']\n",
      "  Fold: 5\n",
      "HEST Dataset: 1 samples (test)\n",
      "['NCBI467']\n",
      "Using 785 genes\n",
      "\n",
      "Dataset loaded:\n",
      "  Length: 1\n",
      "Number of batches in dataloader: 1\n"
     ]
    },
    {
     "name": "stderr",
     "output_type": "stream",
     "text": [
      "  0%|                                                                                                                                                                            | 0/1 [00:00<?, ?it/s]"
     ]
    },
    {
     "name": "stdout",
     "output_type": "stream",
     "text": [
      "\n",
      "Loading sample NCBI467\n",
      "AnnData object:\n",
      "  obs_names unique: True\n",
      "  var_names unique: True\n",
      "\n",
      "Processing sample NCBI467\n",
      "Sample NCBI467 has 758 common genes with the dataset\n"
     ]
    },
    {
     "name": "stderr",
     "output_type": "stream",
     "text": [
      "100%|████████████████████████████████████████████████████████████████████████████████████████████████████████████████████████████████████████████████████████████████████| 1/1 [00:05<00:00,  5.37s/it]"
     ]
    },
    {
     "name": "stdout",
     "output_type": "stream",
     "text": [
      "Batch 0: patch shape = torch.Size([1, 1906, 3, 112, 112])\n",
      "Pred index is unique: True\n",
      "GT index is unique: True\n",
      "Data shapes: pred (1906, 785), gt (1906, 785)\n"
     ]
    },
    {
     "name": "stderr",
     "output_type": "stream",
     "text": [
      "\n"
     ]
    },
    {
     "name": "stdout",
     "output_type": "stream",
     "text": [
      "Pearson Correlation: 0.1932\n",
      "Valid correlations: 785/785\n",
      "\n",
      "Loading dataset with parameters:\n",
      "  Dataset: hest1k\n",
      "  Mode: test\n",
      "  Sample IDs: ['NCBI515']\n",
      "  Fold: 5\n",
      "HEST Dataset: 1 samples (test)\n",
      "['NCBI515']\n",
      "Using 785 genes\n",
      "\n",
      "Dataset loaded:\n",
      "  Length: 1\n",
      "Number of batches in dataloader: 1\n"
     ]
    },
    {
     "name": "stderr",
     "output_type": "stream",
     "text": [
      "  0%|                                                                                                                                                                            | 0/1 [00:00<?, ?it/s]"
     ]
    },
    {
     "name": "stdout",
     "output_type": "stream",
     "text": [
      "\n",
      "Loading sample NCBI515\n",
      "AnnData object:\n",
      "  obs_names unique: True\n",
      "  var_names unique: True\n",
      "\n",
      "Processing sample NCBI515\n",
      "Sample NCBI515 has 758 common genes with the dataset\n"
     ]
    },
    {
     "name": "stderr",
     "output_type": "stream",
     "text": [
      "100%|████████████████████████████████████████████████████████████████████████████████████████████████████████████████████████████████████████████████████████████████████| 1/1 [00:02<00:00,  2.50s/it]"
     ]
    },
    {
     "name": "stdout",
     "output_type": "stream",
     "text": [
      "Batch 0: patch shape = torch.Size([1, 825, 3, 112, 112])\n",
      "Pred index is unique: True\n",
      "GT index is unique: True\n",
      "Data shapes: pred (825, 785), gt (825, 785)\n"
     ]
    },
    {
     "name": "stderr",
     "output_type": "stream",
     "text": [
      "\n"
     ]
    },
    {
     "name": "stdout",
     "output_type": "stream",
     "text": [
      "Pearson Correlation: -0.1422\n",
      "Valid correlations: 785/785\n",
      "\n",
      "Loading dataset with parameters:\n",
      "  Dataset: hest1k\n",
      "  Mode: test\n",
      "  Sample IDs: ['MISC66']\n",
      "  Fold: 5\n",
      "HEST Dataset: 1 samples (test)\n",
      "['MISC66']\n",
      "Using 785 genes\n",
      "\n",
      "Dataset loaded:\n",
      "  Length: 1\n",
      "Number of batches in dataloader: 1\n"
     ]
    },
    {
     "name": "stderr",
     "output_type": "stream",
     "text": [
      "  0%|                                                                                                                                                                            | 0/1 [00:00<?, ?it/s]"
     ]
    },
    {
     "name": "stdout",
     "output_type": "stream",
     "text": [
      "\n",
      "Loading sample MISC66\n",
      "AnnData object:\n",
      "  obs_names unique: True\n",
      "  var_names unique: True\n",
      "\n",
      "Processing sample MISC66\n",
      "Sample MISC66 has 755 common genes with the dataset\n",
      "Batch 0: patch shape = torch.Size([1, 3970, 3, 112, 112])\n"
     ]
    },
    {
     "name": "stderr",
     "output_type": "stream",
     "text": [
      "100%|████████████████████████████████████████████████████████████████████████████████████████████████████████████████████████████████████████████████████████████████████| 1/1 [00:13<00:00, 13.08s/it]\n"
     ]
    },
    {
     "name": "stdout",
     "output_type": "stream",
     "text": [
      "Pred index is unique: True\n",
      "GT index is unique: True\n",
      "Data shapes: pred (3970, 785), gt (3970, 785)\n",
      "Pearson Correlation: 0.2871\n",
      "Valid correlations: 785/785\n",
      "\n",
      "Loading dataset with parameters:\n",
      "  Dataset: hest1k\n",
      "  Mode: test\n",
      "  Sample IDs: ['SPA139']\n",
      "  Fold: 5\n",
      "HEST Dataset: 1 samples (test)\n",
      "['SPA139']\n",
      "Using 785 genes\n",
      "\n",
      "Dataset loaded:\n",
      "  Length: 1\n",
      "Number of batches in dataloader: 1\n"
     ]
    },
    {
     "name": "stderr",
     "output_type": "stream",
     "text": [
      "  0%|                                                                                                                                                                            | 0/1 [00:00<?, ?it/s]"
     ]
    },
    {
     "name": "stdout",
     "output_type": "stream",
     "text": [
      "\n",
      "Loading sample SPA139\n",
      "AnnData object:\n",
      "  obs_names unique: True\n",
      "  var_names unique: True\n",
      "\n",
      "Processing sample SPA139\n",
      "Warning: No missing genes found.\n",
      "Sample SPA139 has 785 common genes with the dataset\n"
     ]
    },
    {
     "name": "stderr",
     "output_type": "stream",
     "text": [
      "100%|████████████████████████████████████████████████████████████████████████████████████████████████████████████████████████████████████████████████████████████████████| 1/1 [00:01<00:00,  1.80s/it]"
     ]
    },
    {
     "name": "stdout",
     "output_type": "stream",
     "text": [
      "Batch 0: patch shape = torch.Size([1, 184, 3, 112, 112])\n",
      "Pred index is unique: True\n",
      "GT index is unique: True\n",
      "Data shapes: pred (184, 785), gt (184, 785)\n"
     ]
    },
    {
     "name": "stderr",
     "output_type": "stream",
     "text": [
      "\n"
     ]
    },
    {
     "name": "stdout",
     "output_type": "stream",
     "text": [
      "Pearson Correlation: 0.1125\n",
      "Valid correlations: 785/785\n",
      "\n",
      "Loading dataset with parameters:\n",
      "  Dataset: hest1k\n",
      "  Mode: test\n",
      "  Sample IDs: ['MISC140']\n",
      "  Fold: 5\n",
      "HEST Dataset: 1 samples (test)\n",
      "['MISC140']\n",
      "Using 785 genes\n",
      "\n",
      "Dataset loaded:\n",
      "  Length: 1\n",
      "Number of batches in dataloader: 1\n"
     ]
    },
    {
     "name": "stderr",
     "output_type": "stream",
     "text": [
      "  0%|                                                                                                                                                                            | 0/1 [00:00<?, ?it/s]"
     ]
    },
    {
     "name": "stdout",
     "output_type": "stream",
     "text": [
      "\n",
      "Loading sample MISC140\n",
      "AnnData object:\n",
      "  obs_names unique: True\n",
      "  var_names unique: True\n",
      "\n",
      "Processing sample MISC140\n",
      "Warning: No common genes found between the two lists.\n",
      "Warning: No common genes found between the two lists.\n",
      "Sample MISC140 has 0 common genes with the dataset\n"
     ]
    },
    {
     "name": "stderr",
     "output_type": "stream",
     "text": [
      "100%|████████████████████████████████████████████████████████████████████████████████████████████████████████████████████████████████████████████████████████████████████| 1/1 [00:06<00:00,  6.38s/it]"
     ]
    },
    {
     "name": "stdout",
     "output_type": "stream",
     "text": [
      "Batch 0: patch shape = torch.Size([1, 2168, 3, 112, 112])\n",
      "Pred index is unique: True\n",
      "GT index is unique: True\n",
      "Data shapes: pred (2168, 785), gt (2168, 785)\n"
     ]
    },
    {
     "name": "stderr",
     "output_type": "stream",
     "text": [
      "\n"
     ]
    },
    {
     "name": "stdout",
     "output_type": "stream",
     "text": [
      "Pearson Correlation: 0.0000\n",
      "Valid correlations: 785/785\n",
      "\n",
      "Loading dataset with parameters:\n",
      "  Dataset: hest1k\n",
      "  Mode: test\n",
      "  Sample IDs: ['NCBI630']\n",
      "  Fold: 5\n",
      "HEST Dataset: 1 samples (test)\n",
      "['NCBI630']\n",
      "Using 785 genes\n",
      "\n",
      "Dataset loaded:\n",
      "  Length: 1\n",
      "Number of batches in dataloader: 1\n"
     ]
    },
    {
     "name": "stderr",
     "output_type": "stream",
     "text": [
      "  0%|                                                                                                                                                                            | 0/1 [00:00<?, ?it/s]"
     ]
    },
    {
     "name": "stdout",
     "output_type": "stream",
     "text": [
      "\n",
      "Loading sample NCBI630\n",
      "AnnData object:\n",
      "  obs_names unique: True\n",
      "  var_names unique: True\n",
      "\n",
      "Processing sample NCBI630\n",
      "Sample NCBI630 has 762 common genes with the dataset\n",
      "Batch 0: patch shape = torch.Size([1, 2961, 3, 112, 112])\n"
     ]
    },
    {
     "name": "stderr",
     "output_type": "stream",
     "text": [
      "100%|████████████████████████████████████████████████████████████████████████████████████████████████████████████████████████████████████████████████████████████████████| 1/1 [00:06<00:00,  6.93s/it]\n"
     ]
    },
    {
     "name": "stdout",
     "output_type": "stream",
     "text": [
      "Pred index is unique: True\n",
      "GT index is unique: True\n",
      "Data shapes: pred (2961, 785), gt (2961, 785)\n",
      "Pearson Correlation: 0.0000\n",
      "Valid correlations: 785/785\n",
      "\n",
      "Loading dataset with parameters:\n",
      "  Dataset: hest1k\n",
      "  Mode: test\n",
      "  Sample IDs: ['MEND3']\n",
      "  Fold: 5\n",
      "HEST Dataset: 1 samples (test)\n",
      "['MEND3']\n",
      "Using 785 genes\n",
      "\n",
      "Dataset loaded:\n",
      "  Length: 1\n",
      "Number of batches in dataloader: 1\n"
     ]
    },
    {
     "name": "stderr",
     "output_type": "stream",
     "text": [
      "  0%|                                                                                                                                                                            | 0/1 [00:00<?, ?it/s]"
     ]
    },
    {
     "name": "stdout",
     "output_type": "stream",
     "text": [
      "\n",
      "Loading sample MEND3\n",
      "AnnData object:\n",
      "  obs_names unique: True\n",
      "  var_names unique: True\n",
      "\n",
      "Processing sample MEND3\n",
      "Sample MEND3 has 783 common genes with the dataset\n"
     ]
    },
    {
     "name": "stderr",
     "output_type": "stream",
     "text": [
      "100%|████████████████████████████████████████████████████████████████████████████████████████████████████████████████████████████████████████████████████████████████████| 1/1 [00:01<00:00,  1.77s/it]"
     ]
    },
    {
     "name": "stdout",
     "output_type": "stream",
     "text": [
      "Batch 0: patch shape = torch.Size([1, 161, 3, 112, 112])\n",
      "Pred index is unique: True\n",
      "GT index is unique: True\n",
      "Data shapes: pred (161, 785), gt (161, 785)\n",
      "Pearson Correlation: 0.0000\n",
      "Valid correlations: 785/785\n",
      "\n",
      "Loading dataset with parameters:\n",
      "  Dataset: hest1k\n",
      "  Mode: test\n",
      "  Sample IDs: ['NCBI761']\n",
      "  Fold: 5\n"
     ]
    },
    {
     "name": "stderr",
     "output_type": "stream",
     "text": [
      "\n"
     ]
    },
    {
     "name": "stdout",
     "output_type": "stream",
     "text": [
      "HEST Dataset: 1 samples (test)\n",
      "['NCBI761']\n",
      "Using 785 genes\n",
      "\n",
      "Dataset loaded:\n",
      "  Length: 1\n",
      "Number of batches in dataloader: 1\n"
     ]
    },
    {
     "name": "stderr",
     "output_type": "stream",
     "text": [
      "  0%|                                                                                                                                                                            | 0/1 [00:00<?, ?it/s]"
     ]
    },
    {
     "name": "stdout",
     "output_type": "stream",
     "text": [
      "\n",
      "Loading sample NCBI761\n",
      "AnnData object:\n",
      "  obs_names unique: True\n",
      "  var_names unique: True\n",
      "\n",
      "Processing sample NCBI761\n",
      "Sample NCBI761 has 770 common genes with the dataset\n"
     ]
    },
    {
     "name": "stderr",
     "output_type": "stream",
     "text": [
      "100%|████████████████████████████████████████████████████████████████████████████████████████████████████████████████████████████████████████████████████████████████████| 1/1 [00:03<00:00,  3.51s/it]"
     ]
    },
    {
     "name": "stdout",
     "output_type": "stream",
     "text": [
      "Batch 0: patch shape = torch.Size([1, 608, 3, 112, 112])\n",
      "Pred index is unique: True\n",
      "GT index is unique: True\n",
      "Data shapes: pred (608, 785), gt (608, 785)\n"
     ]
    },
    {
     "name": "stderr",
     "output_type": "stream",
     "text": [
      "\n"
     ]
    },
    {
     "name": "stdout",
     "output_type": "stream",
     "text": [
      "Pearson Correlation: -0.0119\n",
      "Valid correlations: 785/785\n",
      "\n",
      "Loading dataset with parameters:\n",
      "  Dataset: hest1k\n",
      "  Mode: test\n",
      "  Sample IDs: ['MEND141']\n",
      "  Fold: 5\n",
      "HEST Dataset: 1 samples (test)\n",
      "['MEND141']\n",
      "Using 785 genes\n",
      "\n",
      "Dataset loaded:\n",
      "  Length: 1\n",
      "Number of batches in dataloader: 1\n"
     ]
    },
    {
     "name": "stderr",
     "output_type": "stream",
     "text": [
      "  0%|                                                                                                                                                                            | 0/1 [00:00<?, ?it/s]"
     ]
    },
    {
     "name": "stdout",
     "output_type": "stream",
     "text": [
      "\n",
      "Loading sample MEND141\n",
      "AnnData object:\n",
      "  obs_names unique: True\n",
      "  var_names unique: True\n",
      "\n",
      "Processing sample MEND141\n",
      "Sample MEND141 has 771 common genes with the dataset\n"
     ]
    },
    {
     "name": "stderr",
     "output_type": "stream",
     "text": [
      "100%|████████████████████████████████████████████████████████████████████████████████████████████████████████████████████████████████████████████████████████████████████| 1/1 [00:05<00:00,  5.69s/it]"
     ]
    },
    {
     "name": "stdout",
     "output_type": "stream",
     "text": [
      "Batch 0: patch shape = torch.Size([1, 1794, 3, 112, 112])\n",
      "Pred index is unique: True\n",
      "GT index is unique: True\n",
      "Data shapes: pred (1794, 785), gt (1794, 785)\n"
     ]
    },
    {
     "name": "stderr",
     "output_type": "stream",
     "text": [
      "\n"
     ]
    },
    {
     "name": "stdout",
     "output_type": "stream",
     "text": [
      "Pearson Correlation: 0.0778\n",
      "Valid correlations: 785/785\n",
      "\n",
      "Loading dataset with parameters:\n",
      "  Dataset: hest1k\n",
      "  Mode: test\n",
      "  Sample IDs: ['MISC55']\n",
      "  Fold: 5\n",
      "HEST Dataset: 1 samples (test)\n",
      "['MISC55']\n",
      "Using 785 genes\n",
      "\n",
      "Dataset loaded:\n",
      "  Length: 1\n",
      "Number of batches in dataloader: 1\n"
     ]
    },
    {
     "name": "stderr",
     "output_type": "stream",
     "text": [
      "  0%|                                                                                                                                                                            | 0/1 [00:00<?, ?it/s]"
     ]
    },
    {
     "name": "stdout",
     "output_type": "stream",
     "text": [
      "\n",
      "Loading sample MISC55\n",
      "AnnData object:\n",
      "  obs_names unique: True\n",
      "  var_names unique: True\n",
      "\n",
      "Processing sample MISC55\n",
      "Sample MISC55 has 754 common genes with the dataset\n"
     ]
    },
    {
     "name": "stderr",
     "output_type": "stream",
     "text": [
      "100%|████████████████████████████████████████████████████████████████████████████████████████████████████████████████████████████████████████████████████████████████████| 1/1 [00:03<00:00,  3.19s/it]"
     ]
    },
    {
     "name": "stdout",
     "output_type": "stream",
     "text": [
      "Batch 0: patch shape = torch.Size([1, 863, 3, 112, 112])\n",
      "Pred index is unique: True\n",
      "GT index is unique: True\n",
      "Data shapes: pred (863, 785), gt (863, 785)\n"
     ]
    },
    {
     "name": "stderr",
     "output_type": "stream",
     "text": [
      "\n"
     ]
    },
    {
     "name": "stdout",
     "output_type": "stream",
     "text": [
      "Pearson Correlation: 0.0098\n",
      "Valid correlations: 785/785\n",
      "\n",
      "Loading dataset with parameters:\n",
      "  Dataset: hest1k\n",
      "  Mode: test\n",
      "  Sample IDs: ['INT7']\n",
      "  Fold: 5\n",
      "HEST Dataset: 1 samples (test)\n",
      "['INT7']\n",
      "Using 785 genes\n",
      "\n",
      "Dataset loaded:\n",
      "  Length: 1\n",
      "Number of batches in dataloader: 1\n"
     ]
    },
    {
     "name": "stderr",
     "output_type": "stream",
     "text": [
      "  0%|                                                                                                                                                                            | 0/1 [00:00<?, ?it/s]"
     ]
    },
    {
     "name": "stdout",
     "output_type": "stream",
     "text": [
      "\n",
      "Loading sample INT7\n",
      "AnnData object:\n",
      "  obs_names unique: True\n",
      "  var_names unique: True\n",
      "\n",
      "Processing sample INT7\n",
      "Sample INT7 has 762 common genes with the dataset\n",
      "Batch 0: patch shape = torch.Size([1, 2374, 3, 112, 112])\n"
     ]
    },
    {
     "name": "stderr",
     "output_type": "stream",
     "text": [
      "100%|████████████████████████████████████████████████████████████████████████████████████████████████████████████████████████████████████████████████████████████████████| 1/1 [00:05<00:00,  5.87s/it]\n"
     ]
    },
    {
     "name": "stdout",
     "output_type": "stream",
     "text": [
      "Pred index is unique: True\n",
      "GT index is unique: True\n",
      "Data shapes: pred (2374, 785), gt (2374, 785)\n",
      "Pearson Correlation: 0.0546\n",
      "Valid correlations: 785/785\n",
      "\n",
      "Loading dataset with parameters:\n",
      "  Dataset: hest1k\n",
      "  Mode: test\n",
      "  Sample IDs: ['NCBI508']\n",
      "  Fold: 5\n",
      "HEST Dataset: 1 samples (test)\n",
      "['NCBI508']\n",
      "Using 785 genes\n",
      "\n",
      "Dataset loaded:\n",
      "  Length: 1\n",
      "Number of batches in dataloader: 1\n"
     ]
    },
    {
     "name": "stderr",
     "output_type": "stream",
     "text": [
      "  0%|                                                                                                                                                                            | 0/1 [00:00<?, ?it/s]"
     ]
    },
    {
     "name": "stdout",
     "output_type": "stream",
     "text": [
      "\n",
      "Loading sample NCBI508\n",
      "AnnData object:\n",
      "  obs_names unique: True\n",
      "  var_names unique: True\n",
      "\n",
      "Processing sample NCBI508\n",
      "Sample NCBI508 has 758 common genes with the dataset\n"
     ]
    },
    {
     "name": "stderr",
     "output_type": "stream",
     "text": [
      "100%|████████████████████████████████████████████████████████████████████████████████████████████████████████████████████████████████████████████████████████████████████| 1/1 [00:02<00:00,  2.15s/it]"
     ]
    },
    {
     "name": "stdout",
     "output_type": "stream",
     "text": [
      "Batch 0: patch shape = torch.Size([1, 442, 3, 112, 112])\n",
      "Pred index is unique: True\n",
      "GT index is unique: True\n",
      "Data shapes: pred (442, 785), gt (442, 785)\n",
      "Pearson Correlation: 0.0000\n",
      "Valid correlations: 785/785\n",
      "\n",
      "Loading dataset with parameters:\n",
      "  Dataset: hest1k\n",
      "  Mode: test\n",
      "  Sample IDs: ['INT1']\n",
      "  Fold: 5\n"
     ]
    },
    {
     "name": "stderr",
     "output_type": "stream",
     "text": [
      "\n"
     ]
    },
    {
     "name": "stdout",
     "output_type": "stream",
     "text": [
      "HEST Dataset: 1 samples (test)\n",
      "['INT1']\n",
      "Using 785 genes\n",
      "\n",
      "Dataset loaded:\n",
      "  Length: 1\n",
      "Number of batches in dataloader: 1\n"
     ]
    },
    {
     "name": "stderr",
     "output_type": "stream",
     "text": [
      "  0%|                                                                                                                                                                            | 0/1 [00:00<?, ?it/s]"
     ]
    },
    {
     "name": "stdout",
     "output_type": "stream",
     "text": [
      "\n",
      "Loading sample INT1\n",
      "AnnData object:\n",
      "  obs_names unique: True\n",
      "  var_names unique: True\n",
      "\n",
      "Processing sample INT1\n",
      "Sample INT1 has 762 common genes with the dataset\n"
     ]
    },
    {
     "name": "stderr",
     "output_type": "stream",
     "text": [
      "100%|████████████████████████████████████████████████████████████████████████████████████████████████████████████████████████████████████████████████████████████████████| 1/1 [00:03<00:00,  3.97s/it]"
     ]
    },
    {
     "name": "stdout",
     "output_type": "stream",
     "text": [
      "Batch 0: patch shape = torch.Size([1, 1084, 3, 112, 112])\n",
      "Pred index is unique: True\n",
      "GT index is unique: True\n",
      "Data shapes: pred (1084, 785), gt (1084, 785)\n",
      "Pearson Correlation: 0.0000\n",
      "Valid correlations: 785/785\n",
      "\n",
      "Loading dataset with parameters:\n",
      "  Dataset: hest1k\n",
      "  Mode: test\n",
      "  Sample IDs: ['SPA103']\n",
      "  Fold: 5\n"
     ]
    },
    {
     "name": "stderr",
     "output_type": "stream",
     "text": [
      "\n"
     ]
    },
    {
     "name": "stdout",
     "output_type": "stream",
     "text": [
      "HEST Dataset: 1 samples (test)\n",
      "['SPA103']\n",
      "Using 785 genes\n",
      "\n",
      "Dataset loaded:\n",
      "  Length: 1\n",
      "Number of batches in dataloader: 1\n"
     ]
    },
    {
     "name": "stderr",
     "output_type": "stream",
     "text": [
      "  0%|                                                                                                                                                                            | 0/1 [00:00<?, ?it/s]"
     ]
    },
    {
     "name": "stdout",
     "output_type": "stream",
     "text": [
      "\n",
      "Loading sample SPA103\n",
      "AnnData object:\n",
      "  obs_names unique: True\n",
      "  var_names unique: True\n",
      "\n",
      "Processing sample SPA103\n",
      "Warning: No common genes found between the two lists.\n",
      "Warning: No common genes found between the two lists.\n",
      "Sample SPA103 has 0 common genes with the dataset\n"
     ]
    },
    {
     "name": "stderr",
     "output_type": "stream",
     "text": [
      "100%|████████████████████████████████████████████████████████████████████████████████████████████████████████████████████████████████████████████████████████████████████| 1/1 [00:02<00:00,  2.62s/it]"
     ]
    },
    {
     "name": "stdout",
     "output_type": "stream",
     "text": [
      "Batch 0: patch shape = torch.Size([1, 572, 3, 112, 112])\n",
      "Pred index is unique: True\n",
      "GT index is unique: True\n",
      "Data shapes: pred (572, 785), gt (572, 785)\n",
      "Pearson Correlation: 0.0000\n",
      "Valid correlations: 785/785\n",
      "\n",
      "Loading dataset with parameters:\n",
      "  Dataset: hest1k\n",
      "  Mode: test\n",
      "  Sample IDs: ['NCBI883']\n",
      "  Fold: 5\n"
     ]
    },
    {
     "name": "stderr",
     "output_type": "stream",
     "text": [
      "\n"
     ]
    },
    {
     "name": "stdout",
     "output_type": "stream",
     "text": [
      "HEST Dataset: 1 samples (test)\n",
      "['NCBI883']\n",
      "Using 785 genes\n",
      "\n",
      "Dataset loaded:\n",
      "  Length: 1\n",
      "Number of batches in dataloader: 1\n"
     ]
    },
    {
     "name": "stderr",
     "output_type": "stream",
     "text": [
      "  0%|                                                                                                                                                                            | 0/1 [00:00<?, ?it/s]"
     ]
    },
    {
     "name": "stdout",
     "output_type": "stream",
     "text": [
      "\n",
      "Loading sample NCBI883\n",
      "AnnData object:\n",
      "  obs_names unique: True\n",
      "  var_names unique: True\n",
      "\n",
      "Processing sample NCBI883\n",
      "Sample NCBI883 has 41 common genes with the dataset\n"
     ]
    },
    {
     "name": "stderr",
     "output_type": "stream",
     "text": [
      "100%|████████████████████████████████████████████████████████████████████████████████████████████████████████████████████████████████████████████████████████████████████| 1/1 [00:02<00:00,  2.12s/it]"
     ]
    },
    {
     "name": "stdout",
     "output_type": "stream",
     "text": [
      "Batch 0: patch shape = torch.Size([1, 1276, 3, 112, 112])\n",
      "Pred index is unique: True\n",
      "GT index is unique: True\n",
      "Data shapes: pred (1276, 785), gt (1276, 785)\n",
      "Pearson Correlation: -0.0059\n",
      "Valid correlations: 785/785\n",
      "\n",
      "Loading dataset with parameters:\n",
      "  Dataset: hest1k\n",
      "  Mode: test\n",
      "  Sample IDs: ['SPA1']\n",
      "  Fold: 5\n"
     ]
    },
    {
     "name": "stderr",
     "output_type": "stream",
     "text": [
      "\n"
     ]
    },
    {
     "name": "stdout",
     "output_type": "stream",
     "text": [
      "HEST Dataset: 1 samples (test)\n",
      "['SPA1']\n",
      "Using 785 genes\n",
      "\n",
      "Dataset loaded:\n",
      "  Length: 1\n",
      "Number of batches in dataloader: 1\n"
     ]
    },
    {
     "name": "stderr",
     "output_type": "stream",
     "text": [
      "  0%|                                                                                                                                                                            | 0/1 [00:00<?, ?it/s]"
     ]
    },
    {
     "name": "stdout",
     "output_type": "stream",
     "text": [
      "\n",
      "Loading sample SPA1\n",
      "AnnData object:\n",
      "  obs_names unique: True\n",
      "  var_names unique: True\n",
      "\n",
      "Processing sample SPA1\n",
      "Sample SPA1 has 764 common genes with the dataset\n"
     ]
    },
    {
     "name": "stderr",
     "output_type": "stream",
     "text": [
      "100%|████████████████████████████████████████████████████████████████████████████████████████████████████████████████████████████████████████████████████████████████████| 1/1 [00:02<00:00,  2.03s/it]"
     ]
    },
    {
     "name": "stdout",
     "output_type": "stream",
     "text": [
      "Batch 0: patch shape = torch.Size([1, 264, 3, 112, 112])\n",
      "Pred index is unique: True\n",
      "GT index is unique: True\n",
      "Data shapes: pred (264, 785), gt (264, 785)\n",
      "Pearson Correlation: 0.0000\n",
      "Valid correlations: 785/785\n",
      "\n",
      "Loading dataset with parameters:\n",
      "  Dataset: hest1k\n",
      "  Mode: test\n",
      "  Sample IDs: ['NCBI468']\n",
      "  Fold: 5\n"
     ]
    },
    {
     "name": "stderr",
     "output_type": "stream",
     "text": [
      "\n"
     ]
    },
    {
     "name": "stdout",
     "output_type": "stream",
     "text": [
      "HEST Dataset: 1 samples (test)\n",
      "['NCBI468']\n",
      "Using 785 genes\n",
      "\n",
      "Dataset loaded:\n",
      "  Length: 1\n",
      "Number of batches in dataloader: 1\n"
     ]
    },
    {
     "name": "stderr",
     "output_type": "stream",
     "text": [
      "  0%|                                                                                                                                                                            | 0/1 [00:00<?, ?it/s]"
     ]
    },
    {
     "name": "stdout",
     "output_type": "stream",
     "text": [
      "\n",
      "Loading sample NCBI468\n",
      "AnnData object:\n",
      "  obs_names unique: True\n",
      "  var_names unique: True\n",
      "\n",
      "Processing sample NCBI468\n",
      "Sample NCBI468 has 758 common genes with the dataset\n"
     ]
    },
    {
     "name": "stderr",
     "output_type": "stream",
     "text": [
      "100%|████████████████████████████████████████████████████████████████████████████████████████████████████████████████████████████████████████████████████████████████████| 1/1 [00:05<00:00,  5.54s/it]"
     ]
    },
    {
     "name": "stdout",
     "output_type": "stream",
     "text": [
      "Batch 0: patch shape = torch.Size([1, 1964, 3, 112, 112])\n",
      "Pred index is unique: True\n",
      "GT index is unique: True\n",
      "Data shapes: pred (1964, 785), gt (1964, 785)\n"
     ]
    },
    {
     "name": "stderr",
     "output_type": "stream",
     "text": [
      "\n"
     ]
    },
    {
     "name": "stdout",
     "output_type": "stream",
     "text": [
      "Pearson Correlation: 0.2295\n",
      "Valid correlations: 785/785\n",
      "\n",
      "Loading dataset with parameters:\n",
      "  Dataset: hest1k\n",
      "  Mode: test\n",
      "  Sample IDs: ['MEND61']\n",
      "  Fold: 5\n",
      "HEST Dataset: 1 samples (test)\n",
      "['MEND61']\n",
      "Using 785 genes\n",
      "\n",
      "Dataset loaded:\n",
      "  Length: 1\n",
      "Number of batches in dataloader: 1\n"
     ]
    },
    {
     "name": "stderr",
     "output_type": "stream",
     "text": [
      "  0%|                                                                                                                                                                            | 0/1 [00:00<?, ?it/s]"
     ]
    },
    {
     "name": "stdout",
     "output_type": "stream",
     "text": [
      "\n",
      "Loading sample MEND61\n",
      "AnnData object:\n",
      "  obs_names unique: True\n",
      "  var_names unique: True\n",
      "\n",
      "Processing sample MEND61\n",
      "Sample MEND61 has 762 common genes with the dataset\n",
      "Batch 0: patch shape = torch.Size([1, 4248, 3, 112, 112])\n"
     ]
    },
    {
     "name": "stderr",
     "output_type": "stream",
     "text": [
      "100%|████████████████████████████████████████████████████████████████████████████████████████████████████████████████████████████████████████████████████████████████████| 1/1 [00:10<00:00, 10.86s/it]\n"
     ]
    },
    {
     "name": "stdout",
     "output_type": "stream",
     "text": [
      "Pred index is unique: True\n",
      "GT index is unique: True\n",
      "Data shapes: pred (4248, 785), gt (4248, 785)\n",
      "Pearson Correlation: 0.0033\n",
      "Valid correlations: 785/785\n",
      "\n",
      "Loading dataset with parameters:\n",
      "  Dataset: hest1k\n",
      "  Mode: test\n",
      "  Sample IDs: ['SPA71']\n",
      "  Fold: 5\n",
      "HEST Dataset: 1 samples (test)\n",
      "['SPA71']\n",
      "Using 785 genes\n",
      "\n",
      "Dataset loaded:\n",
      "  Length: 1\n",
      "Number of batches in dataloader: 1\n"
     ]
    },
    {
     "name": "stderr",
     "output_type": "stream",
     "text": [
      "  0%|                                                                                                                                                                            | 0/1 [00:00<?, ?it/s]"
     ]
    },
    {
     "name": "stdout",
     "output_type": "stream",
     "text": [
      "\n",
      "Loading sample SPA71\n",
      "AnnData object:\n",
      "  obs_names unique: True\n",
      "  var_names unique: True\n",
      "\n",
      "Processing sample SPA71\n",
      "Warning: No common genes found between the two lists.\n",
      "Warning: No common genes found between the two lists.\n",
      "Sample SPA71 has 0 common genes with the dataset\n"
     ]
    },
    {
     "name": "stderr",
     "output_type": "stream",
     "text": [
      "100%|████████████████████████████████████████████████████████████████████████████████████████████████████████████████████████████████████████████████████████████████████| 1/1 [00:03<00:00,  3.26s/it]"
     ]
    },
    {
     "name": "stdout",
     "output_type": "stream",
     "text": [
      "Batch 0: patch shape = torch.Size([1, 489, 3, 112, 112])\n",
      "Pred index is unique: True\n",
      "GT index is unique: True\n",
      "Data shapes: pred (489, 785), gt (489, 785)\n",
      "Pearson Correlation: 0.0000\n",
      "Valid correlations: 785/785\n",
      "\n",
      "Loading dataset with parameters:\n",
      "  Dataset: hest1k\n",
      "  Mode: test\n",
      "  Sample IDs: ['TENX30']\n",
      "  Fold: 5\n"
     ]
    },
    {
     "name": "stderr",
     "output_type": "stream",
     "text": [
      "\n"
     ]
    },
    {
     "name": "stdout",
     "output_type": "stream",
     "text": [
      "HEST Dataset: 1 samples (test)\n",
      "['TENX30']\n",
      "Using 785 genes\n",
      "\n",
      "Dataset loaded:\n",
      "  Length: 1\n",
      "Number of batches in dataloader: 1\n"
     ]
    },
    {
     "name": "stderr",
     "output_type": "stream",
     "text": [
      "  0%|                                                                                                                                                                            | 0/1 [00:00<?, ?it/s]"
     ]
    },
    {
     "name": "stdout",
     "output_type": "stream",
     "text": [
      "\n",
      "Loading sample TENX30\n",
      "AnnData object:\n",
      "  obs_names unique: True\n",
      "  var_names unique: True\n",
      "\n",
      "Processing sample TENX30\n",
      "Sample TENX30 has 74 common genes with the dataset\n",
      "Batch 0: patch shape = torch.Size([1, 3468, 3, 112, 112])\n"
     ]
    },
    {
     "name": "stderr",
     "output_type": "stream",
     "text": [
      "100%|████████████████████████████████████████████████████████████████████████████████████████████████████████████████████████████████████████████████████████████████████| 1/1 [00:07<00:00,  7.89s/it]\n"
     ]
    },
    {
     "name": "stdout",
     "output_type": "stream",
     "text": [
      "Pred index is unique: True\n",
      "GT index is unique: True\n",
      "Data shapes: pred (3468, 785), gt (3468, 785)\n",
      "Pearson Correlation: 0.0000\n",
      "Valid correlations: 785/785\n",
      "\n",
      "Loading dataset with parameters:\n",
      "  Dataset: hest1k\n",
      "  Mode: test\n",
      "  Sample IDs: ['MISC6']\n",
      "  Fold: 5\n",
      "HEST Dataset: 1 samples (test)\n",
      "['MISC6']\n",
      "Using 785 genes\n",
      "\n",
      "Dataset loaded:\n",
      "  Length: 1\n",
      "Number of batches in dataloader: 1\n"
     ]
    },
    {
     "name": "stderr",
     "output_type": "stream",
     "text": [
      "  0%|                                                                                                                                                                            | 0/1 [00:00<?, ?it/s]"
     ]
    },
    {
     "name": "stdout",
     "output_type": "stream",
     "text": [
      "\n",
      "Loading sample MISC6\n",
      "AnnData object:\n",
      "  obs_names unique: True\n",
      "  var_names unique: True\n",
      "\n",
      "Processing sample MISC6\n",
      "Sample MISC6 has 771 common genes with the dataset\n",
      "Batch 0: patch shape = torch.Size([1, 4110, 3, 112, 112])\n"
     ]
    },
    {
     "name": "stderr",
     "output_type": "stream",
     "text": [
      "100%|████████████████████████████████████████████████████████████████████████████████████████████████████████████████████████████████████████████████████████████████████| 1/1 [00:10<00:00, 10.17s/it]\n"
     ]
    },
    {
     "name": "stdout",
     "output_type": "stream",
     "text": [
      "Pred index is unique: True\n",
      "GT index is unique: True\n",
      "Data shapes: pred (4110, 785), gt (4110, 785)\n",
      "Pearson Correlation: 0.0194\n",
      "Valid correlations: 785/785\n",
      "\n",
      "Loading dataset with parameters:\n",
      "  Dataset: hest1k\n",
      "  Mode: test\n",
      "  Sample IDs: ['NCBI682']\n",
      "  Fold: 5\n",
      "HEST Dataset: 1 samples (test)\n",
      "['NCBI682']\n",
      "Using 785 genes\n",
      "\n",
      "Dataset loaded:\n",
      "  Length: 1\n",
      "Number of batches in dataloader: 1\n"
     ]
    },
    {
     "name": "stderr",
     "output_type": "stream",
     "text": [
      "  0%|                                                                                                                                                                            | 0/1 [00:00<?, ?it/s]"
     ]
    },
    {
     "name": "stdout",
     "output_type": "stream",
     "text": [
      "\n",
      "Loading sample NCBI682\n",
      "AnnData object:\n",
      "  obs_names unique: True\n",
      "  var_names unique: True\n",
      "\n",
      "Processing sample NCBI682\n",
      "Sample NCBI682 has 771 common genes with the dataset\n",
      "Batch 0: patch shape = torch.Size([1, 4988, 3, 112, 112])\n"
     ]
    },
    {
     "name": "stderr",
     "output_type": "stream",
     "text": [
      "100%|████████████████████████████████████████████████████████████████████████████████████████████████████████████████████████████████████████████████████████████████████| 1/1 [00:17<00:00, 17.97s/it]\n"
     ]
    },
    {
     "name": "stdout",
     "output_type": "stream",
     "text": [
      "Pred index is unique: True\n",
      "GT index is unique: True\n",
      "Data shapes: pred (4988, 785), gt (4988, 785)\n",
      "Pearson Correlation: -0.0966\n",
      "Valid correlations: 785/785\n",
      "\n",
      "Loading dataset with parameters:\n",
      "  Dataset: hest1k\n",
      "  Mode: test\n",
      "  Sample IDs: ['MISC16']\n",
      "  Fold: 5\n",
      "HEST Dataset: 1 samples (test)\n",
      "['MISC16']\n",
      "Using 785 genes\n",
      "\n",
      "Dataset loaded:\n",
      "  Length: 1\n",
      "Number of batches in dataloader: 1\n"
     ]
    },
    {
     "name": "stderr",
     "output_type": "stream",
     "text": [
      "  0%|                                                                                                                                                                            | 0/1 [00:00<?, ?it/s]"
     ]
    },
    {
     "name": "stdout",
     "output_type": "stream",
     "text": [
      "\n",
      "Loading sample MISC16\n",
      "AnnData object:\n",
      "  obs_names unique: True\n",
      "  var_names unique: True\n",
      "\n",
      "Processing sample MISC16\n",
      "Sample MISC16 has 737 common genes with the dataset\n",
      "Batch 0: patch shape = torch.Size([1, 3154, 3, 112, 112])\n"
     ]
    },
    {
     "name": "stderr",
     "output_type": "stream",
     "text": [
      "100%|████████████████████████████████████████████████████████████████████████████████████████████████████████████████████████████████████████████████████████████████████| 1/1 [00:08<00:00,  8.05s/it]\n"
     ]
    },
    {
     "name": "stdout",
     "output_type": "stream",
     "text": [
      "Pred index is unique: True\n",
      "GT index is unique: True\n",
      "Data shapes: pred (3154, 785), gt (3154, 785)\n",
      "Pearson Correlation: 0.0000\n",
      "Valid correlations: 785/785\n",
      "\n",
      "Loading dataset with parameters:\n",
      "  Dataset: hest1k\n",
      "  Mode: test\n",
      "  Sample IDs: ['NCBI634']\n",
      "  Fold: 5\n",
      "HEST Dataset: 1 samples (test)\n",
      "['NCBI634']\n",
      "Using 785 genes\n",
      "\n",
      "Dataset loaded:\n",
      "  Length: 1\n",
      "Number of batches in dataloader: 1\n"
     ]
    },
    {
     "name": "stderr",
     "output_type": "stream",
     "text": [
      "  0%|                                                                                                                                                                            | 0/1 [00:00<?, ?it/s]"
     ]
    },
    {
     "name": "stdout",
     "output_type": "stream",
     "text": [
      "\n",
      "Loading sample NCBI634\n",
      "AnnData object:\n",
      "  obs_names unique: True\n",
      "  var_names unique: True\n",
      "\n",
      "Processing sample NCBI634\n",
      "Sample NCBI634 has 762 common genes with the dataset\n"
     ]
    },
    {
     "name": "stderr",
     "output_type": "stream",
     "text": [
      "100%|████████████████████████████████████████████████████████████████████████████████████████████████████████████████████████████████████████████████████████████████████| 1/1 [00:05<00:00,  5.85s/it]"
     ]
    },
    {
     "name": "stdout",
     "output_type": "stream",
     "text": [
      "Batch 0: patch shape = torch.Size([1, 1842, 3, 112, 112])\n",
      "Pred index is unique: True\n",
      "GT index is unique: True\n",
      "Data shapes: pred (1842, 785), gt (1842, 785)\n"
     ]
    },
    {
     "name": "stderr",
     "output_type": "stream",
     "text": [
      "\n"
     ]
    },
    {
     "name": "stdout",
     "output_type": "stream",
     "text": [
      "Pearson Correlation: 0.0000\n",
      "Valid correlations: 785/785\n",
      "\n",
      "Loading dataset with parameters:\n",
      "  Dataset: hest1k\n",
      "  Mode: test\n",
      "  Sample IDs: ['SPA101']\n",
      "  Fold: 5\n",
      "HEST Dataset: 1 samples (test)\n",
      "['SPA101']\n",
      "Using 785 genes\n",
      "\n",
      "Dataset loaded:\n",
      "  Length: 1\n",
      "Number of batches in dataloader: 1\n"
     ]
    },
    {
     "name": "stderr",
     "output_type": "stream",
     "text": [
      "  0%|                                                                                                                                                                            | 0/1 [00:00<?, ?it/s]"
     ]
    },
    {
     "name": "stdout",
     "output_type": "stream",
     "text": [
      "\n",
      "Loading sample SPA101\n",
      "AnnData object:\n",
      "  obs_names unique: True\n",
      "  var_names unique: True\n",
      "\n",
      "Processing sample SPA101\n",
      "Warning: No common genes found between the two lists.\n",
      "Warning: No common genes found between the two lists.\n",
      "Sample SPA101 has 0 common genes with the dataset\n"
     ]
    },
    {
     "name": "stderr",
     "output_type": "stream",
     "text": [
      "100%|████████████████████████████████████████████████████████████████████████████████████████████████████████████████████████████████████████████████████████████████████| 1/1 [00:02<00:00,  2.94s/it]"
     ]
    },
    {
     "name": "stdout",
     "output_type": "stream",
     "text": [
      "Batch 0: patch shape = torch.Size([1, 691, 3, 112, 112])\n",
      "Pred index is unique: True\n",
      "GT index is unique: True\n",
      "Data shapes: pred (691, 785), gt (691, 785)\n",
      "Pearson Correlation: 0.0000\n",
      "Valid correlations: 785/785\n",
      "\n",
      "Loading dataset with parameters:\n",
      "  Dataset: hest1k\n",
      "  Mode: test\n",
      "  Sample IDs: ['NCBI506']\n",
      "  Fold: 5\n"
     ]
    },
    {
     "name": "stderr",
     "output_type": "stream",
     "text": [
      "\n"
     ]
    },
    {
     "name": "stdout",
     "output_type": "stream",
     "text": [
      "HEST Dataset: 1 samples (test)\n",
      "['NCBI506']\n",
      "Using 785 genes\n",
      "\n",
      "Dataset loaded:\n",
      "  Length: 1\n",
      "Number of batches in dataloader: 1\n"
     ]
    },
    {
     "name": "stderr",
     "output_type": "stream",
     "text": [
      "  0%|                                                                                                                                                                            | 0/1 [00:00<?, ?it/s]"
     ]
    },
    {
     "name": "stdout",
     "output_type": "stream",
     "text": [
      "\n",
      "Loading sample NCBI506\n",
      "AnnData object:\n",
      "  obs_names unique: True\n",
      "  var_names unique: True\n",
      "\n",
      "Processing sample NCBI506\n",
      "Sample NCBI506 has 758 common genes with the dataset\n"
     ]
    },
    {
     "name": "stderr",
     "output_type": "stream",
     "text": [
      "100%|████████████████████████████████████████████████████████████████████████████████████████████████████████████████████████████████████████████████████████████████████| 1/1 [00:02<00:00,  2.93s/it]"
     ]
    },
    {
     "name": "stdout",
     "output_type": "stream",
     "text": [
      "Batch 0: patch shape = torch.Size([1, 666, 3, 112, 112])\n",
      "Pred index is unique: True\n",
      "GT index is unique: True\n",
      "Data shapes: pred (666, 785), gt (666, 785)\n"
     ]
    },
    {
     "name": "stderr",
     "output_type": "stream",
     "text": [
      "\n"
     ]
    },
    {
     "name": "stdout",
     "output_type": "stream",
     "text": [
      "Pearson Correlation: 0.0827\n",
      "Valid correlations: 785/785\n",
      "\n",
      "Loading dataset with parameters:\n",
      "  Dataset: hest1k\n",
      "  Mode: test\n",
      "  Sample IDs: ['NCBI510']\n",
      "  Fold: 5\n",
      "HEST Dataset: 1 samples (test)\n",
      "['NCBI510']\n",
      "Using 785 genes\n",
      "\n",
      "Dataset loaded:\n",
      "  Length: 1\n",
      "Number of batches in dataloader: 1\n"
     ]
    },
    {
     "name": "stderr",
     "output_type": "stream",
     "text": [
      "  0%|                                                                                                                                                                            | 0/1 [00:00<?, ?it/s]"
     ]
    },
    {
     "name": "stdout",
     "output_type": "stream",
     "text": [
      "\n",
      "Loading sample NCBI510\n",
      "AnnData object:\n",
      "  obs_names unique: True\n",
      "  var_names unique: True\n",
      "\n",
      "Processing sample NCBI510\n",
      "Sample NCBI510 has 758 common genes with the dataset\n"
     ]
    },
    {
     "name": "stderr",
     "output_type": "stream",
     "text": [
      "100%|████████████████████████████████████████████████████████████████████████████████████████████████████████████████████████████████████████████████████████████████████| 1/1 [00:01<00:00,  1.88s/it]"
     ]
    },
    {
     "name": "stdout",
     "output_type": "stream",
     "text": [
      "Batch 0: patch shape = torch.Size([1, 525, 3, 112, 112])\n",
      "Pred index is unique: True\n",
      "GT index is unique: True\n",
      "Data shapes: pred (525, 785), gt (525, 785)\n",
      "Pearson Correlation: 0.0000\n",
      "Valid correlations: 785/785\n",
      "\n",
      "Loading dataset with parameters:\n",
      "  Dataset: hest1k\n",
      "  Mode: test\n",
      "  Sample IDs: ['ZEN36']\n",
      "  Fold: 5\n"
     ]
    },
    {
     "name": "stderr",
     "output_type": "stream",
     "text": [
      "\n"
     ]
    },
    {
     "name": "stdout",
     "output_type": "stream",
     "text": [
      "HEST Dataset: 1 samples (test)\n",
      "['ZEN36']\n",
      "Using 785 genes\n",
      "\n",
      "Dataset loaded:\n",
      "  Length: 1\n",
      "Number of batches in dataloader: 1\n"
     ]
    },
    {
     "name": "stderr",
     "output_type": "stream",
     "text": [
      "  0%|                                                                                                                                                                            | 0/1 [00:00<?, ?it/s]"
     ]
    },
    {
     "name": "stdout",
     "output_type": "stream",
     "text": [
      "\n",
      "Loading sample ZEN36\n",
      "AnnData object:\n",
      "  obs_names unique: True\n",
      "  var_names unique: True\n",
      "\n",
      "Processing sample ZEN36\n",
      "Sample ZEN36 has 762 common genes with the dataset\n"
     ]
    },
    {
     "name": "stderr",
     "output_type": "stream",
     "text": [
      "100%|████████████████████████████████████████████████████████████████████████████████████████████████████████████████████████████████████████████████████████████████████| 1/1 [00:05<00:00,  5.11s/it]"
     ]
    },
    {
     "name": "stdout",
     "output_type": "stream",
     "text": [
      "Batch 0: patch shape = torch.Size([1, 1691, 3, 112, 112])\n",
      "Pred index is unique: True\n",
      "GT index is unique: True\n",
      "Data shapes: pred (1691, 785), gt (1691, 785)\n"
     ]
    },
    {
     "name": "stderr",
     "output_type": "stream",
     "text": [
      "\n"
     ]
    },
    {
     "name": "stdout",
     "output_type": "stream",
     "text": [
      "Pearson Correlation: -0.0484\n",
      "Valid correlations: 785/785\n",
      "\n",
      "Loading dataset with parameters:\n",
      "  Dataset: hest1k\n",
      "  Mode: test\n",
      "  Sample IDs: ['NCBI696']\n",
      "  Fold: 5\n",
      "HEST Dataset: 1 samples (test)\n",
      "['NCBI696']\n",
      "Using 785 genes\n",
      "\n",
      "Dataset loaded:\n",
      "  Length: 1\n",
      "Number of batches in dataloader: 1\n"
     ]
    },
    {
     "name": "stderr",
     "output_type": "stream",
     "text": [
      "  0%|                                                                                                                                                                            | 0/1 [00:00<?, ?it/s]"
     ]
    },
    {
     "name": "stdout",
     "output_type": "stream",
     "text": [
      "\n",
      "Loading sample NCBI696\n",
      "AnnData object:\n",
      "  obs_names unique: True\n",
      "  var_names unique: True\n",
      "\n",
      "Processing sample NCBI696\n",
      "Sample NCBI696 has 762 common genes with the dataset\n"
     ]
    },
    {
     "name": "stderr",
     "output_type": "stream",
     "text": [
      "100%|████████████████████████████████████████████████████████████████████████████████████████████████████████████████████████████████████████████████████████████████████| 1/1 [00:02<00:00,  2.46s/it]"
     ]
    },
    {
     "name": "stdout",
     "output_type": "stream",
     "text": [
      "Batch 0: patch shape = torch.Size([1, 645, 3, 112, 112])\n",
      "Pred index is unique: True\n",
      "GT index is unique: True\n",
      "Data shapes: pred (645, 785), gt (645, 785)\n"
     ]
    },
    {
     "name": "stderr",
     "output_type": "stream",
     "text": [
      "\n"
     ]
    },
    {
     "name": "stdout",
     "output_type": "stream",
     "text": [
      "Pearson Correlation: 0.0140\n",
      "Valid correlations: 785/785\n",
      "\n",
      "Loading dataset with parameters:\n",
      "  Dataset: hest1k\n",
      "  Mode: test\n",
      "  Sample IDs: ['NCBI628']\n",
      "  Fold: 5\n",
      "HEST Dataset: 1 samples (test)\n",
      "['NCBI628']\n",
      "Using 785 genes\n",
      "\n",
      "Dataset loaded:\n",
      "  Length: 1\n",
      "Number of batches in dataloader: 1\n"
     ]
    },
    {
     "name": "stderr",
     "output_type": "stream",
     "text": [
      "  0%|                                                                                                                                                                            | 0/1 [00:00<?, ?it/s]"
     ]
    },
    {
     "name": "stdout",
     "output_type": "stream",
     "text": [
      "\n",
      "Loading sample NCBI628\n",
      "AnnData object:\n",
      "  obs_names unique: True\n",
      "  var_names unique: True\n",
      "\n",
      "Processing sample NCBI628\n",
      "Sample NCBI628 has 762 common genes with the dataset\n"
     ]
    },
    {
     "name": "stderr",
     "output_type": "stream",
     "text": [
      "100%|████████████████████████████████████████████████████████████████████████████████████████████████████████████████████████████████████████████████████████████████████| 1/1 [00:04<00:00,  4.26s/it]"
     ]
    },
    {
     "name": "stdout",
     "output_type": "stream",
     "text": [
      "Batch 0: patch shape = torch.Size([1, 1262, 3, 112, 112])\n",
      "Pred index is unique: True\n",
      "GT index is unique: True\n",
      "Data shapes: pred (1262, 785), gt (1262, 785)\n",
      "Pearson Correlation: 0.0000\n",
      "Valid correlations: 785/785\n",
      "\n",
      "Loading dataset with parameters:\n",
      "  Dataset: hest1k\n",
      "  Mode: test\n",
      "  Sample IDs: ['MISC115']\n",
      "  Fold: 5\n"
     ]
    },
    {
     "name": "stderr",
     "output_type": "stream",
     "text": [
      "\n"
     ]
    },
    {
     "name": "stdout",
     "output_type": "stream",
     "text": [
      "HEST Dataset: 1 samples (test)\n",
      "['MISC115']\n",
      "Using 785 genes\n",
      "\n",
      "Dataset loaded:\n",
      "  Length: 1\n",
      "Number of batches in dataloader: 1\n"
     ]
    },
    {
     "name": "stderr",
     "output_type": "stream",
     "text": [
      "  0%|                                                                                                                                                                            | 0/1 [00:00<?, ?it/s]"
     ]
    },
    {
     "name": "stdout",
     "output_type": "stream",
     "text": [
      "\n",
      "Loading sample MISC115\n",
      "AnnData object:\n",
      "  obs_names unique: True\n",
      "  var_names unique: True\n",
      "\n",
      "Processing sample MISC115\n",
      "Warning: No common genes found between the two lists.\n",
      "Warning: No common genes found between the two lists.\n",
      "Sample MISC115 has 0 common genes with the dataset\n"
     ]
    },
    {
     "name": "stderr",
     "output_type": "stream",
     "text": [
      "100%|████████████████████████████████████████████████████████████████████████████████████████████████████████████████████████████████████████████████████████████████████| 1/1 [00:03<00:00,  3.70s/it]"
     ]
    },
    {
     "name": "stdout",
     "output_type": "stream",
     "text": [
      "Batch 0: patch shape = torch.Size([1, 1040, 3, 112, 112])\n",
      "Pred index is unique: True\n",
      "GT index is unique: True\n",
      "Data shapes: pred (1040, 785), gt (1040, 785)\n",
      "Pearson Correlation: 0.0000\n",
      "Valid correlations: 785/785\n",
      "\n",
      "Loading dataset with parameters:\n",
      "  Dataset: hest1k\n",
      "  Mode: test\n",
      "  Sample IDs: ['NCBI697']\n",
      "  Fold: 5\n"
     ]
    },
    {
     "name": "stderr",
     "output_type": "stream",
     "text": [
      "\n"
     ]
    },
    {
     "name": "stdout",
     "output_type": "stream",
     "text": [
      "HEST Dataset: 1 samples (test)\n",
      "['NCBI697']\n",
      "Using 785 genes\n",
      "\n",
      "Dataset loaded:\n",
      "  Length: 1\n",
      "Number of batches in dataloader: 1\n"
     ]
    },
    {
     "name": "stderr",
     "output_type": "stream",
     "text": [
      "  0%|                                                                                                                                                                            | 0/1 [00:00<?, ?it/s]"
     ]
    },
    {
     "name": "stdout",
     "output_type": "stream",
     "text": [
      "\n",
      "Loading sample NCBI697\n",
      "AnnData object:\n",
      "  obs_names unique: True\n",
      "  var_names unique: True\n",
      "\n",
      "Processing sample NCBI697\n",
      "Sample NCBI697 has 762 common genes with the dataset\n"
     ]
    },
    {
     "name": "stderr",
     "output_type": "stream",
     "text": [
      "100%|████████████████████████████████████████████████████████████████████████████████████████████████████████████████████████████████████████████████████████████████████| 1/1 [00:02<00:00,  2.62s/it]"
     ]
    },
    {
     "name": "stdout",
     "output_type": "stream",
     "text": [
      "Batch 0: patch shape = torch.Size([1, 317, 3, 112, 112])\n",
      "Pred index is unique: True\n",
      "GT index is unique: True\n",
      "Data shapes: pred (317, 785), gt (317, 785)\n"
     ]
    },
    {
     "name": "stderr",
     "output_type": "stream",
     "text": [
      "\n"
     ]
    },
    {
     "name": "stdout",
     "output_type": "stream",
     "text": [
      "Pearson Correlation: 0.0104\n",
      "Valid correlations: 785/785\n",
      "\n",
      "Loading dataset with parameters:\n",
      "  Dataset: hest1k\n",
      "  Mode: test\n",
      "  Sample IDs: ['NCBI516']\n",
      "  Fold: 5\n",
      "HEST Dataset: 1 samples (test)\n",
      "['NCBI516']\n",
      "Using 785 genes\n",
      "\n",
      "Dataset loaded:\n",
      "  Length: 1\n",
      "Number of batches in dataloader: 1\n"
     ]
    },
    {
     "name": "stderr",
     "output_type": "stream",
     "text": [
      "  0%|                                                                                                                                                                            | 0/1 [00:00<?, ?it/s]"
     ]
    },
    {
     "name": "stdout",
     "output_type": "stream",
     "text": [
      "\n",
      "Loading sample NCBI516\n",
      "AnnData object:\n",
      "  obs_names unique: True\n",
      "  var_names unique: True\n",
      "\n",
      "Processing sample NCBI516\n",
      "Sample NCBI516 has 758 common genes with the dataset\n"
     ]
    },
    {
     "name": "stderr",
     "output_type": "stream",
     "text": [
      "100%|████████████████████████████████████████████████████████████████████████████████████████████████████████████████████████████████████████████████████████████████████| 1/1 [00:02<00:00,  2.40s/it]"
     ]
    },
    {
     "name": "stdout",
     "output_type": "stream",
     "text": [
      "Batch 0: patch shape = torch.Size([1, 450, 3, 112, 112])\n",
      "Pred index is unique: True\n",
      "GT index is unique: True\n",
      "Data shapes: pred (450, 785), gt (450, 785)\n"
     ]
    },
    {
     "name": "stderr",
     "output_type": "stream",
     "text": [
      "\n"
     ]
    },
    {
     "name": "stdout",
     "output_type": "stream",
     "text": [
      "Pearson Correlation: -0.0436\n",
      "Valid correlations: 785/785\n",
      "\n",
      "Loading dataset with parameters:\n",
      "  Dataset: hest1k\n",
      "  Mode: test\n",
      "  Sample IDs: ['SPA92']\n",
      "  Fold: 5\n",
      "HEST Dataset: 1 samples (test)\n",
      "['SPA92']\n",
      "Using 785 genes\n",
      "\n",
      "Dataset loaded:\n",
      "  Length: 1\n",
      "Number of batches in dataloader: 1\n"
     ]
    },
    {
     "name": "stderr",
     "output_type": "stream",
     "text": [
      "  0%|                                                                                                                                                                            | 0/1 [00:00<?, ?it/s]"
     ]
    },
    {
     "name": "stdout",
     "output_type": "stream",
     "text": [
      "\n",
      "Loading sample SPA92\n",
      "AnnData object:\n",
      "  obs_names unique: True\n",
      "  var_names unique: True\n",
      "\n",
      "Processing sample SPA92\n",
      "Warning: No common genes found between the two lists.\n",
      "Warning: No common genes found between the two lists.\n",
      "Sample SPA92 has 0 common genes with the dataset\n"
     ]
    },
    {
     "name": "stderr",
     "output_type": "stream",
     "text": [
      "100%|████████████████████████████████████████████████████████████████████████████████████████████████████████████████████████████████████████████████████████████████████| 1/1 [00:01<00:00,  1.97s/it]"
     ]
    },
    {
     "name": "stdout",
     "output_type": "stream",
     "text": [
      "Batch 0: patch shape = torch.Size([1, 325, 3, 112, 112])\n",
      "Pred index is unique: True\n",
      "GT index is unique: True\n",
      "Data shapes: pred (325, 785), gt (325, 785)\n",
      "Pearson Correlation: 0.0000\n",
      "Valid correlations: 785/785\n",
      "\n",
      "Loading dataset with parameters:\n",
      "  Dataset: hest1k\n",
      "  Mode: test\n",
      "  Sample IDs: ['NCBI870']\n",
      "  Fold: 5\n"
     ]
    },
    {
     "name": "stderr",
     "output_type": "stream",
     "text": [
      "\n"
     ]
    },
    {
     "name": "stdout",
     "output_type": "stream",
     "text": [
      "HEST Dataset: 1 samples (test)\n",
      "['NCBI870']\n",
      "Using 785 genes\n",
      "\n",
      "Dataset loaded:\n",
      "  Length: 1\n",
      "Number of batches in dataloader: 1\n"
     ]
    },
    {
     "name": "stderr",
     "output_type": "stream",
     "text": [
      "  0%|                                                                                                                                                                            | 0/1 [00:00<?, ?it/s]"
     ]
    },
    {
     "name": "stdout",
     "output_type": "stream",
     "text": [
      "\n",
      "Loading sample NCBI870\n",
      "AnnData object:\n",
      "  obs_names unique: True\n",
      "  var_names unique: True\n",
      "\n",
      "Processing sample NCBI870\n",
      "Sample NCBI870 has 41 common genes with the dataset\n"
     ]
    },
    {
     "name": "stderr",
     "output_type": "stream",
     "text": [
      "100%|████████████████████████████████████████████████████████████████████████████████████████████████████████████████████████████████████████████████████████████████████| 1/1 [00:02<00:00,  2.79s/it]"
     ]
    },
    {
     "name": "stdout",
     "output_type": "stream",
     "text": [
      "Batch 0: patch shape = torch.Size([1, 1084, 3, 112, 112])\n",
      "Pred index is unique: True\n",
      "GT index is unique: True\n",
      "Data shapes: pred (1084, 785), gt (1084, 785)\n",
      "Pearson Correlation: -0.0149\n",
      "Valid correlations: 785/785\n",
      "\n",
      "Loading dataset with parameters:\n",
      "  Dataset: hest1k\n",
      "  Mode: test\n",
      "  Sample IDs: ['SPA3']\n",
      "  Fold: 5\n"
     ]
    },
    {
     "name": "stderr",
     "output_type": "stream",
     "text": [
      "\n"
     ]
    },
    {
     "name": "stdout",
     "output_type": "stream",
     "text": [
      "HEST Dataset: 1 samples (test)\n",
      "['SPA3']\n",
      "Using 785 genes\n",
      "\n",
      "Dataset loaded:\n",
      "  Length: 1\n",
      "Number of batches in dataloader: 1\n"
     ]
    },
    {
     "name": "stderr",
     "output_type": "stream",
     "text": [
      "  0%|                                                                                                                                                                            | 0/1 [00:00<?, ?it/s]"
     ]
    },
    {
     "name": "stdout",
     "output_type": "stream",
     "text": [
      "\n",
      "Loading sample SPA3\n",
      "AnnData object:\n",
      "  obs_names unique: True\n",
      "  var_names unique: True\n",
      "\n",
      "Processing sample SPA3\n",
      "Sample SPA3 has 764 common genes with the dataset\n"
     ]
    },
    {
     "name": "stderr",
     "output_type": "stream",
     "text": [
      "100%|████████████████████████████████████████████████████████████████████████████████████████████████████████████████████████████████████████████████████████████████████| 1/1 [00:01<00:00,  1.66s/it]"
     ]
    },
    {
     "name": "stdout",
     "output_type": "stream",
     "text": [
      "Batch 0: patch shape = torch.Size([1, 254, 3, 112, 112])\n",
      "Pred index is unique: True\n",
      "GT index is unique: True\n",
      "Data shapes: pred (254, 785), gt (254, 785)\n",
      "Pearson Correlation: 0.0000\n",
      "Valid correlations: 785/785\n",
      "\n",
      "Loading dataset with parameters:\n",
      "  Dataset: hest1k\n",
      "  Mode: test\n",
      "  Sample IDs: ['NCBI712']\n",
      "  Fold: 5\n"
     ]
    },
    {
     "name": "stderr",
     "output_type": "stream",
     "text": [
      "\n"
     ]
    },
    {
     "name": "stdout",
     "output_type": "stream",
     "text": [
      "HEST Dataset: 1 samples (test)\n",
      "['NCBI712']\n",
      "Using 785 genes\n",
      "\n",
      "Dataset loaded:\n",
      "  Length: 1\n",
      "Number of batches in dataloader: 1\n"
     ]
    },
    {
     "name": "stderr",
     "output_type": "stream",
     "text": [
      "  0%|                                                                                                                                                                            | 0/1 [00:00<?, ?it/s]"
     ]
    },
    {
     "name": "stdout",
     "output_type": "stream",
     "text": [
      "\n",
      "Loading sample NCBI712\n",
      "AnnData object:\n",
      "  obs_names unique: True\n",
      "  var_names unique: True\n",
      "\n",
      "Processing sample NCBI712\n",
      "Sample NCBI712 has 762 common genes with the dataset\n",
      "Batch 0: patch shape = torch.Size([1, 4166, 3, 112, 112])\n"
     ]
    },
    {
     "name": "stderr",
     "output_type": "stream",
     "text": [
      "100%|████████████████████████████████████████████████████████████████████████████████████████████████████████████████████████████████████████████████████████████████████| 1/1 [00:10<00:00, 10.89s/it]\n"
     ]
    },
    {
     "name": "stdout",
     "output_type": "stream",
     "text": [
      "Pred index is unique: True\n",
      "GT index is unique: True\n",
      "Data shapes: pred (4166, 785), gt (4166, 785)\n",
      "Pearson Correlation: 0.0207\n",
      "Valid correlations: 785/785\n",
      "\n",
      "Loading dataset with parameters:\n",
      "  Dataset: hest1k\n",
      "  Mode: test\n",
      "  Sample IDs: ['TENX49']\n",
      "  Fold: 5\n",
      "HEST Dataset: 1 samples (test)\n",
      "['TENX49']\n",
      "Using 785 genes\n",
      "\n",
      "Dataset loaded:\n",
      "  Length: 1\n",
      "Number of batches in dataloader: 1\n"
     ]
    },
    {
     "name": "stderr",
     "output_type": "stream",
     "text": [
      "  0%|                                                                                                                                                                            | 0/1 [00:00<?, ?it/s]"
     ]
    },
    {
     "name": "stdout",
     "output_type": "stream",
     "text": [
      "\n",
      "Loading sample TENX49\n",
      "AnnData object:\n",
      "  obs_names unique: True\n",
      "  var_names unique: True\n",
      "\n",
      "Processing sample TENX49\n",
      "Sample TENX49 has 728 common genes with the dataset\n",
      "Batch 0: patch shape = torch.Size([1, 2660, 3, 112, 112])\n"
     ]
    },
    {
     "name": "stderr",
     "output_type": "stream",
     "text": [
      "100%|████████████████████████████████████████████████████████████████████████████████████████████████████████████████████████████████████████████████████████████████████| 1/1 [00:07<00:00,  7.62s/it]\n"
     ]
    },
    {
     "name": "stdout",
     "output_type": "stream",
     "text": [
      "Pred index is unique: True\n",
      "GT index is unique: True\n",
      "Data shapes: pred (2660, 785), gt (2660, 785)\n",
      "Pearson Correlation: 0.0000\n",
      "Valid correlations: 785/785\n",
      "\n",
      "Loading dataset with parameters:\n",
      "  Dataset: hest1k\n",
      "  Mode: test\n",
      "  Sample IDs: ['SPA68']\n",
      "  Fold: 5\n",
      "HEST Dataset: 1 samples (test)\n",
      "['SPA68']\n",
      "Using 785 genes\n",
      "\n",
      "Dataset loaded:\n",
      "  Length: 1\n",
      "Number of batches in dataloader: 1\n"
     ]
    },
    {
     "name": "stderr",
     "output_type": "stream",
     "text": [
      "  0%|                                                                                                                                                                            | 0/1 [00:00<?, ?it/s]"
     ]
    },
    {
     "name": "stdout",
     "output_type": "stream",
     "text": [
      "\n",
      "Loading sample SPA68\n",
      "AnnData object:\n",
      "  obs_names unique: True\n",
      "  var_names unique: True\n",
      "\n",
      "Processing sample SPA68\n",
      "Warning: No common genes found between the two lists.\n",
      "Warning: No common genes found between the two lists.\n",
      "Sample SPA68 has 0 common genes with the dataset\n"
     ]
    },
    {
     "name": "stderr",
     "output_type": "stream",
     "text": [
      "100%|████████████████████████████████████████████████████████████████████████████████████████████████████████████████████████████████████████████████████████████████████| 1/1 [00:03<00:00,  3.50s/it]"
     ]
    },
    {
     "name": "stdout",
     "output_type": "stream",
     "text": [
      "Batch 0: patch shape = torch.Size([1, 478, 3, 112, 112])\n",
      "Pred index is unique: True\n",
      "GT index is unique: True\n",
      "Data shapes: pred (478, 785), gt (478, 785)\n",
      "Pearson Correlation: 0.0000\n",
      "Valid correlations: 785/785\n",
      "\n",
      "Loading dataset with parameters:\n",
      "  Dataset: hest1k\n",
      "  Mode: test\n",
      "  Sample IDs: ['SPA153']\n",
      "  Fold: 5\n"
     ]
    },
    {
     "name": "stderr",
     "output_type": "stream",
     "text": [
      "\n"
     ]
    },
    {
     "name": "stdout",
     "output_type": "stream",
     "text": [
      "HEST Dataset: 1 samples (test)\n",
      "['SPA153']\n",
      "Using 785 genes\n",
      "\n",
      "Dataset loaded:\n",
      "  Length: 1\n",
      "Number of batches in dataloader: 1\n"
     ]
    },
    {
     "name": "stderr",
     "output_type": "stream",
     "text": [
      "  0%|                                                                                                                                                                            | 0/1 [00:00<?, ?it/s]"
     ]
    },
    {
     "name": "stdout",
     "output_type": "stream",
     "text": [
      "\n",
      "Loading sample SPA153\n",
      "AnnData object:\n",
      "  obs_names unique: True\n",
      "  var_names unique: True\n",
      "\n",
      "Processing sample SPA153\n",
      "Warning: No missing genes found.\n",
      "Sample SPA153 has 785 common genes with the dataset\n"
     ]
    },
    {
     "name": "stderr",
     "output_type": "stream",
     "text": [
      "100%|████████████████████████████████████████████████████████████████████████████████████████████████████████████████████████████████████████████████████████████████████| 1/1 [00:01<00:00,  1.96s/it]"
     ]
    },
    {
     "name": "stdout",
     "output_type": "stream",
     "text": [
      "Batch 0: patch shape = torch.Size([1, 325, 3, 112, 112])\n",
      "Pred index is unique: True\n",
      "GT index is unique: True\n",
      "Data shapes: pred (325, 785), gt (325, 785)\n"
     ]
    },
    {
     "name": "stderr",
     "output_type": "stream",
     "text": [
      "\n"
     ]
    },
    {
     "name": "stdout",
     "output_type": "stream",
     "text": [
      "Pearson Correlation: 0.0235\n",
      "Valid correlations: 785/785\n",
      "\n",
      "Loading dataset with parameters:\n",
      "  Dataset: hest1k\n",
      "  Mode: test\n",
      "  Sample IDs: ['MEND63']\n",
      "  Fold: 5\n",
      "HEST Dataset: 1 samples (test)\n",
      "['MEND63']\n",
      "Using 785 genes\n",
      "\n",
      "Dataset loaded:\n",
      "  Length: 1\n",
      "Number of batches in dataloader: 1\n"
     ]
    },
    {
     "name": "stderr",
     "output_type": "stream",
     "text": [
      "  0%|                                                                                                                                                                            | 0/1 [00:00<?, ?it/s]"
     ]
    },
    {
     "name": "stdout",
     "output_type": "stream",
     "text": [
      "\n",
      "Loading sample MEND63\n",
      "AnnData object:\n",
      "  obs_names unique: True\n",
      "  var_names unique: True\n",
      "\n",
      "Processing sample MEND63\n",
      "Sample MEND63 has 728 common genes with the dataset\n"
     ]
    },
    {
     "name": "stderr",
     "output_type": "stream",
     "text": [
      "100%|████████████████████████████████████████████████████████████████████████████████████████████████████████████████████████████████████████████████████████████████████| 1/1 [00:03<00:00,  3.74s/it]"
     ]
    },
    {
     "name": "stdout",
     "output_type": "stream",
     "text": [
      "Batch 0: patch shape = torch.Size([1, 1433, 3, 112, 112])\n",
      "Pred index is unique: True\n",
      "GT index is unique: True\n",
      "Data shapes: pred (1433, 785), gt (1433, 785)\n",
      "Pearson Correlation: 0.0000\n",
      "Valid correlations: 785/785\n",
      "\n",
      "Loading dataset with parameters:\n",
      "  Dataset: hest1k\n",
      "  Mode: test\n",
      "  Sample IDs: ['MEND17']\n",
      "  Fold: 5\n"
     ]
    },
    {
     "name": "stderr",
     "output_type": "stream",
     "text": [
      "\n"
     ]
    },
    {
     "name": "stdout",
     "output_type": "stream",
     "text": [
      "HEST Dataset: 1 samples (test)\n",
      "['MEND17']\n",
      "Using 785 genes\n",
      "\n",
      "Dataset loaded:\n",
      "  Length: 1\n",
      "Number of batches in dataloader: 1\n"
     ]
    },
    {
     "name": "stderr",
     "output_type": "stream",
     "text": [
      "  0%|                                                                                                                                                                            | 0/1 [00:00<?, ?it/s]"
     ]
    },
    {
     "name": "stdout",
     "output_type": "stream",
     "text": [
      "\n",
      "Loading sample MEND17\n",
      "AnnData object:\n",
      "  obs_names unique: True\n",
      "  var_names unique: True\n",
      "\n",
      "Processing sample MEND17\n",
      "Sample MEND17 has 782 common genes with the dataset\n"
     ]
    },
    {
     "name": "stderr",
     "output_type": "stream",
     "text": [
      "100%|████████████████████████████████████████████████████████████████████████████████████████████████████████████████████████████████████████████████████████████████████| 1/1 [00:01<00:00,  1.84s/it]"
     ]
    },
    {
     "name": "stdout",
     "output_type": "stream",
     "text": [
      "Batch 0: patch shape = torch.Size([1, 261, 3, 112, 112])\n",
      "Pred index is unique: True\n",
      "GT index is unique: True\n",
      "Data shapes: pred (261, 785), gt (261, 785)\n",
      "Pearson Correlation: 0.0000\n",
      "Valid correlations: 785/785\n",
      "\n",
      "Loading dataset with parameters:\n",
      "  Dataset: hest1k\n",
      "  Mode: test\n",
      "  Sample IDs: ['NCBI656']\n",
      "  Fold: 5\n"
     ]
    },
    {
     "name": "stderr",
     "output_type": "stream",
     "text": [
      "\n"
     ]
    },
    {
     "name": "stdout",
     "output_type": "stream",
     "text": [
      "HEST Dataset: 1 samples (test)\n",
      "['NCBI656']\n",
      "Using 785 genes\n",
      "\n",
      "Dataset loaded:\n",
      "  Length: 1\n",
      "Number of batches in dataloader: 1\n"
     ]
    },
    {
     "name": "stderr",
     "output_type": "stream",
     "text": [
      "  0%|                                                                                                                                                                            | 0/1 [00:00<?, ?it/s]"
     ]
    },
    {
     "name": "stdout",
     "output_type": "stream",
     "text": [
      "\n",
      "Loading sample NCBI656\n",
      "AnnData object:\n",
      "  obs_names unique: True\n",
      "  var_names unique: True\n",
      "\n",
      "Processing sample NCBI656\n",
      "Sample NCBI656 has 728 common genes with the dataset\n",
      "Batch 0: patch shape = torch.Size([1, 4968, 3, 112, 112])\n"
     ]
    },
    {
     "name": "stderr",
     "output_type": "stream",
     "text": [
      "100%|████████████████████████████████████████████████████████████████████████████████████████████████████████████████████████████████████████████████████████████████████| 1/1 [00:11<00:00, 11.99s/it]\n"
     ]
    },
    {
     "name": "stdout",
     "output_type": "stream",
     "text": [
      "Pred index is unique: True\n",
      "GT index is unique: True\n",
      "Data shapes: pred (4968, 785), gt (4968, 785)\n",
      "Pearson Correlation: 0.0033\n",
      "Valid correlations: 785/785\n",
      "\n",
      "Loading dataset with parameters:\n",
      "  Dataset: hest1k\n",
      "  Mode: test\n",
      "  Sample IDs: ['INT3']\n",
      "  Fold: 5\n",
      "HEST Dataset: 1 samples (test)\n",
      "['INT3']\n",
      "Using 785 genes\n",
      "\n",
      "Dataset loaded:\n",
      "  Length: 1\n",
      "Number of batches in dataloader: 1\n"
     ]
    },
    {
     "name": "stderr",
     "output_type": "stream",
     "text": [
      "  0%|                                                                                                                                                                            | 0/1 [00:00<?, ?it/s]"
     ]
    },
    {
     "name": "stdout",
     "output_type": "stream",
     "text": [
      "\n",
      "Loading sample INT3\n",
      "AnnData object:\n",
      "  obs_names unique: True\n",
      "  var_names unique: True\n",
      "\n",
      "Processing sample INT3\n",
      "Sample INT3 has 762 common genes with the dataset\n"
     ]
    },
    {
     "name": "stderr",
     "output_type": "stream",
     "text": [
      "100%|████████████████████████████████████████████████████████████████████████████████████████████████████████████████████████████████████████████████████████████████████| 1/1 [00:06<00:00,  6.17s/it]"
     ]
    },
    {
     "name": "stdout",
     "output_type": "stream",
     "text": [
      "Batch 0: patch shape = torch.Size([1, 2007, 3, 112, 112])\n",
      "Pred index is unique: True\n",
      "GT index is unique: True\n",
      "Data shapes: pred (2007, 785), gt (2007, 785)\n"
     ]
    },
    {
     "name": "stderr",
     "output_type": "stream",
     "text": [
      "\n"
     ]
    },
    {
     "name": "stdout",
     "output_type": "stream",
     "text": [
      "Pearson Correlation: -0.0258\n",
      "Valid correlations: 785/785\n",
      "\n",
      "Loading dataset with parameters:\n",
      "  Dataset: hest1k\n",
      "  Mode: test\n",
      "  Sample IDs: ['SPA34']\n",
      "  Fold: 5\n",
      "HEST Dataset: 1 samples (test)\n",
      "['SPA34']\n",
      "Using 785 genes\n",
      "\n",
      "Dataset loaded:\n",
      "  Length: 1\n",
      "Number of batches in dataloader: 1\n"
     ]
    },
    {
     "name": "stderr",
     "output_type": "stream",
     "text": [
      "  0%|                                                                                                                                                                            | 0/1 [00:00<?, ?it/s]"
     ]
    },
    {
     "name": "stdout",
     "output_type": "stream",
     "text": [
      "\n",
      "Loading sample SPA34\n",
      "AnnData object:\n",
      "  obs_names unique: True\n",
      "  var_names unique: True\n",
      "\n",
      "Processing sample SPA34\n",
      "Warning: No common genes found between the two lists.\n",
      "Warning: No common genes found between the two lists.\n",
      "Sample SPA34 has 0 common genes with the dataset\n"
     ]
    },
    {
     "name": "stderr",
     "output_type": "stream",
     "text": [
      "100%|████████████████████████████████████████████████████████████████████████████████████████████████████████████████████████████████████████████████████████████████████| 1/1 [00:02<00:00,  2.81s/it]"
     ]
    },
    {
     "name": "stdout",
     "output_type": "stream",
     "text": [
      "Batch 0: patch shape = torch.Size([1, 242, 3, 112, 112])\n",
      "Pred index is unique: True\n",
      "GT index is unique: True\n",
      "Data shapes: pred (242, 785), gt (242, 785)\n",
      "Pearson Correlation: 0.0000\n",
      "Valid correlations: 785/785\n",
      "\n",
      "Loading dataset with parameters:\n",
      "  Dataset: hest1k\n",
      "  Mode: test\n",
      "  Sample IDs: ['TENX119']\n",
      "  Fold: 5\n"
     ]
    },
    {
     "name": "stderr",
     "output_type": "stream",
     "text": [
      "\n"
     ]
    },
    {
     "name": "stdout",
     "output_type": "stream",
     "text": [
      "HEST Dataset: 1 samples (test)\n",
      "['TENX119']\n",
      "Using 785 genes\n",
      "\n",
      "Dataset loaded:\n",
      "  Length: 1\n",
      "Number of batches in dataloader: 1\n"
     ]
    },
    {
     "name": "stderr",
     "output_type": "stream",
     "text": [
      "  0%|                                                                                                                                                                            | 0/1 [00:00<?, ?it/s]"
     ]
    },
    {
     "name": "stdout",
     "output_type": "stream",
     "text": [
      "\n",
      "Loading sample TENX119\n",
      "AnnData object:\n",
      "  obs_names unique: True\n",
      "  var_names unique: True\n",
      "\n",
      "Processing sample TENX119\n",
      "Sample TENX119 has 25 common genes with the dataset\n"
     ]
    },
    {
     "name": "stderr",
     "output_type": "stream",
     "text": [
      "100%|████████████████████████████████████████████████████████████████████████████████████████████████████████████████████████████████████████████████████████████████████| 1/1 [00:03<00:00,  3.36s/it]"
     ]
    },
    {
     "name": "stdout",
     "output_type": "stream",
     "text": [
      "Batch 0: patch shape = torch.Size([1, 2263, 3, 112, 112])\n"
     ]
    },
    {
     "name": "stderr",
     "output_type": "stream",
     "text": [
      "\n"
     ]
    },
    {
     "name": "stdout",
     "output_type": "stream",
     "text": [
      "Pred index is unique: True\n",
      "GT index is unique: True\n",
      "Data shapes: pred (2263, 785), gt (2263, 785)\n",
      "Pearson Correlation: 0.0000\n",
      "Valid correlations: 785/785\n",
      "\n",
      "Loading dataset with parameters:\n",
      "  Dataset: hest1k\n",
      "  Mode: test\n",
      "  Sample IDs: ['MISC47']\n",
      "  Fold: 5\n",
      "HEST Dataset: 1 samples (test)\n",
      "['MISC47']\n",
      "Using 785 genes\n",
      "\n",
      "Dataset loaded:\n",
      "  Length: 1\n",
      "Number of batches in dataloader: 1\n"
     ]
    },
    {
     "name": "stderr",
     "output_type": "stream",
     "text": [
      "  0%|                                                                                                                                                                            | 0/1 [00:00<?, ?it/s]"
     ]
    },
    {
     "name": "stdout",
     "output_type": "stream",
     "text": [
      "\n",
      "Loading sample MISC47\n",
      "AnnData object:\n",
      "  obs_names unique: True\n",
      "  var_names unique: True\n",
      "\n",
      "Processing sample MISC47\n",
      "Sample MISC47 has 756 common genes with the dataset\n",
      "Batch 0: patch shape = torch.Size([1, 4818, 3, 112, 112])\n"
     ]
    },
    {
     "name": "stderr",
     "output_type": "stream",
     "text": [
      "100%|████████████████████████████████████████████████████████████████████████████████████████████████████████████████████████████████████████████████████████████████████| 1/1 [00:11<00:00, 11.36s/it]\n"
     ]
    },
    {
     "name": "stdout",
     "output_type": "stream",
     "text": [
      "Pred index is unique: True\n",
      "GT index is unique: True\n",
      "Data shapes: pred (4818, 785), gt (4818, 785)\n",
      "Pearson Correlation: 0.0168\n",
      "Valid correlations: 785/785\n",
      "\n",
      "Loading dataset with parameters:\n",
      "  Dataset: hest1k\n",
      "  Mode: test\n",
      "  Sample IDs: ['MEND92']\n",
      "  Fold: 5\n",
      "HEST Dataset: 1 samples (test)\n",
      "['MEND92']\n",
      "Using 785 genes\n",
      "\n",
      "Dataset loaded:\n",
      "  Length: 1\n",
      "Number of batches in dataloader: 1\n"
     ]
    },
    {
     "name": "stderr",
     "output_type": "stream",
     "text": [
      "  0%|                                                                                                                                                                            | 0/1 [00:00<?, ?it/s]"
     ]
    },
    {
     "name": "stdout",
     "output_type": "stream",
     "text": [
      "\n",
      "Loading sample MEND92\n",
      "AnnData object:\n",
      "  obs_names unique: True\n",
      "  var_names unique: True\n",
      "\n",
      "Processing sample MEND92\n",
      "Sample MEND92 has 728 common genes with the dataset\n"
     ]
    },
    {
     "name": "stderr",
     "output_type": "stream",
     "text": [
      "100%|████████████████████████████████████████████████████████████████████████████████████████████████████████████████████████████████████████████████████████████████████| 1/1 [00:02<00:00,  2.87s/it]"
     ]
    },
    {
     "name": "stdout",
     "output_type": "stream",
     "text": [
      "Batch 0: patch shape = torch.Size([1, 1071, 3, 112, 112])\n",
      "Pred index is unique: True\n",
      "GT index is unique: True\n",
      "Data shapes: pred (1071, 785), gt (1071, 785)\n",
      "Pearson Correlation: 0.0000\n",
      "Valid correlations: 785/785\n",
      "\n",
      "Loading dataset with parameters:\n",
      "  Dataset: hest1k\n",
      "  Mode: test\n",
      "  Sample IDs: ['MISC59']\n",
      "  Fold: 5\n"
     ]
    },
    {
     "name": "stderr",
     "output_type": "stream",
     "text": [
      "\n"
     ]
    },
    {
     "name": "stdout",
     "output_type": "stream",
     "text": [
      "HEST Dataset: 1 samples (test)\n",
      "['MISC59']\n",
      "Using 785 genes\n",
      "\n",
      "Dataset loaded:\n",
      "  Length: 1\n",
      "Number of batches in dataloader: 1\n"
     ]
    },
    {
     "name": "stderr",
     "output_type": "stream",
     "text": [
      "  0%|                                                                                                                                                                            | 0/1 [00:00<?, ?it/s]"
     ]
    },
    {
     "name": "stdout",
     "output_type": "stream",
     "text": [
      "\n",
      "Loading sample MISC59\n",
      "AnnData object:\n",
      "  obs_names unique: True\n",
      "  var_names unique: True\n",
      "\n",
      "Processing sample MISC59\n",
      "Sample MISC59 has 753 common genes with the dataset\n"
     ]
    },
    {
     "name": "stderr",
     "output_type": "stream",
     "text": [
      "100%|████████████████████████████████████████████████████████████████████████████████████████████████████████████████████████████████████████████████████████████████████| 1/1 [00:03<00:00,  3.93s/it]"
     ]
    },
    {
     "name": "stdout",
     "output_type": "stream",
     "text": [
      "Batch 0: patch shape = torch.Size([1, 1312, 3, 112, 112])\n",
      "Pred index is unique: True\n",
      "GT index is unique: True\n",
      "Data shapes: pred (1312, 785), gt (1312, 785)\n"
     ]
    },
    {
     "name": "stderr",
     "output_type": "stream",
     "text": [
      "\n"
     ]
    },
    {
     "name": "stdout",
     "output_type": "stream",
     "text": [
      "Pearson Correlation: -0.0090\n",
      "Valid correlations: 785/785\n",
      "\n",
      "Loading dataset with parameters:\n",
      "  Dataset: hest1k\n",
      "  Mode: test\n",
      "  Sample IDs: ['NCBI713']\n",
      "  Fold: 5\n",
      "HEST Dataset: 1 samples (test)\n",
      "['NCBI713']\n",
      "Using 785 genes\n",
      "\n",
      "Dataset loaded:\n",
      "  Length: 1\n",
      "Number of batches in dataloader: 1\n"
     ]
    },
    {
     "name": "stderr",
     "output_type": "stream",
     "text": [
      "  0%|                                                                                                                                                                            | 0/1 [00:00<?, ?it/s]"
     ]
    },
    {
     "name": "stdout",
     "output_type": "stream",
     "text": [
      "\n",
      "Loading sample NCBI713\n",
      "AnnData object:\n",
      "  obs_names unique: True\n",
      "  var_names unique: True\n",
      "\n",
      "Processing sample NCBI713\n",
      "Sample NCBI713 has 762 common genes with the dataset\n",
      "Batch 0: patch shape = torch.Size([1, 3627, 3, 112, 112])\n"
     ]
    },
    {
     "name": "stderr",
     "output_type": "stream",
     "text": [
      "100%|████████████████████████████████████████████████████████████████████████████████████████████████████████████████████████████████████████████████████████████████████| 1/1 [00:07<00:00,  7.35s/it]\n"
     ]
    },
    {
     "name": "stdout",
     "output_type": "stream",
     "text": [
      "Pred index is unique: True\n",
      "GT index is unique: True\n",
      "Data shapes: pred (3627, 785), gt (3627, 785)\n",
      "Pearson Correlation: 0.0000\n",
      "Valid correlations: 785/785\n",
      "\n",
      "Loading dataset with parameters:\n",
      "  Dataset: hest1k\n",
      "  Mode: test\n",
      "  Sample IDs: ['INT16']\n",
      "  Fold: 5\n",
      "HEST Dataset: 1 samples (test)\n",
      "['INT16']\n",
      "Using 785 genes\n",
      "\n",
      "Dataset loaded:\n",
      "  Length: 1\n",
      "Number of batches in dataloader: 1\n"
     ]
    },
    {
     "name": "stderr",
     "output_type": "stream",
     "text": [
      "  0%|                                                                                                                                                                            | 0/1 [00:00<?, ?it/s]"
     ]
    },
    {
     "name": "stdout",
     "output_type": "stream",
     "text": [
      "\n",
      "Loading sample INT16\n",
      "AnnData object:\n",
      "  obs_names unique: True\n",
      "  var_names unique: True\n",
      "\n",
      "Processing sample INT16\n",
      "Sample INT16 has 728 common genes with the dataset\n",
      "Batch 0: patch shape = torch.Size([1, 3206, 3, 112, 112])\n"
     ]
    },
    {
     "name": "stderr",
     "output_type": "stream",
     "text": [
      "100%|████████████████████████████████████████████████████████████████████████████████████████████████████████████████████████████████████████████████████████████████████| 1/1 [00:11<00:00, 11.16s/it]\n"
     ]
    },
    {
     "name": "stdout",
     "output_type": "stream",
     "text": [
      "Pred index is unique: True\n",
      "GT index is unique: True\n",
      "Data shapes: pred (3206, 785), gt (3206, 785)\n",
      "Pearson Correlation: 0.0149\n",
      "Valid correlations: 785/785\n",
      "\n",
      "Loading dataset with parameters:\n",
      "  Dataset: hest1k\n",
      "  Mode: test\n",
      "  Sample IDs: ['SPA130']\n",
      "  Fold: 5\n",
      "HEST Dataset: 1 samples (test)\n",
      "['SPA130']\n",
      "Using 785 genes\n",
      "\n",
      "Dataset loaded:\n",
      "  Length: 1\n",
      "Number of batches in dataloader: 1\n"
     ]
    },
    {
     "name": "stderr",
     "output_type": "stream",
     "text": [
      "  0%|                                                                                                                                                                            | 0/1 [00:00<?, ?it/s]"
     ]
    },
    {
     "name": "stdout",
     "output_type": "stream",
     "text": [
      "\n",
      "Loading sample SPA130\n",
      "AnnData object:\n",
      "  obs_names unique: True\n",
      "  var_names unique: True\n",
      "\n",
      "Processing sample SPA130\n",
      "Warning: No missing genes found.\n",
      "Sample SPA130 has 785 common genes with the dataset\n"
     ]
    },
    {
     "name": "stderr",
     "output_type": "stream",
     "text": [
      "100%|████████████████████████████████████████████████████████████████████████████████████████████████████████████████████████████████████████████████████████████████████| 1/1 [00:02<00:00,  2.71s/it]"
     ]
    },
    {
     "name": "stdout",
     "output_type": "stream",
     "text": [
      "Batch 0: patch shape = torch.Size([1, 587, 3, 112, 112])\n",
      "Pred index is unique: True\n",
      "GT index is unique: True\n",
      "Data shapes: pred (587, 785), gt (587, 785)\n"
     ]
    },
    {
     "name": "stderr",
     "output_type": "stream",
     "text": [
      "\n"
     ]
    },
    {
     "name": "stdout",
     "output_type": "stream",
     "text": [
      "Pearson Correlation: 0.0419\n",
      "Valid correlations: 785/785\n",
      "\n",
      "Loading dataset with parameters:\n",
      "  Dataset: hest1k\n",
      "  Mode: test\n",
      "  Sample IDs: ['NCBI705']\n",
      "  Fold: 5\n",
      "HEST Dataset: 1 samples (test)\n",
      "['NCBI705']\n",
      "Using 785 genes\n",
      "\n",
      "Dataset loaded:\n",
      "  Length: 1\n",
      "Number of batches in dataloader: 1\n"
     ]
    },
    {
     "name": "stderr",
     "output_type": "stream",
     "text": [
      "  0%|                                                                                                                                                                            | 0/1 [00:00<?, ?it/s]"
     ]
    },
    {
     "name": "stdout",
     "output_type": "stream",
     "text": [
      "\n",
      "Loading sample NCBI705\n",
      "AnnData object:\n",
      "  obs_names unique: True\n",
      "  var_names unique: True\n",
      "\n",
      "Processing sample NCBI705\n",
      "Sample NCBI705 has 762 common genes with the dataset\n"
     ]
    },
    {
     "name": "stderr",
     "output_type": "stream",
     "text": [
      "100%|████████████████████████████████████████████████████████████████████████████████████████████████████████████████████████████████████████████████████████████████████| 1/1 [00:02<00:00,  2.91s/it]"
     ]
    },
    {
     "name": "stdout",
     "output_type": "stream",
     "text": [
      "Batch 0: patch shape = torch.Size([1, 560, 3, 112, 112])\n",
      "Pred index is unique: True\n",
      "GT index is unique: True\n",
      "Data shapes: pred (560, 785), gt (560, 785)\n"
     ]
    },
    {
     "name": "stderr",
     "output_type": "stream",
     "text": [
      "\n"
     ]
    },
    {
     "name": "stdout",
     "output_type": "stream",
     "text": [
      "Pearson Correlation: -0.0757\n",
      "Valid correlations: 785/785\n",
      "\n",
      "Loading dataset with parameters:\n",
      "  Dataset: hest1k\n",
      "  Mode: test\n",
      "  Sample IDs: ['TENX132']\n",
      "  Fold: 5\n",
      "HEST Dataset: 1 samples (test)\n",
      "['TENX132']\n",
      "Using 785 genes\n",
      "\n",
      "Dataset loaded:\n",
      "  Length: 1\n",
      "Number of batches in dataloader: 1\n"
     ]
    },
    {
     "name": "stderr",
     "output_type": "stream",
     "text": [
      "  0%|                                                                                                                                                                            | 0/1 [00:00<?, ?it/s]"
     ]
    },
    {
     "name": "stdout",
     "output_type": "stream",
     "text": [
      "\n",
      "Loading sample TENX132\n",
      "AnnData object:\n",
      "  obs_names unique: True\n",
      "  var_names unique: True\n",
      "\n",
      "Processing sample TENX132\n",
      "Sample TENX132 has 35 common genes with the dataset\n",
      "Batch 0: patch shape = torch.Size([1, 9682, 3, 112, 112])\n"
     ]
    },
    {
     "name": "stderr",
     "output_type": "stream",
     "text": [
      "100%|████████████████████████████████████████████████████████████████████████████████████████████████████████████████████████████████████████████████████████████████████| 1/1 [00:20<00:00, 20.87s/it]\n"
     ]
    },
    {
     "name": "stdout",
     "output_type": "stream",
     "text": [
      "Pred index is unique: True\n",
      "GT index is unique: True\n",
      "Data shapes: pred (9682, 785), gt (9682, 785)\n",
      "Pearson Correlation: 0.0000\n",
      "Valid correlations: 785/785\n",
      "\n",
      "Loading dataset with parameters:\n",
      "  Dataset: hest1k\n",
      "  Mode: test\n",
      "  Sample IDs: ['MISC31']\n",
      "  Fold: 5\n",
      "HEST Dataset: 1 samples (test)\n",
      "['MISC31']\n",
      "Using 785 genes\n",
      "\n",
      "Dataset loaded:\n",
      "  Length: 1\n",
      "Number of batches in dataloader: 1\n"
     ]
    },
    {
     "name": "stderr",
     "output_type": "stream",
     "text": [
      "  0%|                                                                                                                                                                            | 0/1 [00:00<?, ?it/s]"
     ]
    },
    {
     "name": "stdout",
     "output_type": "stream",
     "text": [
      "\n",
      "Loading sample MISC31\n",
      "AnnData object:\n",
      "  obs_names unique: True\n",
      "  var_names unique: True\n",
      "\n",
      "Processing sample MISC31\n",
      "Sample MISC31 has 771 common genes with the dataset\n",
      "Batch 0: patch shape = torch.Size([1, 2524, 3, 112, 112])\n"
     ]
    },
    {
     "name": "stderr",
     "output_type": "stream",
     "text": [
      "100%|████████████████████████████████████████████████████████████████████████████████████████████████████████████████████████████████████████████████████████████████████| 1/1 [00:06<00:00,  6.82s/it]\n"
     ]
    },
    {
     "name": "stdout",
     "output_type": "stream",
     "text": [
      "Pred index is unique: True\n",
      "GT index is unique: True\n",
      "Data shapes: pred (2524, 785), gt (2524, 785)\n",
      "Pearson Correlation: 0.0365\n",
      "Valid correlations: 785/785\n",
      "\n",
      "Loading dataset with parameters:\n",
      "  Dataset: hest1k\n",
      "  Mode: test\n",
      "  Sample IDs: ['NCBI873']\n",
      "  Fold: 5\n",
      "HEST Dataset: 1 samples (test)\n",
      "['NCBI873']\n",
      "Using 785 genes\n",
      "\n",
      "Dataset loaded:\n",
      "  Length: 1\n",
      "Number of batches in dataloader: 1\n"
     ]
    },
    {
     "name": "stderr",
     "output_type": "stream",
     "text": [
      "  0%|                                                                                                                                                                            | 0/1 [00:00<?, ?it/s]"
     ]
    },
    {
     "name": "stdout",
     "output_type": "stream",
     "text": [
      "\n",
      "Loading sample NCBI873\n",
      "AnnData object:\n",
      "  obs_names unique: True\n",
      "  var_names unique: True\n",
      "\n",
      "Processing sample NCBI873\n",
      "Sample NCBI873 has 41 common genes with the dataset\n"
     ]
    },
    {
     "name": "stderr",
     "output_type": "stream",
     "text": [
      "100%|████████████████████████████████████████████████████████████████████████████████████████████████████████████████████████████████████████████████████████████████████| 1/1 [00:02<00:00,  2.80s/it]"
     ]
    },
    {
     "name": "stdout",
     "output_type": "stream",
     "text": [
      "Batch 0: patch shape = torch.Size([1, 1491, 3, 112, 112])\n",
      "Pred index is unique: True\n",
      "GT index is unique: True\n",
      "Data shapes: pred (1491, 785), gt (1491, 785)\n"
     ]
    },
    {
     "name": "stderr",
     "output_type": "stream",
     "text": [
      "\n"
     ]
    },
    {
     "name": "stdout",
     "output_type": "stream",
     "text": [
      "Pearson Correlation: -0.0228\n",
      "Valid correlations: 785/785\n",
      "\n",
      "Loading dataset with parameters:\n",
      "  Dataset: hest1k\n",
      "  Mode: test\n",
      "  Sample IDs: ['MISC102']\n",
      "  Fold: 5\n",
      "HEST Dataset: 1 samples (test)\n",
      "['MISC102']\n",
      "Using 785 genes\n",
      "\n",
      "Dataset loaded:\n",
      "  Length: 1\n",
      "Number of batches in dataloader: 1\n"
     ]
    },
    {
     "name": "stderr",
     "output_type": "stream",
     "text": [
      "  0%|                                                                                                                                                                            | 0/1 [00:00<?, ?it/s]"
     ]
    },
    {
     "name": "stdout",
     "output_type": "stream",
     "text": [
      "\n",
      "Loading sample MISC102\n",
      "AnnData object:\n",
      "  obs_names unique: True\n",
      "  var_names unique: True\n",
      "\n",
      "Processing sample MISC102\n",
      "Warning: No common genes found between the two lists.\n",
      "Warning: No common genes found between the two lists.\n",
      "Sample MISC102 has 0 common genes with the dataset\n"
     ]
    },
    {
     "name": "stderr",
     "output_type": "stream",
     "text": [
      "100%|████████████████████████████████████████████████████████████████████████████████████████████████████████████████████████████████████████████████████████████████████| 1/1 [00:04<00:00,  4.64s/it]"
     ]
    },
    {
     "name": "stdout",
     "output_type": "stream",
     "text": [
      "Batch 0: patch shape = torch.Size([1, 1166, 3, 112, 112])\n",
      "Pred index is unique: True\n",
      "GT index is unique: True\n",
      "Data shapes: pred (1166, 785), gt (1166, 785)\n",
      "Pearson Correlation: 0.0000\n",
      "Valid correlations: 785/785\n",
      "\n",
      "Loading dataset with parameters:\n",
      "  Dataset: hest1k\n",
      "  Mode: test\n",
      "  Sample IDs: ['MISC40']\n",
      "  Fold: 5\n"
     ]
    },
    {
     "name": "stderr",
     "output_type": "stream",
     "text": [
      "\n"
     ]
    },
    {
     "name": "stdout",
     "output_type": "stream",
     "text": [
      "HEST Dataset: 1 samples (test)\n",
      "['MISC40']\n",
      "Using 785 genes\n",
      "\n",
      "Dataset loaded:\n",
      "  Length: 1\n",
      "Number of batches in dataloader: 1\n"
     ]
    },
    {
     "name": "stderr",
     "output_type": "stream",
     "text": [
      "  0%|                                                                                                                                                                            | 0/1 [00:00<?, ?it/s]"
     ]
    },
    {
     "name": "stdout",
     "output_type": "stream",
     "text": [
      "\n",
      "Loading sample MISC40\n",
      "AnnData object:\n",
      "  obs_names unique: True\n",
      "  var_names unique: True\n",
      "\n",
      "Processing sample MISC40\n",
      "Sample MISC40 has 755 common genes with the dataset\n",
      "Batch 0: patch shape = torch.Size([1, 4116, 3, 112, 112])\n"
     ]
    },
    {
     "name": "stderr",
     "output_type": "stream",
     "text": [
      "100%|████████████████████████████████████████████████████████████████████████████████████████████████████████████████████████████████████████████████████████████████████| 1/1 [00:11<00:00, 11.73s/it]\n"
     ]
    },
    {
     "name": "stdout",
     "output_type": "stream",
     "text": [
      "Pred index is unique: True\n",
      "GT index is unique: True\n",
      "Data shapes: pred (4116, 785), gt (4116, 785)\n",
      "Pearson Correlation: -0.0262\n",
      "Valid correlations: 785/785\n",
      "\n",
      "Loading dataset with parameters:\n",
      "  Dataset: hest1k\n",
      "  Mode: test\n",
      "  Sample IDs: ['SPA74']\n",
      "  Fold: 5\n",
      "HEST Dataset: 1 samples (test)\n",
      "['SPA74']\n",
      "Using 785 genes\n",
      "\n",
      "Dataset loaded:\n",
      "  Length: 1\n",
      "Number of batches in dataloader: 1\n"
     ]
    },
    {
     "name": "stderr",
     "output_type": "stream",
     "text": [
      "  0%|                                                                                                                                                                            | 0/1 [00:00<?, ?it/s]"
     ]
    },
    {
     "name": "stdout",
     "output_type": "stream",
     "text": [
      "\n",
      "Loading sample SPA74\n",
      "AnnData object:\n",
      "  obs_names unique: True\n",
      "  var_names unique: True\n",
      "\n",
      "Processing sample SPA74\n",
      "Warning: No common genes found between the two lists.\n",
      "Warning: No common genes found between the two lists.\n",
      "Sample SPA74 has 0 common genes with the dataset\n"
     ]
    },
    {
     "name": "stderr",
     "output_type": "stream",
     "text": [
      "100%|████████████████████████████████████████████████████████████████████████████████████████████████████████████████████████████████████████████████████████████████████| 1/1 [00:02<00:00,  2.55s/it]"
     ]
    },
    {
     "name": "stdout",
     "output_type": "stream",
     "text": [
      "Batch 0: patch shape = torch.Size([1, 506, 3, 112, 112])\n",
      "Pred index is unique: True\n",
      "GT index is unique: True\n",
      "Data shapes: pred (506, 785), gt (506, 785)\n",
      "Pearson Correlation: 0.0000\n",
      "Valid correlations: 785/785\n",
      "\n",
      "Loading dataset with parameters:\n",
      "  Dataset: hest1k\n",
      "  Mode: test\n",
      "  Sample IDs: ['NCBI830']\n",
      "  Fold: 5\n"
     ]
    },
    {
     "name": "stderr",
     "output_type": "stream",
     "text": [
      "\n"
     ]
    },
    {
     "name": "stdout",
     "output_type": "stream",
     "text": [
      "HEST Dataset: 1 samples (test)\n",
      "['NCBI830']\n",
      "Using 785 genes\n",
      "\n",
      "Dataset loaded:\n",
      "  Length: 1\n",
      "Number of batches in dataloader: 1\n"
     ]
    },
    {
     "name": "stderr",
     "output_type": "stream",
     "text": [
      "  0%|                                                                                                                                                                            | 0/1 [00:00<?, ?it/s]"
     ]
    },
    {
     "name": "stdout",
     "output_type": "stream",
     "text": [
      "\n",
      "Loading sample NCBI830\n",
      "AnnData object:\n",
      "  obs_names unique: True\n",
      "  var_names unique: True\n",
      "\n",
      "Processing sample NCBI830\n",
      "Sample NCBI830 has 771 common genes with the dataset\n",
      "Batch 0: patch shape = torch.Size([1, 4992, 3, 112, 112])\n"
     ]
    },
    {
     "name": "stderr",
     "output_type": "stream",
     "text": [
      "100%|████████████████████████████████████████████████████████████████████████████████████████████████████████████████████████████████████████████████████████████████████| 1/1 [00:10<00:00, 10.78s/it]\n"
     ]
    },
    {
     "name": "stdout",
     "output_type": "stream",
     "text": [
      "Pred index is unique: True\n",
      "GT index is unique: True\n",
      "Data shapes: pred (4992, 785), gt (4992, 785)\n",
      "Pearson Correlation: -0.1192\n",
      "Valid correlations: 785/785\n",
      "\n",
      "Loading dataset with parameters:\n",
      "  Dataset: hest1k\n",
      "  Mode: test\n",
      "  Sample IDs: ['MISC44']\n",
      "  Fold: 5\n",
      "HEST Dataset: 1 samples (test)\n",
      "['MISC44']\n",
      "Using 785 genes\n",
      "\n",
      "Dataset loaded:\n",
      "  Length: 1\n",
      "Number of batches in dataloader: 1\n"
     ]
    },
    {
     "name": "stderr",
     "output_type": "stream",
     "text": [
      "  0%|                                                                                                                                                                            | 0/1 [00:00<?, ?it/s]"
     ]
    },
    {
     "name": "stdout",
     "output_type": "stream",
     "text": [
      "\n",
      "Loading sample MISC44\n",
      "AnnData object:\n",
      "  obs_names unique: True\n",
      "  var_names unique: True\n",
      "\n",
      "Processing sample MISC44\n",
      "Sample MISC44 has 753 common genes with the dataset\n"
     ]
    },
    {
     "name": "stderr",
     "output_type": "stream",
     "text": [
      "100%|████████████████████████████████████████████████████████████████████████████████████████████████████████████████████████████████████████████████████████████████████| 1/1 [00:02<00:00,  2.34s/it]"
     ]
    },
    {
     "name": "stdout",
     "output_type": "stream",
     "text": [
      "Batch 0: patch shape = torch.Size([1, 932, 3, 112, 112])\n",
      "Pred index is unique: True\n",
      "GT index is unique: True\n",
      "Data shapes: pred (932, 785), gt (932, 785)\n"
     ]
    },
    {
     "name": "stderr",
     "output_type": "stream",
     "text": [
      "\n"
     ]
    },
    {
     "name": "stdout",
     "output_type": "stream",
     "text": [
      "Pearson Correlation: -0.0703\n",
      "Valid correlations: 785/785\n"
     ]
    }
   ],
   "source": [
    "correlations = []\n",
    "for sample_id in sample_ids:\n",
    "# for sample_id in ['SPA102']:\n",
    "    hestset = pk_load(fold, 'test', sample_ids=[sample_id], dataset='hest1k', flatten=False, adj=True, ori=True, prune=prune)\n",
    "    hest_loader = DataLoader(hestset, batch_size=1, num_workers=0, shuffle=False)\n",
    "    pred, gt = test(model, hest_loader,'cuda')\n",
    "    # Use robust correlation\n",
    "    R, _ = get_R_robust(pred, gt)\n",
    "    print(f'Pearson Correlation: {np.nanmean(R):.4f}')\n",
    "    print(f'Valid correlations: {np.sum(~np.isnan(R))}/{len(R)}')\n",
    "    correlations.append([sample_id, np.nanmean(R)])"
   ]
  },
  {
   "cell_type": "code",
   "execution_count": null,
   "id": "53e22a0d",
   "metadata": {},
   "outputs": [
    {
     "data": {
      "text/plain": [
       "[['NCBI474', np.float64(0.0)],\n",
       " ['NCBI539', np.float64(0.0)],\n",
       " ['MISC61', np.float64(0.05613562489895352)],\n",
       " ['SPA102', np.float64(0.0)],\n",
       " ['TENX50', np.float64(0.0)],\n",
       " ['MISC139', np.float64(0.0)],\n",
       " ['TENX24', np.float64(0.02715647069153014)],\n",
       " ['NCBI537', np.float64(0.026139554347261597)],\n",
       " ['NCBI566', np.float64(0.0)],\n",
       " ['NCBI463', np.float64(0.0)],\n",
       " ['MISC51', np.float64(0.02474570717591389)],\n",
       " ['SPA104', np.float64(0.0)],\n",
       " ['NCBI711', np.float64(0.0)],\n",
       " ['MISC29', np.float64(0.0)],\n",
       " ['SPA138', np.float32(0.109641716)],\n",
       " ['MEND51', np.float64(0.026139554347261597)],\n",
       " ['MEND41', np.float64(0.02385501627377264)],\n",
       " ['NCBI565', np.float64(0.0)],\n",
       " ['SPA127', np.float32(0.010961207)],\n",
       " ['TENX154', np.float64(0.070489573951775)],\n",
       " ['NCBI497', np.float64(0.0)],\n",
       " ['MISC48', np.float64(0.12837191588530067)],\n",
       " ['MEND24', np.float64(0.0)],\n",
       " ['NCBI636', np.float64(0.0)],\n",
       " ['MISC126', np.float64(0.0)],\n",
       " ['MISC142', np.float64(0.0)],\n",
       " ['SPA144', np.float64(0.36106996167996885)],\n",
       " ['TENX115', np.float64(-0.0203917244342482)],\n",
       " ['NCBI860', np.float64(-0.011818496890033886)],\n",
       " ['NCBI3', np.float64(0.0)],\n",
       " ['SPA114', np.float64(0.0)],\n",
       " ['NCBI672', np.float64(-0.056408762432350094)],\n",
       " ['MEND86', np.float64(0.0)],\n",
       " ['SPA56', np.float64(0.0)],\n",
       " ['MEND12', np.float64(0.0)],\n",
       " ['MEND52', np.float64(0.0)],\n",
       " ['NCBI640', np.float64(0.0)],\n",
       " ['TENX105', np.float64(0.0)],\n",
       " ['MISC111', np.float64(0.0)],\n",
       " ['NCBI700', np.float64(-0.011288959882963615)],\n",
       " ['TENX121', np.float64(0.0)],\n",
       " ['MISC18', np.float64(0.0)],\n",
       " ['NCBI591', np.float64(0.0)],\n",
       " ['MISC109', np.float64(0.0)],\n",
       " ['NCBI882', np.float64(-0.01877360243801099)],\n",
       " ['TENX56', np.float64(-0.011196982041950439)],\n",
       " ['MISC133', np.float64(0.0)],\n",
       " ['NCBI655', np.float64(-0.009061496070242089)],\n",
       " ['MEND85', np.float64(0.0)],\n",
       " ['ZEN38', np.float64(0.06276795629702603)],\n",
       " ['SPA128', np.float32(-0.0025135505)],\n",
       " ['MISC121', np.float64(0.0)],\n",
       " ['INT9', np.float64(0.18158618251193956)],\n",
       " ['SPA47', np.float64(0.0)],\n",
       " ['SPA93', np.float64(0.0)],\n",
       " ['NCBI710', np.float64(0.018776274542472545)],\n",
       " ['NCBI760', np.float64(-0.012902869074976155)],\n",
       " ['MISC3', np.float64(0.0)],\n",
       " ['SPA75', np.float64(0.0)],\n",
       " ['SPA143', np.float32(0.3014941)],\n",
       " ['TENX46', np.float64(0.0)],\n",
       " ['NCBI521', np.float64(0.13896953477435242)],\n",
       " ['MEND37', np.float64(0.0)],\n",
       " ['NCBI695', np.float64(0.020508838093032836)],\n",
       " ['MISC41', np.float64(0.14679469440153142)],\n",
       " ['NCBI507', np.float64(0.0)],\n",
       " ['MEND59', np.float64(-0.03988720846575964)],\n",
       " ['TENX157', np.float64(-0.06970961444364611)],\n",
       " ['NCBI467', np.float64(0.19324167841143763)],\n",
       " ['NCBI515', np.float64(-0.14218638112448204)],\n",
       " ['MISC66', np.float64(0.2871257494636782)],\n",
       " ['SPA139', np.float32(0.11248326)],\n",
       " ['MISC140', np.float64(0.0)],\n",
       " ['NCBI630', np.float64(0.0)],\n",
       " ['MEND3', np.float64(0.0)],\n",
       " ['NCBI761', np.float64(-0.011867499167609746)],\n",
       " ['MEND141', np.float64(0.07784900464070071)],\n",
       " ['MISC55', np.float64(0.009819128792614314)],\n",
       " ['INT7', np.float64(0.054578105863895575)],\n",
       " ['NCBI508', np.float64(0.0)],\n",
       " ['INT1', np.float64(0.0)],\n",
       " ['SPA103', np.float64(0.0)],\n",
       " ['NCBI883', np.float64(-0.005922896910909635)],\n",
       " ['SPA1', np.float64(0.0)],\n",
       " ['NCBI468', np.float64(0.22947062674530183)],\n",
       " ['MEND61', np.float64(0.0033175331719848475)],\n",
       " ['SPA71', np.float64(0.0)],\n",
       " ['TENX30', np.float64(0.0)],\n",
       " ['MISC6', np.float64(0.019400841145550796)],\n",
       " ['NCBI682', np.float64(-0.09659486178807013)],\n",
       " ['MISC16', np.float64(0.0)],\n",
       " ['NCBI634', np.float64(0.0)],\n",
       " ['SPA101', np.float64(0.0)],\n",
       " ['NCBI506', np.float64(0.08266295542285013)],\n",
       " ['NCBI510', np.float64(0.0)],\n",
       " ['ZEN36', np.float64(-0.0483690273491992)],\n",
       " ['NCBI696', np.float64(0.01404156302795953)],\n",
       " ['NCBI628', np.float64(0.0)],\n",
       " ['MISC115', np.float64(0.0)],\n",
       " ['NCBI697', np.float64(0.010396762714264499)],\n",
       " ['NCBI516', np.float64(-0.04358419959973188)],\n",
       " ['SPA92', np.float64(0.0)],\n",
       " ['NCBI870', np.float64(-0.014918598402172897)],\n",
       " ['SPA3', np.float64(0.0)],\n",
       " ['NCBI712', np.float64(0.020703739645723314)],\n",
       " ['TENX49', np.float64(0.0)],\n",
       " ['SPA68', np.float64(0.0)],\n",
       " ['SPA153', np.float32(0.023543512)],\n",
       " ['MEND63', np.float64(0.0)],\n",
       " ['MEND17', np.float64(0.0)],\n",
       " ['NCBI656', np.float64(0.0032665801415469047)],\n",
       " ['INT3', np.float64(-0.02577559021642657)],\n",
       " ['SPA34', np.float64(0.0)],\n",
       " ['TENX119', np.float64(0.0)],\n",
       " ['MISC47', np.float64(0.016835819299564146)],\n",
       " ['MEND92', np.float64(0.0)],\n",
       " ['MISC59', np.float64(-0.009015933144837618)],\n",
       " ['NCBI713', np.float64(0.0)],\n",
       " ['INT16', np.float64(0.014939000924076339)],\n",
       " ['SPA130', np.float32(0.04191012)],\n",
       " ['NCBI705', np.float64(-0.07574346043157634)],\n",
       " ['TENX132', np.float64(0.0)],\n",
       " ['MISC31', np.float64(0.03648860120884837)],\n",
       " ['NCBI873', np.float64(-0.022800036439090777)],\n",
       " ['MISC102', np.float64(0.0)],\n",
       " ['MISC40', np.float64(-0.026240556831264004)],\n",
       " ['SPA74', np.float64(0.0)],\n",
       " ['NCBI830', np.float64(-0.11920688252741839)],\n",
       " ['MISC44', np.float64(-0.07032351955136723)]]"
      ]
     },
     "execution_count": 25,
     "metadata": {},
     "output_type": "execute_result"
    }
   ],
   "source": [
    "correlations"
   ]
  },
  {
   "cell_type": "code",
   "execution_count": null,
   "id": "782dbef6",
   "metadata": {},
   "outputs": [
    {
     "name": "stdout",
     "output_type": "stream",
     "text": [
      "Average Pearson correlation: 0.0156\n"
     ]
    }
   ],
   "source": [
    "import pandas as pd\n",
    "import numpy as np\n",
    "\n",
    "# Save correlations to CSV\n",
    "correlations_df = pd.DataFrame(correlations, columns=['sample_id', 'pearson_correlation'])\n",
    "correlations_df.to_csv('correlations.csv', index=False)\n",
    "\n",
    "# Calculate the average correlation\n",
    "average_corr = np.nanmean(correlations_df['pearson_correlation'])\n",
    "print(f\"Average Pearson correlation: {average_corr:.4f}\")"
   ]
  },
  {
   "cell_type": "code",
   "execution_count": null,
   "id": "b3131911",
   "metadata": {},
   "outputs": [
    {
     "data": {
      "text/plain": [
       "Index(['dataset_title', 'id', 'image_filename', 'organ', 'disease_state',\n",
       "       'oncotree_code', 'species', 'patient', 'st_technology',\n",
       "       'data_publication_date', 'license', 'study_link', 'download_page_link1',\n",
       "       'inter_spot_dist', 'spot_diameter', 'spots_under_tissue',\n",
       "       'preservation_method', 'nb_genes', 'treatment_comment',\n",
       "       'pixel_size_um_embedded', 'pixel_size_um_estimated', 'magnification',\n",
       "       'fullres_px_width', 'fullres_px_height', 'tissue', 'disease_comment',\n",
       "       'subseries', 'hest_version_added'],\n",
       "      dtype='object')"
      ]
     },
     "execution_count": 26,
     "metadata": {},
     "output_type": "execute_result"
    }
   ],
   "source": [
    "meta_df.columns"
   ]
  },
  {
   "cell_type": "code",
   "execution_count": null,
   "id": "82c4f1f2",
   "metadata": {},
   "outputs": [
    {
     "data": {
      "application/vnd.microsoft.datawrangler.viewer.v0+json": {
       "columns": [
        {
         "name": "index",
         "rawType": "int64",
         "type": "integer"
        },
        {
         "name": "dataset_title",
         "rawType": "object",
         "type": "string"
        },
        {
         "name": "id",
         "rawType": "object",
         "type": "string"
        },
        {
         "name": "image_filename",
         "rawType": "object",
         "type": "string"
        },
        {
         "name": "organ",
         "rawType": "object",
         "type": "string"
        },
        {
         "name": "disease_state",
         "rawType": "object",
         "type": "string"
        },
        {
         "name": "oncotree_code",
         "rawType": "object",
         "type": "string"
        },
        {
         "name": "species",
         "rawType": "object",
         "type": "string"
        },
        {
         "name": "patient",
         "rawType": "object",
         "type": "string"
        },
        {
         "name": "st_technology",
         "rawType": "object",
         "type": "string"
        },
        {
         "name": "data_publication_date",
         "rawType": "object",
         "type": "string"
        },
        {
         "name": "license",
         "rawType": "object",
         "type": "string"
        },
        {
         "name": "study_link",
         "rawType": "object",
         "type": "string"
        },
        {
         "name": "download_page_link1",
         "rawType": "object",
         "type": "string"
        },
        {
         "name": "inter_spot_dist",
         "rawType": "float64",
         "type": "float"
        },
        {
         "name": "spot_diameter",
         "rawType": "float64",
         "type": "float"
        },
        {
         "name": "spots_under_tissue",
         "rawType": "int64",
         "type": "integer"
        },
        {
         "name": "preservation_method",
         "rawType": "object",
         "type": "string"
        },
        {
         "name": "nb_genes",
         "rawType": "int64",
         "type": "integer"
        },
        {
         "name": "treatment_comment",
         "rawType": "object",
         "type": "string"
        },
        {
         "name": "pixel_size_um_embedded",
         "rawType": "float64",
         "type": "float"
        },
        {
         "name": "pixel_size_um_estimated",
         "rawType": "float64",
         "type": "float"
        },
        {
         "name": "magnification",
         "rawType": "object",
         "type": "string"
        },
        {
         "name": "fullres_px_width",
         "rawType": "int64",
         "type": "integer"
        },
        {
         "name": "fullres_px_height",
         "rawType": "int64",
         "type": "integer"
        },
        {
         "name": "tissue",
         "rawType": "object",
         "type": "string"
        },
        {
         "name": "disease_comment",
         "rawType": "object",
         "type": "string"
        },
        {
         "name": "subseries",
         "rawType": "object",
         "type": "string"
        },
        {
         "name": "hest_version_added",
         "rawType": "object",
         "type": "string"
        }
       ],
       "ref": "1c506415-f585-4160-90fc-a722c44a2d85",
       "rows": [],
       "shape": {
        "columns": 28,
        "rows": 0
       }
      },
      "text/html": [
       "<div>\n",
       "<style scoped>\n",
       "    .dataframe tbody tr th:only-of-type {\n",
       "        vertical-align: middle;\n",
       "    }\n",
       "\n",
       "    .dataframe tbody tr th {\n",
       "        vertical-align: top;\n",
       "    }\n",
       "\n",
       "    .dataframe thead th {\n",
       "        text-align: right;\n",
       "    }\n",
       "</style>\n",
       "<table border=\"1\" class=\"dataframe\">\n",
       "  <thead>\n",
       "    <tr style=\"text-align: right;\">\n",
       "      <th></th>\n",
       "      <th>dataset_title</th>\n",
       "      <th>id</th>\n",
       "      <th>image_filename</th>\n",
       "      <th>organ</th>\n",
       "      <th>disease_state</th>\n",
       "      <th>oncotree_code</th>\n",
       "      <th>species</th>\n",
       "      <th>patient</th>\n",
       "      <th>st_technology</th>\n",
       "      <th>data_publication_date</th>\n",
       "      <th>...</th>\n",
       "      <th>treatment_comment</th>\n",
       "      <th>pixel_size_um_embedded</th>\n",
       "      <th>pixel_size_um_estimated</th>\n",
       "      <th>magnification</th>\n",
       "      <th>fullres_px_width</th>\n",
       "      <th>fullres_px_height</th>\n",
       "      <th>tissue</th>\n",
       "      <th>disease_comment</th>\n",
       "      <th>subseries</th>\n",
       "      <th>hest_version_added</th>\n",
       "    </tr>\n",
       "  </thead>\n",
       "  <tbody>\n",
       "  </tbody>\n",
       "</table>\n",
       "<p>0 rows × 28 columns</p>\n",
       "</div>"
      ],
      "text/plain": [
       "Empty DataFrame\n",
       "Columns: [dataset_title, id, image_filename, organ, disease_state, oncotree_code, species, patient, st_technology, data_publication_date, license, study_link, download_page_link1, inter_spot_dist, spot_diameter, spots_under_tissue, preservation_method, nb_genes, treatment_comment, pixel_size_um_embedded, pixel_size_um_estimated, magnification, fullres_px_width, fullres_px_height, tissue, disease_comment, subseries, hest_version_added]\n",
       "Index: []\n",
       "\n",
       "[0 rows x 28 columns]"
      ]
     },
     "execution_count": 27,
     "metadata": {},
     "output_type": "execute_result"
    }
   ],
   "source": [
    "# meta_df[meta_df['id']=='NCBI573']\n",
    "meta_df[meta_df['disease_comment'] == 'SARS-CoV-2 Asymptomatic']"
   ]
  },
  {
   "cell_type": "code",
   "execution_count": null,
   "id": "1d275198",
   "metadata": {},
   "outputs": [
    {
     "ename": "AttributeError",
     "evalue": "module 'anndata' has no attribute 'var_names'",
     "output_type": "error",
     "traceback": [
      "\u001b[0;31m---------------------------------------------------------------------------\u001b[0m",
      "\u001b[0;31mAttributeError\u001b[0m                            Traceback (most recent call last)",
      "Cell \u001b[0;32mIn[28], line 3\u001b[0m\n\u001b[1;32m      1\u001b[0m \u001b[38;5;28;01mimport\u001b[39;00m\u001b[38;5;250m \u001b[39m\u001b[38;5;21;01manndata\u001b[39;00m\n\u001b[1;32m      2\u001b[0m ad1 \u001b[38;5;241m=\u001b[39m anndata\u001b[38;5;241m.\u001b[39mread_h5ad(os\u001b[38;5;241m.\u001b[39mpath\u001b[38;5;241m.\u001b[39mjoin(hest_path, \u001b[38;5;124m\"\u001b[39m\u001b[38;5;124mst\u001b[39m\u001b[38;5;124m\"\u001b[39m, \u001b[38;5;124m\"\u001b[39m\u001b[38;5;124mMISC139.h5ad\u001b[39m\u001b[38;5;124m\"\u001b[39m))\n\u001b[0;32m----> 3\u001b[0m \u001b[38;5;28mprint\u001b[39m(\u001b[38;5;28mtype\u001b[39m(\u001b[43mad\u001b[49m\u001b[38;5;241;43m.\u001b[39;49m\u001b[43mvar_names\u001b[49m[\u001b[38;5;241m0\u001b[39m]))\n",
      "\u001b[0;31mAttributeError\u001b[0m: module 'anndata' has no attribute 'var_names'"
     ]
    }
   ],
   "source": [
    "import anndata\n",
    "ad1 = anndata.read_h5ad(os.path.join(hest_path, \"st\", \"MISC139.h5ad\"))\n",
    "print(type(adz.var_names[0]))"
   ]
  },
  {
   "cell_type": "markdown",
   "id": "dc5bf2b3",
   "metadata": {},
   "source": []
  },
  {
   "cell_type": "code",
   "execution_count": null,
   "id": "f270b151",
   "metadata": {},
   "outputs": [
    {
     "ename": "AttributeError",
     "evalue": "'AnnData' object has no attribute 'AnnData'",
     "output_type": "error",
     "traceback": [
      "\u001b[0;31m---------------------------------------------------------------------------\u001b[0m",
      "\u001b[0;31mAttributeError\u001b[0m                            Traceback (most recent call last)",
      "Cell \u001b[0;32mIn[29], line 15\u001b[0m\n\u001b[1;32m     12\u001b[0m     \u001b[38;5;28;01mreturn\u001b[39;00m adata_clean\n\u001b[1;32m     14\u001b[0m \u001b[38;5;66;03m# Clean both datasets before correlation\u001b[39;00m\n\u001b[0;32m---> 15\u001b[0m pred_clean \u001b[38;5;241m=\u001b[39m \u001b[43mclean_data\u001b[49m\u001b[43m(\u001b[49m\u001b[43mpred\u001b[49m\u001b[43m)\u001b[49m\n\u001b[1;32m     17\u001b[0m R \u001b[38;5;241m=\u001b[39m get_R(pred_clean, gt)[\u001b[38;5;241m0\u001b[39m]\n\u001b[1;32m     18\u001b[0m \u001b[38;5;28mprint\u001b[39m(\u001b[38;5;124m'\u001b[39m\u001b[38;5;124mPearson Correlation:\u001b[39m\u001b[38;5;124m'\u001b[39m, np\u001b[38;5;241m.\u001b[39mnanmean(R))\n",
      "Cell \u001b[0;32mIn[29], line 10\u001b[0m, in \u001b[0;36mclean_data\u001b[0;34m(adata)\u001b[0m\n\u001b[1;32m      6\u001b[0m X \u001b[38;5;241m=\u001b[39m np\u001b[38;5;241m.\u001b[39mnan_to_num(X, nan\u001b[38;5;241m=\u001b[39m\u001b[38;5;241m0.0\u001b[39m, posinf\u001b[38;5;241m=\u001b[39m\u001b[38;5;241m0.0\u001b[39m, neginf\u001b[38;5;241m=\u001b[39m\u001b[38;5;241m0.0\u001b[39m)\n\u001b[1;32m      7\u001b[0m \u001b[38;5;66;03m# Or use median imputation\u001b[39;00m\n\u001b[1;32m      8\u001b[0m \u001b[38;5;66;03m# mask = np.isnan(X) | np.isinf(X)\u001b[39;00m\n\u001b[1;32m      9\u001b[0m \u001b[38;5;66;03m# X[mask] = np.nanmedian(X)\u001b[39;00m\n\u001b[0;32m---> 10\u001b[0m adata_clean \u001b[38;5;241m=\u001b[39m \u001b[43mad\u001b[49m\u001b[38;5;241;43m.\u001b[39;49m\u001b[43mAnnData\u001b[49m(X)\n\u001b[1;32m     11\u001b[0m adata_clean\u001b[38;5;241m.\u001b[39mobsm \u001b[38;5;241m=\u001b[39m adata\u001b[38;5;241m.\u001b[39mobsm\u001b[38;5;241m.\u001b[39mcopy()\n\u001b[1;32m     12\u001b[0m \u001b[38;5;28;01mreturn\u001b[39;00m adata_clean\n",
      "\u001b[0;31mAttributeError\u001b[0m: 'AnnData' object has no attribute 'AnnData'"
     ]
    }
   ],
   "source": [
    "# Clean the data by replacing NaN/Inf values\n",
    "def clean_data(adata):\n",
    "    \"\"\"Remove NaN and Inf values from AnnData object\"\"\"\n",
    "    X = adata.X.copy()\n",
    "    # Replace NaN with 0 or mean\n",
    "    X = np.nan_to_num(X, nan=0.0, posinf=0.0, neginf=0.0)\n",
    "    # Or use median imputation\n",
    "    # mask = np.isnan(X) | np.isinf(X)\n",
    "    # X[mask] = np.nanmedian(X)\n",
    "    adata_clean = anndata.AnnData(X)\n",
    "    adata_clean.obsm = adata.obsm.copy()\n",
    "    return adata_clean\n",
    "\n",
    "# Clean both datasets before correlation\n",
    "pred_clean = clean_data(pred)\n",
    "\n",
    "R = get_R(pred_clean, gt)[0]\n",
    "print('Pearson Correlation:', np.nanmean(R))"
   ]
  },
  {
   "cell_type": "code",
   "execution_count": null,
   "id": "f27dd627",
   "metadata": {},
   "outputs": [],
   "source": [
    "# Before calling get_R, inspect your data\n",
    "print(\"Checking pred data:\")\n",
    "print(f\"  Shape: {pred.X.shape}\")\n",
    "print(f\"  Has NaN: {np.isnan(pred.X).any()}\")\n",
    "print(f\"  Has Inf: {np.isinf(pred.X).any()}\")\n",
    "print(f\"  Min value: {np.nanmin(pred.X)}\")\n",
    "print(f\"  Max value: {np.nanmax(pred.X)}\")\n",
    "\n",
    "print(\"Checking gt data:\")\n",
    "print(f\"  Shape: {gt.X.shape}\")\n",
    "print(f\"  Has NaN: {np.isnan(gt.X).any()}\")\n",
    "print(f\"  Has Inf: {np.isinf(gt.X).any()}\")\n",
    "print(f\"  Min value: {np.nanmin(gt.X)}\")\n",
    "print(f\"  Max value: {np.nanmax(gt.X)}\")"
   ]
  },
  {
   "cell_type": "code",
   "execution_count": null,
   "id": "4266cce3-6bc7-4f5b-81d5-d03d3ae089c4",
   "metadata": {
    "pycharm": {
     "name": "#%%\n"
    }
   },
   "outputs": [],
   "source": [
    "R=get_R(pred,gt)[0]\n",
    "print('Pearson Correlation:',np.nanmean(R))\n",
    "\n",
    "\n",
    "# clus,ARI=cluster(pred,label)\n",
    "# print('ARI:',ARI)\n"
   ]
  }
 ],
 "metadata": {
  "kernelspec": {
   "display_name": "Python 3 (ipykernel)",
   "language": "python",
   "name": "python3"
  },
  "language_info": {
   "codemirror_mode": {
    "name": "ipython",
    "version": 3
   },
   "file_extension": ".py",
   "mimetype": "text/x-python",
   "name": "python",
   "nbconvert_exporter": "python",
   "pygments_lexer": "ipython3",
   "version": "3.9.23"
  },
  "pycharm": {
   "stem_cell": {
    "cell_type": "raw",
    "metadata": {
     "collapsed": false
    },
    "source": []
   }
  }
 },
 "nbformat": 4,
 "nbformat_minor": 5
}
